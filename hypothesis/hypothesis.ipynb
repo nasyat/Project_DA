{
 "cells": [
  {
   "cell_type": "markdown",
   "metadata": {},
   "source": [
    "# Проверка гипотез интернет-магазина\n",
    "\n",
    "Совместно с отделом маркетинга подготовлен список гипотез для увеличения выручки. Необходимо приоритезировать гипотезы, запустить A/B-тест и проанализировать результаты. \n",
    "\n",
    "План работы:\n",
    "1. Приоритезация гипотез методом ICE\n",
    "2. Приоритезация гипотез методом RICE\n",
    "3. Сравнение результатов, выводы\n",
    "4. График кумулятивной выручки по группам, выводы и предположения.\n",
    "5. График кумулятивного среднего чека по группам, выводы и предположения.\n",
    "6. График относительного изменения кумулятивного среднего чека группы B к группе A, выводы и предположения.\n",
    "7. График кумулятивного среднего количества заказов на посетителя по группам, выводы и предположения.\n",
    "8. График относительного изменения кумулятивного среднего количества заказов на посетителя группы B к группе A, выводы и предположения.\n",
    "9. Точечный график количества заказов по пользователям,выводы и предположения.\n",
    "10. Рассчет 95-й и 99-й перцентилей количества заказов на пользователя, определение границы аномальных пользователей.\n",
    "11. Точечный график стоимостей заказов, выводы и предположения.\n",
    "12. Рассчет 95-й и 99-й перцентилей стоимости заказов, определение границы аномальных заказов.\n",
    "13. Рассчет статистической значимости различий в среднем количестве заказов на посетителя между группами по «сырым» данным, выводы и предположения.\n",
    "14. Рассчет статистической значимости различий в среднем чеке заказа между группами по «сырым» данным, выводы и предположения.\n",
    "15. Рассчет статистической значимости различий в среднем количестве заказов на посетителя между группами по «очищенным» данным, выводы и предположения.\n",
    "16. Рассчет статистической значимости различий в среднем чеке заказа между группами по «очищенным» данным, выводы и предположения.\n",
    "17. Решение по результатам теста и комментарии.\n",
    "\n",
    "\n",
    "\n"
   ]
  },
  {
   "cell_type": "code",
   "execution_count": 13,
   "metadata": {},
   "outputs": [],
   "source": [
    "import pandas as pd\n",
    "import datetime as dt\n",
    "import numpy as np\n",
    "import scipy.stats as stats\n",
    "import matplotlib.pyplot as plt\n",
    "from pandas.plotting import register_matplotlib_converters\n",
    "import warnings"
   ]
  },
  {
   "cell_type": "code",
   "execution_count": 14,
   "metadata": {},
   "outputs": [
    {
     "data": {
      "text/html": [
       "<div>\n",
       "<style scoped>\n",
       "    .dataframe tbody tr th:only-of-type {\n",
       "        vertical-align: middle;\n",
       "    }\n",
       "\n",
       "    .dataframe tbody tr th {\n",
       "        vertical-align: top;\n",
       "    }\n",
       "\n",
       "    .dataframe thead th {\n",
       "        text-align: right;\n",
       "    }\n",
       "</style>\n",
       "<table border=\"1\" class=\"dataframe\">\n",
       "  <thead>\n",
       "    <tr style=\"text-align: right;\">\n",
       "      <th></th>\n",
       "      <th>Hypothesis</th>\n",
       "      <th>Reach</th>\n",
       "      <th>Impact</th>\n",
       "      <th>Confidence</th>\n",
       "      <th>Efforts</th>\n",
       "    </tr>\n",
       "  </thead>\n",
       "  <tbody>\n",
       "    <tr>\n",
       "      <th>0</th>\n",
       "      <td>Добавить два новых канала привлечения трафика, что позволит привлекать на 30% больше пользователей</td>\n",
       "      <td>3</td>\n",
       "      <td>10</td>\n",
       "      <td>8</td>\n",
       "      <td>6</td>\n",
       "    </tr>\n",
       "    <tr>\n",
       "      <th>1</th>\n",
       "      <td>Запустить собственную службу доставки, что сократит срок доставки заказов</td>\n",
       "      <td>2</td>\n",
       "      <td>5</td>\n",
       "      <td>4</td>\n",
       "      <td>10</td>\n",
       "    </tr>\n",
       "    <tr>\n",
       "      <th>2</th>\n",
       "      <td>Добавить блоки рекомендаций товаров на сайт интернет магазина, чтобы повысить конверсию и средний чек заказа</td>\n",
       "      <td>8</td>\n",
       "      <td>3</td>\n",
       "      <td>7</td>\n",
       "      <td>3</td>\n",
       "    </tr>\n",
       "    <tr>\n",
       "      <th>3</th>\n",
       "      <td>Изменить структура категорий, что увеличит конверсию, т.к. пользователи быстрее найдут нужный товар</td>\n",
       "      <td>8</td>\n",
       "      <td>3</td>\n",
       "      <td>3</td>\n",
       "      <td>8</td>\n",
       "    </tr>\n",
       "    <tr>\n",
       "      <th>4</th>\n",
       "      <td>Изменить цвет фона главной страницы, чтобы увеличить вовлеченность пользователей</td>\n",
       "      <td>3</td>\n",
       "      <td>1</td>\n",
       "      <td>1</td>\n",
       "      <td>1</td>\n",
       "    </tr>\n",
       "    <tr>\n",
       "      <th>5</th>\n",
       "      <td>Добавить страницу отзывов клиентов о магазине, что позволит увеличить количество заказов</td>\n",
       "      <td>3</td>\n",
       "      <td>2</td>\n",
       "      <td>2</td>\n",
       "      <td>3</td>\n",
       "    </tr>\n",
       "    <tr>\n",
       "      <th>6</th>\n",
       "      <td>Показать на главной странице баннеры с актуальными акциями и распродажами, чтобы увеличить конверсию</td>\n",
       "      <td>5</td>\n",
       "      <td>3</td>\n",
       "      <td>8</td>\n",
       "      <td>3</td>\n",
       "    </tr>\n",
       "    <tr>\n",
       "      <th>7</th>\n",
       "      <td>Добавить форму подписки на все основные страницы, чтобы собрать базу клиентов для email-рассылок</td>\n",
       "      <td>10</td>\n",
       "      <td>7</td>\n",
       "      <td>8</td>\n",
       "      <td>5</td>\n",
       "    </tr>\n",
       "    <tr>\n",
       "      <th>8</th>\n",
       "      <td>Запустить акцию, дающую скидку на товар в день рождения</td>\n",
       "      <td>1</td>\n",
       "      <td>9</td>\n",
       "      <td>9</td>\n",
       "      <td>5</td>\n",
       "    </tr>\n",
       "  </tbody>\n",
       "</table>\n",
       "</div>"
      ],
      "text/plain": [
       "                                                                                                     Hypothesis  \\\n",
       "0            Добавить два новых канала привлечения трафика, что позволит привлекать на 30% больше пользователей   \n",
       "1                                     Запустить собственную службу доставки, что сократит срок доставки заказов   \n",
       "2  Добавить блоки рекомендаций товаров на сайт интернет магазина, чтобы повысить конверсию и средний чек заказа   \n",
       "3           Изменить структура категорий, что увеличит конверсию, т.к. пользователи быстрее найдут нужный товар   \n",
       "4                              Изменить цвет фона главной страницы, чтобы увеличить вовлеченность пользователей   \n",
       "5                      Добавить страницу отзывов клиентов о магазине, что позволит увеличить количество заказов   \n",
       "6          Показать на главной странице баннеры с актуальными акциями и распродажами, чтобы увеличить конверсию   \n",
       "7              Добавить форму подписки на все основные страницы, чтобы собрать базу клиентов для email-рассылок   \n",
       "8                                                       Запустить акцию, дающую скидку на товар в день рождения   \n",
       "\n",
       "   Reach  Impact  Confidence  Efforts  \n",
       "0      3      10           8        6  \n",
       "1      2       5           4       10  \n",
       "2      8       3           7        3  \n",
       "3      8       3           3        8  \n",
       "4      3       1           1        1  \n",
       "5      3       2           2        3  \n",
       "6      5       3           8        3  \n",
       "7     10       7           8        5  \n",
       "8      1       9           9        5  "
      ]
     },
     "execution_count": 14,
     "metadata": {},
     "output_type": "execute_result"
    }
   ],
   "source": [
    "\n",
    "hypothesis = pd.read_csv('https://code.s3.yandex.net/datasets/hypothesis.csv', sep=',')\n",
    "hypothesis.head(10)"
   ]
  },
  {
   "cell_type": "code",
   "execution_count": 15,
   "metadata": {},
   "outputs": [],
   "source": [
    "hypothesis.columns=['hypothesis', 'reach', 'impact', 'confidence', 'efforts']"
   ]
  },
  {
   "cell_type": "markdown",
   "metadata": {},
   "source": [
    "### Приоритезация гипотез методом ICE"
   ]
  },
  {
   "cell_type": "code",
   "execution_count": 16,
   "metadata": {},
   "outputs": [
    {
     "data": {
      "text/html": [
       "<div>\n",
       "<style scoped>\n",
       "    .dataframe tbody tr th:only-of-type {\n",
       "        vertical-align: middle;\n",
       "    }\n",
       "\n",
       "    .dataframe tbody tr th {\n",
       "        vertical-align: top;\n",
       "    }\n",
       "\n",
       "    .dataframe thead th {\n",
       "        text-align: right;\n",
       "    }\n",
       "</style>\n",
       "<table border=\"1\" class=\"dataframe\">\n",
       "  <thead>\n",
       "    <tr style=\"text-align: right;\">\n",
       "      <th></th>\n",
       "      <th>hypothesis</th>\n",
       "      <th>ICE</th>\n",
       "    </tr>\n",
       "  </thead>\n",
       "  <tbody>\n",
       "    <tr>\n",
       "      <th>8</th>\n",
       "      <td>Запустить акцию, дающую скидку на товар в день рождения</td>\n",
       "      <td>16.200000</td>\n",
       "    </tr>\n",
       "    <tr>\n",
       "      <th>0</th>\n",
       "      <td>Добавить два новых канала привлечения трафика, что позволит привлекать на 30% больше пользователей</td>\n",
       "      <td>13.333333</td>\n",
       "    </tr>\n",
       "    <tr>\n",
       "      <th>7</th>\n",
       "      <td>Добавить форму подписки на все основные страницы, чтобы собрать базу клиентов для email-рассылок</td>\n",
       "      <td>11.200000</td>\n",
       "    </tr>\n",
       "    <tr>\n",
       "      <th>6</th>\n",
       "      <td>Показать на главной странице баннеры с актуальными акциями и распродажами, чтобы увеличить конверсию</td>\n",
       "      <td>8.000000</td>\n",
       "    </tr>\n",
       "    <tr>\n",
       "      <th>2</th>\n",
       "      <td>Добавить блоки рекомендаций товаров на сайт интернет магазина, чтобы повысить конверсию и средний чек заказа</td>\n",
       "      <td>7.000000</td>\n",
       "    </tr>\n",
       "    <tr>\n",
       "      <th>1</th>\n",
       "      <td>Запустить собственную службу доставки, что сократит срок доставки заказов</td>\n",
       "      <td>2.000000</td>\n",
       "    </tr>\n",
       "    <tr>\n",
       "      <th>5</th>\n",
       "      <td>Добавить страницу отзывов клиентов о магазине, что позволит увеличить количество заказов</td>\n",
       "      <td>1.333333</td>\n",
       "    </tr>\n",
       "    <tr>\n",
       "      <th>3</th>\n",
       "      <td>Изменить структура категорий, что увеличит конверсию, т.к. пользователи быстрее найдут нужный товар</td>\n",
       "      <td>1.125000</td>\n",
       "    </tr>\n",
       "    <tr>\n",
       "      <th>4</th>\n",
       "      <td>Изменить цвет фона главной страницы, чтобы увеличить вовлеченность пользователей</td>\n",
       "      <td>1.000000</td>\n",
       "    </tr>\n",
       "  </tbody>\n",
       "</table>\n",
       "</div>"
      ],
      "text/plain": [
       "                                                                                                     hypothesis  \\\n",
       "8                                                       Запустить акцию, дающую скидку на товар в день рождения   \n",
       "0            Добавить два новых канала привлечения трафика, что позволит привлекать на 30% больше пользователей   \n",
       "7              Добавить форму подписки на все основные страницы, чтобы собрать базу клиентов для email-рассылок   \n",
       "6          Показать на главной странице баннеры с актуальными акциями и распродажами, чтобы увеличить конверсию   \n",
       "2  Добавить блоки рекомендаций товаров на сайт интернет магазина, чтобы повысить конверсию и средний чек заказа   \n",
       "1                                     Запустить собственную службу доставки, что сократит срок доставки заказов   \n",
       "5                      Добавить страницу отзывов клиентов о магазине, что позволит увеличить количество заказов   \n",
       "3           Изменить структура категорий, что увеличит конверсию, т.к. пользователи быстрее найдут нужный товар   \n",
       "4                              Изменить цвет фона главной страницы, чтобы увеличить вовлеченность пользователей   \n",
       "\n",
       "         ICE  \n",
       "8  16.200000  \n",
       "0  13.333333  \n",
       "7  11.200000  \n",
       "6   8.000000  \n",
       "2   7.000000  \n",
       "1   2.000000  \n",
       "5   1.333333  \n",
       "3   1.125000  \n",
       "4   1.000000  "
      ]
     },
     "execution_count": 16,
     "metadata": {},
     "output_type": "execute_result"
    }
   ],
   "source": [
    "pd.options.display.max_colwidth = 120\n",
    "hypothesis['ICE']=hypothesis['impact']*hypothesis['confidence']/hypothesis['efforts']\n",
    "hypothesis[['hypothesis','ICE']].sort_values(by='ICE', ascending=False)"
   ]
  },
  {
   "cell_type": "markdown",
   "metadata": {},
   "source": [
    "Наиболее перспекивные гипотезы по ICE:\n",
    "\n",
    "Запустить акцию, дающую скидку на товар в день рождения (8), \n",
    "Добавить два новых канала привлечения трафика, что позволит привлекать на 30% больше пользователей (0), \n",
    "Добавить форму подписки на все основные страницы, чтобы собрать базу клиентов для email-рассылок (7)"
   ]
  },
  {
   "cell_type": "markdown",
   "metadata": {},
   "source": [
    "### Приоритезация гипотез методом RICE"
   ]
  },
  {
   "cell_type": "code",
   "execution_count": 5,
   "metadata": {},
   "outputs": [
    {
     "data": {
      "text/html": [
       "<div>\n",
       "<style scoped>\n",
       "    .dataframe tbody tr th:only-of-type {\n",
       "        vertical-align: middle;\n",
       "    }\n",
       "\n",
       "    .dataframe tbody tr th {\n",
       "        vertical-align: top;\n",
       "    }\n",
       "\n",
       "    .dataframe thead th {\n",
       "        text-align: right;\n",
       "    }\n",
       "</style>\n",
       "<table border=\"1\" class=\"dataframe\">\n",
       "  <thead>\n",
       "    <tr style=\"text-align: right;\">\n",
       "      <th></th>\n",
       "      <th>hypothesis</th>\n",
       "      <th>RICE</th>\n",
       "    </tr>\n",
       "  </thead>\n",
       "  <tbody>\n",
       "    <tr>\n",
       "      <th>7</th>\n",
       "      <td>Добавить форму подписки на все основные страницы, чтобы собрать базу клиентов для email-рассылок</td>\n",
       "      <td>112.0</td>\n",
       "    </tr>\n",
       "    <tr>\n",
       "      <th>2</th>\n",
       "      <td>Добавить блоки рекомендаций товаров на сайт интернет магазина, чтобы повысить конверсию и средний чек заказа</td>\n",
       "      <td>56.0</td>\n",
       "    </tr>\n",
       "    <tr>\n",
       "      <th>0</th>\n",
       "      <td>Добавить два новых канала привлечения трафика, что позволит привлекать на 30% больше пользователей</td>\n",
       "      <td>40.0</td>\n",
       "    </tr>\n",
       "    <tr>\n",
       "      <th>6</th>\n",
       "      <td>Показать на главной странице баннеры с актуальными акциями и распродажами, чтобы увеличить конверсию</td>\n",
       "      <td>40.0</td>\n",
       "    </tr>\n",
       "    <tr>\n",
       "      <th>8</th>\n",
       "      <td>Запустить акцию, дающую скидку на товар в день рождения</td>\n",
       "      <td>16.2</td>\n",
       "    </tr>\n",
       "    <tr>\n",
       "      <th>3</th>\n",
       "      <td>Изменить структура категорий, что увеличит конверсию, т.к. пользователи быстрее найдут нужный товар</td>\n",
       "      <td>9.0</td>\n",
       "    </tr>\n",
       "    <tr>\n",
       "      <th>1</th>\n",
       "      <td>Запустить собственную службу доставки, что сократит срок доставки заказов</td>\n",
       "      <td>4.0</td>\n",
       "    </tr>\n",
       "    <tr>\n",
       "      <th>5</th>\n",
       "      <td>Добавить страницу отзывов клиентов о магазине, что позволит увеличить количество заказов</td>\n",
       "      <td>4.0</td>\n",
       "    </tr>\n",
       "    <tr>\n",
       "      <th>4</th>\n",
       "      <td>Изменить цвет фона главной страницы, чтобы увеличить вовлеченность пользователей</td>\n",
       "      <td>3.0</td>\n",
       "    </tr>\n",
       "  </tbody>\n",
       "</table>\n",
       "</div>"
      ],
      "text/plain": [
       "                                                                                                     hypothesis  \\\n",
       "7              Добавить форму подписки на все основные страницы, чтобы собрать базу клиентов для email-рассылок   \n",
       "2  Добавить блоки рекомендаций товаров на сайт интернет магазина, чтобы повысить конверсию и средний чек заказа   \n",
       "0            Добавить два новых канала привлечения трафика, что позволит привлекать на 30% больше пользователей   \n",
       "6          Показать на главной странице баннеры с актуальными акциями и распродажами, чтобы увеличить конверсию   \n",
       "8                                                       Запустить акцию, дающую скидку на товар в день рождения   \n",
       "3           Изменить структура категорий, что увеличит конверсию, т.к. пользователи быстрее найдут нужный товар   \n",
       "1                                     Запустить собственную службу доставки, что сократит срок доставки заказов   \n",
       "5                      Добавить страницу отзывов клиентов о магазине, что позволит увеличить количество заказов   \n",
       "4                              Изменить цвет фона главной страницы, чтобы увеличить вовлеченность пользователей   \n",
       "\n",
       "    RICE  \n",
       "7  112.0  \n",
       "2   56.0  \n",
       "0   40.0  \n",
       "6   40.0  \n",
       "8   16.2  \n",
       "3    9.0  \n",
       "1    4.0  \n",
       "5    4.0  \n",
       "4    3.0  "
      ]
     },
     "execution_count": 5,
     "metadata": {},
     "output_type": "execute_result"
    }
   ],
   "source": [
    "hypothesis['RICE']=hypothesis['reach']*hypothesis['impact']*hypothesis['confidence']/hypothesis['efforts']\n",
    "hypothesis[['hypothesis','RICE']].sort_values(by='RICE', ascending=False)"
   ]
  },
  {
   "cell_type": "markdown",
   "metadata": {},
   "source": [
    "Наиболее перспективные гипотезы по RICE: \n",
    "Добавить форму подписки на все основные страницы, чтобы собрать базу клиентов для email-рассылок (7), \n",
    "Добавить блоки рекомендаций товаров на сайт интернет магазина, чтобы повысить конверсию и средний чек заказа (2), \n",
    "Добавить два новых канала привлечения трафика, что позволит привлекать на 30% больше пользователей\t(0), \n",
    "Показать на главной странице баннеры с актуальными акциями и распродажами, чтобы увеличить конверсию (6), получается что в лидерах по обоим методам только гипотезы: \"Добавить форму подписки на все основные страницы, чтобы собрать базу клиентов для email-рассылок\" и \"Добавить два новых канала привлечения трафика, что позволит привлекать на 30% больше пользователей\", причем лидер по ICE, даже не входит в ТОП 4  по RICE, это связано с тем, что охват аудитории у гипотезы \"Запустить акцию, дающую скидку на товар в день рождения\" самый низкий, всего единица, при этом у гипотезы \"Добавить форму подписки на все основные страницы, чтобы собрать базу клиентов для email-рассылок\" reach максимальный - 10. По итогам проверки двумя методами самые перспективные гипотезы: \n",
    "Добавить форму подписки на все основные страницы, чтобы собрать базу клиентов для email-рассылок (7), Добавить два новых канала привлечения трафика, что позволит привлекать на 30% больше пользователей (0)."
   ]
  },
  {
   "cell_type": "code",
   "execution_count": 17,
   "metadata": {},
   "outputs": [
    {
     "data": {
      "text/html": [
       "<div>\n",
       "<style scoped>\n",
       "    .dataframe tbody tr th:only-of-type {\n",
       "        vertical-align: middle;\n",
       "    }\n",
       "\n",
       "    .dataframe tbody tr th {\n",
       "        vertical-align: top;\n",
       "    }\n",
       "\n",
       "    .dataframe thead th {\n",
       "        text-align: right;\n",
       "    }\n",
       "</style>\n",
       "<table border=\"1\" class=\"dataframe\">\n",
       "  <thead>\n",
       "    <tr style=\"text-align: right;\">\n",
       "      <th></th>\n",
       "      <th>transactionId</th>\n",
       "      <th>visitorId</th>\n",
       "      <th>date</th>\n",
       "      <th>revenue</th>\n",
       "      <th>group</th>\n",
       "    </tr>\n",
       "  </thead>\n",
       "  <tbody>\n",
       "    <tr>\n",
       "      <th>0</th>\n",
       "      <td>3667963787</td>\n",
       "      <td>3312258926</td>\n",
       "      <td>2019-08-15</td>\n",
       "      <td>1650</td>\n",
       "      <td>B</td>\n",
       "    </tr>\n",
       "    <tr>\n",
       "      <th>1</th>\n",
       "      <td>2804400009</td>\n",
       "      <td>3642806036</td>\n",
       "      <td>2019-08-15</td>\n",
       "      <td>730</td>\n",
       "      <td>B</td>\n",
       "    </tr>\n",
       "    <tr>\n",
       "      <th>2</th>\n",
       "      <td>2961555356</td>\n",
       "      <td>4069496402</td>\n",
       "      <td>2019-08-15</td>\n",
       "      <td>400</td>\n",
       "      <td>A</td>\n",
       "    </tr>\n",
       "    <tr>\n",
       "      <th>3</th>\n",
       "      <td>3797467345</td>\n",
       "      <td>1196621759</td>\n",
       "      <td>2019-08-15</td>\n",
       "      <td>9759</td>\n",
       "      <td>B</td>\n",
       "    </tr>\n",
       "    <tr>\n",
       "      <th>4</th>\n",
       "      <td>2282983706</td>\n",
       "      <td>2322279887</td>\n",
       "      <td>2019-08-15</td>\n",
       "      <td>2308</td>\n",
       "      <td>B</td>\n",
       "    </tr>\n",
       "    <tr>\n",
       "      <th>5</th>\n",
       "      <td>182168103</td>\n",
       "      <td>935554773</td>\n",
       "      <td>2019-08-15</td>\n",
       "      <td>2210</td>\n",
       "      <td>B</td>\n",
       "    </tr>\n",
       "    <tr>\n",
       "      <th>6</th>\n",
       "      <td>398296753</td>\n",
       "      <td>2900797465</td>\n",
       "      <td>2019-08-15</td>\n",
       "      <td>1860</td>\n",
       "      <td>B</td>\n",
       "    </tr>\n",
       "    <tr>\n",
       "      <th>7</th>\n",
       "      <td>2626614568</td>\n",
       "      <td>78758296</td>\n",
       "      <td>2019-08-15</td>\n",
       "      <td>1044</td>\n",
       "      <td>A</td>\n",
       "    </tr>\n",
       "    <tr>\n",
       "      <th>8</th>\n",
       "      <td>1576988021</td>\n",
       "      <td>295230930</td>\n",
       "      <td>2019-08-15</td>\n",
       "      <td>13710</td>\n",
       "      <td>A</td>\n",
       "    </tr>\n",
       "    <tr>\n",
       "      <th>9</th>\n",
       "      <td>1506739906</td>\n",
       "      <td>1882260405</td>\n",
       "      <td>2019-08-15</td>\n",
       "      <td>1855</td>\n",
       "      <td>B</td>\n",
       "    </tr>\n",
       "  </tbody>\n",
       "</table>\n",
       "</div>"
      ],
      "text/plain": [
       "   transactionId   visitorId        date  revenue group\n",
       "0     3667963787  3312258926  2019-08-15     1650     B\n",
       "1     2804400009  3642806036  2019-08-15      730     B\n",
       "2     2961555356  4069496402  2019-08-15      400     A\n",
       "3     3797467345  1196621759  2019-08-15     9759     B\n",
       "4     2282983706  2322279887  2019-08-15     2308     B\n",
       "5      182168103   935554773  2019-08-15     2210     B\n",
       "6      398296753  2900797465  2019-08-15     1860     B\n",
       "7     2626614568    78758296  2019-08-15     1044     A\n",
       "8     1576988021   295230930  2019-08-15    13710     A\n",
       "9     1506739906  1882260405  2019-08-15     1855     B"
      ]
     },
     "execution_count": 17,
     "metadata": {},
     "output_type": "execute_result"
    }
   ],
   "source": [
    "orders = pd.read_csv('https://code.s3.yandex.net/datasets/orders.csv', sep=',')\n",
    "orders.head(10)"
   ]
  },
  {
   "cell_type": "code",
   "execution_count": 18,
   "metadata": {},
   "outputs": [
    {
     "data": {
      "text/html": [
       "<div>\n",
       "<style scoped>\n",
       "    .dataframe tbody tr th:only-of-type {\n",
       "        vertical-align: middle;\n",
       "    }\n",
       "\n",
       "    .dataframe tbody tr th {\n",
       "        vertical-align: top;\n",
       "    }\n",
       "\n",
       "    .dataframe thead th {\n",
       "        text-align: right;\n",
       "    }\n",
       "</style>\n",
       "<table border=\"1\" class=\"dataframe\">\n",
       "  <thead>\n",
       "    <tr style=\"text-align: right;\">\n",
       "      <th></th>\n",
       "      <th>date</th>\n",
       "      <th>group</th>\n",
       "      <th>visitors</th>\n",
       "    </tr>\n",
       "  </thead>\n",
       "  <tbody>\n",
       "    <tr>\n",
       "      <th>0</th>\n",
       "      <td>2019-08-01</td>\n",
       "      <td>A</td>\n",
       "      <td>719</td>\n",
       "    </tr>\n",
       "    <tr>\n",
       "      <th>1</th>\n",
       "      <td>2019-08-02</td>\n",
       "      <td>A</td>\n",
       "      <td>619</td>\n",
       "    </tr>\n",
       "    <tr>\n",
       "      <th>2</th>\n",
       "      <td>2019-08-03</td>\n",
       "      <td>A</td>\n",
       "      <td>507</td>\n",
       "    </tr>\n",
       "    <tr>\n",
       "      <th>3</th>\n",
       "      <td>2019-08-04</td>\n",
       "      <td>A</td>\n",
       "      <td>717</td>\n",
       "    </tr>\n",
       "    <tr>\n",
       "      <th>4</th>\n",
       "      <td>2019-08-05</td>\n",
       "      <td>A</td>\n",
       "      <td>756</td>\n",
       "    </tr>\n",
       "    <tr>\n",
       "      <th>5</th>\n",
       "      <td>2019-08-06</td>\n",
       "      <td>A</td>\n",
       "      <td>667</td>\n",
       "    </tr>\n",
       "    <tr>\n",
       "      <th>6</th>\n",
       "      <td>2019-08-07</td>\n",
       "      <td>A</td>\n",
       "      <td>644</td>\n",
       "    </tr>\n",
       "    <tr>\n",
       "      <th>7</th>\n",
       "      <td>2019-08-08</td>\n",
       "      <td>A</td>\n",
       "      <td>610</td>\n",
       "    </tr>\n",
       "    <tr>\n",
       "      <th>8</th>\n",
       "      <td>2019-08-09</td>\n",
       "      <td>A</td>\n",
       "      <td>617</td>\n",
       "    </tr>\n",
       "    <tr>\n",
       "      <th>9</th>\n",
       "      <td>2019-08-10</td>\n",
       "      <td>A</td>\n",
       "      <td>406</td>\n",
       "    </tr>\n",
       "  </tbody>\n",
       "</table>\n",
       "</div>"
      ],
      "text/plain": [
       "         date group  visitors\n",
       "0  2019-08-01     A       719\n",
       "1  2019-08-02     A       619\n",
       "2  2019-08-03     A       507\n",
       "3  2019-08-04     A       717\n",
       "4  2019-08-05     A       756\n",
       "5  2019-08-06     A       667\n",
       "6  2019-08-07     A       644\n",
       "7  2019-08-08     A       610\n",
       "8  2019-08-09     A       617\n",
       "9  2019-08-10     A       406"
      ]
     },
     "execution_count": 18,
     "metadata": {},
     "output_type": "execute_result"
    }
   ],
   "source": [
    "visitors = pd.read_csv('https://code.s3.yandex.net/datasets/visitors.csv', sep=',')\n",
    "visitors.head(10)"
   ]
  },
  {
   "cell_type": "markdown",
   "metadata": {},
   "source": [
    "Ознакомимся с общей информацией о датафреймах, осуществим проверку пропущенных значений и дубликатов"
   ]
  },
  {
   "cell_type": "code",
   "execution_count": 19,
   "metadata": {},
   "outputs": [
    {
     "name": "stdout",
     "output_type": "stream",
     "text": [
      "<class 'pandas.core.frame.DataFrame'>\n",
      "RangeIndex: 1197 entries, 0 to 1196\n",
      "Data columns (total 5 columns):\n",
      " #   Column         Non-Null Count  Dtype \n",
      "---  ------         --------------  ----- \n",
      " 0   transactionId  1197 non-null   int64 \n",
      " 1   visitorId      1197 non-null   int64 \n",
      " 2   date           1197 non-null   object\n",
      " 3   revenue        1197 non-null   int64 \n",
      " 4   group          1197 non-null   object\n",
      "dtypes: int64(3), object(2)\n",
      "memory usage: 46.9+ KB\n"
     ]
    },
    {
     "data": {
      "text/plain": [
       "None"
      ]
     },
     "metadata": {},
     "output_type": "display_data"
    },
    {
     "name": "stdout",
     "output_type": "stream",
     "text": [
      "<class 'pandas.core.frame.DataFrame'>\n",
      "RangeIndex: 62 entries, 0 to 61\n",
      "Data columns (total 3 columns):\n",
      " #   Column    Non-Null Count  Dtype \n",
      "---  ------    --------------  ----- \n",
      " 0   date      62 non-null     object\n",
      " 1   group     62 non-null     object\n",
      " 2   visitors  62 non-null     int64 \n",
      "dtypes: int64(1), object(2)\n",
      "memory usage: 1.6+ KB\n"
     ]
    }
   ],
   "source": [
    "display(orders.info())\n",
    "visitors.info()"
   ]
  },
  {
   "cell_type": "code",
   "execution_count": 20,
   "metadata": {},
   "outputs": [
    {
     "data": {
      "text/plain": [
       "transactionId    0\n",
       "visitorId        0\n",
       "date             0\n",
       "revenue          0\n",
       "group            0\n",
       "dtype: int64"
      ]
     },
     "metadata": {},
     "output_type": "display_data"
    },
    {
     "data": {
      "text/plain": [
       "date        0\n",
       "group       0\n",
       "visitors    0\n",
       "dtype: int64"
      ]
     },
     "execution_count": 20,
     "metadata": {},
     "output_type": "execute_result"
    }
   ],
   "source": [
    "display(orders.isna().sum())\n",
    "visitors.isna().sum()"
   ]
  },
  {
   "cell_type": "code",
   "execution_count": 21,
   "metadata": {},
   "outputs": [
    {
     "data": {
      "text/plain": [
       "0"
      ]
     },
     "metadata": {},
     "output_type": "display_data"
    },
    {
     "data": {
      "text/plain": [
       "0"
      ]
     },
     "execution_count": 21,
     "metadata": {},
     "output_type": "execute_result"
    }
   ],
   "source": [
    "display(orders.duplicated().sum())\n",
    "visitors.duplicated().sum()\n"
   ]
  },
  {
   "cell_type": "markdown",
   "metadata": {},
   "source": [
    "В результате проверки, пропущенных значений и дубликатов не обнаружено"
   ]
  },
  {
   "cell_type": "code",
   "execution_count": 22,
   "metadata": {},
   "outputs": [
    {
     "data": {
      "text/plain": [
       "1031"
      ]
     },
     "metadata": {},
     "output_type": "display_data"
    },
    {
     "data": {
      "text/plain": [
       "group\n",
       "A    503\n",
       "B    586\n",
       "Name: visitorId, dtype: int64"
      ]
     },
     "execution_count": 22,
     "metadata": {},
     "output_type": "execute_result"
    }
   ],
   "source": [
    "display(orders['visitorId'].nunique())\n",
    "orders.groupby('group')['visitorId'].nunique()"
   ]
  },
  {
   "cell_type": "markdown",
   "metadata": {},
   "source": [
    "Есть пересечения по пользователям"
   ]
  },
  {
   "cell_type": "code",
   "execution_count": 23,
   "metadata": {},
   "outputs": [
    {
     "data": {
      "text/plain": [
       "{8300375,\n",
       " 199603092,\n",
       " 232979603,\n",
       " 237748145,\n",
       " 276558944,\n",
       " 351125977,\n",
       " 393266494,\n",
       " 457167155,\n",
       " 471551937,\n",
       " 477780734,\n",
       " 818047933,\n",
       " 963407295,\n",
       " 1230306981,\n",
       " 1294878855,\n",
       " 1316129916,\n",
       " 1333886533,\n",
       " 1404934699,\n",
       " 1602967004,\n",
       " 1614305549,\n",
       " 1648269707,\n",
       " 1668030113,\n",
       " 1738359350,\n",
       " 1801183820,\n",
       " 1959144690,\n",
       " 2038680547,\n",
       " 2044997962,\n",
       " 2378935119,\n",
       " 2458001652,\n",
       " 2579882178,\n",
       " 2587333274,\n",
       " 2600415354,\n",
       " 2654030115,\n",
       " 2686716486,\n",
       " 2712142231,\n",
       " 2716752286,\n",
       " 2780786433,\n",
       " 2927087541,\n",
       " 2949041841,\n",
       " 2954449915,\n",
       " 3062433592,\n",
       " 3202540741,\n",
       " 3234906277,\n",
       " 3656415546,\n",
       " 3717692402,\n",
       " 3766097110,\n",
       " 3803269165,\n",
       " 3891541246,\n",
       " 3941795274,\n",
       " 3951559397,\n",
       " 3957174400,\n",
       " 3963646447,\n",
       " 3972127743,\n",
       " 3984495233,\n",
       " 4069496402,\n",
       " 4120364173,\n",
       " 4186807279,\n",
       " 4256040402,\n",
       " 4266935830}"
      ]
     },
     "execution_count": 23,
     "metadata": {},
     "output_type": "execute_result"
    }
   ],
   "source": [
    "groupa=orders.loc[orders['group']=='A'].sort_values(by=['visitorId'])\n",
    "groupa_id=groupa['visitorId'].unique()\n",
    "groupb=orders.loc[orders['group']=='B'].sort_values(by=['visitorId'])\n",
    "groupb_id=groupb['visitorId'].unique()\n",
    "double = set(groupa_id).intersection(groupb_id)\n",
    "double"
   ]
  },
  {
   "cell_type": "markdown",
   "metadata": {},
   "source": [
    "Получили список из 58 пользователей, которые есть в обеих группах"
   ]
  },
  {
   "cell_type": "markdown",
   "metadata": {},
   "source": [
    "### График кумулятивной выручки по группам"
   ]
  },
  {
   "cell_type": "code",
   "execution_count": 25,
   "metadata": {},
   "outputs": [
    {
     "data": {
      "image/png": "[encoded data removed]",
      "text/plain": [
       "<Figure size 1000x500 with 1 Axes>"
      ]
     },
     "metadata": {},
     "output_type": "display_data"
    }
   ],
   "source": [
    "register_matplotlib_converters()\n",
    "\n",
    "orders = pd.read_csv('https://code.s3.yandex.net/datasets/orders.csv', sep=',')\n",
    "orders['date'] = orders['date'].map(\n",
    "    lambda x: dt.datetime.strptime(x, '%Y-%m-%d')\n",
    ")\n",
    "\n",
    "visitors = pd.read_csv('https://code.s3.yandex.net/datasets/visitors.csv', sep=',')\n",
    "visitors['date'] = visitors['date'].map(\n",
    "    lambda x: dt.datetime.strptime(x, '%Y-%m-%d')\n",
    ")\n",
    "\n",
    "datesGroups = orders[['date', 'group']].drop_duplicates()\n",
    "\n",
    "ordersAggregated = datesGroups.apply(\n",
    "    lambda x: orders[\n",
    "        np.logical_and(\n",
    "            orders['date'] <= x['date'], orders['group'] == x['group']\n",
    "        )\n",
    "    ].agg(\n",
    "        {\n",
    "            'date': 'max',\n",
    "            'group': 'max',\n",
    "            'transactionId': 'nunique',\n",
    "            'visitorId': 'nunique',\n",
    "            'revenue': 'sum',\n",
    "        }\n",
    "    ),\n",
    "    axis=1,\n",
    ").sort_values(by=['date', 'group'])\n",
    "\n",
    "visitorsAggregated = datesGroups.apply(\n",
    "    lambda x: visitors[\n",
    "        np.logical_and(\n",
    "            visitors['date'] <= x['date'], visitors['group'] == x['group']\n",
    "        )\n",
    "    ].agg({'date': 'max', 'group': 'max', 'visitors': 'sum'}),\n",
    "    axis=1,\n",
    ").sort_values(by=['date', 'group'])\n",
    "\n",
    "cumulativeData = ordersAggregated.merge(\n",
    "    visitorsAggregated, left_on=['date', 'group'], right_on=['date', 'group']\n",
    ")\n",
    "cumulativeData.columns = [\n",
    "    'date',\n",
    "    'group',\n",
    "    'orders',\n",
    "    'buyers',\n",
    "    'revenue',\n",
    "    'visitors',\n",
    "]\n",
    "\n",
    "cumulativeData['conversion'] = (\n",
    "    cumulativeData['orders'] / cumulativeData['visitors']\n",
    ")\n",
    "\n",
    "cumulativeDataA = cumulativeData[cumulativeData['group'] == 'A']\n",
    "cumulativeDataB = cumulativeData[cumulativeData['group'] == 'B']\n",
    "\n",
    "\n",
    "\n",
    "# датафрейм с кумулятивным количеством заказов и кумулятивной выручкой по дням в группе А\n",
    "cumulativeRevenueA = cumulativeData[cumulativeData['group']=='A'][['date','revenue', 'orders']]\n",
    "\n",
    "# датафрейм с кумулятивным количеством заказов и кумулятивной выручкой по дням в группе B\n",
    "cumulativeRevenueB = cumulativeData[cumulativeData['group']=='B'][['date','revenue', 'orders']]\n",
    "\n",
    "# Строим график выручки группы А\n",
    "plt.figure(figsize=(10, 5))\n",
    "plt.plot(cumulativeRevenueA['date'], cumulativeRevenueA['revenue'], label='A')\n",
    "\n",
    "# Строим график выручки группы B\n",
    "plt.plot(cumulativeRevenueB['date'], cumulativeRevenueB['revenue'], label='B')\n",
    "plt.title('График кумулятивной выручки по дням по группам')\n",
    "plt.legend() \n",
    "cumulativeData = ordersAggregated.merge(\n",
    "    visitorsAggregated, left_on=['date', 'group'], right_on=['date', 'group']\n",
    ")\n",
    "cumulativeData.columns = [\n",
    "    'date',\n",
    "    'group',\n",
    "    'orders',\n",
    "    'buyers',\n",
    "    'revenue',\n",
    "    'visitors',\n",
    "]"
   ]
  },
  {
   "cell_type": "markdown",
   "metadata": {},
   "source": [
    "У группы А идет стабильный рост на протяжении всего периода исследование, а у группы В после 17.08.2019 идет резкий скачок вверх и остаток теста сегмент В лидирует, возможно мы имеем дело с аномально крупными заказами, которые влияют на результаты теста, необходимо проверить и в случае выявления их удалить"
   ]
  },
  {
   "cell_type": "markdown",
   "metadata": {},
   "source": [
    "### График кумулятивного среднего чека по группам"
   ]
  },
  {
   "cell_type": "code",
   "execution_count": 26,
   "metadata": {},
   "outputs": [
    {
     "data": {
      "text/plain": [
       "<matplotlib.legend.Legend at 0x124600500>"
      ]
     },
     "execution_count": 26,
     "metadata": {},
     "output_type": "execute_result"
    },
    {
     "data": {
      "image/png": "[encoded data removed]",
      "text/plain": [
       "<Figure size 1000x500 with 1 Axes>"
      ]
     },
     "metadata": {},
     "output_type": "display_data"
    }
   ],
   "source": [
    "plt.figure(figsize=(10, 5))\n",
    "plt.plot(cumulativeRevenueA['date'], cumulativeRevenueA['revenue']/cumulativeRevenueA['orders'], label='A')\n",
    "plt.plot(cumulativeRevenueB['date'], cumulativeRevenueB['revenue']/cumulativeRevenueB['orders'], label='B')\n",
    "plt.title('График кумулятивного среднего чека по дням для каждой группы', fontsize=14)\n",
    "plt.legend()\n"
   ]
  },
  {
   "cell_type": "markdown",
   "metadata": {},
   "source": [
    "График кумулятивного среднего чека колеблется и опять же, в аналогичный период, как и с кумулятивной выручкой, у группы В резкий рост среднего чека, требуется анализ выбросов"
   ]
  },
  {
   "cell_type": "markdown",
   "metadata": {},
   "source": [
    "### График относительного изменения кумулятивного среднего чека группы B к группе A"
   ]
  },
  {
   "cell_type": "code",
   "execution_count": 27,
   "metadata": {},
   "outputs": [
    {
     "data": {
      "text/plain": [
       "<matplotlib.lines.Line2D at 0x127f27f80>"
      ]
     },
     "execution_count": 27,
     "metadata": {},
     "output_type": "execute_result"
    },
    {
     "data": {
      "image/png": "[encoded data removed]",
      "text/plain": [
       "<Figure size 1000x500 with 1 Axes>"
      ]
     },
     "metadata": {},
     "output_type": "display_data"
    }
   ],
   "source": [
    "# собираем данные в одном датафрейме\n",
    "mergedCumulativeRevenue = cumulativeRevenueA.merge(cumulativeRevenueB, left_on='date', right_on='date', how='left', suffixes=['A', 'B'])\n",
    "\n",
    "# cтроим отношение средних чеков\n",
    "plt.figure(figsize=(10, 5))\n",
    "plt.plot(mergedCumulativeRevenue['date'], (mergedCumulativeRevenue['revenueB']/mergedCumulativeRevenue['ordersB'])/(mergedCumulativeRevenue['revenueA']/mergedCumulativeRevenue['ordersA'])-1)\n",
    "'График относительного различия кумулятивной конверсии между группами'\n",
    "# добавляем ось X\n",
    "plt.axhline(y=0, color='black', linestyle='--') "
   ]
  },
  {
   "cell_type": "markdown",
   "metadata": {},
   "source": [
    "Результаты теста в значительной степени и резко менялись в несколько дат, по всей виимости именно в эти даты и были совершены аномальные заказы"
   ]
  },
  {
   "cell_type": "markdown",
   "metadata": {},
   "source": [
    "### График кумулятивного среднего количества заказов на посетителя по группам"
   ]
  },
  {
   "cell_type": "code",
   "execution_count": 28,
   "metadata": {},
   "outputs": [
    {
     "data": {
      "text/plain": [
       "(18109.0, 18138.0, 0.0, 0.05)"
      ]
     },
     "execution_count": 28,
     "metadata": {},
     "output_type": "execute_result"
    },
    {
     "data": {
      "image/png": "[encoded data removed]",
      "text/plain": [
       "<Figure size 1000x500 with 1 Axes>"
      ]
     },
     "metadata": {},
     "output_type": "display_data"
    }
   ],
   "source": [
    "# считаем кумулятивную конверсию\n",
    "cumulativeData['conversion'] = cumulativeData['orders']/cumulativeData['visitors']\n",
    "\n",
    "# отделяем данные по группе A\n",
    "cumulativeDataA = cumulativeData[cumulativeData['group']=='A']\n",
    "\n",
    "# отделяем данные по группе B\n",
    "cumulativeDataB = cumulativeData[cumulativeData['group']=='B']\n",
    "\n",
    "# строим графики\n",
    "plt.figure(figsize=(10, 5))\n",
    "plt.plot(cumulativeDataA['date'], cumulativeDataA['conversion'], label='A')\n",
    "plt.plot(cumulativeDataB['date'], cumulativeDataB['conversion'], label='B')\n",
    "plt.legend()\n",
    "\n",
    "plt.axis([dt.datetime(2019, 8, 1), dt.datetime(2019, 8, 30), 0, 0.05])  "
   ]
  },
  {
   "cell_type": "markdown",
   "metadata": {},
   "source": [
    "В начале теста сегмент А имел высокую конверсию, затем идет синхронный спад и после 05.08.2019 идет  спад у сегмента А и рост у сегмента В. Абсолютное значение колебания за период теста небольшое: от 3% до 4%."
   ]
  },
  {
   "cell_type": "markdown",
   "metadata": {},
   "source": [
    "### График относительного изменения кумулятивного среднего количества заказов на посетителя группы B к группе A"
   ]
  },
  {
   "cell_type": "code",
   "execution_count": 29,
   "metadata": {},
   "outputs": [
    {
     "data": {
      "text/plain": [
       "(18109.0, 18138.0, -0.3, 0.3)"
      ]
     },
     "execution_count": 29,
     "metadata": {},
     "output_type": "execute_result"
    },
    {
     "data": {
      "image/png": "[encoded data removed]",
      "text/plain": [
       "<Figure size 1100x500 with 1 Axes>"
      ]
     },
     "metadata": {},
     "output_type": "display_data"
    }
   ],
   "source": [
    "\n",
    "mergedCumulativeConversions = cumulativeDataA[['date','conversion']].merge(cumulativeDataB[['date','conversion']], left_on='date', right_on='date', how='left', suffixes=['A', 'B'])\n",
    "plt.figure(figsize=(11, 5))\n",
    "plt.plot(mergedCumulativeConversions['date'], mergedCumulativeConversions['conversionB']/mergedCumulativeConversions['conversionA']-1, label=\"Относительный прирост конверсии группы B относительно группы A\")\n",
    "plt.title('График относительного различия кумулятивной конверсии между грппами')\n",
    "plt.legend()\n",
    "\n",
    "plt.axhline(y=0, color='black', linestyle='--')\n",
    "plt.axhline(y=0.2, color='grey', linestyle='--')\n",
    "plt.axis([\"2019-08-01\", '2019-08-30', -0.3, 0.3])\n"
   ]
  },
  {
   "cell_type": "markdown",
   "metadata": {},
   "source": [
    "Почти с самого начала теста группа B лидирует по конверсии: становится лучше и лучше, зафиксировалась около прироста в 20% относительно группы A в середине теста и снизилась до 10% к концу теста."
   ]
  },
  {
   "cell_type": "markdown",
   "metadata": {},
   "source": [
    "### Точечный график количества заказов по пользователям"
   ]
  },
  {
   "cell_type": "code",
   "execution_count": 30,
   "metadata": {},
   "outputs": [
    {
     "data": {
      "text/html": [
       "<div>\n",
       "<style scoped>\n",
       "    .dataframe tbody tr th:only-of-type {\n",
       "        vertical-align: middle;\n",
       "    }\n",
       "\n",
       "    .dataframe tbody tr th {\n",
       "        vertical-align: top;\n",
       "    }\n",
       "\n",
       "    .dataframe thead th {\n",
       "        text-align: right;\n",
       "    }\n",
       "</style>\n",
       "<table border=\"1\" class=\"dataframe\">\n",
       "  <thead>\n",
       "    <tr style=\"text-align: right;\">\n",
       "      <th></th>\n",
       "      <th>userId</th>\n",
       "      <th>orders</th>\n",
       "    </tr>\n",
       "  </thead>\n",
       "  <tbody>\n",
       "    <tr>\n",
       "      <th>1023</th>\n",
       "      <td>4256040402</td>\n",
       "      <td>11</td>\n",
       "    </tr>\n",
       "    <tr>\n",
       "      <th>591</th>\n",
       "      <td>2458001652</td>\n",
       "      <td>11</td>\n",
       "    </tr>\n",
       "    <tr>\n",
       "      <th>569</th>\n",
       "      <td>2378935119</td>\n",
       "      <td>9</td>\n",
       "    </tr>\n",
       "    <tr>\n",
       "      <th>487</th>\n",
       "      <td>2038680547</td>\n",
       "      <td>8</td>\n",
       "    </tr>\n",
       "    <tr>\n",
       "      <th>44</th>\n",
       "      <td>199603092</td>\n",
       "      <td>5</td>\n",
       "    </tr>\n",
       "    <tr>\n",
       "      <th>744</th>\n",
       "      <td>3062433592</td>\n",
       "      <td>5</td>\n",
       "    </tr>\n",
       "    <tr>\n",
       "      <th>55</th>\n",
       "      <td>237748145</td>\n",
       "      <td>5</td>\n",
       "    </tr>\n",
       "    <tr>\n",
       "      <th>917</th>\n",
       "      <td>3803269165</td>\n",
       "      <td>5</td>\n",
       "    </tr>\n",
       "    <tr>\n",
       "      <th>299</th>\n",
       "      <td>1230306981</td>\n",
       "      <td>5</td>\n",
       "    </tr>\n",
       "    <tr>\n",
       "      <th>897</th>\n",
       "      <td>3717692402</td>\n",
       "      <td>5</td>\n",
       "    </tr>\n",
       "  </tbody>\n",
       "</table>\n",
       "</div>"
      ],
      "text/plain": [
       "          userId  orders\n",
       "1023  4256040402      11\n",
       "591   2458001652      11\n",
       "569   2378935119       9\n",
       "487   2038680547       8\n",
       "44     199603092       5\n",
       "744   3062433592       5\n",
       "55     237748145       5\n",
       "917   3803269165       5\n",
       "299   1230306981       5\n",
       "897   3717692402       5"
      ]
     },
     "execution_count": 30,
     "metadata": {},
     "output_type": "execute_result"
    }
   ],
   "source": [
    "ordersByUsers = (\n",
    "    orders.groupby('visitorId', as_index=False)\n",
    "    .agg({'transactionId': 'nunique'})\n",
    ")\n",
    "ordersByUsers.columns = ['userId', 'orders']\n",
    "\n",
    "ordersByUsers.sort_values(by='orders', ascending=False).head(10)\n",
    " "
   ]
  },
  {
   "cell_type": "code",
   "execution_count": 31,
   "metadata": {},
   "outputs": [
    {
     "data": {
      "text/plain": [
       "<matplotlib.collections.PathCollection at 0x1246024e0>"
      ]
     },
     "execution_count": 31,
     "metadata": {},
     "output_type": "execute_result"
    },
    {
     "data": {
      "image/png": "[encoded data removed]",
      "text/plain": [
       "<Figure size 640x480 with 1 Axes>"
      ]
     },
     "metadata": {},
     "output_type": "display_data"
    }
   ],
   "source": [
    "\n",
    "x_values = pd.Series(range(0, len(ordersByUsers)))\n",
    "\n",
    "plt.scatter(x_values, ordersByUsers['orders']) "
   ]
  },
  {
   "cell_type": "markdown",
   "metadata": {},
   "source": [
    "Большинство пользователей совершили один заказ, значительная доля пользователей - два заказа, пользователей, которые совершили три заказа и более совсем мало, рассчитаем перцентили."
   ]
  },
  {
   "cell_type": "markdown",
   "metadata": {},
   "source": [
    "### Рассчет 95-й и 99-й перцентилей количества заказов на пользователя, определение границы аномальных пользователей"
   ]
  },
  {
   "cell_type": "code",
   "execution_count": 32,
   "metadata": {},
   "outputs": [
    {
     "data": {
      "text/plain": [
       "array([1., 2., 4.])"
      ]
     },
     "execution_count": 32,
     "metadata": {},
     "output_type": "execute_result"
    }
   ],
   "source": [
    "# Метод np.percentile('column', [percentile1, percentile2, percentile3]) находит перцентили.\n",
    "np.percentile(ordersByUsers['orders'], [90, 95, 99]) "
   ]
  },
  {
   "cell_type": "markdown",
   "metadata": {},
   "source": [
    "Всего 5% пользователей совершили более двух заказов и только 1% 4 и более, определим значение 4 за аномальное"
   ]
  },
  {
   "cell_type": "markdown",
   "metadata": {},
   "source": [
    "### Точечный график стоимостей заказов"
   ]
  },
  {
   "cell_type": "code",
   "execution_count": 33,
   "metadata": {},
   "outputs": [
    {
     "data": {
      "text/html": [
       "<div>\n",
       "<style scoped>\n",
       "    .dataframe tbody tr th:only-of-type {\n",
       "        vertical-align: middle;\n",
       "    }\n",
       "\n",
       "    .dataframe tbody tr th {\n",
       "        vertical-align: top;\n",
       "    }\n",
       "\n",
       "    .dataframe thead th {\n",
       "        text-align: right;\n",
       "    }\n",
       "</style>\n",
       "<table border=\"1\" class=\"dataframe\">\n",
       "  <thead>\n",
       "    <tr style=\"text-align: right;\">\n",
       "      <th></th>\n",
       "      <th>transactionId</th>\n",
       "      <th>visitorId</th>\n",
       "      <th>date</th>\n",
       "      <th>revenue</th>\n",
       "      <th>group</th>\n",
       "    </tr>\n",
       "  </thead>\n",
       "  <tbody>\n",
       "    <tr>\n",
       "      <th>425</th>\n",
       "      <td>590470918</td>\n",
       "      <td>1920142716</td>\n",
       "      <td>2019-08-19</td>\n",
       "      <td>1294500</td>\n",
       "      <td>B</td>\n",
       "    </tr>\n",
       "    <tr>\n",
       "      <th>1196</th>\n",
       "      <td>3936777065</td>\n",
       "      <td>2108080724</td>\n",
       "      <td>2019-08-15</td>\n",
       "      <td>202740</td>\n",
       "      <td>B</td>\n",
       "    </tr>\n",
       "    <tr>\n",
       "      <th>858</th>\n",
       "      <td>192721366</td>\n",
       "      <td>1316129916</td>\n",
       "      <td>2019-08-27</td>\n",
       "      <td>93940</td>\n",
       "      <td>A</td>\n",
       "    </tr>\n",
       "    <tr>\n",
       "      <th>1136</th>\n",
       "      <td>666610489</td>\n",
       "      <td>1307669133</td>\n",
       "      <td>2019-08-13</td>\n",
       "      <td>92550</td>\n",
       "      <td>A</td>\n",
       "    </tr>\n",
       "    <tr>\n",
       "      <th>744</th>\n",
       "      <td>3668308183</td>\n",
       "      <td>888512513</td>\n",
       "      <td>2019-08-27</td>\n",
       "      <td>86620</td>\n",
       "      <td>B</td>\n",
       "    </tr>\n",
       "    <tr>\n",
       "      <th>682</th>\n",
       "      <td>1216533772</td>\n",
       "      <td>4266935830</td>\n",
       "      <td>2019-08-29</td>\n",
       "      <td>78990</td>\n",
       "      <td>B</td>\n",
       "    </tr>\n",
       "    <tr>\n",
       "      <th>662</th>\n",
       "      <td>1811671147</td>\n",
       "      <td>4266935830</td>\n",
       "      <td>2019-08-29</td>\n",
       "      <td>78990</td>\n",
       "      <td>A</td>\n",
       "    </tr>\n",
       "    <tr>\n",
       "      <th>743</th>\n",
       "      <td>3603576309</td>\n",
       "      <td>4133034833</td>\n",
       "      <td>2019-08-09</td>\n",
       "      <td>67990</td>\n",
       "      <td>A</td>\n",
       "    </tr>\n",
       "    <tr>\n",
       "      <th>1103</th>\n",
       "      <td>1348774318</td>\n",
       "      <td>1164614297</td>\n",
       "      <td>2019-08-12</td>\n",
       "      <td>66350</td>\n",
       "      <td>A</td>\n",
       "    </tr>\n",
       "    <tr>\n",
       "      <th>1099</th>\n",
       "      <td>316924019</td>\n",
       "      <td>148427295</td>\n",
       "      <td>2019-08-12</td>\n",
       "      <td>65710</td>\n",
       "      <td>A</td>\n",
       "    </tr>\n",
       "  </tbody>\n",
       "</table>\n",
       "</div>"
      ],
      "text/plain": [
       "      transactionId   visitorId       date  revenue group\n",
       "425       590470918  1920142716 2019-08-19  1294500     B\n",
       "1196     3936777065  2108080724 2019-08-15   202740     B\n",
       "858       192721366  1316129916 2019-08-27    93940     A\n",
       "1136      666610489  1307669133 2019-08-13    92550     A\n",
       "744      3668308183   888512513 2019-08-27    86620     B\n",
       "682      1216533772  4266935830 2019-08-29    78990     B\n",
       "662      1811671147  4266935830 2019-08-29    78990     A\n",
       "743      3603576309  4133034833 2019-08-09    67990     A\n",
       "1103     1348774318  1164614297 2019-08-12    66350     A\n",
       "1099      316924019   148427295 2019-08-12    65710     A"
      ]
     },
     "execution_count": 33,
     "metadata": {},
     "output_type": "execute_result"
    }
   ],
   "source": [
    "orders.sort_values(by='revenue', ascending=False).head(10)\n",
    "\n"
   ]
  },
  {
   "cell_type": "code",
   "execution_count": 34,
   "metadata": {},
   "outputs": [
    {
     "data": {
      "text/plain": [
       "<matplotlib.collections.PathCollection at 0x127f5bda0>"
      ]
     },
     "execution_count": 34,
     "metadata": {},
     "output_type": "execute_result"
    },
    {
     "data": {
      "image/png": "[encoded data removed]",
      "text/plain": [
       "<Figure size 640x480 with 1 Axes>"
      ]
     },
     "metadata": {},
     "output_type": "display_data"
    }
   ],
   "source": [
    "x_values = pd.Series(range(0, len(orders['revenue'])))\n",
    "plt.scatter(x_values, orders['revenue']) "
   ]
  },
  {
   "cell_type": "markdown",
   "metadata": {},
   "source": [
    "Мы видим как минимум два аномальных заказа, рассчитаем перцентили, чтобы отсечь аномалии"
   ]
  },
  {
   "cell_type": "markdown",
   "metadata": {},
   "source": [
    "### Рассчет 95-й и 99-й перцентилей стоимости заказов, определение границы аномальных заказов"
   ]
  },
  {
   "cell_type": "code",
   "execution_count": 35,
   "metadata": {},
   "outputs": [
    {
     "data": {
      "text/plain": [
       "array([18168. , 28000. , 58233.2])"
      ]
     },
     "execution_count": 35,
     "metadata": {},
     "output_type": "execute_result"
    }
   ],
   "source": [
    "np.percentile(orders['revenue'], [90, 95, 99]) "
   ]
  },
  {
   "cell_type": "markdown",
   "metadata": {},
   "source": [
    "Заказы более 28000 - не более 5%  и около 1% заказов более 58000, определим аномальное значение на уровне 30000"
   ]
  },
  {
   "cell_type": "markdown",
   "metadata": {},
   "source": [
    "### Рассчет статистической значимости различий в среднем количестве заказов на посетителя между группами по «сырым» данным\n",
    "\n",
    "Посчитаем статистическую значимость различий в среднем числе заказов на пользователя между группами по «сырым» данным — без удаления аномальных пользователей.\n",
    "\n",
    "\n",
    "Сформулируем гипотезы: \n",
    "\n",
    "Нулевая гипотеза: различий в среднем количестве заказов между группами А и В нет.\n",
    "\n",
    "Альтернативная гипотеза: различия в среднем количестве заказов между группами есть."
   ]
  },
  {
   "cell_type": "code",
   "execution_count": 36,
   "metadata": {},
   "outputs": [
    {
     "name": "stdout",
     "output_type": "stream",
     "text": [
      "        date  ordersPerDateA  revenuePerDateA  ordersPerDateB  \\\n",
      "0 2019-08-01              24           148579              21   \n",
      "1 2019-08-02              20            93822              24   \n",
      "2 2019-08-03              24           112473              16   \n",
      "3 2019-08-04              16            70825              17   \n",
      "4 2019-08-05              25           124218              23   \n",
      "\n",
      "   revenuePerDateB  ordersCummulativeA  revenueCummulativeA  \\\n",
      "0           101217                  24               148579   \n",
      "1           165531                  44               242401   \n",
      "2           114248                  68               354874   \n",
      "3           108571                  84               425699   \n",
      "4            92428                 109               549917   \n",
      "\n",
      "   ordersCummulativeB  revenueCummulativeB  visitorsPerDateA  \\\n",
      "0                  21               101217               719   \n",
      "1                  45               266748               619   \n",
      "2                  61               380996               507   \n",
      "3                  78               489567               717   \n",
      "4                 101               581995               756   \n",
      "\n",
      "   visitorsPerDateB  visitorsCummulativeA  visitorsCummulativeB  \n",
      "0               713                   719                   713  \n",
      "1               581                  1338                  1294  \n",
      "2               509                  1845                  1803  \n",
      "3               770                  2562                  2573  \n",
      "4               707                  3318                  3280  \n",
      "p-value для сравнения среднего между группами 0.01679\n",
      "Относительное различие в среднем между группами 0.138\n"
     ]
    }
   ],
   "source": [
    "visitorsADaily = visitors[visitors['group'] == 'A'][['date', 'visitors']]\n",
    "visitorsADaily.columns = ['date', 'visitorsPerDateA']\n",
    "\n",
    "visitorsACummulative = visitorsADaily.apply(\n",
    "    lambda x: visitorsADaily[visitorsADaily['date'] <= x['date']].agg(\n",
    "        {'date': 'max', 'visitorsPerDateA': 'sum'}\n",
    "    ),\n",
    "    axis=1,\n",
    ")\n",
    "visitorsACummulative.columns = ['date', 'visitorsCummulativeA']\n",
    "\n",
    "visitorsBDaily = visitors[visitors['group'] == 'B'][['date', 'visitors']]\n",
    "visitorsBDaily.columns = ['date', 'visitorsPerDateB']\n",
    "\n",
    "visitorsBCummulative = visitorsBDaily.apply(\n",
    "    lambda x: visitorsBDaily[visitorsBDaily['date'] <= x['date']].agg(\n",
    "        {'date': 'max', 'visitorsPerDateB': 'sum'}\n",
    "    ),\n",
    "    axis=1,\n",
    ")\n",
    "visitorsBCummulative.columns = ['date', 'visitorsCummulativeB']\n",
    "\n",
    "ordersADaily = (\n",
    "    orders[orders['group'] == 'A'][['date', 'transactionId', 'visitorId', 'revenue']]\n",
    "    .groupby('date', as_index=False)\n",
    "    .agg({'transactionId': pd.Series.nunique, 'revenue': 'sum'})\n",
    ")\n",
    "ordersADaily.columns = ['date', 'ordersPerDateA', 'revenuePerDateA']\n",
    "\n",
    "ordersACummulative = ordersADaily.apply(\n",
    "    lambda x: ordersADaily[ordersADaily['date'] <= x['date']].agg(\n",
    "        {'date': 'max', 'ordersPerDateA': 'sum', 'revenuePerDateA': 'sum'}\n",
    "    ),\n",
    "    axis=1,\n",
    ").sort_values(by=['date'])\n",
    "ordersACummulative.columns = [\n",
    "    'date',\n",
    "    'ordersCummulativeA',\n",
    "    'revenueCummulativeA',\n",
    "]\n",
    "\n",
    "ordersBDaily = (\n",
    "    orders[orders['group'] == 'B'][['date', 'transactionId', 'visitorId', 'revenue']]\n",
    "    .groupby('date', as_index=False)\n",
    "    .agg({'transactionId': pd.Series.nunique, 'revenue': 'sum'})\n",
    ")\n",
    "ordersBDaily.columns = ['date', 'ordersPerDateB', 'revenuePerDateB']\n",
    "\n",
    "ordersBCummulative = ordersBDaily.apply(\n",
    "    lambda x: ordersBDaily[ordersBDaily['date'] <= x['date']].agg(\n",
    "        {'date': 'max', 'ordersPerDateB': 'sum', 'revenuePerDateB': 'sum'}\n",
    "    ),\n",
    "    axis=1,\n",
    ").sort_values(by=['date'])\n",
    "ordersBCummulative.columns = [\n",
    "    'date',\n",
    "    'ordersCummulativeB',\n",
    "    'revenueCummulativeB',\n",
    "]\n",
    "\n",
    "data = (\n",
    "    ordersADaily.merge(\n",
    "        ordersBDaily, left_on='date', right_on='date', how='left'\n",
    "    )\n",
    "    .merge(ordersACummulative, left_on='date', right_on='date', how='left')\n",
    "    .merge(ordersBCummulative, left_on='date', right_on='date', how='left')\n",
    "    .merge(visitorsADaily, left_on='date', right_on='date', how='left')\n",
    "    .merge(visitorsBDaily, left_on='date', right_on='date', how='left')\n",
    "    .merge(visitorsACummulative, left_on='date', right_on='date', how='left')\n",
    "    .merge(visitorsBCummulative, left_on='date', right_on='date', how='left')\n",
    ")\n",
    "\n",
    "print(data.head(5))\n",
    "\n",
    "ordersByUsersA = (\n",
    "    orders[orders['group'] == 'A']\n",
    "    .groupby('visitorId', as_index=False)\n",
    "    .agg({'transactionId': pd.Series.nunique})\n",
    ")\n",
    "ordersByUsersA.columns = ['userId', 'orders']\n",
    "\n",
    "ordersByUsersB = (\n",
    "    orders[orders['group'] == 'B']\n",
    "    .groupby('visitorId', as_index=False)\n",
    "    .agg({'transactionId': pd.Series.nunique})\n",
    ")\n",
    "ordersByUsersB.columns = ['userId', 'orders']\n",
    "\n",
    "sampleA = pd.concat(\n",
    "    [\n",
    "        ordersByUsersA['orders'],\n",
    "        pd.Series(\n",
    "            0,\n",
    "            index=np.arange(\n",
    "                data['visitorsPerDateA'].sum() - len(ordersByUsersA['orders'])\n",
    "            ),\n",
    "            name='orders',\n",
    "        ),\n",
    "    ],\n",
    "    axis=0,\n",
    ")\n",
    "\n",
    "sampleB = pd.concat(\n",
    "    [\n",
    "        ordersByUsersB['orders'],\n",
    "        pd.Series(\n",
    "            0,\n",
    "            index=np.arange(\n",
    "                data['visitorsPerDateB'].sum() - len(ordersByUsersB['orders'])\n",
    "            ),\n",
    "            name='orders',\n",
    "        ),\n",
    "    ],\n",
    "    axis=0,\n",
    ")\n",
    "\n",
    "print('p-value для сравнения среднего между группами',\"{0:.5f}\".format(stats.mannwhitneyu(sampleA, sampleB)[1]))\n",
    "\n",
    "print('Относительное различие в среднем между группами',\"{0:.3f}\".format(sampleB.mean() / sampleA.mean() - 1))\n"
   ]
  },
  {
   "cell_type": "markdown",
   "metadata": {},
   "source": [
    "p-value меньше 0,05 - отвергаем нулевую гипотезу, в среднем количестве заказов есть статистически значимые различия.\n",
    "\n",
    "Относительный прирост конверсии группы В в районе 13.8%"
   ]
  },
  {
   "cell_type": "markdown",
   "metadata": {},
   "source": [
    "### Рассчет статистической значимости различий в среднем чеке заказа между группами по «сырым» данным"
   ]
  },
  {
   "cell_type": "markdown",
   "metadata": {},
   "source": [
    "Посчитаем статистическую значимость различий в среднем чеке заказа между группами по «сырым» данным — без удаления аномальных пользователей. \n",
    "\n",
    "Сформулируем гипотезы:\n",
    "\n",
    "Нулевая: различий в среднем чеке между группами нет.\n",
    "\n",
    "Альтернативная: различия в среднем чеке между группами есть."
   ]
  },
  {
   "cell_type": "code",
   "execution_count": 37,
   "metadata": {},
   "outputs": [
    {
     "name": "stdout",
     "output_type": "stream",
     "text": [
      "p-value для сравнения средних чеков между группами 0.729\n",
      "Относительный прирост среднего чека группы B 0.259\n"
     ]
    }
   ],
   "source": [
    "print('p-value для сравнения средних чеков между группами','{0:.3f}'.format(stats.mannwhitneyu(orders[orders['group']=='A']['revenue'], orders[orders['group']=='B']['revenue'])[1]))\n",
    "print('Относительный прирост среднего чека группы B','{0:.3f}'.format(orders[orders['group']=='B']['revenue'].mean()/orders[orders['group']=='A']['revenue'].mean()-1)) "
   ]
  },
  {
   "cell_type": "markdown",
   "metadata": {},
   "source": [
    "p-value больше 0,05, нулевая гипотеза не отклонена. Статистически значимых различий в среднем чеке между группами нет"
   ]
  },
  {
   "cell_type": "markdown",
   "metadata": {},
   "source": [
    "### Рассчет статистической значимости различий в среднем количестве заказов на посетителя между группами по «очищенным» данным"
   ]
  },
  {
   "cell_type": "code",
   "execution_count": 38,
   "metadata": {},
   "outputs": [
    {
     "data": {
      "text/plain": [
       "1099    148427295\n",
       "18      199603092\n",
       "928     204675465\n",
       "23      237748145\n",
       "684     358944393\n",
       "dtype: int64"
      ]
     },
     "execution_count": 38,
     "metadata": {},
     "output_type": "execute_result"
    }
   ],
   "source": [
    "usersWithManyOrders = pd.concat(\n",
    "    [\n",
    "        ordersByUsersA[ordersByUsersA['orders'] > 3]['userId'],\n",
    "        ordersByUsersB[ordersByUsersB['orders'] > 3]['userId'],\n",
    "    ],\n",
    "    axis=0,\n",
    ")\n",
    "usersWithExpensiveOrders = orders[orders['revenue'] > 30000]['visitorId']\n",
    "abnormalUsers = (\n",
    "    pd.concat([usersWithManyOrders, usersWithExpensiveOrders], axis=0)\n",
    "    .drop_duplicates()\n",
    "    .sort_values()\n",
    ")\n",
    "abnormalUsers.head(5)"
   ]
  },
  {
   "cell_type": "code",
   "execution_count": 39,
   "metadata": {},
   "outputs": [
    {
     "data": {
      "text/plain": [
       "array([18168. , 28000. , 58233.2])"
      ]
     },
     "execution_count": 39,
     "metadata": {},
     "output_type": "execute_result"
    }
   ],
   "source": [
    "np.percentile(orders['revenue'], [90, 95, 99]) "
   ]
  },
  {
   "cell_type": "markdown",
   "metadata": {},
   "source": [
    "Посчитаем статистическую значимость различий в среднем количестве заказов между группами по «очищенным» данным.\n",
    "\n",
    "Сформулируем гипотезы:\n",
    "\n",
    "Нулевая: различий в среднем количестве заказов на посетителя между группами нет.\n",
    "\n",
    "Альтернативная: различия в среднем количестве заказов между группами есть."
   ]
  },
  {
   "cell_type": "code",
   "execution_count": 40,
   "metadata": {},
   "outputs": [
    {
     "name": "stdout",
     "output_type": "stream",
     "text": [
      "p-value для сравнения среднего количества заказов между очищенными группами 0.01832\n",
      "Относительный прирост среднего количества заказов очищенной группы B 0.148\n"
     ]
    }
   ],
   "source": [
    "sampleAFiltered = pd.concat(\n",
    "    [\n",
    "        ordersByUsersA[\n",
    "            np.logical_not(ordersByUsersA['userId'].isin(abnormalUsers))\n",
    "        ]['orders'],\n",
    "        pd.Series(\n",
    "            0,\n",
    "            index=np.arange(\n",
    "                data['visitorsPerDateA'].sum() - len(ordersByUsersA['orders'])\n",
    "            ),\n",
    "            name='orders',\n",
    "        ),\n",
    "    ],\n",
    "    axis=0,\n",
    ")\n",
    "\n",
    "sampleBFiltered = pd.concat(\n",
    "    [\n",
    "        ordersByUsersB[\n",
    "            np.logical_not(ordersByUsersB['userId'].isin(abnormalUsers))\n",
    "        ]['orders'],\n",
    "        pd.Series(\n",
    "            0,\n",
    "            index=np.arange(\n",
    "                data['visitorsPerDateB'].sum() - len(ordersByUsersB['orders'])\n",
    "            ),\n",
    "            name='orders',\n",
    "        ),\n",
    "    ],\n",
    "    axis=0,\n",
    ") \n",
    "\n",
    "print('p-value для сравнения среднего количества заказов между очищенными группами','{0:.5f}'.format(stats.mannwhitneyu(sampleAFiltered, sampleBFiltered)[1]))\n",
    "print('Относительный прирост среднего количества заказов очищенной группы B','{0:.3f}'.format(sampleBFiltered.mean()/sampleAFiltered.mean()-1)) "
   ]
  },
  {
   "cell_type": "markdown",
   "metadata": {},
   "source": [
    "По аналогии с сырыми данными статистическая значимость достигнута, относительный прирост конверсии группы В в районе 14,8%"
   ]
  },
  {
   "cell_type": "markdown",
   "metadata": {},
   "source": [
    "Посчитаем статистическую значимость различий в среднем чеке заказа между группами по «очищенным» данным.\n",
    "\n",
    "Сформулируем гипотезы:\n",
    "\n",
    "Нулевая: различий в среднем чеке между группами нет.\n",
    "\n",
    "Альтернативная: различия в среднем чеке между группами есть."
   ]
  },
  {
   "cell_type": "code",
   "execution_count": 41,
   "metadata": {},
   "outputs": [
    {
     "name": "stdout",
     "output_type": "stream",
     "text": [
      "p-value для сравнения средних чеков между очищенными группами 0.958\n",
      "Относительный прирост среднего чека очищенной группы B -0.020\n"
     ]
    }
   ],
   "source": [
    "print('p-value для сравнения средних чеков между очищенными группами',\n",
    "    '{0:.3f}'.format(\n",
    "        stats.mannwhitneyu(\n",
    "            orders[\n",
    "                np.logical_and(\n",
    "                    orders['group'] == 'A',\n",
    "                    np.logical_not(orders['visitorId'].isin(abnormalUsers)),\n",
    "                )\n",
    "            ]['revenue'],\n",
    "            orders[\n",
    "                np.logical_and(\n",
    "                    orders['group'] == 'B',\n",
    "                    np.logical_not(orders['visitorId'].isin(abnormalUsers)),\n",
    "                )\n",
    "            ]['revenue'],\n",
    "        )[1]\n",
    "    )\n",
    ")\n",
    "\n",
    "print('Относительный прирост среднего чека очищенной группы B',\n",
    "    \"{0:.3f}\".format(\n",
    "        orders[\n",
    "            np.logical_and(\n",
    "                orders['group'] == 'B',\n",
    "                np.logical_not(orders['visitorId'].isin(abnormalUsers)),\n",
    "            )\n",
    "        ]['revenue'].mean()\n",
    "        / orders[\n",
    "            np.logical_and(\n",
    "                orders['group'] == 'A',\n",
    "                np.logical_not(orders['visitorId'].isin(abnormalUsers)),\n",
    "            )\n",
    "        ]['revenue'].mean()\n",
    "        - 1\n",
    "    )\n",
    ") "
   ]
  },
  {
   "cell_type": "markdown",
   "metadata": {},
   "source": [
    "После удаления аномалий p-value = 0.958 больше 0.05, значит, нулевую гипотезу о том, что статистически значимых различий в среднем чеке между группами нет, не отвергаем. Однако относительный проигрыш группы B равен 2%."
   ]
  },
  {
   "cell_type": "markdown",
   "metadata": {},
   "source": [
    "# Выводы:\n",
    "\n",
    "По результатам анализа гипотез выявлено, что наиболее перспекивные гипотезы по методу ICE:  \n",
    "- Запустить акцию, дающую скидку на товар в день рождения (8),   \n",
    "- Добавить два новых канала привлечения трафика, что позволит привлекать на 30% больше пользователей (0), \n",
    "- Добавить форму подписки на все основные страницы, чтобы собрать базу клиентов для email-рассылок (7) \n",
    "\n",
    "Наиболее перспективные гипотезы по RICE: \n",
    "- Добавить форму подписки на все основные страницы, чтобы собрать базу клиентов для email-рассылок (7), \n",
    "- Добавить блоки рекомендаций товаров на сайт интернет магазина, чтобы повысить конверсию и средний чек заказа (2), \n",
    "- Добавить два новых канала привлечения трафика, что позволит привлекать на 30% больше пользователей (0), \n",
    "- Показать на главной странице баннеры с актуальными акциями и распродажами, чтобы увеличить конверсию (6),\n",
    "Таким образом, в лидерах по обоим методам только гипотезы: \"Добавить форму подписки на все основные страницы, чтобы собрать базу клиентов для email-рассылок\" и \"Добавить два новых канала привлечения трафика, что позволит привлекать на 30% больше пользователей\", причем лидер по ICE, даже не входит в ТОП 4 по RICE, это связано с тем, что охват аудитории у гипотезы \"Запустить акцию, дающую скидку на товар в день рождения\" самый низкий, всего единица, при этом у гипотезы \"Добавить форму подписки на все основные страницы, чтобы собрать базу клиентов для email-рассылок\" reach максимальный - 10. Делаем вывод, что по итогам проверки двумя методами самые перспективные гипотезы:\n",
    "- Добавить форму подписки на все основные страницы, чтобы собрать базу клиентов для email-рассылок (7), \n",
    "- Добавить два новых канала привлечения трафика, что позволит привлекать на 30% больше пользователей (0).\n",
    "\n",
    "По графику кумулятивной выручки по группам мя наблюдаем у группы А идет стабильный рост на протяжении всего периода исследование, а у группы В после 17.08.2019 идет резкий скачок вверх и остаток теста сегмент В лидирует, возможно мы имеем дело с аномально крупными заказами, которые влияют на результаты теста. Что касается графика кумулятивного среднего чека, здесь мы тоже наблюдаем колебания и опять же, в аналогичный период, как и с кумулятивной выручкой, у группы В резкий рост среднего чека.\n",
    "\n",
    "В начале теста сегмент А имел высокую конверсию, затем идет синхронный спад и после 05.08.2019 идет спад у сегмента А и рост у сегмента В. Абсолютное значение колебания за период теста небольшое: от 3% до 4%.\n",
    "\n",
    "Почти с самого начала теста группа B лидирует по конверсии: становится лучше и лучше, зафиксировалась около прироста в 20% относительно группы A в середине теста и снизилась до 10% к концу теста.\n",
    "\n",
    "Выявили аномальные значения по количеству заказов на пользователя и размеру заказа, провели очистку данных. \n",
    "\n",
    "Рассчитали статистическую значимость различий в среднем числе заказов на пользователя между группами по «сырым» данным — без удаления аномальных пользователей. Сформулированные гипотезы:\n",
    "\n",
    "Нулевая: различий в среднем количестве заказов между группами нет.\n",
    "\n",
    "Альтернативная: различия в среднем между группами есть\n",
    "\n",
    "p-value меньше 0,05 - отвергаем нулевую гипотезу, в среднем количестве заказов есть статистически значимые различия.\n",
    "Относительный прирост конверсии группы В в районе 13.8%\n",
    "\n",
    "Рассчитали статистическую значимость различий в среднем чеке между группами по «сырым» данным — без удаления аномальных пользователей.\n",
    "Получили результат: p-value больше 0,05, нулевая гипотеза не отклонена. Статистически значимых различий в среднем чеке между группами нет.\n",
    "\n",
    "Рассчитали статистическую значимость различий в среднем числе заказов на пользователя между группами по «очищенным» данным.\n",
    "По аналогии с сырыми данными статистическая значимость достигнута, относительный прирост конверсии группы В по \"очищенным\" данным в районе 14,8%.\n",
    "\n",
    "Рассчитали статистическую значимость различий в среднем чеке между группами по «очищенным» данным. После удаления аномалий p-value = 0.958 больше 0.05, значит, нулевую гипотезу о том, что статистически значимых различий в среднем чеке между группами нет, не отвергаем. Однако относительный проигрыш группы B равен 2%.\n",
    "\n",
    "По итогам проведенных тестов:\n",
    "Есть статистически значимое различие по конверсии между группами как по сырым данным, так и после фильтрации аномалий.\n",
    "По сырым и очищенным данным нет статистически значимого различия по среднему чеку между группами.\n",
    "График различия конверсии между группами сообщает, что результаты группы B лучше группы A: имеют тенденцию к росту, либо зафиксировались около среднего значения.\n",
    "График различия среднего чека колеблется из-за аномалий. Сделать из этого графика определённые выводы нельзя.\n",
    "Исходя из обнаруженных фактов мы можем остановить тест, признать его успешным - победа группы В.\n"
   ]
  }
 ],
 "metadata": {
  "ExecuteTimeLog": [
   {
    "duration": 50,
    "start_time": "2023-08-28T18:58:55.331Z"
   },
   {
    "duration": 412,
    "start_time": "2023-08-28T18:59:00.958Z"
   },
   {
    "duration": 72,
    "start_time": "2023-08-28T18:59:03.733Z"
   },
   {
    "duration": 1272,
    "start_time": "2023-08-28T18:59:50.145Z"
   },
   {
    "duration": 12,
    "start_time": "2023-08-28T19:00:27.998Z"
   },
   {
    "duration": 11,
    "start_time": "2023-08-28T19:00:47.817Z"
   },
   {
    "duration": 11,
    "start_time": "2023-08-28T19:02:11.244Z"
   },
   {
    "duration": 323,
    "start_time": "2023-08-28T19:11:36.131Z"
   },
   {
    "duration": 467,
    "start_time": "2023-08-28T19:12:13.103Z"
   },
   {
    "duration": 32,
    "start_time": "2023-08-28T19:12:14.233Z"
   },
   {
    "duration": 3,
    "start_time": "2023-08-28T19:12:15.961Z"
   },
   {
    "duration": 1326,
    "start_time": "2023-08-28T19:12:17.699Z"
   },
   {
    "duration": 10,
    "start_time": "2023-08-28T19:12:39.326Z"
   },
   {
    "duration": 102,
    "start_time": "2023-08-28T19:15:57.616Z"
   },
   {
    "duration": 339,
    "start_time": "2023-08-28T19:16:58.090Z"
   },
   {
    "duration": 426,
    "start_time": "2023-08-28T19:20:42.991Z"
   },
   {
    "duration": 3,
    "start_time": "2023-08-28T19:20:49.985Z"
   },
   {
    "duration": 35,
    "start_time": "2023-08-28T19:20:50.855Z"
   },
   {
    "duration": 2,
    "start_time": "2023-08-28T19:20:51.373Z"
   },
   {
    "duration": 12,
    "start_time": "2023-08-28T19:20:51.684Z"
   },
   {
    "duration": 14,
    "start_time": "2023-08-28T19:20:51.953Z"
   },
   {
    "duration": 54,
    "start_time": "2023-08-28T19:20:52.208Z"
   },
   {
    "duration": 863,
    "start_time": "2023-08-28T19:20:52.467Z"
   },
   {
    "duration": 311,
    "start_time": "2023-08-28T19:21:24.039Z"
   },
   {
    "duration": 12,
    "start_time": "2023-08-28T19:21:24.594Z"
   },
   {
    "duration": 12,
    "start_time": "2023-08-28T19:21:25.621Z"
   },
   {
    "duration": 629,
    "start_time": "2023-08-28T19:21:55.887Z"
   },
   {
    "duration": 38,
    "start_time": "2023-08-28T19:21:56.519Z"
   },
   {
    "duration": 3,
    "start_time": "2023-08-28T19:21:56.558Z"
   },
   {
    "duration": 12,
    "start_time": "2023-08-28T19:21:56.562Z"
   },
   {
    "duration": 11,
    "start_time": "2023-08-28T19:21:56.576Z"
   },
   {
    "duration": 44,
    "start_time": "2023-08-28T19:21:56.588Z"
   },
   {
    "duration": 374,
    "start_time": "2023-08-28T19:21:56.634Z"
   },
   {
    "duration": 379,
    "start_time": "2023-08-28T19:23:07.301Z"
   },
   {
    "duration": 469,
    "start_time": "2023-08-28T19:24:07.316Z"
   },
   {
    "duration": 555,
    "start_time": "2023-08-28T19:24:42.863Z"
   },
   {
    "duration": 134,
    "start_time": "2023-08-28T19:25:29.782Z"
   },
   {
    "duration": 919,
    "start_time": "2023-08-29T07:15:52.010Z"
   },
   {
    "duration": 75,
    "start_time": "2023-08-29T07:15:52.932Z"
   },
   {
    "duration": 4,
    "start_time": "2023-08-29T07:15:53.009Z"
   },
   {
    "duration": 63,
    "start_time": "2023-08-29T07:15:53.016Z"
   },
   {
    "duration": 28,
    "start_time": "2023-08-29T07:15:53.081Z"
   },
   {
    "duration": 122,
    "start_time": "2023-08-29T07:15:53.111Z"
   },
   {
    "duration": 188,
    "start_time": "2023-08-29T07:15:53.235Z"
   },
   {
    "duration": 35,
    "start_time": "2023-08-29T07:17:40.342Z"
   },
   {
    "duration": 822,
    "start_time": "2023-08-29T07:25:50.477Z"
   },
   {
    "duration": 708,
    "start_time": "2023-08-29T07:29:12.279Z"
   },
   {
    "duration": 660,
    "start_time": "2023-08-29T07:29:42.712Z"
   },
   {
    "duration": 752,
    "start_time": "2023-08-29T07:30:45.514Z"
   },
   {
    "duration": 555,
    "start_time": "2023-08-29T07:35:06.713Z"
   },
   {
    "duration": 11,
    "start_time": "2023-08-29T07:37:01.855Z"
   },
   {
    "duration": 195,
    "start_time": "2023-08-29T07:37:15.780Z"
   },
   {
    "duration": 193,
    "start_time": "2023-08-29T07:38:18.628Z"
   },
   {
    "duration": 178,
    "start_time": "2023-08-29T07:38:24.883Z"
   },
   {
    "duration": 198,
    "start_time": "2023-08-29T07:40:35.357Z"
   },
   {
    "duration": 563,
    "start_time": "2023-08-29T07:41:39.576Z"
   },
   {
    "duration": 683,
    "start_time": "2023-08-29T07:42:19.214Z"
   },
   {
    "duration": 552,
    "start_time": "2023-08-29T07:42:38.268Z"
   },
   {
    "duration": 520,
    "start_time": "2023-08-29T07:43:49.603Z"
   },
   {
    "duration": 623,
    "start_time": "2023-08-29T07:44:07.157Z"
   },
   {
    "duration": 294,
    "start_time": "2023-08-29T07:44:57.241Z"
   },
   {
    "duration": 211,
    "start_time": "2023-08-29T07:46:04.361Z"
   },
   {
    "duration": 317,
    "start_time": "2023-08-29T07:47:26.315Z"
   },
   {
    "duration": 319,
    "start_time": "2023-08-29T07:48:04.401Z"
   },
   {
    "duration": 122,
    "start_time": "2023-08-29T07:50:40.569Z"
   },
   {
    "duration": 126,
    "start_time": "2023-08-29T07:51:24.644Z"
   },
   {
    "duration": 5,
    "start_time": "2023-08-29T07:51:51.607Z"
   },
   {
    "duration": 143,
    "start_time": "2023-08-29T07:52:36.652Z"
   },
   {
    "duration": 142,
    "start_time": "2023-08-29T07:53:03.910Z"
   },
   {
    "duration": 6,
    "start_time": "2023-08-29T07:53:36.336Z"
   },
   {
    "duration": 7,
    "start_time": "2023-08-29T07:53:51.791Z"
   },
   {
    "duration": 122,
    "start_time": "2023-08-29T07:59:19.008Z"
   },
   {
    "duration": 110,
    "start_time": "2023-08-29T08:00:02.980Z"
   },
   {
    "duration": 391,
    "start_time": "2023-08-29T08:00:34.561Z"
   },
   {
    "duration": 9,
    "start_time": "2023-08-29T08:02:03.553Z"
   },
   {
    "duration": 552,
    "start_time": "2023-08-29T08:02:42.811Z"
   },
   {
    "duration": 395,
    "start_time": "2023-08-29T08:02:49.504Z"
   },
   {
    "duration": 11,
    "start_time": "2023-08-29T08:02:54.614Z"
   },
   {
    "duration": 1760,
    "start_time": "2023-08-29T08:07:19.478Z"
   },
   {
    "duration": 1574,
    "start_time": "2023-08-29T08:07:36.061Z"
   },
   {
    "duration": 14,
    "start_time": "2023-08-29T08:08:22.286Z"
   },
   {
    "duration": 10,
    "start_time": "2023-08-29T08:09:00.911Z"
   },
   {
    "duration": 14,
    "start_time": "2023-08-29T08:09:14.991Z"
   },
   {
    "duration": 31,
    "start_time": "2023-08-29T08:11:06.390Z"
   },
   {
    "duration": 2176,
    "start_time": "2023-08-29T08:13:48.468Z"
   },
   {
    "duration": 15,
    "start_time": "2023-08-29T08:14:49.248Z"
   },
   {
    "duration": 574,
    "start_time": "2023-08-29T08:38:51.277Z"
   },
   {
    "duration": 218,
    "start_time": "2023-08-29T08:39:09.481Z"
   },
   {
    "duration": 304,
    "start_time": "2023-08-29T08:39:20.049Z"
   },
   {
    "duration": 218,
    "start_time": "2023-08-29T08:39:41.786Z"
   },
   {
    "duration": 321,
    "start_time": "2023-08-29T08:39:52.445Z"
   },
   {
    "duration": 14,
    "start_time": "2023-08-29T08:41:14.721Z"
   },
   {
    "duration": 13,
    "start_time": "2023-08-29T08:41:28.010Z"
   },
   {
    "duration": 1131,
    "start_time": "2023-08-29T08:41:35.182Z"
   },
   {
    "duration": 98,
    "start_time": "2023-08-29T08:41:36.316Z"
   },
   {
    "duration": 4,
    "start_time": "2023-08-29T08:41:36.416Z"
   },
   {
    "duration": 25,
    "start_time": "2023-08-29T08:41:36.423Z"
   },
   {
    "duration": 12,
    "start_time": "2023-08-29T08:41:36.449Z"
   },
   {
    "duration": 59,
    "start_time": "2023-08-29T08:41:36.463Z"
   },
   {
    "duration": 20,
    "start_time": "2023-08-29T08:41:36.524Z"
   },
   {
    "duration": 614,
    "start_time": "2023-08-29T08:41:36.546Z"
   },
   {
    "duration": 217,
    "start_time": "2023-08-29T08:41:37.161Z"
   },
   {
    "duration": 283,
    "start_time": "2023-08-29T08:41:37.381Z"
   },
   {
    "duration": 225,
    "start_time": "2023-08-29T08:41:37.666Z"
   },
   {
    "duration": 307,
    "start_time": "2023-08-29T08:41:37.893Z"
   },
   {
    "duration": 111,
    "start_time": "2023-08-29T08:41:38.201Z"
   },
   {
    "duration": 0,
    "start_time": "2023-08-29T08:41:38.314Z"
   },
   {
    "duration": 0,
    "start_time": "2023-08-29T08:41:38.315Z"
   },
   {
    "duration": 0,
    "start_time": "2023-08-29T08:41:38.317Z"
   },
   {
    "duration": 0,
    "start_time": "2023-08-29T08:41:38.318Z"
   },
   {
    "duration": 0,
    "start_time": "2023-08-29T08:41:38.319Z"
   },
   {
    "duration": 0,
    "start_time": "2023-08-29T08:41:38.321Z"
   },
   {
    "duration": 0,
    "start_time": "2023-08-29T08:41:38.322Z"
   },
   {
    "duration": 0,
    "start_time": "2023-08-29T08:41:38.322Z"
   },
   {
    "duration": 0,
    "start_time": "2023-08-29T08:41:38.324Z"
   },
   {
    "duration": 0,
    "start_time": "2023-08-29T08:41:38.325Z"
   },
   {
    "duration": 331,
    "start_time": "2023-08-29T08:45:52.957Z"
   },
   {
    "duration": 339,
    "start_time": "2023-08-29T08:46:26.234Z"
   },
   {
    "duration": 303,
    "start_time": "2023-08-29T08:47:01.785Z"
   },
   {
    "duration": 9,
    "start_time": "2023-08-29T08:47:12.413Z"
   },
   {
    "duration": 116,
    "start_time": "2023-08-29T08:49:37.762Z"
   },
   {
    "duration": 201,
    "start_time": "2023-08-29T08:50:01.406Z"
   },
   {
    "duration": 5,
    "start_time": "2023-08-29T08:50:07.720Z"
   },
   {
    "duration": 9,
    "start_time": "2023-08-29T08:50:09.100Z"
   },
   {
    "duration": 14,
    "start_time": "2023-08-29T08:50:56.951Z"
   },
   {
    "duration": 141,
    "start_time": "2023-08-29T08:51:11.110Z"
   },
   {
    "duration": 10,
    "start_time": "2023-08-29T08:51:24.827Z"
   },
   {
    "duration": 129,
    "start_time": "2023-08-29T08:51:37.958Z"
   },
   {
    "duration": 6,
    "start_time": "2023-08-29T08:51:47.273Z"
   },
   {
    "duration": 393,
    "start_time": "2023-08-29T08:52:00.642Z"
   },
   {
    "duration": 11,
    "start_time": "2023-08-29T08:52:07.406Z"
   },
   {
    "duration": 12,
    "start_time": "2023-08-29T08:52:08.499Z"
   },
   {
    "duration": 30,
    "start_time": "2023-08-29T08:52:09.873Z"
   },
   {
    "duration": 15,
    "start_time": "2023-08-29T08:52:10.664Z"
   },
   {
    "duration": 423,
    "start_time": "2023-08-29T08:55:30.905Z"
   },
   {
    "duration": 386,
    "start_time": "2023-08-29T08:56:14.193Z"
   },
   {
    "duration": 12,
    "start_time": "2023-08-29T08:58:13.341Z"
   },
   {
    "duration": 30,
    "start_time": "2023-08-29T09:00:17.584Z"
   },
   {
    "duration": 29,
    "start_time": "2023-08-29T09:03:33.887Z"
   },
   {
    "duration": 15,
    "start_time": "2023-08-29T09:03:45.259Z"
   },
   {
    "duration": 53,
    "start_time": "2023-08-29T16:41:33.820Z"
   },
   {
    "duration": 1356,
    "start_time": "2023-08-29T16:41:48.656Z"
   },
   {
    "duration": 140,
    "start_time": "2023-08-29T16:41:50.015Z"
   },
   {
    "duration": 4,
    "start_time": "2023-08-29T16:41:50.157Z"
   },
   {
    "duration": 15,
    "start_time": "2023-08-29T16:41:50.163Z"
   },
   {
    "duration": 17,
    "start_time": "2023-08-29T16:41:50.180Z"
   },
   {
    "duration": 92,
    "start_time": "2023-08-29T16:41:50.199Z"
   },
   {
    "duration": 66,
    "start_time": "2023-08-29T16:41:50.293Z"
   },
   {
    "duration": 659,
    "start_time": "2023-08-29T16:41:50.361Z"
   },
   {
    "duration": 259,
    "start_time": "2023-08-29T16:41:51.023Z"
   },
   {
    "duration": 390,
    "start_time": "2023-08-29T16:41:51.284Z"
   },
   {
    "duration": 222,
    "start_time": "2023-08-29T16:41:51.676Z"
   },
   {
    "duration": 119,
    "start_time": "2023-08-29T16:41:51.901Z"
   },
   {
    "duration": 0,
    "start_time": "2023-08-29T16:41:52.022Z"
   },
   {
    "duration": 0,
    "start_time": "2023-08-29T16:41:52.023Z"
   },
   {
    "duration": 0,
    "start_time": "2023-08-29T16:41:52.026Z"
   },
   {
    "duration": 0,
    "start_time": "2023-08-29T16:41:52.028Z"
   },
   {
    "duration": 0,
    "start_time": "2023-08-29T16:41:52.030Z"
   },
   {
    "duration": 0,
    "start_time": "2023-08-29T16:41:52.032Z"
   },
   {
    "duration": 0,
    "start_time": "2023-08-29T16:41:52.033Z"
   },
   {
    "duration": 0,
    "start_time": "2023-08-29T16:41:52.035Z"
   },
   {
    "duration": 0,
    "start_time": "2023-08-29T16:41:52.037Z"
   },
   {
    "duration": 0,
    "start_time": "2023-08-29T16:41:52.039Z"
   },
   {
    "duration": 0,
    "start_time": "2023-08-29T16:41:52.041Z"
   },
   {
    "duration": 0,
    "start_time": "2023-08-29T16:41:52.042Z"
   },
   {
    "duration": 1228,
    "start_time": "2023-08-29T16:46:39.230Z"
   },
   {
    "duration": 93,
    "start_time": "2023-08-29T16:46:40.461Z"
   },
   {
    "duration": 3,
    "start_time": "2023-08-29T16:46:40.556Z"
   },
   {
    "duration": 14,
    "start_time": "2023-08-29T16:46:40.561Z"
   },
   {
    "duration": 12,
    "start_time": "2023-08-29T16:46:40.577Z"
   },
   {
    "duration": 47,
    "start_time": "2023-08-29T16:46:40.592Z"
   },
   {
    "duration": 22,
    "start_time": "2023-08-29T16:46:40.641Z"
   },
   {
    "duration": 651,
    "start_time": "2023-08-29T16:46:40.665Z"
   },
   {
    "duration": 230,
    "start_time": "2023-08-29T16:46:41.318Z"
   },
   {
    "duration": 405,
    "start_time": "2023-08-29T16:46:41.551Z"
   },
   {
    "duration": 215,
    "start_time": "2023-08-29T16:46:41.959Z"
   },
   {
    "duration": 370,
    "start_time": "2023-08-29T16:46:42.177Z"
   },
   {
    "duration": 168,
    "start_time": "2023-08-29T16:46:42.550Z"
   },
   {
    "duration": 158,
    "start_time": "2023-08-29T16:46:42.720Z"
   },
   {
    "duration": 8,
    "start_time": "2023-08-29T16:46:42.880Z"
   },
   {
    "duration": 187,
    "start_time": "2023-08-29T16:46:42.890Z"
   },
   {
    "duration": 189,
    "start_time": "2023-08-29T16:46:43.079Z"
   },
   {
    "duration": 8,
    "start_time": "2023-08-29T16:46:43.270Z"
   },
   {
    "duration": 532,
    "start_time": "2023-08-29T16:46:43.280Z"
   },
   {
    "duration": 15,
    "start_time": "2023-08-29T16:46:43.814Z"
   },
   {
    "duration": 31,
    "start_time": "2023-08-29T16:46:43.847Z"
   },
   {
    "duration": 70,
    "start_time": "2023-08-29T16:46:43.880Z"
   },
   {
    "duration": 18,
    "start_time": "2023-08-29T16:46:43.952Z"
   },
   {
    "duration": 17,
    "start_time": "2023-08-29T16:51:46.066Z"
   },
   {
    "duration": 16,
    "start_time": "2023-08-29T16:57:20.324Z"
   },
   {
    "duration": 110,
    "start_time": "2023-08-29T17:14:41.285Z"
   },
   {
    "duration": 104,
    "start_time": "2023-08-29T17:23:03.506Z"
   },
   {
    "duration": 50,
    "start_time": "2023-08-30T07:59:44.485Z"
   },
   {
    "duration": 1264,
    "start_time": "2023-08-30T07:59:51.170Z"
   },
   {
    "duration": 132,
    "start_time": "2023-08-30T07:59:54.627Z"
   },
   {
    "duration": 3,
    "start_time": "2023-08-30T07:59:55.393Z"
   },
   {
    "duration": 13,
    "start_time": "2023-08-30T07:59:59.092Z"
   },
   {
    "duration": 11,
    "start_time": "2023-08-30T08:05:13.409Z"
   },
   {
    "duration": 10,
    "start_time": "2023-08-30T08:12:58.132Z"
   },
   {
    "duration": 11,
    "start_time": "2023-08-30T08:13:05.133Z"
   },
   {
    "duration": 110,
    "start_time": "2023-08-30T08:20:16.775Z"
   },
   {
    "duration": 67,
    "start_time": "2023-08-30T08:26:02.895Z"
   },
   {
    "duration": 148,
    "start_time": "2023-08-30T08:26:10.107Z"
   },
   {
    "duration": 69,
    "start_time": "2023-08-30T08:26:13.205Z"
   },
   {
    "duration": 20,
    "start_time": "2023-08-30T08:26:14.189Z"
   },
   {
    "duration": 34,
    "start_time": "2023-08-30T08:26:19.017Z"
   },
   {
    "duration": 9,
    "start_time": "2023-08-30T08:26:22.059Z"
   },
   {
    "duration": 8,
    "start_time": "2023-08-30T08:26:23.033Z"
   },
   {
    "duration": 87,
    "start_time": "2023-08-30T08:33:05.337Z"
   },
   {
    "duration": 350,
    "start_time": "2023-08-30T08:45:45.914Z"
   },
   {
    "duration": 82,
    "start_time": "2023-08-30T10:47:21.952Z"
   },
   {
    "duration": 98,
    "start_time": "2023-08-30T10:50:29.737Z"
   },
   {
    "duration": 129,
    "start_time": "2023-08-30T10:50:49.360Z"
   },
   {
    "duration": 74,
    "start_time": "2023-08-30T10:54:37.542Z"
   },
   {
    "duration": 139,
    "start_time": "2023-08-30T11:35:30.004Z"
   },
   {
    "duration": 1042,
    "start_time": "2023-08-30T11:36:22.935Z"
   },
   {
    "duration": 88,
    "start_time": "2023-08-30T11:36:23.979Z"
   },
   {
    "duration": 5,
    "start_time": "2023-08-30T11:36:24.069Z"
   },
   {
    "duration": 15,
    "start_time": "2023-08-30T11:36:24.076Z"
   },
   {
    "duration": 11,
    "start_time": "2023-08-30T11:36:24.093Z"
   },
   {
    "duration": 51,
    "start_time": "2023-08-30T11:36:24.106Z"
   },
   {
    "duration": 21,
    "start_time": "2023-08-30T11:36:24.159Z"
   },
   {
    "duration": 20,
    "start_time": "2023-08-30T11:36:24.181Z"
   },
   {
    "duration": 13,
    "start_time": "2023-08-30T11:36:24.202Z"
   },
   {
    "duration": 9,
    "start_time": "2023-08-30T11:36:24.217Z"
   },
   {
    "duration": 664,
    "start_time": "2023-08-30T11:36:24.227Z"
   },
   {
    "duration": 228,
    "start_time": "2023-08-30T11:36:24.893Z"
   },
   {
    "duration": 287,
    "start_time": "2023-08-30T11:36:25.124Z"
   },
   {
    "duration": 205,
    "start_time": "2023-08-30T11:36:25.413Z"
   },
   {
    "duration": 320,
    "start_time": "2023-08-30T11:36:25.620Z"
   },
   {
    "duration": 13,
    "start_time": "2023-08-30T11:36:25.942Z"
   },
   {
    "duration": 150,
    "start_time": "2023-08-30T11:36:25.957Z"
   },
   {
    "duration": 6,
    "start_time": "2023-08-30T11:36:26.109Z"
   },
   {
    "duration": 19,
    "start_time": "2023-08-30T11:36:26.117Z"
   },
   {
    "duration": 163,
    "start_time": "2023-08-30T11:36:26.138Z"
   },
   {
    "duration": 6,
    "start_time": "2023-08-30T11:36:26.303Z"
   },
   {
    "duration": 432,
    "start_time": "2023-08-30T11:36:26.311Z"
   },
   {
    "duration": 12,
    "start_time": "2023-08-30T11:36:26.745Z"
   },
   {
    "duration": 35,
    "start_time": "2023-08-30T11:36:26.759Z"
   },
   {
    "duration": 39,
    "start_time": "2023-08-30T11:36:26.797Z"
   },
   {
    "duration": 21,
    "start_time": "2023-08-30T11:36:26.839Z"
   },
   {
    "duration": 43,
    "start_time": "2023-08-31T03:24:10.086Z"
   },
   {
    "duration": 1202,
    "start_time": "2023-08-31T03:24:22.036Z"
   },
   {
    "duration": 122,
    "start_time": "2023-08-31T03:24:23.240Z"
   },
   {
    "duration": 3,
    "start_time": "2023-08-31T03:24:23.364Z"
   },
   {
    "duration": 12,
    "start_time": "2023-08-31T03:24:23.369Z"
   },
   {
    "duration": 10,
    "start_time": "2023-08-31T03:24:23.383Z"
   },
   {
    "duration": 90,
    "start_time": "2023-08-31T03:24:23.394Z"
   },
   {
    "duration": 58,
    "start_time": "2023-08-31T03:24:23.485Z"
   },
   {
    "duration": 17,
    "start_time": "2023-08-31T03:24:23.544Z"
   },
   {
    "duration": 11,
    "start_time": "2023-08-31T03:24:23.562Z"
   },
   {
    "duration": 6,
    "start_time": "2023-08-31T03:24:23.576Z"
   },
   {
    "duration": 103,
    "start_time": "2023-08-31T03:24:23.583Z"
   },
   {
    "duration": 0,
    "start_time": "2023-08-31T03:24:23.688Z"
   },
   {
    "duration": 0,
    "start_time": "2023-08-31T03:24:23.689Z"
   },
   {
    "duration": 0,
    "start_time": "2023-08-31T03:24:23.690Z"
   },
   {
    "duration": 0,
    "start_time": "2023-08-31T03:24:23.691Z"
   },
   {
    "duration": 0,
    "start_time": "2023-08-31T03:24:23.692Z"
   },
   {
    "duration": 0,
    "start_time": "2023-08-31T03:24:23.693Z"
   },
   {
    "duration": 0,
    "start_time": "2023-08-31T03:24:23.694Z"
   },
   {
    "duration": 0,
    "start_time": "2023-08-31T03:24:23.695Z"
   },
   {
    "duration": 0,
    "start_time": "2023-08-31T03:24:23.696Z"
   },
   {
    "duration": 0,
    "start_time": "2023-08-31T03:24:23.697Z"
   },
   {
    "duration": 0,
    "start_time": "2023-08-31T03:24:23.698Z"
   },
   {
    "duration": 0,
    "start_time": "2023-08-31T03:24:23.699Z"
   },
   {
    "duration": 0,
    "start_time": "2023-08-31T03:24:23.700Z"
   },
   {
    "duration": 0,
    "start_time": "2023-08-31T03:24:23.701Z"
   },
   {
    "duration": 0,
    "start_time": "2023-08-31T03:24:23.702Z"
   },
   {
    "duration": 0,
    "start_time": "2023-08-31T03:24:23.703Z"
   },
   {
    "duration": 0,
    "start_time": "2023-08-31T03:24:23.704Z"
   },
   {
    "duration": 18,
    "start_time": "2023-08-31T03:24:42.060Z"
   },
   {
    "duration": 9,
    "start_time": "2023-08-31T03:25:08.625Z"
   },
   {
    "duration": 10,
    "start_time": "2023-08-31T03:25:45.268Z"
   },
   {
    "duration": 16,
    "start_time": "2023-08-31T03:27:12.919Z"
   },
   {
    "duration": 4,
    "start_time": "2023-08-31T03:28:05.591Z"
   },
   {
    "duration": 11,
    "start_time": "2023-08-31T03:28:20.029Z"
   },
   {
    "duration": 22,
    "start_time": "2023-08-31T03:29:22.274Z"
   },
   {
    "duration": 2532,
    "start_time": "2023-08-31T03:32:57.606Z"
   },
   {
    "duration": 15,
    "start_time": "2023-08-31T04:03:41.261Z"
   },
   {
    "duration": 14,
    "start_time": "2023-08-31T04:04:02.923Z"
   },
   {
    "duration": 14,
    "start_time": "2023-08-31T04:05:04.790Z"
   },
   {
    "duration": 13,
    "start_time": "2023-08-31T04:05:35.048Z"
   },
   {
    "duration": 10,
    "start_time": "2023-08-31T04:28:11.994Z"
   },
   {
    "duration": 1110,
    "start_time": "2023-08-31T04:28:35.908Z"
   },
   {
    "duration": 106,
    "start_time": "2023-08-31T04:28:37.020Z"
   },
   {
    "duration": 3,
    "start_time": "2023-08-31T04:28:37.128Z"
   },
   {
    "duration": 24,
    "start_time": "2023-08-31T04:28:37.133Z"
   },
   {
    "duration": 14,
    "start_time": "2023-08-31T04:28:37.159Z"
   },
   {
    "duration": 47,
    "start_time": "2023-08-31T04:28:37.177Z"
   },
   {
    "duration": 19,
    "start_time": "2023-08-31T04:28:37.226Z"
   },
   {
    "duration": 28,
    "start_time": "2023-08-31T04:28:37.247Z"
   },
   {
    "duration": 10,
    "start_time": "2023-08-31T04:28:37.276Z"
   },
   {
    "duration": 9,
    "start_time": "2023-08-31T04:28:37.289Z"
   },
   {
    "duration": 116,
    "start_time": "2023-08-31T04:28:37.300Z"
   },
   {
    "duration": 0,
    "start_time": "2023-08-31T04:28:37.418Z"
   },
   {
    "duration": 0,
    "start_time": "2023-08-31T04:28:37.419Z"
   },
   {
    "duration": 0,
    "start_time": "2023-08-31T04:28:37.421Z"
   },
   {
    "duration": 0,
    "start_time": "2023-08-31T04:28:37.421Z"
   },
   {
    "duration": 0,
    "start_time": "2023-08-31T04:28:37.423Z"
   },
   {
    "duration": 0,
    "start_time": "2023-08-31T04:28:37.424Z"
   },
   {
    "duration": 0,
    "start_time": "2023-08-31T04:28:37.425Z"
   },
   {
    "duration": 0,
    "start_time": "2023-08-31T04:28:37.427Z"
   },
   {
    "duration": 0,
    "start_time": "2023-08-31T04:28:37.429Z"
   },
   {
    "duration": 0,
    "start_time": "2023-08-31T04:28:37.430Z"
   },
   {
    "duration": 0,
    "start_time": "2023-08-31T04:28:37.451Z"
   },
   {
    "duration": 0,
    "start_time": "2023-08-31T04:28:37.452Z"
   },
   {
    "duration": 0,
    "start_time": "2023-08-31T04:28:37.453Z"
   },
   {
    "duration": 1,
    "start_time": "2023-08-31T04:28:37.453Z"
   },
   {
    "duration": 0,
    "start_time": "2023-08-31T04:28:37.454Z"
   },
   {
    "duration": 0,
    "start_time": "2023-08-31T04:28:37.455Z"
   },
   {
    "duration": 0,
    "start_time": "2023-08-31T04:28:37.456Z"
   },
   {
    "duration": 16,
    "start_time": "2023-08-31T04:33:02.706Z"
   },
   {
    "duration": 16,
    "start_time": "2023-08-31T04:33:31.901Z"
   },
   {
    "duration": 11,
    "start_time": "2023-08-31T04:33:52.867Z"
   },
   {
    "duration": 13,
    "start_time": "2023-08-31T04:34:07.367Z"
   },
   {
    "duration": 4,
    "start_time": "2023-08-31T05:15:40.575Z"
   },
   {
    "duration": 1118,
    "start_time": "2023-08-31T05:16:03.760Z"
   },
   {
    "duration": 85,
    "start_time": "2023-08-31T05:16:04.880Z"
   },
   {
    "duration": 3,
    "start_time": "2023-08-31T05:16:04.966Z"
   },
   {
    "duration": 26,
    "start_time": "2023-08-31T05:16:04.971Z"
   },
   {
    "duration": 10,
    "start_time": "2023-08-31T05:16:04.999Z"
   },
   {
    "duration": 56,
    "start_time": "2023-08-31T05:16:05.011Z"
   },
   {
    "duration": 22,
    "start_time": "2023-08-31T05:16:05.069Z"
   },
   {
    "duration": 20,
    "start_time": "2023-08-31T05:16:05.093Z"
   },
   {
    "duration": 10,
    "start_time": "2023-08-31T05:16:05.115Z"
   },
   {
    "duration": 14,
    "start_time": "2023-08-31T05:16:05.127Z"
   },
   {
    "duration": 11,
    "start_time": "2023-08-31T05:16:05.148Z"
   },
   {
    "duration": 549,
    "start_time": "2023-08-31T05:16:05.161Z"
   },
   {
    "duration": 181,
    "start_time": "2023-08-31T05:16:05.713Z"
   },
   {
    "duration": 302,
    "start_time": "2023-08-31T05:16:05.896Z"
   },
   {
    "duration": 191,
    "start_time": "2023-08-31T05:16:06.200Z"
   },
   {
    "duration": 322,
    "start_time": "2023-08-31T05:16:06.393Z"
   },
   {
    "duration": 12,
    "start_time": "2023-08-31T05:16:06.716Z"
   },
   {
    "duration": 118,
    "start_time": "2023-08-31T05:16:06.731Z"
   },
   {
    "duration": 6,
    "start_time": "2023-08-31T05:16:06.851Z"
   },
   {
    "duration": 22,
    "start_time": "2023-08-31T05:16:06.859Z"
   },
   {
    "duration": 132,
    "start_time": "2023-08-31T05:16:06.883Z"
   },
   {
    "duration": 4,
    "start_time": "2023-08-31T05:16:07.017Z"
   },
   {
    "duration": 339,
    "start_time": "2023-08-31T05:16:07.023Z"
   },
   {
    "duration": 9,
    "start_time": "2023-08-31T05:16:07.364Z"
   },
   {
    "duration": 21,
    "start_time": "2023-08-31T05:16:07.375Z"
   },
   {
    "duration": 14,
    "start_time": "2023-08-31T05:16:07.398Z"
   },
   {
    "duration": 38,
    "start_time": "2023-08-31T05:16:07.414Z"
   },
   {
    "duration": 12,
    "start_time": "2023-08-31T05:16:07.454Z"
   },
   {
    "duration": 5,
    "start_time": "2023-08-31T05:28:47.253Z"
   },
   {
    "duration": 9,
    "start_time": "2023-08-31T05:29:12.162Z"
   },
   {
    "duration": 10,
    "start_time": "2023-08-31T05:29:40.152Z"
   },
   {
    "duration": 132,
    "start_time": "2023-08-31T07:40:26.820Z"
   },
   {
    "duration": 18,
    "start_time": "2023-08-31T07:41:29.831Z"
   },
   {
    "duration": 12,
    "start_time": "2023-08-31T07:41:51.737Z"
   },
   {
    "duration": 1094,
    "start_time": "2023-08-31T07:42:11.627Z"
   },
   {
    "duration": 99,
    "start_time": "2023-08-31T07:42:12.724Z"
   },
   {
    "duration": 4,
    "start_time": "2023-08-31T07:42:12.825Z"
   },
   {
    "duration": 25,
    "start_time": "2023-08-31T07:42:12.831Z"
   },
   {
    "duration": 16,
    "start_time": "2023-08-31T07:42:12.859Z"
   },
   {
    "duration": 47,
    "start_time": "2023-08-31T07:42:12.877Z"
   },
   {
    "duration": 22,
    "start_time": "2023-08-31T07:42:12.926Z"
   },
   {
    "duration": 22,
    "start_time": "2023-08-31T07:42:12.953Z"
   },
   {
    "duration": 10,
    "start_time": "2023-08-31T07:42:12.976Z"
   },
   {
    "duration": 8,
    "start_time": "2023-08-31T07:42:12.988Z"
   },
   {
    "duration": 17,
    "start_time": "2023-08-31T07:42:12.997Z"
   },
   {
    "duration": 129,
    "start_time": "2023-08-31T07:42:13.016Z"
   },
   {
    "duration": 0,
    "start_time": "2023-08-31T07:42:13.150Z"
   },
   {
    "duration": 0,
    "start_time": "2023-08-31T07:42:13.151Z"
   },
   {
    "duration": 0,
    "start_time": "2023-08-31T07:42:13.153Z"
   },
   {
    "duration": 0,
    "start_time": "2023-08-31T07:42:13.154Z"
   },
   {
    "duration": 0,
    "start_time": "2023-08-31T07:42:13.156Z"
   },
   {
    "duration": 0,
    "start_time": "2023-08-31T07:42:13.157Z"
   },
   {
    "duration": 0,
    "start_time": "2023-08-31T07:42:13.158Z"
   },
   {
    "duration": 0,
    "start_time": "2023-08-31T07:42:13.160Z"
   },
   {
    "duration": 0,
    "start_time": "2023-08-31T07:42:13.161Z"
   },
   {
    "duration": 0,
    "start_time": "2023-08-31T07:42:13.161Z"
   },
   {
    "duration": 0,
    "start_time": "2023-08-31T07:42:13.162Z"
   },
   {
    "duration": 0,
    "start_time": "2023-08-31T07:42:13.164Z"
   },
   {
    "duration": 0,
    "start_time": "2023-08-31T07:42:13.165Z"
   },
   {
    "duration": 0,
    "start_time": "2023-08-31T07:42:13.166Z"
   },
   {
    "duration": 0,
    "start_time": "2023-08-31T07:42:13.167Z"
   },
   {
    "duration": 0,
    "start_time": "2023-08-31T07:42:13.168Z"
   },
   {
    "duration": 0,
    "start_time": "2023-08-31T07:42:13.168Z"
   },
   {
    "duration": 85,
    "start_time": "2023-08-31T07:43:34.572Z"
   },
   {
    "duration": 12,
    "start_time": "2023-08-31T07:43:44.460Z"
   },
   {
    "duration": 4,
    "start_time": "2023-08-31T07:43:58.641Z"
   },
   {
    "duration": 3,
    "start_time": "2023-08-31T07:44:05.729Z"
   },
   {
    "duration": 8,
    "start_time": "2023-08-31T07:44:14.500Z"
   },
   {
    "duration": 12,
    "start_time": "2023-08-31T07:44:47.820Z"
   },
   {
    "duration": 16,
    "start_time": "2023-08-31T07:45:33.104Z"
   },
   {
    "duration": 17,
    "start_time": "2023-08-31T07:46:05.820Z"
   },
   {
    "duration": 6,
    "start_time": "2023-08-31T07:47:14.585Z"
   },
   {
    "duration": 7,
    "start_time": "2023-08-31T07:48:23.259Z"
   },
   {
    "duration": 7,
    "start_time": "2023-08-31T07:55:31.097Z"
   },
   {
    "duration": 10,
    "start_time": "2023-08-31T07:56:00.709Z"
   },
   {
    "duration": 15,
    "start_time": "2023-08-31T07:56:53.367Z"
   },
   {
    "duration": 11,
    "start_time": "2023-08-31T08:16:50.361Z"
   },
   {
    "duration": 20,
    "start_time": "2023-08-31T08:23:30.067Z"
   },
   {
    "duration": 8,
    "start_time": "2023-08-31T08:25:05.904Z"
   },
   {
    "duration": 1053,
    "start_time": "2023-10-23T08:16:50.225Z"
   },
   {
    "duration": 123,
    "start_time": "2023-10-23T08:16:51.280Z"
   },
   {
    "duration": 3,
    "start_time": "2023-10-23T08:16:51.404Z"
   },
   {
    "duration": 20,
    "start_time": "2023-10-23T08:16:51.409Z"
   },
   {
    "duration": 13,
    "start_time": "2023-10-23T08:16:51.431Z"
   },
   {
    "duration": 168,
    "start_time": "2023-10-23T08:16:51.445Z"
   },
   {
    "duration": 60,
    "start_time": "2023-10-23T08:16:51.615Z"
   },
   {
    "duration": 20,
    "start_time": "2023-10-23T08:16:51.677Z"
   },
   {
    "duration": 9,
    "start_time": "2023-10-23T08:16:51.699Z"
   },
   {
    "duration": 8,
    "start_time": "2023-10-23T08:16:51.711Z"
   },
   {
    "duration": 11,
    "start_time": "2023-10-23T08:16:51.721Z"
   },
   {
    "duration": 13,
    "start_time": "2023-10-23T08:16:51.734Z"
   },
   {
    "duration": 580,
    "start_time": "2023-10-23T08:16:51.749Z"
   },
   {
    "duration": 210,
    "start_time": "2023-10-23T08:16:52.332Z"
   },
   {
    "duration": 271,
    "start_time": "2023-10-23T08:16:52.543Z"
   },
   {
    "duration": 188,
    "start_time": "2023-10-23T08:16:52.815Z"
   },
   {
    "duration": 329,
    "start_time": "2023-10-23T08:16:53.004Z"
   },
   {
    "duration": 11,
    "start_time": "2023-10-23T08:16:53.335Z"
   },
   {
    "duration": 132,
    "start_time": "2023-10-23T08:16:53.347Z"
   },
   {
    "duration": 5,
    "start_time": "2023-10-23T08:16:53.481Z"
   },
   {
    "duration": 21,
    "start_time": "2023-10-23T08:16:53.487Z"
   },
   {
    "duration": 144,
    "start_time": "2023-10-23T08:16:53.510Z"
   },
   {
    "duration": 4,
    "start_time": "2023-10-23T08:16:53.655Z"
   },
   {
    "duration": 358,
    "start_time": "2023-10-23T08:16:53.661Z"
   },
   {
    "duration": 11,
    "start_time": "2023-10-23T08:16:54.021Z"
   },
   {
    "duration": 33,
    "start_time": "2023-10-23T08:16:54.034Z"
   },
   {
    "duration": 24,
    "start_time": "2023-10-23T08:16:54.069Z"
   },
   {
    "duration": 88,
    "start_time": "2023-10-23T08:16:54.096Z"
   },
   {
    "duration": 45,
    "start_time": "2023-10-23T08:16:54.186Z"
   },
   {
    "duration": 8,
    "start_time": "2023-10-23T08:17:15.539Z"
   }
  ],
  "kernelspec": {
   "display_name": "Python 3 (ipykernel)",
   "language": "python",
   "name": "python3"
  },
  "language_info": {
   "codemirror_mode": {
    "name": "ipython",
    "version": 3
   },
   "file_extension": ".py",
   "mimetype": "text/x-python",
   "name": "python",
   "nbconvert_exporter": "python",
   "pygments_lexer": "ipython3",
   "version": "3.12.3"
  },
  "toc": {
   "base_numbering": 1,
   "nav_menu": {},
   "number_sections": true,
   "sideBar": true,
   "skip_h1_title": true,
   "title_cell": "Table of Contents",
   "title_sidebar": "Contents",
   "toc_cell": false,
   "toc_position": {},
   "toc_section_display": true,
   "toc_window_display": false
  }
 },
 "nbformat": 4,
 "nbformat_minor": 2
}
