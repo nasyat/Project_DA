{
 "cells": [
  {
   "cell_type": "markdown",
   "metadata": {},
   "source": [
    "# Cервис для чтения книг по подписке"
   ]
  },
  {
   "cell_type": "markdown",
   "metadata": {},
   "source": [
    "Компания купила крупный сервис для чтения книг по подписке. Необходимо проанализировать базу данных, в которой содержится информация о книгах, издательствах, авторах, а также пользовательские обзоры книг. Эти данные помогут сформулировать ценностное предложение для нового продукта.\n",
    "\n",
    "<b>Задания:</b>\n",
    "* Посчитайте, сколько книг вышло после 1 января 2000 года;\n",
    "* Для каждой книги посчитайте количество обзоров и среднюю оценку;\n",
    "* Определите издательство, которое выпустило наибольшее число книг толще 50 страниц — так вы исключите из анализа брошюры;\n",
    "* Определите автора с самой высокой средней оценкой книг — учитывайте только книги с 50 и более оценками;\n",
    "* Посчитайте среднее количество обзоров от пользователей, которые поставили больше 48 оценок."
   ]
  },
  {
   "cell_type": "code",
   "execution_count": 1,
   "metadata": {},
   "outputs": [],
   "source": [
    "# импортируем библиотеки\n",
    "import pandas as pd\n",
    "from sqlalchemy import text, create_engine\n",
    "# устанавливаем параметры\n",
    "db_config = {'user': 'praktikum_student', # имя пользователя\n",
    "'pwd': 'Sdf4$2;d-d30pp', # пароль\n",
    "'host': 'rc1b-wcoijxj3yxfsf3fs.mdb.yandexcloud.net',\n",
    "'port': 6432, # порт подключения\n",
    "'db': 'data-analyst-final-project-db'} # название базы данных\n",
    "connection_string = 'postgresql://{user}:{pwd}@{host}:{port}/{db}'.format(**db_config)\n",
    "# сохраняем коннектор\n",
    "engine = create_engine(connection_string, connect_args={'sslmode':'require'})\n"
   ]
  },
  {
   "cell_type": "code",
   "execution_count": 2,
   "metadata": {},
   "outputs": [
    {
     "data": {
      "text/html": [
       "<div>\n",
       "<style scoped>\n",
       "    .dataframe tbody tr th:only-of-type {\n",
       "        vertical-align: middle;\n",
       "    }\n",
       "\n",
       "    .dataframe tbody tr th {\n",
       "        vertical-align: top;\n",
       "    }\n",
       "\n",
       "    .dataframe thead th {\n",
       "        text-align: right;\n",
       "    }\n",
       "</style>\n",
       "<table border=\"1\" class=\"dataframe\">\n",
       "  <thead>\n",
       "    <tr style=\"text-align: right;\">\n",
       "      <th></th>\n",
       "      <th>book_id</th>\n",
       "      <th>author_id</th>\n",
       "      <th>title</th>\n",
       "      <th>num_pages</th>\n",
       "      <th>publication_date</th>\n",
       "      <th>publisher_id</th>\n",
       "    </tr>\n",
       "  </thead>\n",
       "  <tbody>\n",
       "    <tr>\n",
       "      <th>0</th>\n",
       "      <td>1</td>\n",
       "      <td>546</td>\n",
       "      <td>'Salem's Lot</td>\n",
       "      <td>594</td>\n",
       "      <td>2005-11-01</td>\n",
       "      <td>93</td>\n",
       "    </tr>\n",
       "    <tr>\n",
       "      <th>1</th>\n",
       "      <td>2</td>\n",
       "      <td>465</td>\n",
       "      <td>1 000 Places to See Before You Die</td>\n",
       "      <td>992</td>\n",
       "      <td>2003-05-22</td>\n",
       "      <td>336</td>\n",
       "    </tr>\n",
       "    <tr>\n",
       "      <th>2</th>\n",
       "      <td>3</td>\n",
       "      <td>407</td>\n",
       "      <td>13 Little Blue Envelopes (Little Blue Envelope...</td>\n",
       "      <td>322</td>\n",
       "      <td>2010-12-21</td>\n",
       "      <td>135</td>\n",
       "    </tr>\n",
       "    <tr>\n",
       "      <th>3</th>\n",
       "      <td>4</td>\n",
       "      <td>82</td>\n",
       "      <td>1491: New Revelations of the Americas Before C...</td>\n",
       "      <td>541</td>\n",
       "      <td>2006-10-10</td>\n",
       "      <td>309</td>\n",
       "    </tr>\n",
       "    <tr>\n",
       "      <th>4</th>\n",
       "      <td>5</td>\n",
       "      <td>125</td>\n",
       "      <td>1776</td>\n",
       "      <td>386</td>\n",
       "      <td>2006-07-04</td>\n",
       "      <td>268</td>\n",
       "    </tr>\n",
       "  </tbody>\n",
       "</table>\n",
       "</div>"
      ],
      "text/plain": [
       "   book_id  author_id                                              title  \\\n",
       "0        1        546                                       'Salem's Lot   \n",
       "1        2        465                 1 000 Places to See Before You Die   \n",
       "2        3        407  13 Little Blue Envelopes (Little Blue Envelope...   \n",
       "3        4         82  1491: New Revelations of the Americas Before C...   \n",
       "4        5        125                                               1776   \n",
       "\n",
       "   num_pages publication_date  publisher_id  \n",
       "0        594       2005-11-01            93  \n",
       "1        992       2003-05-22           336  \n",
       "2        322       2010-12-21           135  \n",
       "3        541       2006-10-10           309  \n",
       "4        386       2006-07-04           268  "
      ]
     },
     "execution_count": 2,
     "metadata": {},
     "output_type": "execute_result"
    }
   ],
   "source": [
    "\n",
    "query = '''SELECT * FROM books LIMIT 5'''\n",
    "con=engine.connect()\n",
    "pd.io.sql.read_sql(sql=text(query), con = con)"
   ]
  },
  {
   "cell_type": "code",
   "execution_count": 3,
   "metadata": {},
   "outputs": [
    {
     "data": {
      "text/html": [
       "<div>\n",
       "<style scoped>\n",
       "    .dataframe tbody tr th:only-of-type {\n",
       "        vertical-align: middle;\n",
       "    }\n",
       "\n",
       "    .dataframe tbody tr th {\n",
       "        vertical-align: top;\n",
       "    }\n",
       "\n",
       "    .dataframe thead th {\n",
       "        text-align: right;\n",
       "    }\n",
       "</style>\n",
       "<table border=\"1\" class=\"dataframe\">\n",
       "  <thead>\n",
       "    <tr style=\"text-align: right;\">\n",
       "      <th></th>\n",
       "      <th>author_id</th>\n",
       "      <th>author</th>\n",
       "    </tr>\n",
       "  </thead>\n",
       "  <tbody>\n",
       "    <tr>\n",
       "      <th>0</th>\n",
       "      <td>1</td>\n",
       "      <td>A.S. Byatt</td>\n",
       "    </tr>\n",
       "    <tr>\n",
       "      <th>1</th>\n",
       "      <td>2</td>\n",
       "      <td>Aesop/Laura Harris/Laura Gibbs</td>\n",
       "    </tr>\n",
       "    <tr>\n",
       "      <th>2</th>\n",
       "      <td>3</td>\n",
       "      <td>Agatha Christie</td>\n",
       "    </tr>\n",
       "    <tr>\n",
       "      <th>3</th>\n",
       "      <td>4</td>\n",
       "      <td>Alan Brennert</td>\n",
       "    </tr>\n",
       "    <tr>\n",
       "      <th>4</th>\n",
       "      <td>5</td>\n",
       "      <td>Alan Moore/David   Lloyd</td>\n",
       "    </tr>\n",
       "  </tbody>\n",
       "</table>\n",
       "</div>"
      ],
      "text/plain": [
       "   author_id                          author\n",
       "0          1                      A.S. Byatt\n",
       "1          2  Aesop/Laura Harris/Laura Gibbs\n",
       "2          3                 Agatha Christie\n",
       "3          4                   Alan Brennert\n",
       "4          5        Alan Moore/David   Lloyd"
      ]
     },
     "execution_count": 3,
     "metadata": {},
     "output_type": "execute_result"
    }
   ],
   "source": [
    "# чтобы выполнить SQL-запрос, используем Pandas\n",
    "query = '''SELECT * FROM authors LIMIT 5'''\n",
    "con=engine.connect()\n",
    "pd.io.sql.read_sql(sql=text(query), con = con)"
   ]
  },
  {
   "cell_type": "code",
   "execution_count": 4,
   "metadata": {},
   "outputs": [
    {
     "data": {
      "text/html": [
       "<div>\n",
       "<style scoped>\n",
       "    .dataframe tbody tr th:only-of-type {\n",
       "        vertical-align: middle;\n",
       "    }\n",
       "\n",
       "    .dataframe tbody tr th {\n",
       "        vertical-align: top;\n",
       "    }\n",
       "\n",
       "    .dataframe thead th {\n",
       "        text-align: right;\n",
       "    }\n",
       "</style>\n",
       "<table border=\"1\" class=\"dataframe\">\n",
       "  <thead>\n",
       "    <tr style=\"text-align: right;\">\n",
       "      <th></th>\n",
       "      <th>publisher_id</th>\n",
       "      <th>publisher</th>\n",
       "    </tr>\n",
       "  </thead>\n",
       "  <tbody>\n",
       "    <tr>\n",
       "      <th>0</th>\n",
       "      <td>1</td>\n",
       "      <td>Ace</td>\n",
       "    </tr>\n",
       "    <tr>\n",
       "      <th>1</th>\n",
       "      <td>2</td>\n",
       "      <td>Ace Book</td>\n",
       "    </tr>\n",
       "    <tr>\n",
       "      <th>2</th>\n",
       "      <td>3</td>\n",
       "      <td>Ace Books</td>\n",
       "    </tr>\n",
       "    <tr>\n",
       "      <th>3</th>\n",
       "      <td>4</td>\n",
       "      <td>Ace Hardcover</td>\n",
       "    </tr>\n",
       "    <tr>\n",
       "      <th>4</th>\n",
       "      <td>5</td>\n",
       "      <td>Addison Wesley Publishing Company</td>\n",
       "    </tr>\n",
       "  </tbody>\n",
       "</table>\n",
       "</div>"
      ],
      "text/plain": [
       "   publisher_id                          publisher\n",
       "0             1                                Ace\n",
       "1             2                           Ace Book\n",
       "2             3                          Ace Books\n",
       "3             4                      Ace Hardcover\n",
       "4             5  Addison Wesley Publishing Company"
      ]
     },
     "execution_count": 4,
     "metadata": {},
     "output_type": "execute_result"
    }
   ],
   "source": [
    "query = '''SELECT * FROM publishers LIMIT 5'''\n",
    "con=engine.connect()\n",
    "pd.io.sql.read_sql(sql=text(query), con = con)"
   ]
  },
  {
   "cell_type": "code",
   "execution_count": 5,
   "metadata": {},
   "outputs": [
    {
     "data": {
      "text/html": [
       "<div>\n",
       "<style scoped>\n",
       "    .dataframe tbody tr th:only-of-type {\n",
       "        vertical-align: middle;\n",
       "    }\n",
       "\n",
       "    .dataframe tbody tr th {\n",
       "        vertical-align: top;\n",
       "    }\n",
       "\n",
       "    .dataframe thead th {\n",
       "        text-align: right;\n",
       "    }\n",
       "</style>\n",
       "<table border=\"1\" class=\"dataframe\">\n",
       "  <thead>\n",
       "    <tr style=\"text-align: right;\">\n",
       "      <th></th>\n",
       "      <th>rating_id</th>\n",
       "      <th>book_id</th>\n",
       "      <th>username</th>\n",
       "      <th>rating</th>\n",
       "    </tr>\n",
       "  </thead>\n",
       "  <tbody>\n",
       "    <tr>\n",
       "      <th>0</th>\n",
       "      <td>1</td>\n",
       "      <td>1</td>\n",
       "      <td>ryanfranco</td>\n",
       "      <td>4</td>\n",
       "    </tr>\n",
       "    <tr>\n",
       "      <th>1</th>\n",
       "      <td>2</td>\n",
       "      <td>1</td>\n",
       "      <td>grantpatricia</td>\n",
       "      <td>2</td>\n",
       "    </tr>\n",
       "    <tr>\n",
       "      <th>2</th>\n",
       "      <td>3</td>\n",
       "      <td>1</td>\n",
       "      <td>brandtandrea</td>\n",
       "      <td>5</td>\n",
       "    </tr>\n",
       "    <tr>\n",
       "      <th>3</th>\n",
       "      <td>4</td>\n",
       "      <td>2</td>\n",
       "      <td>lorichen</td>\n",
       "      <td>3</td>\n",
       "    </tr>\n",
       "    <tr>\n",
       "      <th>4</th>\n",
       "      <td>5</td>\n",
       "      <td>2</td>\n",
       "      <td>mariokeller</td>\n",
       "      <td>2</td>\n",
       "    </tr>\n",
       "  </tbody>\n",
       "</table>\n",
       "</div>"
      ],
      "text/plain": [
       "   rating_id  book_id       username  rating\n",
       "0          1        1     ryanfranco       4\n",
       "1          2        1  grantpatricia       2\n",
       "2          3        1   brandtandrea       5\n",
       "3          4        2       lorichen       3\n",
       "4          5        2    mariokeller       2"
      ]
     },
     "execution_count": 5,
     "metadata": {},
     "output_type": "execute_result"
    }
   ],
   "source": [
    "query = '''SELECT * FROM ratings LIMIT 5'''\n",
    "con=engine.connect()\n",
    "pd.io.sql.read_sql(sql=text(query), con = con)"
   ]
  },
  {
   "cell_type": "code",
   "execution_count": 6,
   "metadata": {},
   "outputs": [
    {
     "data": {
      "text/html": [
       "<div>\n",
       "<style scoped>\n",
       "    .dataframe tbody tr th:only-of-type {\n",
       "        vertical-align: middle;\n",
       "    }\n",
       "\n",
       "    .dataframe tbody tr th {\n",
       "        vertical-align: top;\n",
       "    }\n",
       "\n",
       "    .dataframe thead th {\n",
       "        text-align: right;\n",
       "    }\n",
       "</style>\n",
       "<table border=\"1\" class=\"dataframe\">\n",
       "  <thead>\n",
       "    <tr style=\"text-align: right;\">\n",
       "      <th></th>\n",
       "      <th>review_id</th>\n",
       "      <th>book_id</th>\n",
       "      <th>username</th>\n",
       "      <th>text</th>\n",
       "    </tr>\n",
       "  </thead>\n",
       "  <tbody>\n",
       "    <tr>\n",
       "      <th>0</th>\n",
       "      <td>1</td>\n",
       "      <td>1</td>\n",
       "      <td>brandtandrea</td>\n",
       "      <td>Mention society tell send professor analysis. ...</td>\n",
       "    </tr>\n",
       "    <tr>\n",
       "      <th>1</th>\n",
       "      <td>2</td>\n",
       "      <td>1</td>\n",
       "      <td>ryanfranco</td>\n",
       "      <td>Foot glass pretty audience hit themselves. Amo...</td>\n",
       "    </tr>\n",
       "    <tr>\n",
       "      <th>2</th>\n",
       "      <td>3</td>\n",
       "      <td>2</td>\n",
       "      <td>lorichen</td>\n",
       "      <td>Listen treat keep worry. Miss husband tax but ...</td>\n",
       "    </tr>\n",
       "    <tr>\n",
       "      <th>3</th>\n",
       "      <td>4</td>\n",
       "      <td>3</td>\n",
       "      <td>johnsonamanda</td>\n",
       "      <td>Finally month interesting blue could nature cu...</td>\n",
       "    </tr>\n",
       "    <tr>\n",
       "      <th>4</th>\n",
       "      <td>5</td>\n",
       "      <td>3</td>\n",
       "      <td>scotttamara</td>\n",
       "      <td>Nation purpose heavy give wait song will. List...</td>\n",
       "    </tr>\n",
       "  </tbody>\n",
       "</table>\n",
       "</div>"
      ],
      "text/plain": [
       "   review_id  book_id       username  \\\n",
       "0          1        1   brandtandrea   \n",
       "1          2        1     ryanfranco   \n",
       "2          3        2       lorichen   \n",
       "3          4        3  johnsonamanda   \n",
       "4          5        3    scotttamara   \n",
       "\n",
       "                                                text  \n",
       "0  Mention society tell send professor analysis. ...  \n",
       "1  Foot glass pretty audience hit themselves. Amo...  \n",
       "2  Listen treat keep worry. Miss husband tax but ...  \n",
       "3  Finally month interesting blue could nature cu...  \n",
       "4  Nation purpose heavy give wait song will. List...  "
      ]
     },
     "execution_count": 6,
     "metadata": {},
     "output_type": "execute_result"
    }
   ],
   "source": [
    "query = '''SELECT * FROM reviews LIMIT 5'''\n",
    "con=engine.connect()\n",
    "pd.io.sql.read_sql(sql=text(query), con = con)"
   ]
  },
  {
   "cell_type": "markdown",
   "metadata": {},
   "source": [
    "### Cколько книг вышло после 1 января 2000 года"
   ]
  },
  {
   "cell_type": "code",
   "execution_count": 7,
   "metadata": {},
   "outputs": [
    {
     "data": {
      "text/html": [
       "<div>\n",
       "<style scoped>\n",
       "    .dataframe tbody tr th:only-of-type {\n",
       "        vertical-align: middle;\n",
       "    }\n",
       "\n",
       "    .dataframe tbody tr th {\n",
       "        vertical-align: top;\n",
       "    }\n",
       "\n",
       "    .dataframe thead th {\n",
       "        text-align: right;\n",
       "    }\n",
       "</style>\n",
       "<table border=\"1\" class=\"dataframe\">\n",
       "  <thead>\n",
       "    <tr style=\"text-align: right;\">\n",
       "      <th></th>\n",
       "      <th>book_cnt</th>\n",
       "    </tr>\n",
       "  </thead>\n",
       "  <tbody>\n",
       "    <tr>\n",
       "      <th>0</th>\n",
       "      <td>821</td>\n",
       "    </tr>\n",
       "  </tbody>\n",
       "</table>\n",
       "</div>"
      ],
      "text/plain": [
       "   book_cnt\n",
       "0       821"
      ]
     },
     "execution_count": 7,
     "metadata": {},
     "output_type": "execute_result"
    }
   ],
   "source": [
    "query = '''SELECT \n",
    "           COUNT (book_id) AS book_cnt\n",
    "           FROM books \n",
    "           WHERE publication_date >= '2000-01-01';'''\n",
    "con=engine.connect()\n",
    "pd.io.sql.read_sql(sql=text(query), con = con)\n"
   ]
  },
  {
   "cell_type": "markdown",
   "metadata": {},
   "source": [
    "По разным оценкам, в год издается около одного миллиона книг, примерно 0,6-0,9% из них новые, таким образом база данных сервиса содержит достаточно малое количество кних изданных за последние 20 лет"
   ]
  },
  {
   "cell_type": "markdown",
   "metadata": {},
   "source": [
    "### Расчет для каждой книги количества обзоров и средней оценки"
   ]
  },
  {
   "cell_type": "code",
   "execution_count": 8,
   "metadata": {},
   "outputs": [
    {
     "data": {
      "text/html": [
       "<div>\n",
       "<style scoped>\n",
       "    .dataframe tbody tr th:only-of-type {\n",
       "        vertical-align: middle;\n",
       "    }\n",
       "\n",
       "    .dataframe tbody tr th {\n",
       "        vertical-align: top;\n",
       "    }\n",
       "\n",
       "    .dataframe thead th {\n",
       "        text-align: right;\n",
       "    }\n",
       "</style>\n",
       "<table border=\"1\" class=\"dataframe\">\n",
       "  <thead>\n",
       "    <tr style=\"text-align: right;\">\n",
       "      <th></th>\n",
       "      <th>title</th>\n",
       "      <th>review_cnt</th>\n",
       "      <th>mean_rating</th>\n",
       "    </tr>\n",
       "  </thead>\n",
       "  <tbody>\n",
       "    <tr>\n",
       "      <th>0</th>\n",
       "      <td>Memoirs of a Geisha</td>\n",
       "      <td>8</td>\n",
       "      <td>4.138462</td>\n",
       "    </tr>\n",
       "    <tr>\n",
       "      <th>1</th>\n",
       "      <td>Twilight (Twilight  #1)</td>\n",
       "      <td>7</td>\n",
       "      <td>3.662500</td>\n",
       "    </tr>\n",
       "    <tr>\n",
       "      <th>2</th>\n",
       "      <td>The Curious Incident of the Dog in the Night-Time</td>\n",
       "      <td>6</td>\n",
       "      <td>4.081081</td>\n",
       "    </tr>\n",
       "    <tr>\n",
       "      <th>3</th>\n",
       "      <td>Outlander (Outlander  #1)</td>\n",
       "      <td>6</td>\n",
       "      <td>4.125000</td>\n",
       "    </tr>\n",
       "    <tr>\n",
       "      <th>4</th>\n",
       "      <td>The Book Thief</td>\n",
       "      <td>6</td>\n",
       "      <td>4.264151</td>\n",
       "    </tr>\n",
       "    <tr>\n",
       "      <th>5</th>\n",
       "      <td>The Catcher in the Rye</td>\n",
       "      <td>6</td>\n",
       "      <td>3.825581</td>\n",
       "    </tr>\n",
       "    <tr>\n",
       "      <th>6</th>\n",
       "      <td>Harry Potter and the Chamber of Secrets (Harry...</td>\n",
       "      <td>6</td>\n",
       "      <td>4.287500</td>\n",
       "    </tr>\n",
       "    <tr>\n",
       "      <th>7</th>\n",
       "      <td>Eat  Pray  Love</td>\n",
       "      <td>6</td>\n",
       "      <td>3.395833</td>\n",
       "    </tr>\n",
       "    <tr>\n",
       "      <th>8</th>\n",
       "      <td>Harry Potter and the Prisoner of Azkaban (Harr...</td>\n",
       "      <td>6</td>\n",
       "      <td>4.414634</td>\n",
       "    </tr>\n",
       "    <tr>\n",
       "      <th>9</th>\n",
       "      <td>The Alchemist</td>\n",
       "      <td>6</td>\n",
       "      <td>3.789474</td>\n",
       "    </tr>\n",
       "  </tbody>\n",
       "</table>\n",
       "</div>"
      ],
      "text/plain": [
       "                                               title  review_cnt  mean_rating\n",
       "0                                Memoirs of a Geisha           8     4.138462\n",
       "1                            Twilight (Twilight  #1)           7     3.662500\n",
       "2  The Curious Incident of the Dog in the Night-Time           6     4.081081\n",
       "3                          Outlander (Outlander  #1)           6     4.125000\n",
       "4                                     The Book Thief           6     4.264151\n",
       "5                             The Catcher in the Rye           6     3.825581\n",
       "6  Harry Potter and the Chamber of Secrets (Harry...           6     4.287500\n",
       "7                                    Eat  Pray  Love           6     3.395833\n",
       "8  Harry Potter and the Prisoner of Azkaban (Harr...           6     4.414634\n",
       "9                                      The Alchemist           6     3.789474"
      ]
     },
     "execution_count": 8,
     "metadata": {},
     "output_type": "execute_result"
    }
   ],
   "source": [
    "query = '''SELECT \n",
    "b.title,\n",
    "COUNT (DISTINCT rv.review_id) AS review_cnt,\n",
    "AVG(rt.rating) AS mean_rating\n",
    "\n",
    "FROM books AS b\n",
    "LEFT JOIN reviews AS rv ON b.book_id=rv.book_id\n",
    "LEFT JOIN ratings AS rt ON b.book_id=rt.book_id\n",
    "GROUP BY b.title\n",
    "ORDER BY review_cnt DESC\n",
    "LIMIT 10;'''\n",
    "\n",
    "con=engine.connect()\n",
    "pd.io.sql.read_sql(sql=text(query), con = con)"
   ]
  },
  {
   "cell_type": "markdown",
   "metadata": {},
   "source": [
    "Обзоров у книг очень мало для объективной оценки"
   ]
  },
  {
   "cell_type": "markdown",
   "metadata": {},
   "source": [
    "###  Издательство, которое выпустило наибольшее число книг толще 50 страниц"
   ]
  },
  {
   "cell_type": "code",
   "execution_count": 9,
   "metadata": {},
   "outputs": [
    {
     "data": {
      "text/html": [
       "<div>\n",
       "<style scoped>\n",
       "    .dataframe tbody tr th:only-of-type {\n",
       "        vertical-align: middle;\n",
       "    }\n",
       "\n",
       "    .dataframe tbody tr th {\n",
       "        vertical-align: top;\n",
       "    }\n",
       "\n",
       "    .dataframe thead th {\n",
       "        text-align: right;\n",
       "    }\n",
       "</style>\n",
       "<table border=\"1\" class=\"dataframe\">\n",
       "  <thead>\n",
       "    <tr style=\"text-align: right;\">\n",
       "      <th></th>\n",
       "      <th>publisher</th>\n",
       "      <th>book_cnt</th>\n",
       "    </tr>\n",
       "  </thead>\n",
       "  <tbody>\n",
       "    <tr>\n",
       "      <th>0</th>\n",
       "      <td>Penguin Books</td>\n",
       "      <td>42</td>\n",
       "    </tr>\n",
       "  </tbody>\n",
       "</table>\n",
       "</div>"
      ],
      "text/plain": [
       "       publisher  book_cnt\n",
       "0  Penguin Books        42"
      ]
     },
     "execution_count": 9,
     "metadata": {},
     "output_type": "execute_result"
    }
   ],
   "source": [
    "query =  '''SELECT \n",
    "            p.publisher,\n",
    "            COUNT (DISTINCT b.book_id) AS book_cnt\n",
    "\n",
    "            FROM books AS b\n",
    "            LEFT JOIN publishers AS p ON b.publisher_id=p.publisher_id\n",
    "            WHERE num_pages > 50\n",
    "            GROUP BY p.publisher\n",
    "            ORDER BY book_cnt DESC\n",
    "            LIMIT 1;'''\n",
    "\n",
    "con=engine.connect()\n",
    "pd.io.sql.read_sql(sql=text(query), con = con)"
   ]
  },
  {
   "cell_type": "markdown",
   "metadata": {},
   "source": [
    "Опять же данные свидетельствуют о том, что сервис обладает небольшим банком книг"
   ]
  },
  {
   "cell_type": "markdown",
   "metadata": {},
   "source": [
    "### Автор с самой высокой средней оценкой книг, учитывая только книги с 50 и более оценками;"
   ]
  },
  {
   "cell_type": "code",
   "execution_count": 10,
   "metadata": {},
   "outputs": [
    {
     "data": {
      "text/html": [
       "<div>\n",
       "<style scoped>\n",
       "    .dataframe tbody tr th:only-of-type {\n",
       "        vertical-align: middle;\n",
       "    }\n",
       "\n",
       "    .dataframe tbody tr th {\n",
       "        vertical-align: top;\n",
       "    }\n",
       "\n",
       "    .dataframe thead th {\n",
       "        text-align: right;\n",
       "    }\n",
       "</style>\n",
       "<table border=\"1\" class=\"dataframe\">\n",
       "  <thead>\n",
       "    <tr style=\"text-align: right;\">\n",
       "      <th></th>\n",
       "      <th>author</th>\n",
       "      <th>avg</th>\n",
       "    </tr>\n",
       "  </thead>\n",
       "  <tbody>\n",
       "    <tr>\n",
       "      <th>0</th>\n",
       "      <td>J.K. Rowling/Mary GrandPré</td>\n",
       "      <td>4.283844</td>\n",
       "    </tr>\n",
       "  </tbody>\n",
       "</table>\n",
       "</div>"
      ],
      "text/plain": [
       "                       author       avg\n",
       "0  J.K. Rowling/Mary GrandPré  4.283844"
      ]
     },
     "execution_count": 10,
     "metadata": {},
     "output_type": "execute_result"
    }
   ],
   "source": [
    "query = '''WITH ar AS (SELECT b.book_id,\n",
    "                       b.title,\n",
    "                       a.author,\n",
    "                       COUNT(rt.rating_id) AS rating_cnt,\n",
    "                       AVG(rt.rating) AS avg_rating\n",
    "                       FROM books AS b\n",
    "                       LEFT JOIN ratings AS rt ON b.book_id=rt.book_id\n",
    "                       LEFT JOIN authors AS a ON b.author_id = a.author_id\n",
    "                       GROUP BY a.author, b.book_id\n",
    "                       HAVING COUNT(rt.rating_id) >=50)\n",
    "            SELECT author,\n",
    "            AVG(avg_rating)\n",
    "            FROM ar\n",
    "            GROUP BY author\n",
    "            ORDER BY AVG(avg_rating) DESC\n",
    "            LIMIT 1;'''\n",
    "\n",
    "con=engine.connect()\n",
    "pd.io.sql.read_sql(sql=text(query), con = con)"
   ]
  },
  {
   "cell_type": "markdown",
   "metadata": {},
   "source": [
    "Здесь согласимся, по многим оценкам авторитетных источников, книги Джоан Роулинг входят в списки лучших книг, наличие книг этого автора значительно повышает ценность сервиса"
   ]
  },
  {
   "cell_type": "markdown",
   "metadata": {},
   "source": [
    "### Cреднее количество обзоров от пользователей, которые поставили больше 48 оценок"
   ]
  },
  {
   "cell_type": "code",
   "execution_count": 11,
   "metadata": {},
   "outputs": [
    {
     "data": {
      "text/html": [
       "<div>\n",
       "<style scoped>\n",
       "    .dataframe tbody tr th:only-of-type {\n",
       "        vertical-align: middle;\n",
       "    }\n",
       "\n",
       "    .dataframe tbody tr th {\n",
       "        vertical-align: top;\n",
       "    }\n",
       "\n",
       "    .dataframe thead th {\n",
       "        text-align: right;\n",
       "    }\n",
       "</style>\n",
       "<table border=\"1\" class=\"dataframe\">\n",
       "  <thead>\n",
       "    <tr style=\"text-align: right;\">\n",
       "      <th></th>\n",
       "      <th>avg_cnt_review</th>\n",
       "    </tr>\n",
       "  </thead>\n",
       "  <tbody>\n",
       "    <tr>\n",
       "      <th>0</th>\n",
       "      <td>24.0</td>\n",
       "    </tr>\n",
       "  </tbody>\n",
       "</table>\n",
       "</div>"
      ],
      "text/plain": [
       "   avg_cnt_review\n",
       "0            24.0"
      ]
     },
     "execution_count": 11,
     "metadata": {},
     "output_type": "execute_result"
    }
   ],
   "source": [
    "query = '''WITH us AS (SELECT username,\n",
    "                      COUNT(rating_id) AS rating_cnt\n",
    "                      FROM ratings\n",
    "                      GROUP BY username\n",
    "                      HAVING COUNT(rating_id) >48),\n",
    "               rv AS (SELECT us.username,\n",
    "                      COUNT(r.review_id) AS review_cnt\n",
    "                      FROM us\n",
    "                      LEFT JOIN reviews AS r ON us.username = r.username\n",
    "                      GROUP BY us.username)\n",
    "            SELECT AVG(review_cnt) AS avg_cnt_review\n",
    "            FROM rv;'''\n",
    "\n",
    "con=engine.connect()\n",
    "pd.io.sql.read_sql(sql=text(query), con = con)"
   ]
  },
  {
   "cell_type": "markdown",
   "metadata": {},
   "source": [
    "Опять же сервис обладает достаточно малой базой оценок и обзоров пользователей, это плохо сказывается на ценностой оценке сервиса"
   ]
  },
  {
   "cell_type": "markdown",
   "metadata": {},
   "source": [
    "Мы ознакомились со всеми датафреймами в базе данных сервиса, выявили сколько книг, выпущеных после 1 января 2000 года, содержит база сервиса - 821 книгу, по разным оценкам, в год издается около одного миллиона книг, примерно 0,6-0,9% из них новые, таким образом база данных сервиса содержит достаточно малое количество кних изданных за последние 20 лет.\n",
    "\n",
    "Мы рассчитали для каждой книги количество обзоров и среднюю оценку, оказалось, что самое большое количество обзоров у одной книги в базе данных сервиса всего 8, таким образом, обзоров у книг очень мало для объективной оценки.\n",
    "\n",
    "В ходе исследования мы также рассмотрели у какого издательства содержится наибольшее количество книг в базе сервиса (за исключением брошюр), самое большое количество книг у издательства Penguin Books - 42 книги, опять же отмечаем, что объем изданий в базе сервиса, крайне ограниченный, соответственно мы вряд ли можем расчитывать на широкую аудиторию пользователей. \n",
    "\n",
    "Мы так же выяснили, у кого из авторов самая высокая средняя оценка книг (учитывая только книги с 50 и более оценками) в сервисе самые высокая средняя оценка у Джоан Роулинг, по многим оценкам авторитетных источников, книги Джоан Роулинг входят в списки лучших книг, наличие книг этого автора значительно повышает ценность сервиса.\n",
    "Так же рассчитали среднее количество обзоров от пользователей, которые поставили больше 48 оценок - 24 обзора, сервис обладает достаточно малой базой оценок и обзоров пользователей, это плохо сказывается на ценностой оценке сервиса.\n",
    "По итогам выполнения задач, невозможно сформулировать ценностное предложение для нового продукта, ряд факторов, таких как ограниченность базы данных книг, небольшое количество обзоров, негативно влияют на пользовательский интерес к данному продукту."
   ]
  }
 ],
 "metadata": {
  "ExecuteTimeLog": [
   {
    "duration": 9920,
    "start_time": "2023-10-26T17:18:03.971Z"
   },
   {
    "duration": 261,
    "start_time": "2023-10-26T17:18:13.893Z"
   },
   {
    "duration": 235,
    "start_time": "2023-10-26T17:20:40.778Z"
   },
   {
    "duration": 42,
    "start_time": "2023-10-26T17:20:55.117Z"
   },
   {
    "duration": 125,
    "start_time": "2023-10-26T17:21:26.905Z"
   },
   {
    "duration": 52,
    "start_time": "2023-10-26T17:21:56.563Z"
   },
   {
    "duration": 52,
    "start_time": "2023-10-26T17:22:28.950Z"
   },
   {
    "duration": 97,
    "start_time": "2023-10-26T17:31:10.414Z"
   },
   {
    "duration": 78,
    "start_time": "2023-10-26T17:31:28.492Z"
   },
   {
    "duration": 51,
    "start_time": "2023-10-26T17:32:09.019Z"
   },
   {
    "duration": 71,
    "start_time": "2023-10-26T17:47:03.328Z"
   },
   {
    "duration": 5,
    "start_time": "2023-10-26T17:47:08.526Z"
   },
   {
    "duration": 223,
    "start_time": "2023-10-26T17:47:09.068Z"
   },
   {
    "duration": 125,
    "start_time": "2023-10-26T17:47:09.454Z"
   },
   {
    "duration": 53,
    "start_time": "2023-10-26T17:47:09.904Z"
   },
   {
    "duration": 56,
    "start_time": "2023-10-26T17:47:10.312Z"
   },
   {
    "duration": 58,
    "start_time": "2023-10-26T17:47:10.678Z"
   },
   {
    "duration": 55,
    "start_time": "2023-10-26T17:47:11.281Z"
   },
   {
    "duration": 81,
    "start_time": "2023-10-26T17:47:11.891Z"
   },
   {
    "duration": 60,
    "start_time": "2023-10-26T17:55:22.526Z"
   },
   {
    "duration": 49,
    "start_time": "2023-10-27T07:56:38.705Z"
   },
   {
    "duration": 49,
    "start_time": "2023-10-27T07:56:38.756Z"
   },
   {
    "duration": 12,
    "start_time": "2023-10-27T07:56:38.806Z"
   },
   {
    "duration": 12,
    "start_time": "2023-10-27T07:56:38.821Z"
   },
   {
    "duration": 19,
    "start_time": "2023-10-27T07:56:38.835Z"
   },
   {
    "duration": 11,
    "start_time": "2023-10-27T07:56:38.856Z"
   },
   {
    "duration": 124,
    "start_time": "2023-10-27T07:56:38.869Z"
   },
   {
    "duration": 0,
    "start_time": "2023-10-27T07:56:38.994Z"
   },
   {
    "duration": 0,
    "start_time": "2023-10-27T07:56:38.996Z"
   },
   {
    "duration": 0,
    "start_time": "2023-10-27T07:56:38.997Z"
   },
   {
    "duration": 21,
    "start_time": "2023-10-27T07:57:27.483Z"
   },
   {
    "duration": 60,
    "start_time": "2023-10-27T07:58:20.302Z"
   },
   {
    "duration": 57,
    "start_time": "2023-10-27T07:58:55.011Z"
   },
   {
    "duration": 35,
    "start_time": "2023-10-27T08:00:04.774Z"
   },
   {
    "duration": 22,
    "start_time": "2023-10-27T08:00:31.316Z"
   },
   {
    "duration": 14,
    "start_time": "2023-10-27T08:01:31.175Z"
   },
   {
    "duration": 15,
    "start_time": "2023-10-27T08:05:57.824Z"
   },
   {
    "duration": 18,
    "start_time": "2023-10-27T08:07:46.981Z"
   },
   {
    "duration": 20,
    "start_time": "2023-10-27T08:17:22.044Z"
   },
   {
    "duration": 19,
    "start_time": "2023-10-27T08:17:37.742Z"
   },
   {
    "duration": 51,
    "start_time": "2023-10-27T08:18:45.900Z"
   },
   {
    "duration": 78,
    "start_time": "2023-10-27T08:19:19.789Z"
   },
   {
    "duration": 17,
    "start_time": "2023-10-27T08:29:34.111Z"
   },
   {
    "duration": 18,
    "start_time": "2023-10-27T08:30:38.978Z"
   },
   {
    "duration": 24,
    "start_time": "2023-10-27T08:37:44.018Z"
   },
   {
    "duration": 22,
    "start_time": "2023-10-27T08:38:08.570Z"
   },
   {
    "duration": 24,
    "start_time": "2023-10-27T08:39:15.810Z"
   },
   {
    "duration": 41,
    "start_time": "2023-10-27T08:39:24.426Z"
   },
   {
    "duration": 23,
    "start_time": "2023-10-27T08:39:33.407Z"
   },
   {
    "duration": 18,
    "start_time": "2023-10-27T08:41:20.034Z"
   },
   {
    "duration": 59,
    "start_time": "2023-10-27T08:45:36.682Z"
   },
   {
    "duration": 33,
    "start_time": "2023-10-27T08:46:28.939Z"
   },
   {
    "duration": 48,
    "start_time": "2023-10-27T08:46:58.596Z"
   },
   {
    "duration": 18,
    "start_time": "2023-10-27T08:51:21.467Z"
   },
   {
    "duration": 18,
    "start_time": "2023-10-27T08:51:43.458Z"
   },
   {
    "duration": 17,
    "start_time": "2023-10-27T08:53:36.512Z"
   },
   {
    "duration": 15,
    "start_time": "2023-10-27T08:54:08.476Z"
   },
   {
    "duration": 9546,
    "start_time": "2023-10-27T11:53:06.296Z"
   },
   {
    "duration": 54,
    "start_time": "2023-10-27T11:53:15.844Z"
   },
   {
    "duration": 38,
    "start_time": "2023-10-27T11:53:15.899Z"
   },
   {
    "duration": 12,
    "start_time": "2023-10-27T11:53:15.939Z"
   },
   {
    "duration": 13,
    "start_time": "2023-10-27T11:53:15.952Z"
   },
   {
    "duration": 35,
    "start_time": "2023-10-27T11:53:15.966Z"
   },
   {
    "duration": 10,
    "start_time": "2023-10-27T11:53:16.002Z"
   },
   {
    "duration": 39,
    "start_time": "2023-10-27T11:53:16.013Z"
   },
   {
    "duration": 13,
    "start_time": "2023-10-27T11:53:16.053Z"
   },
   {
    "duration": 32,
    "start_time": "2023-10-27T11:53:16.068Z"
   },
   {
    "duration": 14,
    "start_time": "2023-10-27T11:53:16.101Z"
   },
   {
    "duration": 1693,
    "start_time": "2023-10-27T11:53:51.638Z"
   },
   {
    "duration": 29,
    "start_time": "2023-10-27T11:54:01.574Z"
   },
   {
    "duration": 29,
    "start_time": "2023-10-27T11:54:13.854Z"
   },
   {
    "duration": 48,
    "start_time": "2023-10-27T12:01:17.066Z"
   },
   {
    "duration": 13124,
    "start_time": "2023-10-27T12:01:41.425Z"
   },
   {
    "duration": 232,
    "start_time": "2023-10-27T12:01:54.551Z"
   },
   {
    "duration": 133,
    "start_time": "2023-10-27T12:01:54.785Z"
   },
   {
    "duration": 52,
    "start_time": "2023-10-27T12:01:54.920Z"
   },
   {
    "duration": 51,
    "start_time": "2023-10-27T12:01:54.974Z"
   },
   {
    "duration": 53,
    "start_time": "2023-10-27T12:01:55.027Z"
   },
   {
    "duration": 52,
    "start_time": "2023-10-27T12:01:55.082Z"
   },
   {
    "duration": 72,
    "start_time": "2023-10-27T12:01:55.136Z"
   },
   {
    "duration": 54,
    "start_time": "2023-10-27T12:01:55.209Z"
   },
   {
    "duration": 56,
    "start_time": "2023-10-27T12:01:55.264Z"
   },
   {
    "duration": 55,
    "start_time": "2023-10-27T12:01:55.322Z"
   },
   {
    "duration": 243,
    "start_time": "2023-10-27T12:04:00.553Z"
   },
   {
    "duration": 48,
    "start_time": "2023-10-27T12:05:18.637Z"
   },
   {
    "duration": 146,
    "start_time": "2023-10-27T12:07:17.262Z"
   },
   {
    "duration": 47,
    "start_time": "2023-10-27T12:07:28.431Z"
   },
   {
    "duration": 59,
    "start_time": "2023-10-27T12:08:04.408Z"
   },
   {
    "duration": 12000,
    "start_time": "2023-10-27T12:27:24.127Z"
   },
   {
    "duration": 220,
    "start_time": "2023-10-27T12:27:36.129Z"
   },
   {
    "duration": 122,
    "start_time": "2023-10-27T12:27:36.351Z"
   },
   {
    "duration": 52,
    "start_time": "2023-10-27T12:27:36.475Z"
   },
   {
    "duration": 53,
    "start_time": "2023-10-27T12:27:36.529Z"
   },
   {
    "duration": 57,
    "start_time": "2023-10-27T12:27:36.584Z"
   },
   {
    "duration": 53,
    "start_time": "2023-10-27T12:27:36.643Z"
   },
   {
    "duration": 77,
    "start_time": "2023-10-27T12:27:36.698Z"
   },
   {
    "duration": 56,
    "start_time": "2023-10-27T12:27:36.777Z"
   },
   {
    "duration": 65,
    "start_time": "2023-10-27T12:27:36.835Z"
   },
   {
    "duration": 57,
    "start_time": "2023-10-27T12:27:36.902Z"
   },
   {
    "duration": 11463,
    "start_time": "2023-10-28T08:24:38.700Z"
   },
   {
    "duration": 221,
    "start_time": "2023-10-28T08:24:50.165Z"
   },
   {
    "duration": 118,
    "start_time": "2023-10-28T08:24:50.388Z"
   },
   {
    "duration": 51,
    "start_time": "2023-10-28T08:24:50.509Z"
   },
   {
    "duration": 53,
    "start_time": "2023-10-28T08:24:50.562Z"
   },
   {
    "duration": 52,
    "start_time": "2023-10-28T08:24:50.616Z"
   },
   {
    "duration": 51,
    "start_time": "2023-10-28T08:24:50.670Z"
   },
   {
    "duration": 68,
    "start_time": "2023-10-28T08:24:50.723Z"
   },
   {
    "duration": 55,
    "start_time": "2023-10-28T08:24:50.793Z"
   },
   {
    "duration": 80,
    "start_time": "2023-10-28T08:24:50.850Z"
   },
   {
    "duration": 54,
    "start_time": "2023-10-28T08:24:50.931Z"
   }
  ],
  "kernelspec": {
   "display_name": "Python 3 (ipykernel)",
   "language": "python",
   "name": "python3"
  },
  "language_info": {
   "codemirror_mode": {
    "name": "ipython",
    "version": 3
   },
   "file_extension": ".py",
   "mimetype": "text/x-python",
   "name": "python",
   "nbconvert_exporter": "python",
   "pygments_lexer": "ipython3",
   "version": "3.9.5"
  },
  "toc": {
   "base_numbering": 1,
   "nav_menu": {},
   "number_sections": true,
   "sideBar": true,
   "skip_h1_title": true,
   "title_cell": "Table of Contents",
   "title_sidebar": "Contents",
   "toc_cell": false,
   "toc_position": {},
   "toc_section_display": true,
   "toc_window_display": false
  }
 },
 "nbformat": 4,
 "nbformat_minor": 2
}
