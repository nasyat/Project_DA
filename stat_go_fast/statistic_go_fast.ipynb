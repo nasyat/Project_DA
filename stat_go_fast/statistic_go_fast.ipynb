{
 "cells": [
  {
   "cell_type": "markdown",
   "id": "2080c47e",
   "metadata": {},
   "source": [
    "# Статистический анализ для сервиса аренды самокатов GoFast"
   ]
  },
  {
   "cell_type": "markdown",
   "id": "5e8ed414",
   "metadata": {},
   "source": [
    "Предоставлены данные о некоторых пользователях из нескольких городов, а также об их поездках популярного сервиса аренды самокатов GoFast. Необходимо проанализировать данные и проверьте некоторые гипотезы, которые могут помочь бизнесу вырасти.\n",
    "Шаг 1. Загрузка данных\n",
    "Изучение общей информации о каждом датафрейме.\n",
    "Шаг 2. Предобработка данных\n",
    "Изменение типов данных по необходимости;\n",
    "Проверка наличия пропущенных значений и дубликатов в датафреймах и их обработка.\n",
    "Шаг 3. Исследовательский анализ данных\n",
    "Описание и визуализация общей информации о пользователях и поездках:\n",
    "1 частота встречаемости городов;\n",
    "2 соотношение пользователей с подпиской и без подписки;\n",
    "3 возраст пользователей;\n",
    "4 расстояние, которое пользователь преодолел за одну поездку;\n",
    "5 продолжительность поездок.\n",
    "Шаг 4. Объединение данных\n",
    "Объединение данных о пользователях, поездках и подписках в один датафрейм. Создание отдельных датафреймов в разрезе подписок.\n",
    "Визуализация информации о расстоянии и времени поездок для пользователей обеих категорий.\n",
    "Шаг 5. Подсчёт выручки\n",
    "Создание датафрейма с агрегированными данными о поездках на основе датафрейма с объединёнными данными;\n",
    "Рассчитать суммарное расстояние, количество поездок и суммарное время для каждого пользователя за каждый месяц.\n",
    "Добавление столбца с помесячной выручкой, которую принёс каждый пользователь. \n",
    "Шаг 6. Проверка гипотез\n",
    "Продакт-менеджеры сервиса хотят увеличить количество пользователей с подпиской. Для этого они будут проводить различные акции, но сначала нужно выяснить несколько важных моментов.\n",
    "1 Важно понять, тратят ли пользователи с подпиской больше времени на поездки? Если да, то пользователи с подпиской могут быть «выгоднее» для компании. Проверить гипотезу. \n",
    "2 Расстояние одной поездки в 3130 метров — оптимальное с точки зрения износа самоката. Можно ли сказать, что расстояние, которое проезжают пользователи с подпиской за одну поездку, не превышает 3130 метров? Проверить гипотезу.\n",
    "3 Проверить гипотезу о том, будет ли помесячная выручка от пользователей с подпиской по месяцам выше, чем выручка от пользователей без подписки. \n",
    "\n",
    "\n"
   ]
  },
  {
   "cell_type": "code",
   "execution_count": 1,
   "id": "502a3d2e",
   "metadata": {},
   "outputs": [],
   "source": [
    "import pandas as pd\n",
    "import numpy as np\n",
    "import matplotlib.pyplot as plt\n",
    "import seaborn as sns\n",
    "import warnings\n",
    "from scipy import stats as st"
   ]
  },
  {
   "cell_type": "markdown",
   "id": "c42cbe00",
   "metadata": {},
   "source": [
    "#### Шаг  1. Загрузка данных"
   ]
  },
  {
   "cell_type": "code",
   "execution_count": 2,
   "id": "eff9f206",
   "metadata": {},
   "outputs": [
    {
     "data": {
      "text/html": [
       "<div>\n",
       "<style scoped>\n",
       "    .dataframe tbody tr th:only-of-type {\n",
       "        vertical-align: middle;\n",
       "    }\n",
       "\n",
       "    .dataframe tbody tr th {\n",
       "        vertical-align: top;\n",
       "    }\n",
       "\n",
       "    .dataframe thead th {\n",
       "        text-align: right;\n",
       "    }\n",
       "</style>\n",
       "<table border=\"1\" class=\"dataframe\">\n",
       "  <thead>\n",
       "    <tr style=\"text-align: right;\">\n",
       "      <th></th>\n",
       "      <th>user_id</th>\n",
       "      <th>name</th>\n",
       "      <th>age</th>\n",
       "      <th>city</th>\n",
       "      <th>subscription_type</th>\n",
       "    </tr>\n",
       "  </thead>\n",
       "  <tbody>\n",
       "    <tr>\n",
       "      <th>0</th>\n",
       "      <td>1</td>\n",
       "      <td>Кира</td>\n",
       "      <td>22</td>\n",
       "      <td>Тюмень</td>\n",
       "      <td>ultra</td>\n",
       "    </tr>\n",
       "    <tr>\n",
       "      <th>1</th>\n",
       "      <td>2</td>\n",
       "      <td>Станислав</td>\n",
       "      <td>31</td>\n",
       "      <td>Омск</td>\n",
       "      <td>ultra</td>\n",
       "    </tr>\n",
       "    <tr>\n",
       "      <th>2</th>\n",
       "      <td>3</td>\n",
       "      <td>Алексей</td>\n",
       "      <td>20</td>\n",
       "      <td>Москва</td>\n",
       "      <td>ultra</td>\n",
       "    </tr>\n",
       "    <tr>\n",
       "      <th>3</th>\n",
       "      <td>4</td>\n",
       "      <td>Константин</td>\n",
       "      <td>26</td>\n",
       "      <td>Ростов-на-Дону</td>\n",
       "      <td>ultra</td>\n",
       "    </tr>\n",
       "    <tr>\n",
       "      <th>4</th>\n",
       "      <td>5</td>\n",
       "      <td>Адель</td>\n",
       "      <td>28</td>\n",
       "      <td>Омск</td>\n",
       "      <td>ultra</td>\n",
       "    </tr>\n",
       "    <tr>\n",
       "      <th>5</th>\n",
       "      <td>6</td>\n",
       "      <td>Регина</td>\n",
       "      <td>25</td>\n",
       "      <td>Краснодар</td>\n",
       "      <td>ultra</td>\n",
       "    </tr>\n",
       "    <tr>\n",
       "      <th>6</th>\n",
       "      <td>7</td>\n",
       "      <td>Игорь</td>\n",
       "      <td>23</td>\n",
       "      <td>Омск</td>\n",
       "      <td>ultra</td>\n",
       "    </tr>\n",
       "    <tr>\n",
       "      <th>7</th>\n",
       "      <td>8</td>\n",
       "      <td>Юрий</td>\n",
       "      <td>23</td>\n",
       "      <td>Краснодар</td>\n",
       "      <td>ultra</td>\n",
       "    </tr>\n",
       "    <tr>\n",
       "      <th>8</th>\n",
       "      <td>9</td>\n",
       "      <td>Ян</td>\n",
       "      <td>21</td>\n",
       "      <td>Пятигорск</td>\n",
       "      <td>ultra</td>\n",
       "    </tr>\n",
       "    <tr>\n",
       "      <th>9</th>\n",
       "      <td>10</td>\n",
       "      <td>Валерий</td>\n",
       "      <td>18</td>\n",
       "      <td>Екатеринбург</td>\n",
       "      <td>ultra</td>\n",
       "    </tr>\n",
       "    <tr>\n",
       "      <th>10</th>\n",
       "      <td>11</td>\n",
       "      <td>Агата</td>\n",
       "      <td>31</td>\n",
       "      <td>Краснодар</td>\n",
       "      <td>ultra</td>\n",
       "    </tr>\n",
       "    <tr>\n",
       "      <th>11</th>\n",
       "      <td>12</td>\n",
       "      <td>Марк</td>\n",
       "      <td>27</td>\n",
       "      <td>Тюмень</td>\n",
       "      <td>ultra</td>\n",
       "    </tr>\n",
       "    <tr>\n",
       "      <th>12</th>\n",
       "      <td>13</td>\n",
       "      <td>Ева</td>\n",
       "      <td>24</td>\n",
       "      <td>Краснодар</td>\n",
       "      <td>ultra</td>\n",
       "    </tr>\n",
       "    <tr>\n",
       "      <th>13</th>\n",
       "      <td>14</td>\n",
       "      <td>Антонина</td>\n",
       "      <td>18</td>\n",
       "      <td>Пятигорск</td>\n",
       "      <td>ultra</td>\n",
       "    </tr>\n",
       "    <tr>\n",
       "      <th>14</th>\n",
       "      <td>15</td>\n",
       "      <td>Валерия</td>\n",
       "      <td>24</td>\n",
       "      <td>Тюмень</td>\n",
       "      <td>ultra</td>\n",
       "    </tr>\n",
       "  </tbody>\n",
       "</table>\n",
       "</div>"
      ],
      "text/plain": [
       "    user_id        name  age            city subscription_type\n",
       "0         1        Кира   22          Тюмень             ultra\n",
       "1         2   Станислав   31            Омск             ultra\n",
       "2         3     Алексей   20          Москва             ultra\n",
       "3         4  Константин   26  Ростов-на-Дону             ultra\n",
       "4         5       Адель   28            Омск             ultra\n",
       "5         6      Регина   25       Краснодар             ultra\n",
       "6         7       Игорь   23            Омск             ultra\n",
       "7         8        Юрий   23       Краснодар             ultra\n",
       "8         9          Ян   21       Пятигорск             ultra\n",
       "9        10     Валерий   18    Екатеринбург             ultra\n",
       "10       11       Агата   31       Краснодар             ultra\n",
       "11       12        Марк   27          Тюмень             ultra\n",
       "12       13         Ева   24       Краснодар             ultra\n",
       "13       14    Антонина   18       Пятигорск             ultra\n",
       "14       15     Валерия   24          Тюмень             ultra"
      ]
     },
     "execution_count": 2,
     "metadata": {},
     "output_type": "execute_result"
    }
   ],
   "source": [
    "data = pd.read_csv('/datasets/users_go.csv')\n",
    "data.head(15)"
   ]
  },
  {
   "cell_type": "markdown",
   "id": "d4f16d54",
   "metadata": {},
   "source": [
    "Знакомимся с общей информацией о файле, пропущеных значений в файле нет"
   ]
  },
  {
   "cell_type": "code",
   "execution_count": 3,
   "id": "245ee836",
   "metadata": {},
   "outputs": [
    {
     "name": "stdout",
     "output_type": "stream",
     "text": [
      "<class 'pandas.core.frame.DataFrame'>\n",
      "RangeIndex: 1565 entries, 0 to 1564\n",
      "Data columns (total 5 columns):\n",
      " #   Column             Non-Null Count  Dtype \n",
      "---  ------             --------------  ----- \n",
      " 0   user_id            1565 non-null   int64 \n",
      " 1   name               1565 non-null   object\n",
      " 2   age                1565 non-null   int64 \n",
      " 3   city               1565 non-null   object\n",
      " 4   subscription_type  1565 non-null   object\n",
      "dtypes: int64(2), object(3)\n",
      "memory usage: 61.3+ KB\n"
     ]
    }
   ],
   "source": [
    "data.info(0)"
   ]
  },
  {
   "cell_type": "code",
   "execution_count": 4,
   "id": "6f818783",
   "metadata": {},
   "outputs": [
    {
     "data": {
      "text/html": [
       "<div>\n",
       "<style scoped>\n",
       "    .dataframe tbody tr th:only-of-type {\n",
       "        vertical-align: middle;\n",
       "    }\n",
       "\n",
       "    .dataframe tbody tr th {\n",
       "        vertical-align: top;\n",
       "    }\n",
       "\n",
       "    .dataframe thead th {\n",
       "        text-align: right;\n",
       "    }\n",
       "</style>\n",
       "<table border=\"1\" class=\"dataframe\">\n",
       "  <thead>\n",
       "    <tr style=\"text-align: right;\">\n",
       "      <th></th>\n",
       "      <th>count</th>\n",
       "      <th>mean</th>\n",
       "      <th>std</th>\n",
       "      <th>min</th>\n",
       "      <th>25%</th>\n",
       "      <th>50%</th>\n",
       "      <th>75%</th>\n",
       "      <th>max</th>\n",
       "    </tr>\n",
       "  </thead>\n",
       "  <tbody>\n",
       "    <tr>\n",
       "      <th>user_id</th>\n",
       "      <td>1565.0</td>\n",
       "      <td>762.633866</td>\n",
       "      <td>443.260155</td>\n",
       "      <td>1.0</td>\n",
       "      <td>378.0</td>\n",
       "      <td>762.0</td>\n",
       "      <td>1146.0</td>\n",
       "      <td>1534.0</td>\n",
       "    </tr>\n",
       "    <tr>\n",
       "      <th>age</th>\n",
       "      <td>1565.0</td>\n",
       "      <td>24.922045</td>\n",
       "      <td>4.553496</td>\n",
       "      <td>12.0</td>\n",
       "      <td>22.0</td>\n",
       "      <td>25.0</td>\n",
       "      <td>28.0</td>\n",
       "      <td>43.0</td>\n",
       "    </tr>\n",
       "  </tbody>\n",
       "</table>\n",
       "</div>"
      ],
      "text/plain": [
       "          count        mean         std   min    25%    50%     75%     max\n",
       "user_id  1565.0  762.633866  443.260155   1.0  378.0  762.0  1146.0  1534.0\n",
       "age      1565.0   24.922045    4.553496  12.0   22.0   25.0    28.0    43.0"
      ]
     },
     "execution_count": 4,
     "metadata": {},
     "output_type": "execute_result"
    }
   ],
   "source": [
    "data.describe().T"
   ]
  },
  {
   "cell_type": "code",
   "execution_count": 5,
   "id": "93cfffb4",
   "metadata": {},
   "outputs": [
    {
     "data": {
      "text/plain": [
       "user_id              1534\n",
       "name                  194\n",
       "age                    29\n",
       "city                    8\n",
       "subscription_type       2\n",
       "dtype: int64"
      ]
     },
     "execution_count": 5,
     "metadata": {},
     "output_type": "execute_result"
    }
   ],
   "source": [
    "data.nunique()"
   ]
  },
  {
   "cell_type": "code",
   "execution_count": 6,
   "id": "094b19db",
   "metadata": {},
   "outputs": [
    {
     "data": {
      "text/html": [
       "<div>\n",
       "<style scoped>\n",
       "    .dataframe tbody tr th:only-of-type {\n",
       "        vertical-align: middle;\n",
       "    }\n",
       "\n",
       "    .dataframe tbody tr th {\n",
       "        vertical-align: top;\n",
       "    }\n",
       "\n",
       "    .dataframe thead th {\n",
       "        text-align: right;\n",
       "    }\n",
       "</style>\n",
       "<table border=\"1\" class=\"dataframe\">\n",
       "  <thead>\n",
       "    <tr style=\"text-align: right;\">\n",
       "      <th></th>\n",
       "      <th>user_id</th>\n",
       "      <th>distance</th>\n",
       "      <th>duration</th>\n",
       "      <th>date</th>\n",
       "    </tr>\n",
       "  </thead>\n",
       "  <tbody>\n",
       "    <tr>\n",
       "      <th>0</th>\n",
       "      <td>1</td>\n",
       "      <td>4409.919140</td>\n",
       "      <td>25.599769</td>\n",
       "      <td>2021-01-01</td>\n",
       "    </tr>\n",
       "    <tr>\n",
       "      <th>1</th>\n",
       "      <td>1</td>\n",
       "      <td>2617.592153</td>\n",
       "      <td>15.816871</td>\n",
       "      <td>2021-01-18</td>\n",
       "    </tr>\n",
       "    <tr>\n",
       "      <th>2</th>\n",
       "      <td>1</td>\n",
       "      <td>754.159807</td>\n",
       "      <td>6.232113</td>\n",
       "      <td>2021-04-20</td>\n",
       "    </tr>\n",
       "    <tr>\n",
       "      <th>3</th>\n",
       "      <td>1</td>\n",
       "      <td>2694.783254</td>\n",
       "      <td>18.511000</td>\n",
       "      <td>2021-08-11</td>\n",
       "    </tr>\n",
       "    <tr>\n",
       "      <th>4</th>\n",
       "      <td>1</td>\n",
       "      <td>4028.687306</td>\n",
       "      <td>26.265803</td>\n",
       "      <td>2021-08-28</td>\n",
       "    </tr>\n",
       "    <tr>\n",
       "      <th>5</th>\n",
       "      <td>1</td>\n",
       "      <td>2770.890808</td>\n",
       "      <td>16.650138</td>\n",
       "      <td>2021-10-09</td>\n",
       "    </tr>\n",
       "    <tr>\n",
       "      <th>6</th>\n",
       "      <td>1</td>\n",
       "      <td>3039.020292</td>\n",
       "      <td>14.927879</td>\n",
       "      <td>2021-10-19</td>\n",
       "    </tr>\n",
       "    <tr>\n",
       "      <th>7</th>\n",
       "      <td>1</td>\n",
       "      <td>2842.118050</td>\n",
       "      <td>23.117468</td>\n",
       "      <td>2021-11-06</td>\n",
       "    </tr>\n",
       "    <tr>\n",
       "      <th>8</th>\n",
       "      <td>1</td>\n",
       "      <td>3412.690668</td>\n",
       "      <td>15.238072</td>\n",
       "      <td>2021-11-14</td>\n",
       "    </tr>\n",
       "    <tr>\n",
       "      <th>9</th>\n",
       "      <td>1</td>\n",
       "      <td>748.690645</td>\n",
       "      <td>15.041884</td>\n",
       "      <td>2021-11-22</td>\n",
       "    </tr>\n",
       "    <tr>\n",
       "      <th>10</th>\n",
       "      <td>1</td>\n",
       "      <td>4031.020195</td>\n",
       "      <td>17.674448</td>\n",
       "      <td>2021-12-14</td>\n",
       "    </tr>\n",
       "    <tr>\n",
       "      <th>11</th>\n",
       "      <td>1</td>\n",
       "      <td>2720.609748</td>\n",
       "      <td>9.529463</td>\n",
       "      <td>2021-12-22</td>\n",
       "    </tr>\n",
       "    <tr>\n",
       "      <th>12</th>\n",
       "      <td>2</td>\n",
       "      <td>3105.086678</td>\n",
       "      <td>24.307514</td>\n",
       "      <td>2021-03-15</td>\n",
       "    </tr>\n",
       "    <tr>\n",
       "      <th>13</th>\n",
       "      <td>2</td>\n",
       "      <td>3053.519401</td>\n",
       "      <td>11.543256</td>\n",
       "      <td>2021-03-18</td>\n",
       "    </tr>\n",
       "    <tr>\n",
       "      <th>14</th>\n",
       "      <td>2</td>\n",
       "      <td>4029.116927</td>\n",
       "      <td>25.109188</td>\n",
       "      <td>2021-03-23</td>\n",
       "    </tr>\n",
       "  </tbody>\n",
       "</table>\n",
       "</div>"
      ],
      "text/plain": [
       "    user_id     distance   duration        date\n",
       "0         1  4409.919140  25.599769  2021-01-01\n",
       "1         1  2617.592153  15.816871  2021-01-18\n",
       "2         1   754.159807   6.232113  2021-04-20\n",
       "3         1  2694.783254  18.511000  2021-08-11\n",
       "4         1  4028.687306  26.265803  2021-08-28\n",
       "5         1  2770.890808  16.650138  2021-10-09\n",
       "6         1  3039.020292  14.927879  2021-10-19\n",
       "7         1  2842.118050  23.117468  2021-11-06\n",
       "8         1  3412.690668  15.238072  2021-11-14\n",
       "9         1   748.690645  15.041884  2021-11-22\n",
       "10        1  4031.020195  17.674448  2021-12-14\n",
       "11        1  2720.609748   9.529463  2021-12-22\n",
       "12        2  3105.086678  24.307514  2021-03-15\n",
       "13        2  3053.519401  11.543256  2021-03-18\n",
       "14        2  4029.116927  25.109188  2021-03-23"
      ]
     },
     "execution_count": 6,
     "metadata": {},
     "output_type": "execute_result"
    }
   ],
   "source": [
    "data_1 = pd.read_csv('/datasets/rides_go.csv')\n",
    "data_1.head(15)"
   ]
  },
  {
   "cell_type": "markdown",
   "id": "c5bd5a30",
   "metadata": {},
   "source": [
    "Знакомимся с общей информацией о файле, пропущеных значений в файле нет"
   ]
  },
  {
   "cell_type": "code",
   "execution_count": 7,
   "id": "fcb0aec6",
   "metadata": {},
   "outputs": [
    {
     "name": "stdout",
     "output_type": "stream",
     "text": [
      "<class 'pandas.core.frame.DataFrame'>\n",
      "RangeIndex: 18068 entries, 0 to 18067\n",
      "Data columns (total 4 columns):\n",
      " #   Column    Non-Null Count  Dtype  \n",
      "---  ------    --------------  -----  \n",
      " 0   user_id   18068 non-null  int64  \n",
      " 1   distance  18068 non-null  float64\n",
      " 2   duration  18068 non-null  float64\n",
      " 3   date      18068 non-null  object \n",
      "dtypes: float64(2), int64(1), object(1)\n",
      "memory usage: 564.8+ KB\n"
     ]
    }
   ],
   "source": [
    "data_1.info()"
   ]
  },
  {
   "cell_type": "code",
   "execution_count": 8,
   "id": "a7a8e748",
   "metadata": {},
   "outputs": [
    {
     "data": {
      "text/html": [
       "<div>\n",
       "<style scoped>\n",
       "    .dataframe tbody tr th:only-of-type {\n",
       "        vertical-align: middle;\n",
       "    }\n",
       "\n",
       "    .dataframe tbody tr th {\n",
       "        vertical-align: top;\n",
       "    }\n",
       "\n",
       "    .dataframe thead th {\n",
       "        text-align: right;\n",
       "    }\n",
       "</style>\n",
       "<table border=\"1\" class=\"dataframe\">\n",
       "  <thead>\n",
       "    <tr style=\"text-align: right;\">\n",
       "      <th></th>\n",
       "      <th>count</th>\n",
       "      <th>mean</th>\n",
       "      <th>std</th>\n",
       "      <th>min</th>\n",
       "      <th>25%</th>\n",
       "      <th>50%</th>\n",
       "      <th>75%</th>\n",
       "      <th>max</th>\n",
       "    </tr>\n",
       "  </thead>\n",
       "  <tbody>\n",
       "    <tr>\n",
       "      <th>user_id</th>\n",
       "      <td>18068.0</td>\n",
       "      <td>842.869936</td>\n",
       "      <td>434.734317</td>\n",
       "      <td>1.000000</td>\n",
       "      <td>487.000000</td>\n",
       "      <td>889.000000</td>\n",
       "      <td>1213.250000</td>\n",
       "      <td>1534.000000</td>\n",
       "    </tr>\n",
       "    <tr>\n",
       "      <th>distance</th>\n",
       "      <td>18068.0</td>\n",
       "      <td>3070.659976</td>\n",
       "      <td>1116.831209</td>\n",
       "      <td>0.855683</td>\n",
       "      <td>2543.226360</td>\n",
       "      <td>3133.609994</td>\n",
       "      <td>3776.222735</td>\n",
       "      <td>7211.007745</td>\n",
       "    </tr>\n",
       "    <tr>\n",
       "      <th>duration</th>\n",
       "      <td>18068.0</td>\n",
       "      <td>17.805011</td>\n",
       "      <td>6.091051</td>\n",
       "      <td>0.500000</td>\n",
       "      <td>13.597563</td>\n",
       "      <td>17.678395</td>\n",
       "      <td>21.724800</td>\n",
       "      <td>40.823963</td>\n",
       "    </tr>\n",
       "  </tbody>\n",
       "</table>\n",
       "</div>"
      ],
      "text/plain": [
       "            count         mean          std       min          25%  \\\n",
       "user_id   18068.0   842.869936   434.734317  1.000000   487.000000   \n",
       "distance  18068.0  3070.659976  1116.831209  0.855683  2543.226360   \n",
       "duration  18068.0    17.805011     6.091051  0.500000    13.597563   \n",
       "\n",
       "                  50%          75%          max  \n",
       "user_id    889.000000  1213.250000  1534.000000  \n",
       "distance  3133.609994  3776.222735  7211.007745  \n",
       "duration    17.678395    21.724800    40.823963  "
      ]
     },
     "execution_count": 8,
     "metadata": {},
     "output_type": "execute_result"
    }
   ],
   "source": [
    "data_1.describe().T"
   ]
  },
  {
   "cell_type": "code",
   "execution_count": 9,
   "id": "1a61fd78",
   "metadata": {},
   "outputs": [
    {
     "data": {
      "text/plain": [
       "user_id      1534\n",
       "distance    18068\n",
       "duration    17974\n",
       "date          364\n",
       "dtype: int64"
      ]
     },
     "execution_count": 9,
     "metadata": {},
     "output_type": "execute_result"
    }
   ],
   "source": [
    "data_1.nunique()"
   ]
  },
  {
   "cell_type": "code",
   "execution_count": 10,
   "id": "94bb8252",
   "metadata": {},
   "outputs": [
    {
     "data": {
      "text/html": [
       "<div>\n",
       "<style scoped>\n",
       "    .dataframe tbody tr th:only-of-type {\n",
       "        vertical-align: middle;\n",
       "    }\n",
       "\n",
       "    .dataframe tbody tr th {\n",
       "        vertical-align: top;\n",
       "    }\n",
       "\n",
       "    .dataframe thead th {\n",
       "        text-align: right;\n",
       "    }\n",
       "</style>\n",
       "<table border=\"1\" class=\"dataframe\">\n",
       "  <thead>\n",
       "    <tr style=\"text-align: right;\">\n",
       "      <th></th>\n",
       "      <th>subscription_type</th>\n",
       "      <th>minute_price</th>\n",
       "      <th>start_ride_price</th>\n",
       "      <th>subscription_fee</th>\n",
       "    </tr>\n",
       "  </thead>\n",
       "  <tbody>\n",
       "    <tr>\n",
       "      <th>0</th>\n",
       "      <td>free</td>\n",
       "      <td>8</td>\n",
       "      <td>50</td>\n",
       "      <td>0</td>\n",
       "    </tr>\n",
       "    <tr>\n",
       "      <th>1</th>\n",
       "      <td>ultra</td>\n",
       "      <td>6</td>\n",
       "      <td>0</td>\n",
       "      <td>199</td>\n",
       "    </tr>\n",
       "  </tbody>\n",
       "</table>\n",
       "</div>"
      ],
      "text/plain": [
       "  subscription_type  minute_price  start_ride_price  subscription_fee\n",
       "0              free             8                50                 0\n",
       "1             ultra             6                 0               199"
      ]
     },
     "execution_count": 10,
     "metadata": {},
     "output_type": "execute_result"
    }
   ],
   "source": [
    "data_price = pd.read_csv('/datasets/subscriptions_go.csv')\n",
    "data_price.head()"
   ]
  },
  {
   "cell_type": "code",
   "execution_count": 11,
   "id": "8bd756bc",
   "metadata": {},
   "outputs": [
    {
     "name": "stdout",
     "output_type": "stream",
     "text": [
      "<class 'pandas.core.frame.DataFrame'>\n",
      "RangeIndex: 2 entries, 0 to 1\n",
      "Data columns (total 4 columns):\n",
      " #   Column             Non-Null Count  Dtype \n",
      "---  ------             --------------  ----- \n",
      " 0   subscription_type  2 non-null      object\n",
      " 1   minute_price       2 non-null      int64 \n",
      " 2   start_ride_price   2 non-null      int64 \n",
      " 3   subscription_fee   2 non-null      int64 \n",
      "dtypes: int64(3), object(1)\n",
      "memory usage: 192.0+ bytes\n"
     ]
    }
   ],
   "source": [
    "data_price.info()"
   ]
  },
  {
   "cell_type": "markdown",
   "id": "e95ebca7",
   "metadata": {},
   "source": [
    "#### Шаг 2. Предобработка данных"
   ]
  },
  {
   "cell_type": "markdown",
   "id": "42cb0233",
   "metadata": {},
   "source": [
    "Изменяем формат стобца с датой"
   ]
  },
  {
   "cell_type": "code",
   "execution_count": 12,
   "id": "af6d202c",
   "metadata": {},
   "outputs": [
    {
     "name": "stdout",
     "output_type": "stream",
     "text": [
      "<class 'pandas.core.frame.DataFrame'>\n",
      "RangeIndex: 18068 entries, 0 to 18067\n",
      "Data columns (total 4 columns):\n",
      " #   Column    Non-Null Count  Dtype         \n",
      "---  ------    --------------  -----         \n",
      " 0   user_id   18068 non-null  int64         \n",
      " 1   distance  18068 non-null  float64       \n",
      " 2   duration  18068 non-null  float64       \n",
      " 3   date      18068 non-null  datetime64[ns]\n",
      "dtypes: datetime64[ns](1), float64(2), int64(1)\n",
      "memory usage: 564.8 KB\n"
     ]
    }
   ],
   "source": [
    "data_1['date'] = pd.to_datetime(data_1['date'], format='%Y-%m-%d')\n",
    "data_1.info()"
   ]
  },
  {
   "cell_type": "markdown",
   "id": "5a2c9d93",
   "metadata": {},
   "source": [
    "Создаем новый столбец с номером месяца"
   ]
  },
  {
   "cell_type": "code",
   "execution_count": 13,
   "id": "6e790e89",
   "metadata": {
    "scrolled": true
   },
   "outputs": [
    {
     "data": {
      "text/html": [
       "<div>\n",
       "<style scoped>\n",
       "    .dataframe tbody tr th:only-of-type {\n",
       "        vertical-align: middle;\n",
       "    }\n",
       "\n",
       "    .dataframe tbody tr th {\n",
       "        vertical-align: top;\n",
       "    }\n",
       "\n",
       "    .dataframe thead th {\n",
       "        text-align: right;\n",
       "    }\n",
       "</style>\n",
       "<table border=\"1\" class=\"dataframe\">\n",
       "  <thead>\n",
       "    <tr style=\"text-align: right;\">\n",
       "      <th></th>\n",
       "      <th>user_id</th>\n",
       "      <th>distance</th>\n",
       "      <th>duration</th>\n",
       "      <th>date</th>\n",
       "      <th>month</th>\n",
       "    </tr>\n",
       "  </thead>\n",
       "  <tbody>\n",
       "    <tr>\n",
       "      <th>0</th>\n",
       "      <td>1</td>\n",
       "      <td>4409.919140</td>\n",
       "      <td>25.599769</td>\n",
       "      <td>2021-01-01</td>\n",
       "      <td>1</td>\n",
       "    </tr>\n",
       "    <tr>\n",
       "      <th>1</th>\n",
       "      <td>1</td>\n",
       "      <td>2617.592153</td>\n",
       "      <td>15.816871</td>\n",
       "      <td>2021-01-18</td>\n",
       "      <td>1</td>\n",
       "    </tr>\n",
       "    <tr>\n",
       "      <th>2</th>\n",
       "      <td>1</td>\n",
       "      <td>754.159807</td>\n",
       "      <td>6.232113</td>\n",
       "      <td>2021-04-20</td>\n",
       "      <td>4</td>\n",
       "    </tr>\n",
       "    <tr>\n",
       "      <th>3</th>\n",
       "      <td>1</td>\n",
       "      <td>2694.783254</td>\n",
       "      <td>18.511000</td>\n",
       "      <td>2021-08-11</td>\n",
       "      <td>8</td>\n",
       "    </tr>\n",
       "    <tr>\n",
       "      <th>4</th>\n",
       "      <td>1</td>\n",
       "      <td>4028.687306</td>\n",
       "      <td>26.265803</td>\n",
       "      <td>2021-08-28</td>\n",
       "      <td>8</td>\n",
       "    </tr>\n",
       "    <tr>\n",
       "      <th>...</th>\n",
       "      <td>...</td>\n",
       "      <td>...</td>\n",
       "      <td>...</td>\n",
       "      <td>...</td>\n",
       "      <td>...</td>\n",
       "    </tr>\n",
       "    <tr>\n",
       "      <th>18063</th>\n",
       "      <td>1534</td>\n",
       "      <td>3781.098080</td>\n",
       "      <td>19.822962</td>\n",
       "      <td>2021-11-04</td>\n",
       "      <td>11</td>\n",
       "    </tr>\n",
       "    <tr>\n",
       "      <th>18064</th>\n",
       "      <td>1534</td>\n",
       "      <td>2840.423057</td>\n",
       "      <td>21.409799</td>\n",
       "      <td>2021-11-16</td>\n",
       "      <td>11</td>\n",
       "    </tr>\n",
       "    <tr>\n",
       "      <th>18065</th>\n",
       "      <td>1534</td>\n",
       "      <td>3826.185507</td>\n",
       "      <td>18.435051</td>\n",
       "      <td>2021-11-18</td>\n",
       "      <td>11</td>\n",
       "    </tr>\n",
       "    <tr>\n",
       "      <th>18066</th>\n",
       "      <td>1534</td>\n",
       "      <td>2902.308661</td>\n",
       "      <td>16.674362</td>\n",
       "      <td>2021-11-27</td>\n",
       "      <td>11</td>\n",
       "    </tr>\n",
       "    <tr>\n",
       "      <th>18067</th>\n",
       "      <td>1534</td>\n",
       "      <td>2371.711192</td>\n",
       "      <td>15.893917</td>\n",
       "      <td>2021-12-29</td>\n",
       "      <td>12</td>\n",
       "    </tr>\n",
       "  </tbody>\n",
       "</table>\n",
       "<p>18068 rows × 5 columns</p>\n",
       "</div>"
      ],
      "text/plain": [
       "       user_id     distance   duration       date  month\n",
       "0            1  4409.919140  25.599769 2021-01-01      1\n",
       "1            1  2617.592153  15.816871 2021-01-18      1\n",
       "2            1   754.159807   6.232113 2021-04-20      4\n",
       "3            1  2694.783254  18.511000 2021-08-11      8\n",
       "4            1  4028.687306  26.265803 2021-08-28      8\n",
       "...        ...          ...        ...        ...    ...\n",
       "18063     1534  3781.098080  19.822962 2021-11-04     11\n",
       "18064     1534  2840.423057  21.409799 2021-11-16     11\n",
       "18065     1534  3826.185507  18.435051 2021-11-18     11\n",
       "18066     1534  2902.308661  16.674362 2021-11-27     11\n",
       "18067     1534  2371.711192  15.893917 2021-12-29     12\n",
       "\n",
       "[18068 rows x 5 columns]"
      ]
     },
     "execution_count": 13,
     "metadata": {},
     "output_type": "execute_result"
    }
   ],
   "source": [
    "data_1['month'] = pd.DatetimeIndex(data_1['date']).month\n",
    "data_1"
   ]
  },
  {
   "cell_type": "code",
   "execution_count": 14,
   "id": "df79afe9",
   "metadata": {},
   "outputs": [
    {
     "data": {
      "text/plain": [
       "Timestamp('2021-12-30 00:00:00')"
      ]
     },
     "execution_count": 14,
     "metadata": {},
     "output_type": "execute_result"
    }
   ],
   "source": [
    "data_1['date'].max()"
   ]
  },
  {
   "cell_type": "code",
   "execution_count": 15,
   "id": "d6ca3c9c",
   "metadata": {},
   "outputs": [
    {
     "data": {
      "text/plain": [
       "Timestamp('2021-01-01 00:00:00')"
      ]
     },
     "execution_count": 15,
     "metadata": {},
     "output_type": "execute_result"
    }
   ],
   "source": [
    "data_1['date'].min()"
   ]
  },
  {
   "cell_type": "markdown",
   "id": "cc8f73b1",
   "metadata": {},
   "source": [
    "Проводим проверку на дубликаты"
   ]
  },
  {
   "cell_type": "code",
   "execution_count": 16,
   "id": "4692d8a0",
   "metadata": {},
   "outputs": [
    {
     "data": {
      "text/plain": [
       "31"
      ]
     },
     "execution_count": 16,
     "metadata": {},
     "output_type": "execute_result"
    }
   ],
   "source": [
    "data.duplicated().sum()"
   ]
  },
  {
   "cell_type": "code",
   "execution_count": 17,
   "id": "7d1327ac",
   "metadata": {},
   "outputs": [
    {
     "data": {
      "text/plain": [
       "0"
      ]
     },
     "execution_count": 17,
     "metadata": {},
     "output_type": "execute_result"
    }
   ],
   "source": [
    "data_1.duplicated().sum()"
   ]
  },
  {
   "cell_type": "markdown",
   "id": "fa8929d5",
   "metadata": {},
   "source": [
    "Удаляем явные дубликаты"
   ]
  },
  {
   "cell_type": "code",
   "execution_count": 18,
   "id": "cf9dae18",
   "metadata": {},
   "outputs": [
    {
     "data": {
      "text/plain": [
       "0"
      ]
     },
     "execution_count": 18,
     "metadata": {},
     "output_type": "execute_result"
    }
   ],
   "source": [
    "data = data.drop_duplicates(subset=['user_id'], keep='first')\n",
    "data = data.reset_index(drop=True)\n",
    "data.duplicated().sum()"
   ]
  },
  {
   "cell_type": "code",
   "execution_count": 19,
   "id": "c9c71aed",
   "metadata": {},
   "outputs": [
    {
     "data": {
      "text/plain": [
       "user_id              0\n",
       "name                 0\n",
       "age                  0\n",
       "city                 0\n",
       "subscription_type    0\n",
       "dtype: int64"
      ]
     },
     "execution_count": 19,
     "metadata": {},
     "output_type": "execute_result"
    }
   ],
   "source": [
    "data.isnull().sum()"
   ]
  },
  {
   "cell_type": "code",
   "execution_count": 20,
   "id": "5a12bad1",
   "metadata": {},
   "outputs": [
    {
     "data": {
      "text/plain": [
       "user_id     0\n",
       "distance    0\n",
       "duration    0\n",
       "date        0\n",
       "month       0\n",
       "dtype: int64"
      ]
     },
     "execution_count": 20,
     "metadata": {},
     "output_type": "execute_result"
    }
   ],
   "source": [
    "data_1.isnull().sum()"
   ]
  },
  {
   "cell_type": "markdown",
   "id": "212593c7",
   "metadata": {},
   "source": [
    "#### Шаг 3. Исследовательский анализ данных"
   ]
  },
  {
   "cell_type": "markdown",
   "id": "84e7c9ad",
   "metadata": {},
   "source": [
    "Рассмотрим распределение пользователей по городам, количество пользователей в городах присутствия в предоставленной выборке достаточно однородная "
   ]
  },
  {
   "cell_type": "code",
   "execution_count": 21,
   "id": "8d9a04c9",
   "metadata": {},
   "outputs": [
    {
     "name": "stderr",
     "output_type": "stream",
     "text": [
      "/opt/conda/lib/python3.9/site-packages/seaborn/_decorators.py:36: FutureWarning: Pass the following variable as a keyword arg: x. From version 0.12, the only valid positional argument will be `data`, and passing other arguments without an explicit keyword will result in an error or misinterpretation.\n",
      "  warnings.warn(\n"
     ]
    },
    {
     "data": {
      "image/png": "[encoded data removed]",
      "text/plain": [
       "<Figure size 1152x576 with 1 Axes>"
      ]
     },
     "metadata": {
      "needs_background": "light"
     },
     "output_type": "display_data"
    }
   ],
   "source": [
    "plt.figure(figsize=(16, 8))\n",
    "sns.countplot(data['city']);\n"
   ]
  },
  {
   "cell_type": "code",
   "execution_count": 22,
   "id": "5131a494",
   "metadata": {},
   "outputs": [
    {
     "data": {
      "text/html": [
       "<div>\n",
       "<style scoped>\n",
       "    .dataframe tbody tr th:only-of-type {\n",
       "        vertical-align: middle;\n",
       "    }\n",
       "\n",
       "    .dataframe tbody tr th {\n",
       "        vertical-align: top;\n",
       "    }\n",
       "\n",
       "    .dataframe thead tr th {\n",
       "        text-align: left;\n",
       "    }\n",
       "\n",
       "    .dataframe thead tr:last-of-type th {\n",
       "        text-align: right;\n",
       "    }\n",
       "</style>\n",
       "<table border=\"1\" class=\"dataframe\">\n",
       "  <thead>\n",
       "    <tr>\n",
       "      <th></th>\n",
       "      <th>count</th>\n",
       "    </tr>\n",
       "    <tr>\n",
       "      <th></th>\n",
       "      <th>user_id</th>\n",
       "    </tr>\n",
       "    <tr>\n",
       "      <th>city</th>\n",
       "      <th></th>\n",
       "    </tr>\n",
       "  </thead>\n",
       "  <tbody>\n",
       "    <tr>\n",
       "      <th>Екатеринбург</th>\n",
       "      <td>204</td>\n",
       "    </tr>\n",
       "    <tr>\n",
       "      <th>Краснодар</th>\n",
       "      <td>193</td>\n",
       "    </tr>\n",
       "    <tr>\n",
       "      <th>Москва</th>\n",
       "      <td>168</td>\n",
       "    </tr>\n",
       "    <tr>\n",
       "      <th>Омск</th>\n",
       "      <td>183</td>\n",
       "    </tr>\n",
       "    <tr>\n",
       "      <th>Пятигорск</th>\n",
       "      <td>219</td>\n",
       "    </tr>\n",
       "    <tr>\n",
       "      <th>Ростов-на-Дону</th>\n",
       "      <td>198</td>\n",
       "    </tr>\n",
       "    <tr>\n",
       "      <th>Сочи</th>\n",
       "      <td>189</td>\n",
       "    </tr>\n",
       "    <tr>\n",
       "      <th>Тюмень</th>\n",
       "      <td>180</td>\n",
       "    </tr>\n",
       "  </tbody>\n",
       "</table>\n",
       "</div>"
      ],
      "text/plain": [
       "                 count\n",
       "               user_id\n",
       "city                  \n",
       "Екатеринбург       204\n",
       "Краснодар          193\n",
       "Москва             168\n",
       "Омск               183\n",
       "Пятигорск          219\n",
       "Ростов-на-Дону     198\n",
       "Сочи               189\n",
       "Тюмень             180"
      ]
     },
     "execution_count": 22,
     "metadata": {},
     "output_type": "execute_result"
    }
   ],
   "source": [
    "data_pivot=data.pivot_table(index=['city'], values=['user_id'], aggfunc=['count'])\n",
    "data_pivot"
   ]
  },
  {
   "cell_type": "markdown",
   "id": "dfb00223",
   "metadata": {},
   "source": [
    "Распределение по возрасту приближено к нормальному, медианное и среднее значение совпадают - 25 лет, значит выборка однородная без выбросов, основная часть пользователей в возрасте от 20 до 28 лет, минимальный возраст пользователя 12 лет, максимальный - 43 года."
   ]
  },
  {
   "cell_type": "code",
   "execution_count": 23,
   "id": "bb8c7e78",
   "metadata": {},
   "outputs": [
    {
     "data": {
      "image/png": "[encoded data removed]",
      "text/plain": [
       "<Figure size 720x504 with 1 Axes>"
      ]
     },
     "metadata": {
      "needs_background": "light"
     },
     "output_type": "display_data"
    }
   ],
   "source": [
    "data['age'].hist(bins=20, color='#222267', figsize=(10,7))\n",
    "plt.axvline(data['age'].median(), color='red', linestyle= '--', label='median')\n",
    "plt.axvline(data['age'].mean(), color='orange', linestyle= '--', label='mean')\n",
    "plt.title('Распределение по возрасту пользователей', fontsize=14)\n",
    "plt.xlabel('Возраст')\n",
    "plt.ylabel('Количество пользователей')\n",
    "plt.legend();"
   ]
  },
  {
   "cell_type": "markdown",
   "id": "88f6d4e5",
   "metadata": {},
   "source": [
    "Распределение по типу подписки тоже в сопоставимых для анализа объемах"
   ]
  },
  {
   "cell_type": "code",
   "execution_count": 24,
   "id": "197f3620",
   "metadata": {},
   "outputs": [
    {
     "data": {
      "image/png": "[encoded data removed]",
      "text/plain": [
       "<Figure size 432x288 with 1 Axes>"
      ]
     },
     "metadata": {},
     "output_type": "display_data"
    }
   ],
   "source": [
    "data.groupby(['subscription_type']).count().plot(kind='pie', y='user_id', autopct='%1.0f%%')\n",
    "\n",
    "\n",
    "plt.title('Распределение по типу подписки', fontsize=14);\n"
   ]
  },
  {
   "cell_type": "code",
   "execution_count": 25,
   "id": "7645b790",
   "metadata": {},
   "outputs": [
    {
     "data": {
      "image/png": "[encoded data removed]",
      "text/plain": [
       "<Figure size 720x504 with 1 Axes>"
      ]
     },
     "metadata": {
      "needs_background": "light"
     },
     "output_type": "display_data"
    }
   ],
   "source": [
    "data_1['distance'].hist(bins=20, color='#222267', figsize=(10,7))\n",
    "plt.axvline(data_1['distance'].median(), color='red', linestyle= '--', label='median')\n",
    "plt.axvline(data_1['distance'].mean(), color='orange', linestyle= '--', label='mean')\n",
    "plt.title('Распределение по расстоянию за сессию (поездку)', fontsize=14)\n",
    "plt.xlabel('Расстояние в метрах')\n",
    "plt.ylabel('Количество пользователей')\n",
    "plt.legend();\n"
   ]
  },
  {
   "cell_type": "markdown",
   "id": "c81c262d",
   "metadata": {},
   "source": [
    "Рассмотрим распределение по продолжительности сессий, распределение приближено к нормальному, продолжительность основного количества поездок  находится в диапазоне от 11 до 24 минут. Минимальное время - меньше минуты, а максимальное более 40 минут. Среднее и медиана совпадают - 17 минут."
   ]
  },
  {
   "cell_type": "code",
   "execution_count": 26,
   "id": "5bd1482c",
   "metadata": {},
   "outputs": [
    {
     "data": {
      "image/png": "[encoded data removed]",
      "text/plain": [
       "<Figure size 720x504 with 1 Axes>"
      ]
     },
     "metadata": {
      "needs_background": "light"
     },
     "output_type": "display_data"
    }
   ],
   "source": [
    "data_1['duration'].hist(bins=20, color='#222267', figsize=(10,7))\n",
    "plt.axvline(data_1['duration'].median(), color='red', linestyle= '--', label='median')\n",
    "plt.axvline(data_1['duration'].mean(), color='orange', linestyle= '--', label='mean')\n",
    "plt.title('Распределение по продолжительности сессии (поездки)', fontsize=14)\n",
    "plt.xlabel('Продолжительность в минутах')\n",
    "plt.ylabel('Количество пользователей')\n",
    "plt.legend();"
   ]
  },
  {
   "cell_type": "code",
   "execution_count": 27,
   "id": "42ca7770",
   "metadata": {},
   "outputs": [
    {
     "data": {
      "text/plain": [
       "<AxesSubplot:>"
      ]
     },
     "execution_count": 27,
     "metadata": {},
     "output_type": "execute_result"
    },
    {
     "data": {
      "image/png": "[encoded data removed]",
      "text/plain": [
       "<Figure size 720x504 with 1 Axes>"
      ]
     },
     "metadata": {
      "needs_background": "light"
     },
     "output_type": "display_data"
    }
   ],
   "source": [
    "# Код ревьюера\n",
    "data_1['duration'].hist(bins=50, color='#222267', figsize=(10,7))"
   ]
  },
  {
   "cell_type": "markdown",
   "id": "4ef51331",
   "metadata": {},
   "source": [
    "#### Шаг 4. Объединение данных"
   ]
  },
  {
   "cell_type": "markdown",
   "id": "549b6675",
   "metadata": {},
   "source": [
    "Объединяем данные о пользователях и поездках"
   ]
  },
  {
   "cell_type": "code",
   "execution_count": 28,
   "id": "6bf288b5",
   "metadata": {},
   "outputs": [
    {
     "data": {
      "text/html": [
       "<div>\n",
       "<style scoped>\n",
       "    .dataframe tbody tr th:only-of-type {\n",
       "        vertical-align: middle;\n",
       "    }\n",
       "\n",
       "    .dataframe tbody tr th {\n",
       "        vertical-align: top;\n",
       "    }\n",
       "\n",
       "    .dataframe thead th {\n",
       "        text-align: right;\n",
       "    }\n",
       "</style>\n",
       "<table border=\"1\" class=\"dataframe\">\n",
       "  <thead>\n",
       "    <tr style=\"text-align: right;\">\n",
       "      <th></th>\n",
       "      <th>user_id</th>\n",
       "      <th>name</th>\n",
       "      <th>age</th>\n",
       "      <th>city</th>\n",
       "      <th>subscription_type</th>\n",
       "      <th>distance</th>\n",
       "      <th>duration</th>\n",
       "      <th>date</th>\n",
       "      <th>month</th>\n",
       "    </tr>\n",
       "  </thead>\n",
       "  <tbody>\n",
       "    <tr>\n",
       "      <th>0</th>\n",
       "      <td>1</td>\n",
       "      <td>Кира</td>\n",
       "      <td>22</td>\n",
       "      <td>Тюмень</td>\n",
       "      <td>ultra</td>\n",
       "      <td>4409.919140</td>\n",
       "      <td>25.599769</td>\n",
       "      <td>2021-01-01</td>\n",
       "      <td>1</td>\n",
       "    </tr>\n",
       "    <tr>\n",
       "      <th>1</th>\n",
       "      <td>1</td>\n",
       "      <td>Кира</td>\n",
       "      <td>22</td>\n",
       "      <td>Тюмень</td>\n",
       "      <td>ultra</td>\n",
       "      <td>2617.592153</td>\n",
       "      <td>15.816871</td>\n",
       "      <td>2021-01-18</td>\n",
       "      <td>1</td>\n",
       "    </tr>\n",
       "    <tr>\n",
       "      <th>2</th>\n",
       "      <td>1</td>\n",
       "      <td>Кира</td>\n",
       "      <td>22</td>\n",
       "      <td>Тюмень</td>\n",
       "      <td>ultra</td>\n",
       "      <td>754.159807</td>\n",
       "      <td>6.232113</td>\n",
       "      <td>2021-04-20</td>\n",
       "      <td>4</td>\n",
       "    </tr>\n",
       "    <tr>\n",
       "      <th>3</th>\n",
       "      <td>1</td>\n",
       "      <td>Кира</td>\n",
       "      <td>22</td>\n",
       "      <td>Тюмень</td>\n",
       "      <td>ultra</td>\n",
       "      <td>2694.783254</td>\n",
       "      <td>18.511000</td>\n",
       "      <td>2021-08-11</td>\n",
       "      <td>8</td>\n",
       "    </tr>\n",
       "    <tr>\n",
       "      <th>4</th>\n",
       "      <td>1</td>\n",
       "      <td>Кира</td>\n",
       "      <td>22</td>\n",
       "      <td>Тюмень</td>\n",
       "      <td>ultra</td>\n",
       "      <td>4028.687306</td>\n",
       "      <td>26.265803</td>\n",
       "      <td>2021-08-28</td>\n",
       "      <td>8</td>\n",
       "    </tr>\n",
       "    <tr>\n",
       "      <th>5</th>\n",
       "      <td>1</td>\n",
       "      <td>Кира</td>\n",
       "      <td>22</td>\n",
       "      <td>Тюмень</td>\n",
       "      <td>ultra</td>\n",
       "      <td>2770.890808</td>\n",
       "      <td>16.650138</td>\n",
       "      <td>2021-10-09</td>\n",
       "      <td>10</td>\n",
       "    </tr>\n",
       "    <tr>\n",
       "      <th>6</th>\n",
       "      <td>1</td>\n",
       "      <td>Кира</td>\n",
       "      <td>22</td>\n",
       "      <td>Тюмень</td>\n",
       "      <td>ultra</td>\n",
       "      <td>3039.020292</td>\n",
       "      <td>14.927879</td>\n",
       "      <td>2021-10-19</td>\n",
       "      <td>10</td>\n",
       "    </tr>\n",
       "    <tr>\n",
       "      <th>7</th>\n",
       "      <td>1</td>\n",
       "      <td>Кира</td>\n",
       "      <td>22</td>\n",
       "      <td>Тюмень</td>\n",
       "      <td>ultra</td>\n",
       "      <td>2842.118050</td>\n",
       "      <td>23.117468</td>\n",
       "      <td>2021-11-06</td>\n",
       "      <td>11</td>\n",
       "    </tr>\n",
       "    <tr>\n",
       "      <th>8</th>\n",
       "      <td>1</td>\n",
       "      <td>Кира</td>\n",
       "      <td>22</td>\n",
       "      <td>Тюмень</td>\n",
       "      <td>ultra</td>\n",
       "      <td>3412.690668</td>\n",
       "      <td>15.238072</td>\n",
       "      <td>2021-11-14</td>\n",
       "      <td>11</td>\n",
       "    </tr>\n",
       "    <tr>\n",
       "      <th>9</th>\n",
       "      <td>1</td>\n",
       "      <td>Кира</td>\n",
       "      <td>22</td>\n",
       "      <td>Тюмень</td>\n",
       "      <td>ultra</td>\n",
       "      <td>748.690645</td>\n",
       "      <td>15.041884</td>\n",
       "      <td>2021-11-22</td>\n",
       "      <td>11</td>\n",
       "    </tr>\n",
       "    <tr>\n",
       "      <th>10</th>\n",
       "      <td>1</td>\n",
       "      <td>Кира</td>\n",
       "      <td>22</td>\n",
       "      <td>Тюмень</td>\n",
       "      <td>ultra</td>\n",
       "      <td>4031.020195</td>\n",
       "      <td>17.674448</td>\n",
       "      <td>2021-12-14</td>\n",
       "      <td>12</td>\n",
       "    </tr>\n",
       "    <tr>\n",
       "      <th>11</th>\n",
       "      <td>1</td>\n",
       "      <td>Кира</td>\n",
       "      <td>22</td>\n",
       "      <td>Тюмень</td>\n",
       "      <td>ultra</td>\n",
       "      <td>2720.609748</td>\n",
       "      <td>9.529463</td>\n",
       "      <td>2021-12-22</td>\n",
       "      <td>12</td>\n",
       "    </tr>\n",
       "    <tr>\n",
       "      <th>12</th>\n",
       "      <td>2</td>\n",
       "      <td>Станислав</td>\n",
       "      <td>31</td>\n",
       "      <td>Омск</td>\n",
       "      <td>ultra</td>\n",
       "      <td>3105.086678</td>\n",
       "      <td>24.307514</td>\n",
       "      <td>2021-03-15</td>\n",
       "      <td>3</td>\n",
       "    </tr>\n",
       "    <tr>\n",
       "      <th>13</th>\n",
       "      <td>2</td>\n",
       "      <td>Станислав</td>\n",
       "      <td>31</td>\n",
       "      <td>Омск</td>\n",
       "      <td>ultra</td>\n",
       "      <td>3053.519401</td>\n",
       "      <td>11.543256</td>\n",
       "      <td>2021-03-18</td>\n",
       "      <td>3</td>\n",
       "    </tr>\n",
       "    <tr>\n",
       "      <th>14</th>\n",
       "      <td>2</td>\n",
       "      <td>Станислав</td>\n",
       "      <td>31</td>\n",
       "      <td>Омск</td>\n",
       "      <td>ultra</td>\n",
       "      <td>4029.116927</td>\n",
       "      <td>25.109188</td>\n",
       "      <td>2021-03-23</td>\n",
       "      <td>3</td>\n",
       "    </tr>\n",
       "  </tbody>\n",
       "</table>\n",
       "</div>"
      ],
      "text/plain": [
       "    user_id       name  age    city subscription_type     distance   duration  \\\n",
       "0         1       Кира   22  Тюмень             ultra  4409.919140  25.599769   \n",
       "1         1       Кира   22  Тюмень             ultra  2617.592153  15.816871   \n",
       "2         1       Кира   22  Тюмень             ultra   754.159807   6.232113   \n",
       "3         1       Кира   22  Тюмень             ultra  2694.783254  18.511000   \n",
       "4         1       Кира   22  Тюмень             ultra  4028.687306  26.265803   \n",
       "5         1       Кира   22  Тюмень             ultra  2770.890808  16.650138   \n",
       "6         1       Кира   22  Тюмень             ultra  3039.020292  14.927879   \n",
       "7         1       Кира   22  Тюмень             ultra  2842.118050  23.117468   \n",
       "8         1       Кира   22  Тюмень             ultra  3412.690668  15.238072   \n",
       "9         1       Кира   22  Тюмень             ultra   748.690645  15.041884   \n",
       "10        1       Кира   22  Тюмень             ultra  4031.020195  17.674448   \n",
       "11        1       Кира   22  Тюмень             ultra  2720.609748   9.529463   \n",
       "12        2  Станислав   31    Омск             ultra  3105.086678  24.307514   \n",
       "13        2  Станислав   31    Омск             ultra  3053.519401  11.543256   \n",
       "14        2  Станислав   31    Омск             ultra  4029.116927  25.109188   \n",
       "\n",
       "         date  month  \n",
       "0  2021-01-01      1  \n",
       "1  2021-01-18      1  \n",
       "2  2021-04-20      4  \n",
       "3  2021-08-11      8  \n",
       "4  2021-08-28      8  \n",
       "5  2021-10-09     10  \n",
       "6  2021-10-19     10  \n",
       "7  2021-11-06     11  \n",
       "8  2021-11-14     11  \n",
       "9  2021-11-22     11  \n",
       "10 2021-12-14     12  \n",
       "11 2021-12-22     12  \n",
       "12 2021-03-15      3  \n",
       "13 2021-03-18      3  \n",
       "14 2021-03-23      3  "
      ]
     },
     "execution_count": 28,
     "metadata": {},
     "output_type": "execute_result"
    }
   ],
   "source": [
    "data_full = data.merge(data_1, on='user_id')\n",
    "data_full.head(15)"
   ]
  },
  {
   "cell_type": "markdown",
   "id": "448091e5",
   "metadata": {},
   "source": [
    "В полученный файл добавляем данные о подписках"
   ]
  },
  {
   "cell_type": "code",
   "execution_count": 29,
   "id": "de5bd3c4",
   "metadata": {},
   "outputs": [
    {
     "data": {
      "text/html": [
       "<div>\n",
       "<style scoped>\n",
       "    .dataframe tbody tr th:only-of-type {\n",
       "        vertical-align: middle;\n",
       "    }\n",
       "\n",
       "    .dataframe tbody tr th {\n",
       "        vertical-align: top;\n",
       "    }\n",
       "\n",
       "    .dataframe thead th {\n",
       "        text-align: right;\n",
       "    }\n",
       "</style>\n",
       "<table border=\"1\" class=\"dataframe\">\n",
       "  <thead>\n",
       "    <tr style=\"text-align: right;\">\n",
       "      <th></th>\n",
       "      <th>user_id</th>\n",
       "      <th>name</th>\n",
       "      <th>age</th>\n",
       "      <th>city</th>\n",
       "      <th>subscription_type</th>\n",
       "      <th>distance</th>\n",
       "      <th>duration</th>\n",
       "      <th>date</th>\n",
       "      <th>month</th>\n",
       "      <th>minute_price</th>\n",
       "      <th>start_ride_price</th>\n",
       "      <th>subscription_fee</th>\n",
       "    </tr>\n",
       "  </thead>\n",
       "  <tbody>\n",
       "    <tr>\n",
       "      <th>0</th>\n",
       "      <td>1</td>\n",
       "      <td>Кира</td>\n",
       "      <td>22</td>\n",
       "      <td>Тюмень</td>\n",
       "      <td>ultra</td>\n",
       "      <td>4409.919140</td>\n",
       "      <td>25.599769</td>\n",
       "      <td>2021-01-01</td>\n",
       "      <td>1</td>\n",
       "      <td>6</td>\n",
       "      <td>0</td>\n",
       "      <td>199</td>\n",
       "    </tr>\n",
       "    <tr>\n",
       "      <th>1</th>\n",
       "      <td>1</td>\n",
       "      <td>Кира</td>\n",
       "      <td>22</td>\n",
       "      <td>Тюмень</td>\n",
       "      <td>ultra</td>\n",
       "      <td>2617.592153</td>\n",
       "      <td>15.816871</td>\n",
       "      <td>2021-01-18</td>\n",
       "      <td>1</td>\n",
       "      <td>6</td>\n",
       "      <td>0</td>\n",
       "      <td>199</td>\n",
       "    </tr>\n",
       "    <tr>\n",
       "      <th>2</th>\n",
       "      <td>1</td>\n",
       "      <td>Кира</td>\n",
       "      <td>22</td>\n",
       "      <td>Тюмень</td>\n",
       "      <td>ultra</td>\n",
       "      <td>754.159807</td>\n",
       "      <td>6.232113</td>\n",
       "      <td>2021-04-20</td>\n",
       "      <td>4</td>\n",
       "      <td>6</td>\n",
       "      <td>0</td>\n",
       "      <td>199</td>\n",
       "    </tr>\n",
       "    <tr>\n",
       "      <th>3</th>\n",
       "      <td>1</td>\n",
       "      <td>Кира</td>\n",
       "      <td>22</td>\n",
       "      <td>Тюмень</td>\n",
       "      <td>ultra</td>\n",
       "      <td>2694.783254</td>\n",
       "      <td>18.511000</td>\n",
       "      <td>2021-08-11</td>\n",
       "      <td>8</td>\n",
       "      <td>6</td>\n",
       "      <td>0</td>\n",
       "      <td>199</td>\n",
       "    </tr>\n",
       "    <tr>\n",
       "      <th>4</th>\n",
       "      <td>1</td>\n",
       "      <td>Кира</td>\n",
       "      <td>22</td>\n",
       "      <td>Тюмень</td>\n",
       "      <td>ultra</td>\n",
       "      <td>4028.687306</td>\n",
       "      <td>26.265803</td>\n",
       "      <td>2021-08-28</td>\n",
       "      <td>8</td>\n",
       "      <td>6</td>\n",
       "      <td>0</td>\n",
       "      <td>199</td>\n",
       "    </tr>\n",
       "    <tr>\n",
       "      <th>5</th>\n",
       "      <td>1</td>\n",
       "      <td>Кира</td>\n",
       "      <td>22</td>\n",
       "      <td>Тюмень</td>\n",
       "      <td>ultra</td>\n",
       "      <td>2770.890808</td>\n",
       "      <td>16.650138</td>\n",
       "      <td>2021-10-09</td>\n",
       "      <td>10</td>\n",
       "      <td>6</td>\n",
       "      <td>0</td>\n",
       "      <td>199</td>\n",
       "    </tr>\n",
       "    <tr>\n",
       "      <th>6</th>\n",
       "      <td>1</td>\n",
       "      <td>Кира</td>\n",
       "      <td>22</td>\n",
       "      <td>Тюмень</td>\n",
       "      <td>ultra</td>\n",
       "      <td>3039.020292</td>\n",
       "      <td>14.927879</td>\n",
       "      <td>2021-10-19</td>\n",
       "      <td>10</td>\n",
       "      <td>6</td>\n",
       "      <td>0</td>\n",
       "      <td>199</td>\n",
       "    </tr>\n",
       "    <tr>\n",
       "      <th>7</th>\n",
       "      <td>1</td>\n",
       "      <td>Кира</td>\n",
       "      <td>22</td>\n",
       "      <td>Тюмень</td>\n",
       "      <td>ultra</td>\n",
       "      <td>2842.118050</td>\n",
       "      <td>23.117468</td>\n",
       "      <td>2021-11-06</td>\n",
       "      <td>11</td>\n",
       "      <td>6</td>\n",
       "      <td>0</td>\n",
       "      <td>199</td>\n",
       "    </tr>\n",
       "    <tr>\n",
       "      <th>8</th>\n",
       "      <td>1</td>\n",
       "      <td>Кира</td>\n",
       "      <td>22</td>\n",
       "      <td>Тюмень</td>\n",
       "      <td>ultra</td>\n",
       "      <td>3412.690668</td>\n",
       "      <td>15.238072</td>\n",
       "      <td>2021-11-14</td>\n",
       "      <td>11</td>\n",
       "      <td>6</td>\n",
       "      <td>0</td>\n",
       "      <td>199</td>\n",
       "    </tr>\n",
       "    <tr>\n",
       "      <th>9</th>\n",
       "      <td>1</td>\n",
       "      <td>Кира</td>\n",
       "      <td>22</td>\n",
       "      <td>Тюмень</td>\n",
       "      <td>ultra</td>\n",
       "      <td>748.690645</td>\n",
       "      <td>15.041884</td>\n",
       "      <td>2021-11-22</td>\n",
       "      <td>11</td>\n",
       "      <td>6</td>\n",
       "      <td>0</td>\n",
       "      <td>199</td>\n",
       "    </tr>\n",
       "    <tr>\n",
       "      <th>10</th>\n",
       "      <td>1</td>\n",
       "      <td>Кира</td>\n",
       "      <td>22</td>\n",
       "      <td>Тюмень</td>\n",
       "      <td>ultra</td>\n",
       "      <td>4031.020195</td>\n",
       "      <td>17.674448</td>\n",
       "      <td>2021-12-14</td>\n",
       "      <td>12</td>\n",
       "      <td>6</td>\n",
       "      <td>0</td>\n",
       "      <td>199</td>\n",
       "    </tr>\n",
       "    <tr>\n",
       "      <th>11</th>\n",
       "      <td>1</td>\n",
       "      <td>Кира</td>\n",
       "      <td>22</td>\n",
       "      <td>Тюмень</td>\n",
       "      <td>ultra</td>\n",
       "      <td>2720.609748</td>\n",
       "      <td>9.529463</td>\n",
       "      <td>2021-12-22</td>\n",
       "      <td>12</td>\n",
       "      <td>6</td>\n",
       "      <td>0</td>\n",
       "      <td>199</td>\n",
       "    </tr>\n",
       "    <tr>\n",
       "      <th>12</th>\n",
       "      <td>2</td>\n",
       "      <td>Станислав</td>\n",
       "      <td>31</td>\n",
       "      <td>Омск</td>\n",
       "      <td>ultra</td>\n",
       "      <td>3105.086678</td>\n",
       "      <td>24.307514</td>\n",
       "      <td>2021-03-15</td>\n",
       "      <td>3</td>\n",
       "      <td>6</td>\n",
       "      <td>0</td>\n",
       "      <td>199</td>\n",
       "    </tr>\n",
       "    <tr>\n",
       "      <th>13</th>\n",
       "      <td>2</td>\n",
       "      <td>Станислав</td>\n",
       "      <td>31</td>\n",
       "      <td>Омск</td>\n",
       "      <td>ultra</td>\n",
       "      <td>3053.519401</td>\n",
       "      <td>11.543256</td>\n",
       "      <td>2021-03-18</td>\n",
       "      <td>3</td>\n",
       "      <td>6</td>\n",
       "      <td>0</td>\n",
       "      <td>199</td>\n",
       "    </tr>\n",
       "    <tr>\n",
       "      <th>14</th>\n",
       "      <td>2</td>\n",
       "      <td>Станислав</td>\n",
       "      <td>31</td>\n",
       "      <td>Омск</td>\n",
       "      <td>ultra</td>\n",
       "      <td>4029.116927</td>\n",
       "      <td>25.109188</td>\n",
       "      <td>2021-03-23</td>\n",
       "      <td>3</td>\n",
       "      <td>6</td>\n",
       "      <td>0</td>\n",
       "      <td>199</td>\n",
       "    </tr>\n",
       "  </tbody>\n",
       "</table>\n",
       "</div>"
      ],
      "text/plain": [
       "    user_id       name  age    city subscription_type     distance   duration  \\\n",
       "0         1       Кира   22  Тюмень             ultra  4409.919140  25.599769   \n",
       "1         1       Кира   22  Тюмень             ultra  2617.592153  15.816871   \n",
       "2         1       Кира   22  Тюмень             ultra   754.159807   6.232113   \n",
       "3         1       Кира   22  Тюмень             ultra  2694.783254  18.511000   \n",
       "4         1       Кира   22  Тюмень             ultra  4028.687306  26.265803   \n",
       "5         1       Кира   22  Тюмень             ultra  2770.890808  16.650138   \n",
       "6         1       Кира   22  Тюмень             ultra  3039.020292  14.927879   \n",
       "7         1       Кира   22  Тюмень             ultra  2842.118050  23.117468   \n",
       "8         1       Кира   22  Тюмень             ultra  3412.690668  15.238072   \n",
       "9         1       Кира   22  Тюмень             ultra   748.690645  15.041884   \n",
       "10        1       Кира   22  Тюмень             ultra  4031.020195  17.674448   \n",
       "11        1       Кира   22  Тюмень             ultra  2720.609748   9.529463   \n",
       "12        2  Станислав   31    Омск             ultra  3105.086678  24.307514   \n",
       "13        2  Станислав   31    Омск             ultra  3053.519401  11.543256   \n",
       "14        2  Станислав   31    Омск             ultra  4029.116927  25.109188   \n",
       "\n",
       "         date  month  minute_price  start_ride_price  subscription_fee  \n",
       "0  2021-01-01      1             6                 0               199  \n",
       "1  2021-01-18      1             6                 0               199  \n",
       "2  2021-04-20      4             6                 0               199  \n",
       "3  2021-08-11      8             6                 0               199  \n",
       "4  2021-08-28      8             6                 0               199  \n",
       "5  2021-10-09     10             6                 0               199  \n",
       "6  2021-10-19     10             6                 0               199  \n",
       "7  2021-11-06     11             6                 0               199  \n",
       "8  2021-11-14     11             6                 0               199  \n",
       "9  2021-11-22     11             6                 0               199  \n",
       "10 2021-12-14     12             6                 0               199  \n",
       "11 2021-12-22     12             6                 0               199  \n",
       "12 2021-03-15      3             6                 0               199  \n",
       "13 2021-03-18      3             6                 0               199  \n",
       "14 2021-03-23      3             6                 0               199  "
      ]
     },
     "execution_count": 29,
     "metadata": {},
     "output_type": "execute_result"
    }
   ],
   "source": [
    "data_full = data_full.merge(data_price, on='subscription_type')\n",
    "data_full.head(15)"
   ]
  },
  {
   "cell_type": "markdown",
   "id": "e6b8f45c",
   "metadata": {},
   "source": [
    "Сформируем два отдельных датафрейма в разрезе подписок"
   ]
  },
  {
   "cell_type": "code",
   "execution_count": 30,
   "id": "b589f8b2",
   "metadata": {},
   "outputs": [],
   "source": [
    "data_full_ultra = data_full.loc[data_full['subscription_type'] == 'ultra']"
   ]
  },
  {
   "cell_type": "code",
   "execution_count": 31,
   "id": "f2e82ec7",
   "metadata": {},
   "outputs": [],
   "source": [
    "data_full_free = data_full.loc[data_full['subscription_type'] == 'free']"
   ]
  },
  {
   "cell_type": "markdown",
   "id": "f390ff21",
   "metadata": {},
   "source": [
    "Рассмотрим сравнение распределений по возрасту, расстоянию и продолжительности поездки в разрезе подписок"
   ]
  },
  {
   "cell_type": "code",
   "execution_count": 32,
   "id": "fccb9ae0",
   "metadata": {},
   "outputs": [
    {
     "data": {
      "text/plain": [
       "18068"
      ]
     },
     "metadata": {},
     "output_type": "display_data"
    },
    {
     "data": {
      "text/plain": [
       "11568"
      ]
     },
     "metadata": {},
     "output_type": "display_data"
    },
    {
     "data": {
      "text/plain": [
       "6500"
      ]
     },
     "execution_count": 32,
     "metadata": {},
     "output_type": "execute_result"
    }
   ],
   "source": [
    "# Код ревьюера\n",
    "display(data_full.shape[0])\n",
    "display(data_full_free.shape[0])\n",
    "data_full_ultra.shape[0]"
   ]
  },
  {
   "cell_type": "code",
   "execution_count": 33,
   "id": "8a182718",
   "metadata": {},
   "outputs": [
    {
     "data": {
      "image/png": "[encoded data removed]",
      "text/plain": [
       "<Figure size 1152x576 with 4 Axes>"
      ]
     },
     "metadata": {
      "needs_background": "light"
     },
     "output_type": "display_data"
    }
   ],
   "source": [
    "num_cols=['age', 'distance', 'duration']\n",
    "subscription_type='subscription_type'\n",
    "fig, axes = plt.subplots(ncols=2, nrows=2, figsize=(16, 8))\n",
    "for i, col in enumerate(num_cols):\n",
    "    ax = axes[int(i/2), i%2]\n",
    "    sns.histplot(data_full, x=col, ax=ax, hue=subscription_type)\n",
    "    \n",
    "    "
   ]
  },
  {
   "cell_type": "code",
   "execution_count": 34,
   "id": "1ab1b39b",
   "metadata": {},
   "outputs": [
    {
     "data": {
      "text/html": [
       "<div>\n",
       "<style scoped>\n",
       "    .dataframe tbody tr th:only-of-type {\n",
       "        vertical-align: middle;\n",
       "    }\n",
       "\n",
       "    .dataframe tbody tr th {\n",
       "        vertical-align: top;\n",
       "    }\n",
       "\n",
       "    .dataframe thead tr th {\n",
       "        text-align: left;\n",
       "    }\n",
       "\n",
       "    .dataframe thead tr:last-of-type th {\n",
       "        text-align: right;\n",
       "    }\n",
       "</style>\n",
       "<table border=\"1\" class=\"dataframe\">\n",
       "  <thead>\n",
       "    <tr>\n",
       "      <th></th>\n",
       "      <th colspan=\"3\" halign=\"left\">count</th>\n",
       "      <th colspan=\"3\" halign=\"left\">mean</th>\n",
       "      <th colspan=\"3\" halign=\"left\">median</th>\n",
       "    </tr>\n",
       "    <tr>\n",
       "      <th></th>\n",
       "      <th>age</th>\n",
       "      <th>distance</th>\n",
       "      <th>duration</th>\n",
       "      <th>age</th>\n",
       "      <th>distance</th>\n",
       "      <th>duration</th>\n",
       "      <th>age</th>\n",
       "      <th>distance</th>\n",
       "      <th>duration</th>\n",
       "    </tr>\n",
       "    <tr>\n",
       "      <th>subscription_type</th>\n",
       "      <th></th>\n",
       "      <th></th>\n",
       "      <th></th>\n",
       "      <th></th>\n",
       "      <th></th>\n",
       "      <th></th>\n",
       "      <th></th>\n",
       "      <th></th>\n",
       "      <th></th>\n",
       "    </tr>\n",
       "  </thead>\n",
       "  <tbody>\n",
       "    <tr>\n",
       "      <th>free</th>\n",
       "      <td>11568</td>\n",
       "      <td>11568</td>\n",
       "      <td>11568</td>\n",
       "      <td>24.893326</td>\n",
       "      <td>3045.495282</td>\n",
       "      <td>17.390909</td>\n",
       "      <td>25</td>\n",
       "      <td>3114.648465</td>\n",
       "      <td>17.326890</td>\n",
       "    </tr>\n",
       "    <tr>\n",
       "      <th>ultra</th>\n",
       "      <td>6500</td>\n",
       "      <td>6500</td>\n",
       "      <td>6500</td>\n",
       "      <td>24.892615</td>\n",
       "      <td>3115.445388</td>\n",
       "      <td>18.541985</td>\n",
       "      <td>25</td>\n",
       "      <td>3148.637229</td>\n",
       "      <td>18.178153</td>\n",
       "    </tr>\n",
       "  </tbody>\n",
       "</table>\n",
       "</div>"
      ],
      "text/plain": [
       "                   count                         mean                          \\\n",
       "                     age distance duration        age     distance   duration   \n",
       "subscription_type                                                               \n",
       "free               11568    11568    11568  24.893326  3045.495282  17.390909   \n",
       "ultra               6500     6500     6500  24.892615  3115.445388  18.541985   \n",
       "\n",
       "                  median                          \n",
       "                     age     distance   duration  \n",
       "subscription_type                                 \n",
       "free                  25  3114.648465  17.326890  \n",
       "ultra                 25  3148.637229  18.178153  "
      ]
     },
     "execution_count": 34,
     "metadata": {},
     "output_type": "execute_result"
    }
   ],
   "source": [
    "data_full_pivot=data_full.pivot_table(index=['subscription_type'], values=['age', 'distance', 'duration'], aggfunc=['count', 'mean', 'median'])\n",
    "data_full_pivot"
   ]
  },
  {
   "cell_type": "markdown",
   "id": "e693dcdb",
   "metadata": {},
   "source": [
    "\n",
    "При сравнении распределения данных о поездках, дистанции и возраста пользователей, можно сделать следующие выводы:\n",
    "    - распределения по показателям в обеих подписках похожи и приближены к нормальному\n",
    "    - распределение по возрастам пользователей в категории ultra более равномерное, чем категории free, но средний возраст пользователей в обеих категориях одинаковый\n",
    "    - пользователи обеих категорий в среднем проезжают примерно 3000 метров, но количество продолжительных поездок в категории free знаительно больше "
   ]
  },
  {
   "cell_type": "markdown",
   "id": "402d620f",
   "metadata": {},
   "source": [
    "#### Шаг 5. Подсчёт выручки"
   ]
  },
  {
   "cell_type": "markdown",
   "id": "8a6107bd",
   "metadata": {},
   "source": [
    "Создаем датафрейм с агрегированными данными о поездках, рассчитаем суммарное расстояние, количество поездок и суммарное время для каждого пользователя за каждый месяц."
   ]
  },
  {
   "cell_type": "code",
   "execution_count": 35,
   "id": "6ea812ca",
   "metadata": {},
   "outputs": [
    {
     "data": {
      "text/html": [
       "<div>\n",
       "<style scoped>\n",
       "    .dataframe tbody tr th:only-of-type {\n",
       "        vertical-align: middle;\n",
       "    }\n",
       "\n",
       "    .dataframe tbody tr th {\n",
       "        vertical-align: top;\n",
       "    }\n",
       "\n",
       "    .dataframe thead th {\n",
       "        text-align: right;\n",
       "    }\n",
       "</style>\n",
       "<table border=\"1\" class=\"dataframe\">\n",
       "  <thead>\n",
       "    <tr style=\"text-align: right;\">\n",
       "      <th></th>\n",
       "      <th>user_id</th>\n",
       "      <th>name</th>\n",
       "      <th>age</th>\n",
       "      <th>city</th>\n",
       "      <th>subscription_type</th>\n",
       "      <th>distance</th>\n",
       "      <th>duration</th>\n",
       "      <th>date</th>\n",
       "      <th>month</th>\n",
       "      <th>minute_price</th>\n",
       "      <th>start_ride_price</th>\n",
       "      <th>subscription_fee</th>\n",
       "    </tr>\n",
       "  </thead>\n",
       "  <tbody>\n",
       "    <tr>\n",
       "      <th>0</th>\n",
       "      <td>1</td>\n",
       "      <td>Кира</td>\n",
       "      <td>22</td>\n",
       "      <td>Тюмень</td>\n",
       "      <td>ultra</td>\n",
       "      <td>4409.919140</td>\n",
       "      <td>26.0</td>\n",
       "      <td>2021-01-01</td>\n",
       "      <td>1</td>\n",
       "      <td>6</td>\n",
       "      <td>0</td>\n",
       "      <td>199</td>\n",
       "    </tr>\n",
       "    <tr>\n",
       "      <th>1</th>\n",
       "      <td>1</td>\n",
       "      <td>Кира</td>\n",
       "      <td>22</td>\n",
       "      <td>Тюмень</td>\n",
       "      <td>ultra</td>\n",
       "      <td>2617.592153</td>\n",
       "      <td>16.0</td>\n",
       "      <td>2021-01-18</td>\n",
       "      <td>1</td>\n",
       "      <td>6</td>\n",
       "      <td>0</td>\n",
       "      <td>199</td>\n",
       "    </tr>\n",
       "    <tr>\n",
       "      <th>2</th>\n",
       "      <td>1</td>\n",
       "      <td>Кира</td>\n",
       "      <td>22</td>\n",
       "      <td>Тюмень</td>\n",
       "      <td>ultra</td>\n",
       "      <td>754.159807</td>\n",
       "      <td>7.0</td>\n",
       "      <td>2021-04-20</td>\n",
       "      <td>4</td>\n",
       "      <td>6</td>\n",
       "      <td>0</td>\n",
       "      <td>199</td>\n",
       "    </tr>\n",
       "    <tr>\n",
       "      <th>3</th>\n",
       "      <td>1</td>\n",
       "      <td>Кира</td>\n",
       "      <td>22</td>\n",
       "      <td>Тюмень</td>\n",
       "      <td>ultra</td>\n",
       "      <td>2694.783254</td>\n",
       "      <td>19.0</td>\n",
       "      <td>2021-08-11</td>\n",
       "      <td>8</td>\n",
       "      <td>6</td>\n",
       "      <td>0</td>\n",
       "      <td>199</td>\n",
       "    </tr>\n",
       "    <tr>\n",
       "      <th>4</th>\n",
       "      <td>1</td>\n",
       "      <td>Кира</td>\n",
       "      <td>22</td>\n",
       "      <td>Тюмень</td>\n",
       "      <td>ultra</td>\n",
       "      <td>4028.687306</td>\n",
       "      <td>27.0</td>\n",
       "      <td>2021-08-28</td>\n",
       "      <td>8</td>\n",
       "      <td>6</td>\n",
       "      <td>0</td>\n",
       "      <td>199</td>\n",
       "    </tr>\n",
       "  </tbody>\n",
       "</table>\n",
       "</div>"
      ],
      "text/plain": [
       "   user_id  name  age    city subscription_type     distance  duration  \\\n",
       "0        1  Кира   22  Тюмень             ultra  4409.919140      26.0   \n",
       "1        1  Кира   22  Тюмень             ultra  2617.592153      16.0   \n",
       "2        1  Кира   22  Тюмень             ultra   754.159807       7.0   \n",
       "3        1  Кира   22  Тюмень             ultra  2694.783254      19.0   \n",
       "4        1  Кира   22  Тюмень             ultra  4028.687306      27.0   \n",
       "\n",
       "        date  month  minute_price  start_ride_price  subscription_fee  \n",
       "0 2021-01-01      1             6                 0               199  \n",
       "1 2021-01-18      1             6                 0               199  \n",
       "2 2021-04-20      4             6                 0               199  \n",
       "3 2021-08-11      8             6                 0               199  \n",
       "4 2021-08-28      8             6                 0               199  "
      ]
     },
     "execution_count": 35,
     "metadata": {},
     "output_type": "execute_result"
    }
   ],
   "source": [
    "data_full['duration'] = np.ceil(data_full['duration'])\n",
    "data_full.head()"
   ]
  },
  {
   "cell_type": "code",
   "execution_count": 36,
   "id": "6ea260a9",
   "metadata": {},
   "outputs": [
    {
     "data": {
      "text/html": [
       "<div>\n",
       "<style scoped>\n",
       "    .dataframe tbody tr th:only-of-type {\n",
       "        vertical-align: middle;\n",
       "    }\n",
       "\n",
       "    .dataframe tbody tr th {\n",
       "        vertical-align: top;\n",
       "    }\n",
       "\n",
       "    .dataframe thead tr th {\n",
       "        text-align: left;\n",
       "    }\n",
       "\n",
       "    .dataframe thead tr:last-of-type th {\n",
       "        text-align: right;\n",
       "    }\n",
       "</style>\n",
       "<table border=\"1\" class=\"dataframe\">\n",
       "  <thead>\n",
       "    <tr>\n",
       "      <th></th>\n",
       "      <th></th>\n",
       "      <th>distance</th>\n",
       "      <th colspan=\"2\" halign=\"left\">duration</th>\n",
       "      <th>subscription_type</th>\n",
       "      <th>minute_price</th>\n",
       "      <th>start_ride_price</th>\n",
       "      <th>subscription_fee</th>\n",
       "    </tr>\n",
       "    <tr>\n",
       "      <th></th>\n",
       "      <th></th>\n",
       "      <th>sum</th>\n",
       "      <th>sum</th>\n",
       "      <th>count</th>\n",
       "      <th>first</th>\n",
       "      <th>first</th>\n",
       "      <th>first</th>\n",
       "      <th>first</th>\n",
       "    </tr>\n",
       "    <tr>\n",
       "      <th>user_id</th>\n",
       "      <th>month</th>\n",
       "      <th></th>\n",
       "      <th></th>\n",
       "      <th></th>\n",
       "      <th></th>\n",
       "      <th></th>\n",
       "      <th></th>\n",
       "      <th></th>\n",
       "    </tr>\n",
       "  </thead>\n",
       "  <tbody>\n",
       "    <tr>\n",
       "      <th rowspan=\"6\" valign=\"top\">1</th>\n",
       "      <th>1</th>\n",
       "      <td>7027.511294</td>\n",
       "      <td>42.0</td>\n",
       "      <td>2</td>\n",
       "      <td>ultra</td>\n",
       "      <td>6</td>\n",
       "      <td>0</td>\n",
       "      <td>199</td>\n",
       "    </tr>\n",
       "    <tr>\n",
       "      <th>4</th>\n",
       "      <td>754.159807</td>\n",
       "      <td>7.0</td>\n",
       "      <td>1</td>\n",
       "      <td>ultra</td>\n",
       "      <td>6</td>\n",
       "      <td>0</td>\n",
       "      <td>199</td>\n",
       "    </tr>\n",
       "    <tr>\n",
       "      <th>8</th>\n",
       "      <td>6723.470560</td>\n",
       "      <td>46.0</td>\n",
       "      <td>2</td>\n",
       "      <td>ultra</td>\n",
       "      <td>6</td>\n",
       "      <td>0</td>\n",
       "      <td>199</td>\n",
       "    </tr>\n",
       "    <tr>\n",
       "      <th>10</th>\n",
       "      <td>5809.911100</td>\n",
       "      <td>32.0</td>\n",
       "      <td>2</td>\n",
       "      <td>ultra</td>\n",
       "      <td>6</td>\n",
       "      <td>0</td>\n",
       "      <td>199</td>\n",
       "    </tr>\n",
       "    <tr>\n",
       "      <th>11</th>\n",
       "      <td>7003.499363</td>\n",
       "      <td>56.0</td>\n",
       "      <td>3</td>\n",
       "      <td>ultra</td>\n",
       "      <td>6</td>\n",
       "      <td>0</td>\n",
       "      <td>199</td>\n",
       "    </tr>\n",
       "    <tr>\n",
       "      <th>12</th>\n",
       "      <td>6751.629942</td>\n",
       "      <td>28.0</td>\n",
       "      <td>2</td>\n",
       "      <td>ultra</td>\n",
       "      <td>6</td>\n",
       "      <td>0</td>\n",
       "      <td>199</td>\n",
       "    </tr>\n",
       "    <tr>\n",
       "      <th rowspan=\"7\" valign=\"top\">2</th>\n",
       "      <th>3</th>\n",
       "      <td>10187.723006</td>\n",
       "      <td>63.0</td>\n",
       "      <td>3</td>\n",
       "      <td>ultra</td>\n",
       "      <td>6</td>\n",
       "      <td>0</td>\n",
       "      <td>199</td>\n",
       "    </tr>\n",
       "    <tr>\n",
       "      <th>4</th>\n",
       "      <td>6164.381824</td>\n",
       "      <td>40.0</td>\n",
       "      <td>2</td>\n",
       "      <td>ultra</td>\n",
       "      <td>6</td>\n",
       "      <td>0</td>\n",
       "      <td>199</td>\n",
       "    </tr>\n",
       "    <tr>\n",
       "      <th>6</th>\n",
       "      <td>3255.338202</td>\n",
       "      <td>14.0</td>\n",
       "      <td>1</td>\n",
       "      <td>ultra</td>\n",
       "      <td>6</td>\n",
       "      <td>0</td>\n",
       "      <td>199</td>\n",
       "    </tr>\n",
       "    <tr>\n",
       "      <th>7</th>\n",
       "      <td>6780.722964</td>\n",
       "      <td>48.0</td>\n",
       "      <td>2</td>\n",
       "      <td>ultra</td>\n",
       "      <td>6</td>\n",
       "      <td>0</td>\n",
       "      <td>199</td>\n",
       "    </tr>\n",
       "    <tr>\n",
       "      <th>8</th>\n",
       "      <td>923.007439</td>\n",
       "      <td>7.0</td>\n",
       "      <td>1</td>\n",
       "      <td>ultra</td>\n",
       "      <td>6</td>\n",
       "      <td>0</td>\n",
       "      <td>199</td>\n",
       "    </tr>\n",
       "    <tr>\n",
       "      <th>10</th>\n",
       "      <td>2824.636598</td>\n",
       "      <td>19.0</td>\n",
       "      <td>1</td>\n",
       "      <td>ultra</td>\n",
       "      <td>6</td>\n",
       "      <td>0</td>\n",
       "      <td>199</td>\n",
       "    </tr>\n",
       "    <tr>\n",
       "      <th>12</th>\n",
       "      <td>3828.248580</td>\n",
       "      <td>12.0</td>\n",
       "      <td>1</td>\n",
       "      <td>ultra</td>\n",
       "      <td>6</td>\n",
       "      <td>0</td>\n",
       "      <td>199</td>\n",
       "    </tr>\n",
       "    <tr>\n",
       "      <th rowspan=\"7\" valign=\"top\">3</th>\n",
       "      <th>1</th>\n",
       "      <td>3061.777147</td>\n",
       "      <td>13.0</td>\n",
       "      <td>1</td>\n",
       "      <td>ultra</td>\n",
       "      <td>6</td>\n",
       "      <td>0</td>\n",
       "      <td>199</td>\n",
       "    </tr>\n",
       "    <tr>\n",
       "      <th>2</th>\n",
       "      <td>5421.152016</td>\n",
       "      <td>39.0</td>\n",
       "      <td>2</td>\n",
       "      <td>ultra</td>\n",
       "      <td>6</td>\n",
       "      <td>0</td>\n",
       "      <td>199</td>\n",
       "    </tr>\n",
       "    <tr>\n",
       "      <th>4</th>\n",
       "      <td>2956.651632</td>\n",
       "      <td>21.0</td>\n",
       "      <td>1</td>\n",
       "      <td>ultra</td>\n",
       "      <td>6</td>\n",
       "      <td>0</td>\n",
       "      <td>199</td>\n",
       "    </tr>\n",
       "    <tr>\n",
       "      <th>5</th>\n",
       "      <td>9064.026918</td>\n",
       "      <td>63.0</td>\n",
       "      <td>3</td>\n",
       "      <td>ultra</td>\n",
       "      <td>6</td>\n",
       "      <td>0</td>\n",
       "      <td>199</td>\n",
       "    </tr>\n",
       "    <tr>\n",
       "      <th>7</th>\n",
       "      <td>10919.595403</td>\n",
       "      <td>67.0</td>\n",
       "      <td>3</td>\n",
       "      <td>ultra</td>\n",
       "      <td>6</td>\n",
       "      <td>0</td>\n",
       "      <td>199</td>\n",
       "    </tr>\n",
       "    <tr>\n",
       "      <th>9</th>\n",
       "      <td>2891.012822</td>\n",
       "      <td>23.0</td>\n",
       "      <td>1</td>\n",
       "      <td>ultra</td>\n",
       "      <td>6</td>\n",
       "      <td>0</td>\n",
       "      <td>199</td>\n",
       "    </tr>\n",
       "    <tr>\n",
       "      <th>12</th>\n",
       "      <td>2593.381928</td>\n",
       "      <td>13.0</td>\n",
       "      <td>1</td>\n",
       "      <td>ultra</td>\n",
       "      <td>6</td>\n",
       "      <td>0</td>\n",
       "      <td>199</td>\n",
       "    </tr>\n",
       "  </tbody>\n",
       "</table>\n",
       "</div>"
      ],
      "text/plain": [
       "                   distance duration       subscription_type minute_price  \\\n",
       "                        sum      sum count             first        first   \n",
       "user_id month                                                               \n",
       "1       1       7027.511294     42.0     2             ultra            6   \n",
       "        4        754.159807      7.0     1             ultra            6   \n",
       "        8       6723.470560     46.0     2             ultra            6   \n",
       "        10      5809.911100     32.0     2             ultra            6   \n",
       "        11      7003.499363     56.0     3             ultra            6   \n",
       "        12      6751.629942     28.0     2             ultra            6   \n",
       "2       3      10187.723006     63.0     3             ultra            6   \n",
       "        4       6164.381824     40.0     2             ultra            6   \n",
       "        6       3255.338202     14.0     1             ultra            6   \n",
       "        7       6780.722964     48.0     2             ultra            6   \n",
       "        8        923.007439      7.0     1             ultra            6   \n",
       "        10      2824.636598     19.0     1             ultra            6   \n",
       "        12      3828.248580     12.0     1             ultra            6   \n",
       "3       1       3061.777147     13.0     1             ultra            6   \n",
       "        2       5421.152016     39.0     2             ultra            6   \n",
       "        4       2956.651632     21.0     1             ultra            6   \n",
       "        5       9064.026918     63.0     3             ultra            6   \n",
       "        7      10919.595403     67.0     3             ultra            6   \n",
       "        9       2891.012822     23.0     1             ultra            6   \n",
       "        12      2593.381928     13.0     1             ultra            6   \n",
       "\n",
       "              start_ride_price subscription_fee  \n",
       "                         first            first  \n",
       "user_id month                                    \n",
       "1       1                    0              199  \n",
       "        4                    0              199  \n",
       "        8                    0              199  \n",
       "        10                   0              199  \n",
       "        11                   0              199  \n",
       "        12                   0              199  \n",
       "2       3                    0              199  \n",
       "        4                    0              199  \n",
       "        6                    0              199  \n",
       "        7                    0              199  \n",
       "        8                    0              199  \n",
       "        10                   0              199  \n",
       "        12                   0              199  \n",
       "3       1                    0              199  \n",
       "        2                    0              199  \n",
       "        4                    0              199  \n",
       "        5                    0              199  \n",
       "        7                    0              199  \n",
       "        9                    0              199  \n",
       "        12                   0              199  "
      ]
     },
     "execution_count": 36,
     "metadata": {},
     "output_type": "execute_result"
    }
   ],
   "source": [
    "data_full_month=data_full.groupby(['user_id', 'month']).agg({'distance':'sum', 'duration':['sum', 'count'], 'subscription_type': 'first', 'minute_price':'first', 'start_ride_price':'first', 'subscription_fee':'first'})\n",
    "data_full_month.head(20)"
   ]
  },
  {
   "cell_type": "code",
   "execution_count": 37,
   "id": "f3aa5b48",
   "metadata": {},
   "outputs": [
    {
     "data": {
      "text/html": [
       "<div>\n",
       "<style scoped>\n",
       "    .dataframe tbody tr th:only-of-type {\n",
       "        vertical-align: middle;\n",
       "    }\n",
       "\n",
       "    .dataframe tbody tr th {\n",
       "        vertical-align: top;\n",
       "    }\n",
       "\n",
       "    .dataframe thead th {\n",
       "        text-align: right;\n",
       "    }\n",
       "</style>\n",
       "<table border=\"1\" class=\"dataframe\">\n",
       "  <thead>\n",
       "    <tr style=\"text-align: right;\">\n",
       "      <th></th>\n",
       "      <th></th>\n",
       "      <th>distance_sum</th>\n",
       "      <th>duration_sum</th>\n",
       "      <th>count_trip</th>\n",
       "      <th>subscription_type</th>\n",
       "      <th>minute_price</th>\n",
       "      <th>start_ride_price</th>\n",
       "      <th>subscription_fee</th>\n",
       "    </tr>\n",
       "    <tr>\n",
       "      <th>user_id</th>\n",
       "      <th>month</th>\n",
       "      <th></th>\n",
       "      <th></th>\n",
       "      <th></th>\n",
       "      <th></th>\n",
       "      <th></th>\n",
       "      <th></th>\n",
       "      <th></th>\n",
       "    </tr>\n",
       "  </thead>\n",
       "  <tbody>\n",
       "    <tr>\n",
       "      <th rowspan=\"5\" valign=\"top\">1</th>\n",
       "      <th>1</th>\n",
       "      <td>7027.511294</td>\n",
       "      <td>42.0</td>\n",
       "      <td>2</td>\n",
       "      <td>ultra</td>\n",
       "      <td>6</td>\n",
       "      <td>0</td>\n",
       "      <td>199</td>\n",
       "    </tr>\n",
       "    <tr>\n",
       "      <th>4</th>\n",
       "      <td>754.159807</td>\n",
       "      <td>7.0</td>\n",
       "      <td>1</td>\n",
       "      <td>ultra</td>\n",
       "      <td>6</td>\n",
       "      <td>0</td>\n",
       "      <td>199</td>\n",
       "    </tr>\n",
       "    <tr>\n",
       "      <th>8</th>\n",
       "      <td>6723.470560</td>\n",
       "      <td>46.0</td>\n",
       "      <td>2</td>\n",
       "      <td>ultra</td>\n",
       "      <td>6</td>\n",
       "      <td>0</td>\n",
       "      <td>199</td>\n",
       "    </tr>\n",
       "    <tr>\n",
       "      <th>10</th>\n",
       "      <td>5809.911100</td>\n",
       "      <td>32.0</td>\n",
       "      <td>2</td>\n",
       "      <td>ultra</td>\n",
       "      <td>6</td>\n",
       "      <td>0</td>\n",
       "      <td>199</td>\n",
       "    </tr>\n",
       "    <tr>\n",
       "      <th>11</th>\n",
       "      <td>7003.499363</td>\n",
       "      <td>56.0</td>\n",
       "      <td>3</td>\n",
       "      <td>ultra</td>\n",
       "      <td>6</td>\n",
       "      <td>0</td>\n",
       "      <td>199</td>\n",
       "    </tr>\n",
       "  </tbody>\n",
       "</table>\n",
       "</div>"
      ],
      "text/plain": [
       "               distance_sum  duration_sum  count_trip subscription_type  \\\n",
       "user_id month                                                             \n",
       "1       1       7027.511294          42.0           2             ultra   \n",
       "        4        754.159807           7.0           1             ultra   \n",
       "        8       6723.470560          46.0           2             ultra   \n",
       "        10      5809.911100          32.0           2             ultra   \n",
       "        11      7003.499363          56.0           3             ultra   \n",
       "\n",
       "               minute_price  start_ride_price  subscription_fee  \n",
       "user_id month                                                    \n",
       "1       1                 6                 0               199  \n",
       "        4                 6                 0               199  \n",
       "        8                 6                 0               199  \n",
       "        10                6                 0               199  \n",
       "        11                6                 0               199  "
      ]
     },
     "execution_count": 37,
     "metadata": {},
     "output_type": "execute_result"
    }
   ],
   "source": [
    "data_full_month.columns = ['distance_sum', 'duration_sum', 'count_trip', 'subscription_type', 'minute_price', 'start_ride_price', 'subscription_fee' ]\n",
    "data_full_month.head()"
   ]
  },
  {
   "cell_type": "markdown",
   "id": "ae46535f",
   "metadata": {},
   "source": [
    "Добавляем столбец с помесячной выручкой, которую принёс каждый пользователь."
   ]
  },
  {
   "cell_type": "code",
   "execution_count": 38,
   "id": "9f7837e6",
   "metadata": {},
   "outputs": [
    {
     "data": {
      "text/html": [
       "<div>\n",
       "<style scoped>\n",
       "    .dataframe tbody tr th:only-of-type {\n",
       "        vertical-align: middle;\n",
       "    }\n",
       "\n",
       "    .dataframe tbody tr th {\n",
       "        vertical-align: top;\n",
       "    }\n",
       "\n",
       "    .dataframe thead th {\n",
       "        text-align: right;\n",
       "    }\n",
       "</style>\n",
       "<table border=\"1\" class=\"dataframe\">\n",
       "  <thead>\n",
       "    <tr style=\"text-align: right;\">\n",
       "      <th></th>\n",
       "      <th></th>\n",
       "      <th>distance_sum</th>\n",
       "      <th>duration_sum</th>\n",
       "      <th>count_trip</th>\n",
       "      <th>subscription_type</th>\n",
       "      <th>minute_price</th>\n",
       "      <th>start_ride_price</th>\n",
       "      <th>subscription_fee</th>\n",
       "      <th>revenue</th>\n",
       "    </tr>\n",
       "    <tr>\n",
       "      <th>user_id</th>\n",
       "      <th>month</th>\n",
       "      <th></th>\n",
       "      <th></th>\n",
       "      <th></th>\n",
       "      <th></th>\n",
       "      <th></th>\n",
       "      <th></th>\n",
       "      <th></th>\n",
       "      <th></th>\n",
       "    </tr>\n",
       "  </thead>\n",
       "  <tbody>\n",
       "    <tr>\n",
       "      <th rowspan=\"6\" valign=\"top\">1</th>\n",
       "      <th>1</th>\n",
       "      <td>7027.511294</td>\n",
       "      <td>42.0</td>\n",
       "      <td>2</td>\n",
       "      <td>ultra</td>\n",
       "      <td>6</td>\n",
       "      <td>0</td>\n",
       "      <td>199</td>\n",
       "      <td>451.0</td>\n",
       "    </tr>\n",
       "    <tr>\n",
       "      <th>4</th>\n",
       "      <td>754.159807</td>\n",
       "      <td>7.0</td>\n",
       "      <td>1</td>\n",
       "      <td>ultra</td>\n",
       "      <td>6</td>\n",
       "      <td>0</td>\n",
       "      <td>199</td>\n",
       "      <td>241.0</td>\n",
       "    </tr>\n",
       "    <tr>\n",
       "      <th>8</th>\n",
       "      <td>6723.470560</td>\n",
       "      <td>46.0</td>\n",
       "      <td>2</td>\n",
       "      <td>ultra</td>\n",
       "      <td>6</td>\n",
       "      <td>0</td>\n",
       "      <td>199</td>\n",
       "      <td>475.0</td>\n",
       "    </tr>\n",
       "    <tr>\n",
       "      <th>10</th>\n",
       "      <td>5809.911100</td>\n",
       "      <td>32.0</td>\n",
       "      <td>2</td>\n",
       "      <td>ultra</td>\n",
       "      <td>6</td>\n",
       "      <td>0</td>\n",
       "      <td>199</td>\n",
       "      <td>391.0</td>\n",
       "    </tr>\n",
       "    <tr>\n",
       "      <th>11</th>\n",
       "      <td>7003.499363</td>\n",
       "      <td>56.0</td>\n",
       "      <td>3</td>\n",
       "      <td>ultra</td>\n",
       "      <td>6</td>\n",
       "      <td>0</td>\n",
       "      <td>199</td>\n",
       "      <td>535.0</td>\n",
       "    </tr>\n",
       "    <tr>\n",
       "      <th>12</th>\n",
       "      <td>6751.629942</td>\n",
       "      <td>28.0</td>\n",
       "      <td>2</td>\n",
       "      <td>ultra</td>\n",
       "      <td>6</td>\n",
       "      <td>0</td>\n",
       "      <td>199</td>\n",
       "      <td>367.0</td>\n",
       "    </tr>\n",
       "    <tr>\n",
       "      <th rowspan=\"7\" valign=\"top\">2</th>\n",
       "      <th>3</th>\n",
       "      <td>10187.723006</td>\n",
       "      <td>63.0</td>\n",
       "      <td>3</td>\n",
       "      <td>ultra</td>\n",
       "      <td>6</td>\n",
       "      <td>0</td>\n",
       "      <td>199</td>\n",
       "      <td>577.0</td>\n",
       "    </tr>\n",
       "    <tr>\n",
       "      <th>4</th>\n",
       "      <td>6164.381824</td>\n",
       "      <td>40.0</td>\n",
       "      <td>2</td>\n",
       "      <td>ultra</td>\n",
       "      <td>6</td>\n",
       "      <td>0</td>\n",
       "      <td>199</td>\n",
       "      <td>439.0</td>\n",
       "    </tr>\n",
       "    <tr>\n",
       "      <th>6</th>\n",
       "      <td>3255.338202</td>\n",
       "      <td>14.0</td>\n",
       "      <td>1</td>\n",
       "      <td>ultra</td>\n",
       "      <td>6</td>\n",
       "      <td>0</td>\n",
       "      <td>199</td>\n",
       "      <td>283.0</td>\n",
       "    </tr>\n",
       "    <tr>\n",
       "      <th>7</th>\n",
       "      <td>6780.722964</td>\n",
       "      <td>48.0</td>\n",
       "      <td>2</td>\n",
       "      <td>ultra</td>\n",
       "      <td>6</td>\n",
       "      <td>0</td>\n",
       "      <td>199</td>\n",
       "      <td>487.0</td>\n",
       "    </tr>\n",
       "    <tr>\n",
       "      <th>8</th>\n",
       "      <td>923.007439</td>\n",
       "      <td>7.0</td>\n",
       "      <td>1</td>\n",
       "      <td>ultra</td>\n",
       "      <td>6</td>\n",
       "      <td>0</td>\n",
       "      <td>199</td>\n",
       "      <td>241.0</td>\n",
       "    </tr>\n",
       "    <tr>\n",
       "      <th>10</th>\n",
       "      <td>2824.636598</td>\n",
       "      <td>19.0</td>\n",
       "      <td>1</td>\n",
       "      <td>ultra</td>\n",
       "      <td>6</td>\n",
       "      <td>0</td>\n",
       "      <td>199</td>\n",
       "      <td>313.0</td>\n",
       "    </tr>\n",
       "    <tr>\n",
       "      <th>12</th>\n",
       "      <td>3828.248580</td>\n",
       "      <td>12.0</td>\n",
       "      <td>1</td>\n",
       "      <td>ultra</td>\n",
       "      <td>6</td>\n",
       "      <td>0</td>\n",
       "      <td>199</td>\n",
       "      <td>271.0</td>\n",
       "    </tr>\n",
       "    <tr>\n",
       "      <th rowspan=\"7\" valign=\"top\">3</th>\n",
       "      <th>1</th>\n",
       "      <td>3061.777147</td>\n",
       "      <td>13.0</td>\n",
       "      <td>1</td>\n",
       "      <td>ultra</td>\n",
       "      <td>6</td>\n",
       "      <td>0</td>\n",
       "      <td>199</td>\n",
       "      <td>277.0</td>\n",
       "    </tr>\n",
       "    <tr>\n",
       "      <th>2</th>\n",
       "      <td>5421.152016</td>\n",
       "      <td>39.0</td>\n",
       "      <td>2</td>\n",
       "      <td>ultra</td>\n",
       "      <td>6</td>\n",
       "      <td>0</td>\n",
       "      <td>199</td>\n",
       "      <td>433.0</td>\n",
       "    </tr>\n",
       "    <tr>\n",
       "      <th>4</th>\n",
       "      <td>2956.651632</td>\n",
       "      <td>21.0</td>\n",
       "      <td>1</td>\n",
       "      <td>ultra</td>\n",
       "      <td>6</td>\n",
       "      <td>0</td>\n",
       "      <td>199</td>\n",
       "      <td>325.0</td>\n",
       "    </tr>\n",
       "    <tr>\n",
       "      <th>5</th>\n",
       "      <td>9064.026918</td>\n",
       "      <td>63.0</td>\n",
       "      <td>3</td>\n",
       "      <td>ultra</td>\n",
       "      <td>6</td>\n",
       "      <td>0</td>\n",
       "      <td>199</td>\n",
       "      <td>577.0</td>\n",
       "    </tr>\n",
       "    <tr>\n",
       "      <th>7</th>\n",
       "      <td>10919.595403</td>\n",
       "      <td>67.0</td>\n",
       "      <td>3</td>\n",
       "      <td>ultra</td>\n",
       "      <td>6</td>\n",
       "      <td>0</td>\n",
       "      <td>199</td>\n",
       "      <td>601.0</td>\n",
       "    </tr>\n",
       "    <tr>\n",
       "      <th>9</th>\n",
       "      <td>2891.012822</td>\n",
       "      <td>23.0</td>\n",
       "      <td>1</td>\n",
       "      <td>ultra</td>\n",
       "      <td>6</td>\n",
       "      <td>0</td>\n",
       "      <td>199</td>\n",
       "      <td>337.0</td>\n",
       "    </tr>\n",
       "    <tr>\n",
       "      <th>12</th>\n",
       "      <td>2593.381928</td>\n",
       "      <td>13.0</td>\n",
       "      <td>1</td>\n",
       "      <td>ultra</td>\n",
       "      <td>6</td>\n",
       "      <td>0</td>\n",
       "      <td>199</td>\n",
       "      <td>277.0</td>\n",
       "    </tr>\n",
       "  </tbody>\n",
       "</table>\n",
       "</div>"
      ],
      "text/plain": [
       "               distance_sum  duration_sum  count_trip subscription_type  \\\n",
       "user_id month                                                             \n",
       "1       1       7027.511294          42.0           2             ultra   \n",
       "        4        754.159807           7.0           1             ultra   \n",
       "        8       6723.470560          46.0           2             ultra   \n",
       "        10      5809.911100          32.0           2             ultra   \n",
       "        11      7003.499363          56.0           3             ultra   \n",
       "        12      6751.629942          28.0           2             ultra   \n",
       "2       3      10187.723006          63.0           3             ultra   \n",
       "        4       6164.381824          40.0           2             ultra   \n",
       "        6       3255.338202          14.0           1             ultra   \n",
       "        7       6780.722964          48.0           2             ultra   \n",
       "        8        923.007439           7.0           1             ultra   \n",
       "        10      2824.636598          19.0           1             ultra   \n",
       "        12      3828.248580          12.0           1             ultra   \n",
       "3       1       3061.777147          13.0           1             ultra   \n",
       "        2       5421.152016          39.0           2             ultra   \n",
       "        4       2956.651632          21.0           1             ultra   \n",
       "        5       9064.026918          63.0           3             ultra   \n",
       "        7      10919.595403          67.0           3             ultra   \n",
       "        9       2891.012822          23.0           1             ultra   \n",
       "        12      2593.381928          13.0           1             ultra   \n",
       "\n",
       "               minute_price  start_ride_price  subscription_fee  revenue  \n",
       "user_id month                                                             \n",
       "1       1                 6                 0               199    451.0  \n",
       "        4                 6                 0               199    241.0  \n",
       "        8                 6                 0               199    475.0  \n",
       "        10                6                 0               199    391.0  \n",
       "        11                6                 0               199    535.0  \n",
       "        12                6                 0               199    367.0  \n",
       "2       3                 6                 0               199    577.0  \n",
       "        4                 6                 0               199    439.0  \n",
       "        6                 6                 0               199    283.0  \n",
       "        7                 6                 0               199    487.0  \n",
       "        8                 6                 0               199    241.0  \n",
       "        10                6                 0               199    313.0  \n",
       "        12                6                 0               199    271.0  \n",
       "3       1                 6                 0               199    277.0  \n",
       "        2                 6                 0               199    433.0  \n",
       "        4                 6                 0               199    325.0  \n",
       "        5                 6                 0               199    577.0  \n",
       "        7                 6                 0               199    601.0  \n",
       "        9                 6                 0               199    337.0  \n",
       "        12                6                 0               199    277.0  "
      ]
     },
     "execution_count": 38,
     "metadata": {},
     "output_type": "execute_result"
    }
   ],
   "source": [
    "data_full_month['revenue'] = data_full_month['start_ride_price']*data_full_month['count_trip']+data_full_month['minute_price']*data_full_month['duration_sum']+data_full_month['subscription_fee']\n",
    "\n",
    "data_full_month.head(20)"
   ]
  },
  {
   "cell_type": "code",
   "execution_count": 39,
   "id": "d191d458",
   "metadata": {},
   "outputs": [
    {
     "name": "stdout",
     "output_type": "stream",
     "text": [
      "11331\n"
     ]
    },
    {
     "data": {
      "text/plain": [
       "subscription_type\n",
       "free     328.641365\n",
       "ultra    362.792191\n",
       "Name: revenue, dtype: float64"
      ]
     },
     "execution_count": 39,
     "metadata": {},
     "output_type": "execute_result"
    }
   ],
   "source": [
    "# Код ревьюера\n",
    "print(data_full_month.shape[0])\n",
    "\n",
    "data_full_month.groupby('subscription_type')['revenue'].mean()"
   ]
  },
  {
   "cell_type": "markdown",
   "id": "5ead947f",
   "metadata": {},
   "source": [
    "\n",
    "Создан датафрейм с агрегированными данными о поездках на основе датафрейма с объединёнными данными.\n",
    "Произведен расчет суммарного расстояния, количества поездок и суммарного времени для каждого пользователя за каждый месяц.\n",
    "Добавлен столбец с помесячной выручкой, которую принёс каждый пользователь."
   ]
  },
  {
   "cell_type": "markdown",
   "id": "41545ac0",
   "metadata": {},
   "source": [
    "#### Шаг 6. Проверка гипотез"
   ]
  },
  {
   "cell_type": "markdown",
   "id": "8fe3e3a7",
   "metadata": {},
   "source": [
    "Проверяем гипотезу, что пользователи с подпиской тратят больше времени на поездки. \n",
    "Нулевая гипотеза: Среднее время поездки у пользователей с подпиской и без подписки одинаковое; \n",
    "Альтернативная гипотеза: Среднее время поездки у пользователей с подпиской больше, чем у пользователей без подписки"
   ]
  },
  {
   "cell_type": "code",
   "execution_count": 40,
   "id": "23ea867b",
   "metadata": {},
   "outputs": [
    {
     "name": "stdout",
     "output_type": "stream",
     "text": [
      "p-значение: 1.2804098316645618e-34\n",
      "Отвергаем нулевую гипотезу\n"
     ]
    }
   ],
   "source": [
    "\n",
    "alpha = 0.05 \n",
    "\n",
    "results = st.ttest_ind(\n",
    "    data_full_ultra['duration'], \n",
    "    data_full_free['duration'],\n",
    "    alternative='greater') \n",
    "\n",
    "print('p-значение:', results.pvalue)\n",
    "\n",
    "if results.pvalue < alpha:\n",
    "    print('Отвергаем нулевую гипотезу')\n",
    "else:\n",
    "    print('Не получилось отвергнуть нулевую гипотезу')"
   ]
  },
  {
   "cell_type": "markdown",
   "id": "f5d19d3e",
   "metadata": {},
   "source": [
    "\n",
    "По результатам статистического теста, нулевая гипотеза отвергнута, соответственно пользователи с подпиской в среднем тратят больше времени на поездку."
   ]
  },
  {
   "cell_type": "markdown",
   "id": "84af0232",
   "metadata": {},
   "source": [
    "Расстояние одной поездки в 3130 метров — оптимальное с точки зрения износа самоката. Проверим гипотезу, что расстояние, которое проезжают пользователи с подпиской за одну поездку, не превышает оптимального значения."
   ]
  },
  {
   "cell_type": "markdown",
   "id": "4969cf6d",
   "metadata": {},
   "source": [
    "Нулевая гипотеза: Расстояние, которое проезжают пользователи с подпиской за одну поездку, не превышает 3130 метров;\n",
    "Альтернативная гипотеза: Расстояние, которое проезжают пользователи с подпиской за одну поездку, превышает 3130 метров\n"
   ]
  },
  {
   "cell_type": "code",
   "execution_count": 41,
   "id": "2c5704ea",
   "metadata": {},
   "outputs": [
    {
     "name": "stdout",
     "output_type": "stream",
     "text": [
      "p-значение: 0.08046311521502146\n",
      "Не получилось отвергнуть нулевую гипотезу: Расстояние, которое проезжают пользователи с подпиской за одну поездку, не превышает 3130 метров\n"
     ]
    }
   ],
   "source": [
    "optimal_value = 3130\n",
    "\n",
    "alpha = 0.05 \n",
    "\n",
    "results = st.ttest_1samp(\n",
    "    data_full_ultra['distance'], \n",
    "    optimal_value,\n",
    "    alternative='less') \n",
    "\n",
    "print('p-значение:', results.pvalue)\n",
    "\n",
    "if results.pvalue < alpha:\n",
    "    print('Отвергаем нулевую гипотезу: Расстояние, которое проезжают пользователи с подпиской за одну поездку, превышает 3130 метров')\n",
    "else:\n",
    "    print('Не получилось отвергнуть нулевую гипотезу: Расстояние, которое проезжают пользователи с подпиской за одну поездку, не превышает 3130 метров')"
   ]
  },
  {
   "cell_type": "markdown",
   "id": "01df280c",
   "metadata": {},
   "source": [
    "\n",
    "По результатам статистического теста, не получилось отвергнуть нулевую гипотезу, соответственно с точки зрения износа самокатов, пользователи с подпиской обеспечивают оптимальный износ самокатов\n"
   ]
  },
  {
   "cell_type": "code",
   "execution_count": 42,
   "id": "33c73342",
   "metadata": {},
   "outputs": [],
   "source": [
    "data_full_month_ultra = data_full_month.loc[data_full_month['subscription_type'] == 'ultra']"
   ]
  },
  {
   "cell_type": "code",
   "execution_count": 43,
   "id": "b2532e7c",
   "metadata": {},
   "outputs": [],
   "source": [
    "data_full_month_free = data_full_month.loc[data_full_month['subscription_type'] == 'free']"
   ]
  },
  {
   "cell_type": "markdown",
   "id": "4f87cafc",
   "metadata": {},
   "source": [
    "Проверим гипотезу: выручка от пользователей с подпиской выше, чем выручка от пользователей без подписки. \n",
    "Для проверки гипотезы проведем статистический тест. Нулевая гипотеза: Среднее значение выручки у пользователей с подпиской и без подписки одинаковое; Альтернативная гипотеза: Среднее значение выручки у пользователей с подпиской больше, чем у пользователей без подписки"
   ]
  },
  {
   "cell_type": "code",
   "execution_count": 44,
   "id": "3335f4d7",
   "metadata": {},
   "outputs": [
    {
     "name": "stdout",
     "output_type": "stream",
     "text": [
      "p-значение: 1.8850394384715216e-31\n",
      "Отвергаем нулевую гипотезу\n"
     ]
    }
   ],
   "source": [
    "alpha = 0.05 \n",
    "\n",
    "results = st.ttest_ind(\n",
    "    data_full_month_ultra['revenue'], \n",
    "    data_full_month_free['revenue'],\n",
    "    alternative='greater') \n",
    "\n",
    "print('p-значение:', results.pvalue)\n",
    "\n",
    "if results.pvalue < alpha:\n",
    "    print('Отвергаем нулевую гипотезу')\n",
    "else:\n",
    "    print('Не получилось отвергнуть нулевую гипотезу')"
   ]
  },
  {
   "cell_type": "markdown",
   "id": "e4dbe965",
   "metadata": {},
   "source": [
    "По итогам статистического теста, нулевая гипотеза отвергнута, соотвественно показатели выручки от пользователей с подпиской больше, чем от пользователей без подписки"
   ]
  },
  {
   "cell_type": "markdown",
   "id": "2edb4af3",
   "metadata": {},
   "source": [
    "Чтобы проверить гипотезу о равенстве средних двух генеральных совокупностей для зависимых (парных) выборок в Python, применим метод scipy.stats.ttest_rel()."
   ]
  },
  {
   "cell_type": "markdown",
   "id": "b2e3b806",
   "metadata": {},
   "source": [
    "В результате проверок гипотез, сформированы следующие выводы:\n",
    "Пользователи с подпиской в среднем тратят больше времени на поездку;\n",
    "С точки зрения износа самокатов, пользователи с подпиской обеспечивают оптимальный износ самокатов;\n",
    "Показатели выручки от пользователей с подпиской больше, чем от пользователей без подписки."
   ]
  },
  {
   "cell_type": "markdown",
   "id": "b1173907",
   "metadata": {},
   "source": [
    "Итоговые выводы:\n",
    "Для анализа были предоставлены данные о пользователях, их поездках и подписках за период - 2021 год. После проверки и обработки данных, исследованы данные в разрезе подписок, при сравнении распределения данных о поездках, дистанции и возраста пользователей, можно сделать следующие выводы: - распределения по показателям в обеих подписках похожи, распределение по возрастам пользователей в категории ultra более равномерное, чем категории free, но средний возраст пользователей в обеих категориях одинаковый, пользователи обеих категорий в среднем проезжают примерно 3000 метров, но количество продолжительных поездок в категории free знаительно больше. \n",
    "    Для проверки гипотез создан датафрейм с агрегированными данными о поездках на основе датафрейма с объединёнными данными. Произведен расчет суммарного расстояния, количества поездок и суммарного времени для каждого пользователя за каждый месяц, интегрирована информация с помесячной выручкой, которую принёс каждый пользователь.\n",
    "    С помощью статистических тестов были проверены следующие гипотезы:\n",
    "1 Тратят ли пользователи с подпиской больше времени на поездки? \n",
    "2 Можно ли сказать, что расстояние, которое проезжают пользователи с подпиской за одну поездку, не превышает 3130 метров?\n",
    "3 Будет ли помесячная выручка от пользователей с подпиской по месяцам выше, чем выручка от пользователей без подписки. \n",
    " \n",
    "По итогам статистиеских тестов установлено, что пользователи с подпиской тратят больше времени на поездки, являются более выгодными для компании, кроме того, пользователи с подпиской, учитывая среднее время каждой поездки, обеспечивают оптимальные условия, с точки зрения износа самокатов. Проверка показателей выручки, так же показала, что пользователи с подпиской обеспечивают больший объем выручки. Проверка всех гипотез показала, что пользователи с подпиской более выгодные для компании. \n",
    "</div>"
   ]
  }
 ],
 "metadata": {
  "ExecuteTimeLog": [
   {
    "duration": 1211,
    "start_time": "2023-06-06T04:41:12.162Z"
   },
   {
    "duration": 79,
    "start_time": "2023-06-06T04:42:46.287Z"
   },
   {
    "duration": 85,
    "start_time": "2023-06-06T04:44:14.936Z"
   },
   {
    "duration": 43,
    "start_time": "2023-06-06T04:45:20.329Z"
   },
   {
    "duration": 31,
    "start_time": "2023-06-06T04:45:25.606Z"
   },
   {
    "duration": 44,
    "start_time": "2023-06-06T04:46:56.226Z"
   },
   {
    "duration": 64,
    "start_time": "2023-06-06T04:47:09.018Z"
   },
   {
    "duration": 41,
    "start_time": "2023-06-06T04:47:26.915Z"
   },
   {
    "duration": 32,
    "start_time": "2023-06-06T04:47:35.044Z"
   },
   {
    "duration": 11,
    "start_time": "2023-06-06T04:48:10.727Z"
   },
   {
    "duration": 17,
    "start_time": "2023-06-06T04:48:32.084Z"
   },
   {
    "duration": 11,
    "start_time": "2023-06-06T04:49:07.037Z"
   },
   {
    "duration": 17,
    "start_time": "2023-06-06T04:49:39.328Z"
   },
   {
    "duration": 30,
    "start_time": "2023-06-06T04:51:06.806Z"
   },
   {
    "duration": 9,
    "start_time": "2023-06-06T04:52:05.870Z"
   },
   {
    "duration": 108,
    "start_time": "2023-06-06T04:52:31.017Z"
   },
   {
    "duration": 29,
    "start_time": "2023-06-06T04:52:37.410Z"
   },
   {
    "duration": 9,
    "start_time": "2023-06-06T04:52:39.783Z"
   },
   {
    "duration": 8,
    "start_time": "2023-06-06T04:53:25.569Z"
   },
   {
    "duration": 7,
    "start_time": "2023-06-06T04:54:07.850Z"
   },
   {
    "duration": 12,
    "start_time": "2023-06-06T04:54:31.057Z"
   },
   {
    "duration": 9,
    "start_time": "2023-06-06T04:56:25.637Z"
   },
   {
    "duration": 13,
    "start_time": "2023-06-06T04:56:32.355Z"
   },
   {
    "duration": 19,
    "start_time": "2023-06-06T04:56:43.789Z"
   },
   {
    "duration": 71,
    "start_time": "2023-06-06T04:57:19.126Z"
   },
   {
    "duration": 73,
    "start_time": "2023-06-06T04:57:28.274Z"
   },
   {
    "duration": 16,
    "start_time": "2023-06-06T04:58:15.774Z"
   },
   {
    "duration": 19,
    "start_time": "2023-06-06T04:58:55.708Z"
   },
   {
    "duration": 1289,
    "start_time": "2023-06-06T05:00:59.752Z"
   },
   {
    "duration": 1315,
    "start_time": "2023-06-06T05:01:37.701Z"
   },
   {
    "duration": 11,
    "start_time": "2023-06-06T05:02:42.847Z"
   },
   {
    "duration": 6,
    "start_time": "2023-06-06T05:03:32.070Z"
   },
   {
    "duration": 8,
    "start_time": "2023-06-06T05:03:34.016Z"
   },
   {
    "duration": 5,
    "start_time": "2023-06-06T05:08:12.678Z"
   },
   {
    "duration": 11,
    "start_time": "2023-06-06T05:08:21.716Z"
   },
   {
    "duration": 1553,
    "start_time": "2023-06-06T09:13:35.879Z"
   },
   {
    "duration": 120,
    "start_time": "2023-06-06T09:13:37.434Z"
   },
   {
    "duration": 14,
    "start_time": "2023-06-06T09:13:37.556Z"
   },
   {
    "duration": 22,
    "start_time": "2023-06-06T09:13:37.978Z"
   },
   {
    "duration": 12,
    "start_time": "2023-06-06T09:13:38.572Z"
   },
   {
    "duration": 97,
    "start_time": "2023-06-06T09:13:39.066Z"
   },
   {
    "duration": 14,
    "start_time": "2023-06-06T09:13:39.578Z"
   },
   {
    "duration": 24,
    "start_time": "2023-06-06T09:13:40.067Z"
   },
   {
    "duration": 11,
    "start_time": "2023-06-06T09:13:40.505Z"
   },
   {
    "duration": 75,
    "start_time": "2023-06-06T09:13:41.009Z"
   },
   {
    "duration": 11,
    "start_time": "2023-06-06T09:13:41.559Z"
   },
   {
    "duration": 16,
    "start_time": "2023-06-06T09:13:42.864Z"
   },
   {
    "duration": 14,
    "start_time": "2023-06-06T09:13:43.470Z"
   },
   {
    "duration": 13,
    "start_time": "2023-06-06T09:13:44.041Z"
   },
   {
    "duration": 12,
    "start_time": "2023-06-06T09:13:44.658Z"
   },
   {
    "duration": 8,
    "start_time": "2023-06-06T09:13:45.392Z"
   },
   {
    "duration": 7,
    "start_time": "2023-06-06T09:13:53.579Z"
   },
   {
    "duration": 7,
    "start_time": "2023-06-06T09:14:14.087Z"
   },
   {
    "duration": 8,
    "start_time": "2023-06-06T09:15:23.102Z"
   },
   {
    "duration": 7,
    "start_time": "2023-06-06T09:15:28.799Z"
   },
   {
    "duration": 421,
    "start_time": "2023-06-06T09:17:00.757Z"
   },
   {
    "duration": 8,
    "start_time": "2023-06-06T09:19:07.390Z"
   },
   {
    "duration": 7,
    "start_time": "2023-06-06T09:20:59.973Z"
   },
   {
    "duration": 10,
    "start_time": "2023-06-06T09:21:17.147Z"
   },
   {
    "duration": 140,
    "start_time": "2023-06-06T09:22:58.080Z"
   },
   {
    "duration": 259,
    "start_time": "2023-06-06T09:23:56.577Z"
   },
   {
    "duration": 154,
    "start_time": "2023-06-06T09:25:24.472Z"
   },
   {
    "duration": 178,
    "start_time": "2023-06-06T09:26:21.260Z"
   },
   {
    "duration": 178,
    "start_time": "2023-06-06T09:27:38.611Z"
   },
   {
    "duration": 197,
    "start_time": "2023-06-06T09:28:16.880Z"
   },
   {
    "duration": 268,
    "start_time": "2023-06-06T09:29:25.301Z"
   },
   {
    "duration": 181,
    "start_time": "2023-06-06T09:30:43.185Z"
   },
   {
    "duration": 168,
    "start_time": "2023-06-06T09:30:48.310Z"
   },
   {
    "duration": 143,
    "start_time": "2023-06-06T09:31:05.042Z"
   },
   {
    "duration": 145,
    "start_time": "2023-06-06T09:31:48.938Z"
   },
   {
    "duration": 3613,
    "start_time": "2023-06-06T09:34:10.268Z"
   },
   {
    "duration": 3084,
    "start_time": "2023-06-06T09:34:14.076Z"
   },
   {
    "duration": 337,
    "start_time": "2023-06-06T09:34:32.902Z"
   },
   {
    "duration": 356,
    "start_time": "2023-06-06T09:35:47.340Z"
   },
   {
    "duration": 2769,
    "start_time": "2023-06-06T09:39:00.172Z"
   },
   {
    "duration": 361,
    "start_time": "2023-06-06T09:39:15.651Z"
   },
   {
    "duration": 348,
    "start_time": "2023-06-06T09:39:52.595Z"
   },
   {
    "duration": 363,
    "start_time": "2023-06-06T09:40:46.865Z"
   },
   {
    "duration": 410,
    "start_time": "2023-06-06T09:42:45.730Z"
   },
   {
    "duration": 369,
    "start_time": "2023-06-06T09:42:59.097Z"
   },
   {
    "duration": 12,
    "start_time": "2023-06-06T09:53:03.280Z"
   },
   {
    "duration": 43,
    "start_time": "2023-06-06T09:53:23.933Z"
   },
   {
    "duration": 34,
    "start_time": "2023-06-06T09:54:14.595Z"
   },
   {
    "duration": 16,
    "start_time": "2023-06-06T09:55:22.434Z"
   },
   {
    "duration": 21,
    "start_time": "2023-06-06T09:55:49.518Z"
   },
   {
    "duration": 500,
    "start_time": "2023-06-06T10:06:05.215Z"
   },
   {
    "duration": 1679,
    "start_time": "2023-06-06T10:10:30.789Z"
   },
   {
    "duration": 183,
    "start_time": "2023-06-06T10:11:19.892Z"
   },
   {
    "duration": 1683,
    "start_time": "2023-06-06T10:12:11.321Z"
   },
   {
    "duration": 330,
    "start_time": "2023-06-06T10:12:26.087Z"
   },
   {
    "duration": 298,
    "start_time": "2023-06-06T10:12:37.724Z"
   },
   {
    "duration": 1271,
    "start_time": "2023-06-06T10:19:03.192Z"
   },
   {
    "duration": 1457,
    "start_time": "2023-06-06T10:19:39.800Z"
   },
   {
    "duration": 1649,
    "start_time": "2023-06-06T10:20:04.164Z"
   },
   {
    "duration": 430,
    "start_time": "2023-06-06T10:20:34.185Z"
   },
   {
    "duration": 1606,
    "start_time": "2023-06-06T10:20:45.207Z"
   },
   {
    "duration": 299,
    "start_time": "2023-06-06T10:21:08.257Z"
   },
   {
    "duration": 1613,
    "start_time": "2023-06-06T10:21:50.217Z"
   },
   {
    "duration": 1376,
    "start_time": "2023-06-06T10:22:16.394Z"
   },
   {
    "duration": 1624,
    "start_time": "2023-06-06T10:22:25.739Z"
   },
   {
    "duration": 1271,
    "start_time": "2023-06-06T10:23:19.964Z"
   },
   {
    "duration": 1094,
    "start_time": "2023-06-06T10:23:54.997Z"
   },
   {
    "duration": 1599,
    "start_time": "2023-06-06T10:24:09.791Z"
   },
   {
    "duration": 55,
    "start_time": "2023-06-06T10:29:13.814Z"
   },
   {
    "duration": 24,
    "start_time": "2023-06-06T10:41:38.485Z"
   },
   {
    "duration": 6,
    "start_time": "2023-06-06T10:51:44.330Z"
   },
   {
    "duration": 5,
    "start_time": "2023-06-06T10:51:51.666Z"
   },
   {
    "duration": 6,
    "start_time": "2023-06-06T10:52:13.901Z"
   },
   {
    "duration": 90,
    "start_time": "2023-06-06T10:54:18.575Z"
   },
   {
    "duration": 186,
    "start_time": "2023-06-06T10:54:37.839Z"
   },
   {
    "duration": 12,
    "start_time": "2023-06-06T10:55:06.916Z"
   },
   {
    "duration": 0,
    "start_time": "2023-06-06T10:55:30.371Z"
   },
   {
    "duration": 28,
    "start_time": "2023-06-06T10:59:05.312Z"
   },
   {
    "duration": 5,
    "start_time": "2023-06-06T11:00:55.795Z"
   },
   {
    "duration": 26,
    "start_time": "2023-06-06T11:01:09.254Z"
   },
   {
    "duration": 29,
    "start_time": "2023-06-06T11:03:16.286Z"
   },
   {
    "duration": 24,
    "start_time": "2023-06-06T11:03:53.474Z"
   },
   {
    "duration": 12,
    "start_time": "2023-06-06T11:06:38.423Z"
   },
   {
    "duration": 12,
    "start_time": "2023-06-06T11:06:50.967Z"
   },
   {
    "duration": 11,
    "start_time": "2023-06-06T11:06:56.367Z"
   },
   {
    "duration": 17,
    "start_time": "2023-06-06T11:07:57.434Z"
   },
   {
    "duration": 1360,
    "start_time": "2023-06-06T15:57:53.604Z"
   },
   {
    "duration": 112,
    "start_time": "2023-06-06T15:57:54.967Z"
   },
   {
    "duration": 10,
    "start_time": "2023-06-06T15:57:55.080Z"
   },
   {
    "duration": 17,
    "start_time": "2023-06-06T15:57:55.329Z"
   },
   {
    "duration": 7,
    "start_time": "2023-06-06T15:57:55.704Z"
   },
   {
    "duration": 83,
    "start_time": "2023-06-06T15:57:56.298Z"
   },
   {
    "duration": 11,
    "start_time": "2023-06-06T15:57:56.687Z"
   },
   {
    "duration": 15,
    "start_time": "2023-06-06T15:57:57.020Z"
   },
   {
    "duration": 9,
    "start_time": "2023-06-06T15:57:57.370Z"
   },
   {
    "duration": 68,
    "start_time": "2023-06-06T15:57:57.792Z"
   },
   {
    "duration": 10,
    "start_time": "2023-06-06T15:57:58.176Z"
   },
   {
    "duration": 14,
    "start_time": "2023-06-06T15:57:59.038Z"
   },
   {
    "duration": 12,
    "start_time": "2023-06-06T15:57:59.429Z"
   },
   {
    "duration": 7,
    "start_time": "2023-06-06T15:57:59.804Z"
   },
   {
    "duration": 8,
    "start_time": "2023-06-06T15:58:00.156Z"
   },
   {
    "duration": 8,
    "start_time": "2023-06-06T15:58:00.549Z"
   },
   {
    "duration": 5,
    "start_time": "2023-06-06T15:58:01.039Z"
   },
   {
    "duration": 6,
    "start_time": "2023-06-06T15:58:01.413Z"
   },
   {
    "duration": 154,
    "start_time": "2023-06-06T15:58:02.182Z"
   },
   {
    "duration": 304,
    "start_time": "2023-06-06T15:58:02.761Z"
   },
   {
    "duration": 103,
    "start_time": "2023-06-06T15:58:03.336Z"
   },
   {
    "duration": 299,
    "start_time": "2023-06-06T15:58:03.933Z"
   },
   {
    "duration": 334,
    "start_time": "2023-06-06T15:58:04.529Z"
   },
   {
    "duration": 19,
    "start_time": "2023-06-06T15:58:05.785Z"
   },
   {
    "duration": 19,
    "start_time": "2023-06-06T15:58:06.443Z"
   },
   {
    "duration": 1166,
    "start_time": "2023-06-06T15:58:07.181Z"
   },
   {
    "duration": 35,
    "start_time": "2023-06-06T15:58:08.349Z"
   },
   {
    "duration": 22,
    "start_time": "2023-06-06T15:58:10.086Z"
   },
   {
    "duration": 11,
    "start_time": "2023-06-06T15:58:10.961Z"
   },
   {
    "duration": 31,
    "start_time": "2023-06-06T16:20:30.718Z"
   },
   {
    "duration": 4,
    "start_time": "2023-06-06T16:31:52.329Z"
   },
   {
    "duration": 10,
    "start_time": "2023-06-06T16:32:11.904Z"
   },
   {
    "duration": 4,
    "start_time": "2023-06-06T16:33:06.192Z"
   },
   {
    "duration": 24,
    "start_time": "2023-06-06T16:38:02.605Z"
   },
   {
    "duration": 1346,
    "start_time": "2023-06-07T04:01:59.870Z"
   },
   {
    "duration": 100,
    "start_time": "2023-06-07T04:02:01.218Z"
   },
   {
    "duration": 11,
    "start_time": "2023-06-07T04:02:01.320Z"
   },
   {
    "duration": 53,
    "start_time": "2023-06-07T04:02:01.333Z"
   },
   {
    "duration": 18,
    "start_time": "2023-06-07T04:02:01.388Z"
   },
   {
    "duration": 95,
    "start_time": "2023-06-07T04:02:01.407Z"
   },
   {
    "duration": 12,
    "start_time": "2023-06-07T04:02:01.504Z"
   },
   {
    "duration": 38,
    "start_time": "2023-06-07T04:02:01.518Z"
   },
   {
    "duration": 11,
    "start_time": "2023-06-07T04:02:01.578Z"
   },
   {
    "duration": 56,
    "start_time": "2023-06-07T04:02:01.759Z"
   },
   {
    "duration": 15,
    "start_time": "2023-06-07T04:02:02.139Z"
   },
   {
    "duration": 19,
    "start_time": "2023-06-07T04:02:02.546Z"
   },
   {
    "duration": 14,
    "start_time": "2023-06-07T04:02:02.755Z"
   },
   {
    "duration": 6,
    "start_time": "2023-06-07T04:02:02.933Z"
   },
   {
    "duration": 12,
    "start_time": "2023-06-07T04:02:03.142Z"
   },
   {
    "duration": 7,
    "start_time": "2023-06-07T04:02:03.315Z"
   },
   {
    "duration": 6,
    "start_time": "2023-06-07T04:02:03.499Z"
   },
   {
    "duration": 7,
    "start_time": "2023-06-07T04:02:03.682Z"
   },
   {
    "duration": 174,
    "start_time": "2023-06-07T04:02:04.059Z"
   },
   {
    "duration": 368,
    "start_time": "2023-06-07T04:02:04.244Z"
   },
   {
    "duration": 125,
    "start_time": "2023-06-07T04:02:04.613Z"
   },
   {
    "duration": 325,
    "start_time": "2023-06-07T04:02:04.769Z"
   },
   {
    "duration": 367,
    "start_time": "2023-06-07T04:02:05.097Z"
   },
   {
    "duration": 19,
    "start_time": "2023-06-07T04:02:05.467Z"
   },
   {
    "duration": 23,
    "start_time": "2023-06-07T04:02:05.582Z"
   },
   {
    "duration": 1448,
    "start_time": "2023-06-07T04:02:05.788Z"
   },
   {
    "duration": 57,
    "start_time": "2023-06-07T04:02:07.247Z"
   },
   {
    "duration": 29,
    "start_time": "2023-06-07T04:02:07.306Z"
   },
   {
    "duration": 12,
    "start_time": "2023-06-07T04:02:07.487Z"
   },
   {
    "duration": 35,
    "start_time": "2023-06-07T04:02:08.058Z"
   },
   {
    "duration": 11,
    "start_time": "2023-06-07T04:02:08.682Z"
   },
   {
    "duration": 3,
    "start_time": "2023-06-07T04:02:09.523Z"
   },
   {
    "duration": 17,
    "start_time": "2023-06-07T04:02:10.121Z"
   },
   {
    "duration": 151,
    "start_time": "2023-06-07T04:04:02.440Z"
   },
   {
    "duration": 3,
    "start_time": "2023-06-07T04:04:33.692Z"
   },
   {
    "duration": 6,
    "start_time": "2023-06-07T04:04:39.873Z"
   },
   {
    "duration": 5,
    "start_time": "2023-06-07T04:07:58.198Z"
   },
   {
    "duration": 6,
    "start_time": "2023-06-07T04:11:03.499Z"
   },
   {
    "duration": 8,
    "start_time": "2023-06-07T04:11:45.357Z"
   },
   {
    "duration": 6,
    "start_time": "2023-06-07T04:12:14.027Z"
   },
   {
    "duration": 117,
    "start_time": "2023-06-07T04:15:08.205Z"
   },
   {
    "duration": 5,
    "start_time": "2023-06-07T04:15:30.135Z"
   },
   {
    "duration": 6,
    "start_time": "2023-06-07T04:15:44.314Z"
   },
   {
    "duration": 5,
    "start_time": "2023-06-07T04:16:36.371Z"
   },
   {
    "duration": 5,
    "start_time": "2023-06-07T04:24:25.420Z"
   },
   {
    "duration": 5,
    "start_time": "2023-06-07T04:27:20.159Z"
   },
   {
    "duration": 6,
    "start_time": "2023-06-07T04:29:18.402Z"
   },
   {
    "duration": 5,
    "start_time": "2023-06-07T04:29:38.739Z"
   },
   {
    "duration": 2427,
    "start_time": "2023-06-07T04:30:44.030Z"
   },
   {
    "duration": 14,
    "start_time": "2023-06-07T04:31:13.441Z"
   },
   {
    "duration": 388,
    "start_time": "2023-06-07T04:45:58.656Z"
   },
   {
    "duration": 26,
    "start_time": "2023-06-07T04:46:54.212Z"
   },
   {
    "duration": 325,
    "start_time": "2023-06-07T05:06:56.971Z"
   },
   {
    "duration": 6,
    "start_time": "2023-06-07T05:18:47.910Z"
   },
   {
    "duration": 6,
    "start_time": "2023-06-07T05:19:06.251Z"
   },
   {
    "duration": 5,
    "start_time": "2023-06-07T05:19:08.299Z"
   },
   {
    "duration": 1345,
    "start_time": "2023-06-07T16:49:22.937Z"
   },
   {
    "duration": 88,
    "start_time": "2023-06-07T16:49:24.285Z"
   },
   {
    "duration": 20,
    "start_time": "2023-06-07T16:49:24.376Z"
   },
   {
    "duration": 41,
    "start_time": "2023-06-07T16:49:24.399Z"
   },
   {
    "duration": 11,
    "start_time": "2023-06-07T16:49:24.442Z"
   },
   {
    "duration": 81,
    "start_time": "2023-06-07T16:49:24.455Z"
   },
   {
    "duration": 13,
    "start_time": "2023-06-07T16:49:24.538Z"
   },
   {
    "duration": 26,
    "start_time": "2023-06-07T16:49:24.553Z"
   },
   {
    "duration": 10,
    "start_time": "2023-06-07T16:49:24.581Z"
   },
   {
    "duration": 62,
    "start_time": "2023-06-07T16:49:24.594Z"
   },
   {
    "duration": 11,
    "start_time": "2023-06-07T16:49:24.657Z"
   },
   {
    "duration": 22,
    "start_time": "2023-06-07T16:49:24.669Z"
   },
   {
    "duration": 12,
    "start_time": "2023-06-07T16:49:24.692Z"
   },
   {
    "duration": 5,
    "start_time": "2023-06-07T16:49:24.705Z"
   },
   {
    "duration": 8,
    "start_time": "2023-06-07T16:49:24.712Z"
   },
   {
    "duration": 7,
    "start_time": "2023-06-07T16:49:24.722Z"
   },
   {
    "duration": 5,
    "start_time": "2023-06-07T16:49:24.731Z"
   },
   {
    "duration": 27,
    "start_time": "2023-06-07T16:49:24.739Z"
   },
   {
    "duration": 195,
    "start_time": "2023-06-07T16:49:24.768Z"
   },
   {
    "duration": 391,
    "start_time": "2023-06-07T16:49:24.965Z"
   },
   {
    "duration": 121,
    "start_time": "2023-06-07T16:49:25.358Z"
   },
   {
    "duration": 337,
    "start_time": "2023-06-07T16:49:25.481Z"
   },
   {
    "duration": 314,
    "start_time": "2023-06-07T16:49:25.820Z"
   },
   {
    "duration": 17,
    "start_time": "2023-06-07T16:49:26.136Z"
   },
   {
    "duration": 19,
    "start_time": "2023-06-07T16:49:26.155Z"
   },
   {
    "duration": 1318,
    "start_time": "2023-06-07T16:49:26.176Z"
   },
   {
    "duration": 62,
    "start_time": "2023-06-07T16:49:27.496Z"
   },
   {
    "duration": 98,
    "start_time": "2023-06-07T16:49:27.561Z"
   },
   {
    "duration": 0,
    "start_time": "2023-06-07T16:49:27.661Z"
   },
   {
    "duration": 0,
    "start_time": "2023-06-07T16:49:27.662Z"
   },
   {
    "duration": 0,
    "start_time": "2023-06-07T16:49:27.662Z"
   },
   {
    "duration": 0,
    "start_time": "2023-06-07T16:49:27.664Z"
   },
   {
    "duration": 0,
    "start_time": "2023-06-07T16:49:27.665Z"
   },
   {
    "duration": 0,
    "start_time": "2023-06-07T16:49:27.666Z"
   },
   {
    "duration": 0,
    "start_time": "2023-06-07T16:49:27.668Z"
   },
   {
    "duration": 0,
    "start_time": "2023-06-07T16:49:27.669Z"
   },
   {
    "duration": 0,
    "start_time": "2023-06-07T16:49:27.670Z"
   },
   {
    "duration": 0,
    "start_time": "2023-06-07T16:49:27.673Z"
   },
   {
    "duration": 1,
    "start_time": "2023-06-07T16:49:27.673Z"
   },
   {
    "duration": 0,
    "start_time": "2023-06-07T16:49:27.675Z"
   },
   {
    "duration": 46,
    "start_time": "2023-06-08T02:12:44.622Z"
   },
   {
    "duration": 7,
    "start_time": "2023-06-08T02:13:00.495Z"
   },
   {
    "duration": 1227,
    "start_time": "2023-06-08T02:13:15.968Z"
   },
   {
    "duration": 94,
    "start_time": "2023-06-08T02:13:17.197Z"
   },
   {
    "duration": 11,
    "start_time": "2023-06-08T02:13:17.292Z"
   },
   {
    "duration": 27,
    "start_time": "2023-06-08T02:13:17.305Z"
   },
   {
    "duration": 9,
    "start_time": "2023-06-08T02:13:17.334Z"
   },
   {
    "duration": 73,
    "start_time": "2023-06-08T02:13:17.453Z"
   },
   {
    "duration": 11,
    "start_time": "2023-06-08T02:13:18.226Z"
   },
   {
    "duration": 18,
    "start_time": "2023-06-08T02:13:18.411Z"
   },
   {
    "duration": 10,
    "start_time": "2023-06-08T02:13:18.608Z"
   },
   {
    "duration": 67,
    "start_time": "2023-06-08T02:13:18.786Z"
   },
   {
    "duration": 9,
    "start_time": "2023-06-08T02:13:18.973Z"
   },
   {
    "duration": 15,
    "start_time": "2023-06-08T02:13:19.910Z"
   },
   {
    "duration": 11,
    "start_time": "2023-06-08T02:13:20.298Z"
   },
   {
    "duration": 5,
    "start_time": "2023-06-08T02:13:20.908Z"
   },
   {
    "duration": 7,
    "start_time": "2023-06-08T02:13:21.101Z"
   },
   {
    "duration": 8,
    "start_time": "2023-06-08T02:13:21.510Z"
   },
   {
    "duration": 6,
    "start_time": "2023-06-08T02:13:21.917Z"
   },
   {
    "duration": 5,
    "start_time": "2023-06-08T02:13:22.178Z"
   },
   {
    "duration": 154,
    "start_time": "2023-06-08T02:13:23.759Z"
   },
   {
    "duration": 354,
    "start_time": "2023-06-08T02:13:24.782Z"
   },
   {
    "duration": 109,
    "start_time": "2023-06-08T02:13:25.648Z"
   },
   {
    "duration": 282,
    "start_time": "2023-06-08T02:13:26.160Z"
   },
   {
    "duration": 334,
    "start_time": "2023-06-08T02:13:27.392Z"
   },
   {
    "duration": 19,
    "start_time": "2023-06-08T02:13:31.787Z"
   },
   {
    "duration": 17,
    "start_time": "2023-06-08T02:13:34.063Z"
   },
   {
    "duration": 1154,
    "start_time": "2023-06-08T02:13:48.399Z"
   },
   {
    "duration": 18,
    "start_time": "2023-06-08T02:14:21.399Z"
   },
   {
    "duration": 19,
    "start_time": "2023-06-08T02:14:24.932Z"
   },
   {
    "duration": 1131,
    "start_time": "2023-06-08T02:14:31.214Z"
   },
   {
    "duration": 49,
    "start_time": "2023-06-08T02:14:36.606Z"
   },
   {
    "duration": 30,
    "start_time": "2023-06-08T02:14:49.672Z"
   },
   {
    "duration": 89,
    "start_time": "2023-06-08T02:14:56.015Z"
   },
   {
    "duration": 4,
    "start_time": "2023-06-08T02:14:59.425Z"
   },
   {
    "duration": 15,
    "start_time": "2023-06-08T02:15:02.308Z"
   },
   {
    "duration": 5,
    "start_time": "2023-06-08T02:15:06.791Z"
   },
   {
    "duration": 5,
    "start_time": "2023-06-08T02:15:08.907Z"
   },
   {
    "duration": 105,
    "start_time": "2023-06-08T04:08:37.833Z"
   },
   {
    "duration": 79,
    "start_time": "2023-06-08T04:08:52.669Z"
   },
   {
    "duration": 73,
    "start_time": "2023-06-08T04:09:06.239Z"
   },
   {
    "duration": 21,
    "start_time": "2023-06-08T04:13:55.978Z"
   },
   {
    "duration": 12,
    "start_time": "2023-06-08T04:14:22.686Z"
   },
   {
    "duration": 10,
    "start_time": "2023-06-08T04:14:46.307Z"
   },
   {
    "duration": 7,
    "start_time": "2023-06-08T04:16:00.409Z"
   },
   {
    "duration": 4,
    "start_time": "2023-06-08T04:16:35.464Z"
   },
   {
    "duration": 5,
    "start_time": "2023-06-08T04:16:56.125Z"
   },
   {
    "duration": 17,
    "start_time": "2023-06-08T04:17:14.484Z"
   },
   {
    "duration": 6,
    "start_time": "2023-06-08T04:18:52.958Z"
   },
   {
    "duration": 8,
    "start_time": "2023-06-08T04:18:53.238Z"
   },
   {
    "duration": 9,
    "start_time": "2023-06-08T04:18:57.112Z"
   },
   {
    "duration": 18,
    "start_time": "2023-06-08T04:19:11.120Z"
   },
   {
    "duration": 13,
    "start_time": "2023-06-08T04:19:13.555Z"
   },
   {
    "duration": 6,
    "start_time": "2023-06-08T04:19:20.383Z"
   },
   {
    "duration": 9,
    "start_time": "2023-06-08T04:19:21.245Z"
   },
   {
    "duration": 8,
    "start_time": "2023-06-08T04:19:23.182Z"
   },
   {
    "duration": 5,
    "start_time": "2023-06-08T04:19:24.198Z"
   },
   {
    "duration": 3,
    "start_time": "2023-06-08T04:19:54.010Z"
   },
   {
    "duration": 35,
    "start_time": "2023-06-08T04:19:54.723Z"
   },
   {
    "duration": 9,
    "start_time": "2023-06-08T04:19:58.017Z"
   },
   {
    "duration": 16,
    "start_time": "2023-06-08T04:19:59.944Z"
   },
   {
    "duration": 7,
    "start_time": "2023-06-08T04:20:00.539Z"
   },
   {
    "duration": 43,
    "start_time": "2023-06-08T04:20:01.215Z"
   },
   {
    "duration": 11,
    "start_time": "2023-06-08T04:20:04.640Z"
   },
   {
    "duration": 22,
    "start_time": "2023-06-08T04:20:05.230Z"
   },
   {
    "duration": 11,
    "start_time": "2023-06-08T04:20:05.873Z"
   },
   {
    "duration": 32,
    "start_time": "2023-06-08T04:20:06.744Z"
   },
   {
    "duration": 9,
    "start_time": "2023-06-08T04:20:07.204Z"
   },
   {
    "duration": 14,
    "start_time": "2023-06-08T04:20:12.046Z"
   },
   {
    "duration": 14,
    "start_time": "2023-06-08T04:20:13.484Z"
   },
   {
    "duration": 5,
    "start_time": "2023-06-08T04:20:16.574Z"
   },
   {
    "duration": 7,
    "start_time": "2023-06-08T04:20:17.518Z"
   },
   {
    "duration": 8,
    "start_time": "2023-06-08T04:20:19.400Z"
   },
   {
    "duration": 6,
    "start_time": "2023-06-08T04:20:22.233Z"
   },
   {
    "duration": 5,
    "start_time": "2023-06-08T04:20:23.088Z"
   },
   {
    "duration": 77,
    "start_time": "2023-06-08T04:25:33.284Z"
   },
   {
    "duration": 12,
    "start_time": "2023-06-08T04:33:04.276Z"
   },
   {
    "duration": 20,
    "start_time": "2023-06-08T04:33:22.002Z"
   },
   {
    "duration": 12,
    "start_time": "2023-06-08T04:33:37.592Z"
   },
   {
    "duration": 102,
    "start_time": "2023-06-08T04:37:21.572Z"
   },
   {
    "duration": 107,
    "start_time": "2023-06-08T04:37:29.589Z"
   },
   {
    "duration": 1733,
    "start_time": "2023-06-08T04:55:10.865Z"
   },
   {
    "duration": 1959,
    "start_time": "2023-06-08T04:55:24.200Z"
   },
   {
    "duration": 1996,
    "start_time": "2023-06-08T04:56:41.039Z"
   },
   {
    "duration": 18,
    "start_time": "2023-06-08T04:58:37.696Z"
   },
   {
    "duration": 2296,
    "start_time": "2023-06-08T04:58:57.046Z"
   },
   {
    "duration": 2077,
    "start_time": "2023-06-08T05:02:22.016Z"
   },
   {
    "duration": 2076,
    "start_time": "2023-06-08T05:03:35.742Z"
   },
   {
    "duration": 84,
    "start_time": "2023-06-08T05:08:29.252Z"
   },
   {
    "duration": 12,
    "start_time": "2023-06-08T05:09:54.999Z"
   },
   {
    "duration": 106,
    "start_time": "2023-06-08T05:13:22.552Z"
   },
   {
    "duration": 110,
    "start_time": "2023-06-08T05:14:09.974Z"
   },
   {
    "duration": 186,
    "start_time": "2023-06-08T05:14:55.277Z"
   },
   {
    "duration": 7,
    "start_time": "2023-06-08T05:33:45.483Z"
   },
   {
    "duration": 5,
    "start_time": "2023-06-08T05:33:47.662Z"
   },
   {
    "duration": 3,
    "start_time": "2023-06-08T09:40:18.869Z"
   },
   {
    "duration": 54,
    "start_time": "2023-06-08T09:40:19.683Z"
   },
   {
    "duration": 14,
    "start_time": "2023-06-08T09:40:20.593Z"
   },
   {
    "duration": 16,
    "start_time": "2023-06-08T09:40:20.973Z"
   },
   {
    "duration": 7,
    "start_time": "2023-06-08T09:40:21.472Z"
   },
   {
    "duration": 46,
    "start_time": "2023-06-08T09:40:21.873Z"
   },
   {
    "duration": 10,
    "start_time": "2023-06-08T09:40:23.132Z"
   },
   {
    "duration": 19,
    "start_time": "2023-06-08T09:40:23.395Z"
   },
   {
    "duration": 11,
    "start_time": "2023-06-08T09:40:23.659Z"
   },
   {
    "duration": 44,
    "start_time": "2023-06-08T09:40:23.894Z"
   },
   {
    "duration": 13,
    "start_time": "2023-06-08T09:40:24.182Z"
   },
   {
    "duration": 20,
    "start_time": "2023-06-08T09:40:26.051Z"
   },
   {
    "duration": 30,
    "start_time": "2023-06-08T09:40:26.704Z"
   },
   {
    "duration": 6,
    "start_time": "2023-06-08T09:40:27.689Z"
   },
   {
    "duration": 10,
    "start_time": "2023-06-08T09:40:27.959Z"
   },
   {
    "duration": 10,
    "start_time": "2023-06-08T09:40:28.483Z"
   },
   {
    "duration": 6,
    "start_time": "2023-06-08T09:40:28.756Z"
   },
   {
    "duration": 7,
    "start_time": "2023-06-08T09:40:29.013Z"
   },
   {
    "duration": 2248,
    "start_time": "2023-06-08T09:40:30.543Z"
   },
   {
    "duration": 365,
    "start_time": "2023-06-08T09:40:32.794Z"
   },
   {
    "duration": 121,
    "start_time": "2023-06-08T09:40:33.161Z"
   },
   {
    "duration": 294,
    "start_time": "2023-06-08T09:40:33.549Z"
   },
   {
    "duration": 297,
    "start_time": "2023-06-08T09:40:34.572Z"
   },
   {
    "duration": 20,
    "start_time": "2023-06-08T09:40:35.976Z"
   },
   {
    "duration": 18,
    "start_time": "2023-06-08T09:40:39.177Z"
   },
   {
    "duration": 7,
    "start_time": "2023-06-08T09:40:41.080Z"
   },
   {
    "duration": 6,
    "start_time": "2023-06-08T09:40:46.969Z"
   },
   {
    "duration": 1367,
    "start_time": "2023-06-08T09:40:52.537Z"
   },
   {
    "duration": 48,
    "start_time": "2023-06-08T09:40:55.281Z"
   },
   {
    "duration": 197,
    "start_time": "2023-06-08T09:40:57.873Z"
   },
   {
    "duration": 32,
    "start_time": "2023-06-08T09:54:58.719Z"
   },
   {
    "duration": 11,
    "start_time": "2023-06-08T09:55:09.158Z"
   },
   {
    "duration": 4,
    "start_time": "2023-06-08T09:55:12.071Z"
   },
   {
    "duration": 17,
    "start_time": "2023-06-08T09:55:19.977Z"
   },
   {
    "duration": 5,
    "start_time": "2023-06-08T09:55:22.001Z"
   },
   {
    "duration": 6,
    "start_time": "2023-06-08T09:56:06.447Z"
   },
   {
    "duration": 6,
    "start_time": "2023-06-08T09:56:10.634Z"
   },
   {
    "duration": 6,
    "start_time": "2023-06-08T09:56:12.100Z"
   },
   {
    "duration": 6,
    "start_time": "2023-06-08T09:56:12.948Z"
   },
   {
    "duration": 7,
    "start_time": "2023-06-08T09:56:57.170Z"
   },
   {
    "duration": 99,
    "start_time": "2023-06-08T09:57:21.328Z"
   },
   {
    "duration": 1403,
    "start_time": "2023-06-08T16:24:59.412Z"
   },
   {
    "duration": 99,
    "start_time": "2023-06-08T16:25:00.817Z"
   },
   {
    "duration": 13,
    "start_time": "2023-06-08T16:25:00.918Z"
   },
   {
    "duration": 38,
    "start_time": "2023-06-08T16:25:00.933Z"
   },
   {
    "duration": 20,
    "start_time": "2023-06-08T16:25:00.975Z"
   },
   {
    "duration": 189,
    "start_time": "2023-06-08T16:25:00.997Z"
   },
   {
    "duration": 11,
    "start_time": "2023-06-08T16:25:01.188Z"
   },
   {
    "duration": 37,
    "start_time": "2023-06-08T16:25:01.201Z"
   },
   {
    "duration": 15,
    "start_time": "2023-06-08T16:25:01.240Z"
   },
   {
    "duration": 123,
    "start_time": "2023-06-08T16:25:01.257Z"
   },
   {
    "duration": 30,
    "start_time": "2023-06-08T16:25:01.382Z"
   },
   {
    "duration": 165,
    "start_time": "2023-06-08T16:25:01.414Z"
   },
   {
    "duration": 43,
    "start_time": "2023-06-08T16:25:01.582Z"
   },
   {
    "duration": 195,
    "start_time": "2023-06-08T16:25:01.629Z"
   },
   {
    "duration": 43,
    "start_time": "2023-06-08T16:25:01.826Z"
   },
   {
    "duration": 65,
    "start_time": "2023-06-08T16:25:01.870Z"
   },
   {
    "duration": 68,
    "start_time": "2023-06-08T16:25:01.937Z"
   },
   {
    "duration": 69,
    "start_time": "2023-06-08T16:25:02.007Z"
   },
   {
    "duration": 2081,
    "start_time": "2023-06-08T16:25:02.078Z"
   },
   {
    "duration": 343,
    "start_time": "2023-06-08T16:25:04.161Z"
   },
   {
    "duration": 265,
    "start_time": "2023-06-08T16:25:04.505Z"
   },
   {
    "duration": 327,
    "start_time": "2023-06-08T16:25:04.773Z"
   },
   {
    "duration": 324,
    "start_time": "2023-06-08T16:25:05.103Z"
   },
   {
    "duration": 39,
    "start_time": "2023-06-08T16:25:05.429Z"
   },
   {
    "duration": 30,
    "start_time": "2023-06-08T16:25:05.470Z"
   },
   {
    "duration": 10,
    "start_time": "2023-06-08T16:25:05.502Z"
   },
   {
    "duration": 11,
    "start_time": "2023-06-08T16:25:05.514Z"
   },
   {
    "duration": 1317,
    "start_time": "2023-06-08T16:25:05.528Z"
   },
   {
    "duration": 37,
    "start_time": "2023-06-08T16:25:06.856Z"
   },
   {
    "duration": 40,
    "start_time": "2023-06-08T16:25:06.894Z"
   },
   {
    "duration": 32,
    "start_time": "2023-06-08T16:25:06.936Z"
   },
   {
    "duration": 7,
    "start_time": "2023-06-08T16:25:06.970Z"
   },
   {
    "duration": 20,
    "start_time": "2023-06-08T16:25:06.979Z"
   },
   {
    "duration": 6,
    "start_time": "2023-06-08T16:25:07.001Z"
   },
   {
    "duration": 8,
    "start_time": "2023-06-08T16:25:07.009Z"
   },
   {
    "duration": 37,
    "start_time": "2023-06-08T16:25:07.019Z"
   },
   {
    "duration": 6,
    "start_time": "2023-06-08T16:25:07.059Z"
   },
   {
    "duration": 7,
    "start_time": "2023-06-08T16:25:07.068Z"
   },
   {
    "duration": 189,
    "start_time": "2023-06-08T16:33:33.576Z"
   },
   {
    "duration": 7,
    "start_time": "2023-06-08T16:35:52.950Z"
   },
   {
    "duration": 7,
    "start_time": "2023-06-08T16:35:56.730Z"
   },
   {
    "duration": 130,
    "start_time": "2023-06-08T16:36:28.959Z"
   },
   {
    "duration": 8,
    "start_time": "2023-06-08T16:39:00.598Z"
   },
   {
    "duration": 112,
    "start_time": "2023-06-08T16:44:54.271Z"
   },
   {
    "duration": 1344,
    "start_time": "2023-06-09T09:59:15.412Z"
   },
   {
    "duration": 87,
    "start_time": "2023-06-09T09:59:16.758Z"
   },
   {
    "duration": 12,
    "start_time": "2023-06-09T09:59:16.847Z"
   },
   {
    "duration": 27,
    "start_time": "2023-06-09T09:59:16.861Z"
   },
   {
    "duration": 8,
    "start_time": "2023-06-09T09:59:17.070Z"
   },
   {
    "duration": 87,
    "start_time": "2023-06-09T09:59:18.104Z"
   },
   {
    "duration": 11,
    "start_time": "2023-06-09T09:59:26.204Z"
   },
   {
    "duration": 22,
    "start_time": "2023-06-09T09:59:27.321Z"
   },
   {
    "duration": 10,
    "start_time": "2023-06-09T09:59:27.996Z"
   },
   {
    "duration": 68,
    "start_time": "2023-06-09T09:59:28.516Z"
   },
   {
    "duration": 11,
    "start_time": "2023-06-09T09:59:29.041Z"
   },
   {
    "duration": 13,
    "start_time": "2023-06-09T09:59:39.753Z"
   },
   {
    "duration": 15,
    "start_time": "2023-06-09T09:59:40.357Z"
   },
   {
    "duration": 195,
    "start_time": "2023-06-09T10:03:35.236Z"
   },
   {
    "duration": 5,
    "start_time": "2023-06-09T10:04:36.092Z"
   },
   {
    "duration": 5,
    "start_time": "2023-06-09T10:04:55.017Z"
   },
   {
    "duration": 7,
    "start_time": "2023-06-09T10:05:07.740Z"
   },
   {
    "duration": 9,
    "start_time": "2023-06-09T10:05:08.096Z"
   },
   {
    "duration": 9,
    "start_time": "2023-06-09T10:05:09.409Z"
   },
   {
    "duration": 6,
    "start_time": "2023-06-09T10:05:09.984Z"
   },
   {
    "duration": 6,
    "start_time": "2023-06-09T10:05:10.580Z"
   },
   {
    "duration": 2096,
    "start_time": "2023-06-09T10:05:19.176Z"
   },
   {
    "duration": 34,
    "start_time": "2023-06-09T10:08:28.872Z"
   },
   {
    "duration": 41,
    "start_time": "2023-06-09T10:09:38.008Z"
   },
   {
    "duration": 2678,
    "start_time": "2023-06-09T10:10:16.453Z"
   },
   {
    "duration": 2629,
    "start_time": "2023-06-09T10:10:37.029Z"
   },
   {
    "duration": 2692,
    "start_time": "2023-06-09T10:11:04.876Z"
   },
   {
    "duration": 271,
    "start_time": "2023-06-09T10:11:36.684Z"
   },
   {
    "duration": 150,
    "start_time": "2023-06-09T10:12:25.316Z"
   },
   {
    "duration": 2750,
    "start_time": "2023-06-09T10:12:32.258Z"
   },
   {
    "duration": 150,
    "start_time": "2023-06-09T10:15:24.216Z"
   },
   {
    "duration": 130,
    "start_time": "2023-06-09T10:15:40.903Z"
   },
   {
    "duration": 142,
    "start_time": "2023-06-09T10:15:55.293Z"
   },
   {
    "duration": 213,
    "start_time": "2023-06-09T10:16:12.581Z"
   },
   {
    "duration": 165,
    "start_time": "2023-06-09T10:27:28.272Z"
   },
   {
    "duration": 130,
    "start_time": "2023-06-09T10:27:59.456Z"
   },
   {
    "duration": 159,
    "start_time": "2023-06-09T10:28:52.557Z"
   },
   {
    "duration": 151,
    "start_time": "2023-06-09T10:29:03.392Z"
   },
   {
    "duration": 4,
    "start_time": "2023-06-09T10:29:30.892Z"
   },
   {
    "duration": 159,
    "start_time": "2023-06-09T10:29:47.492Z"
   },
   {
    "duration": 4,
    "start_time": "2023-06-09T10:30:04.184Z"
   },
   {
    "duration": 155,
    "start_time": "2023-06-09T10:30:11.402Z"
   },
   {
    "duration": 15,
    "start_time": "2023-06-09T10:31:07.988Z"
   },
   {
    "duration": 436,
    "start_time": "2023-06-09T10:32:36.311Z"
   },
   {
    "duration": 364,
    "start_time": "2023-06-09T10:33:19.421Z"
   },
   {
    "duration": 135,
    "start_time": "2023-06-09T10:33:23.197Z"
   },
   {
    "duration": 319,
    "start_time": "2023-06-09T10:33:25.956Z"
   },
   {
    "duration": 648,
    "start_time": "2023-06-09T10:33:32.544Z"
   },
   {
    "duration": 261,
    "start_time": "2023-06-09T10:33:43.564Z"
   },
   {
    "duration": 19,
    "start_time": "2023-06-09T10:33:50.516Z"
   },
   {
    "duration": 23,
    "start_time": "2023-06-09T10:33:51.864Z"
   },
   {
    "duration": 10,
    "start_time": "2023-06-09T10:33:54.157Z"
   },
   {
    "duration": 6,
    "start_time": "2023-06-09T10:33:54.623Z"
   },
   {
    "duration": 6,
    "start_time": "2023-06-09T10:33:57.189Z"
   },
   {
    "duration": 1199,
    "start_time": "2023-06-09T10:34:20.008Z"
   },
   {
    "duration": 37,
    "start_time": "2023-06-09T10:34:22.489Z"
   },
   {
    "duration": 39,
    "start_time": "2023-06-09T10:34:41.464Z"
   },
   {
    "duration": 12,
    "start_time": "2023-06-09T10:34:42.713Z"
   },
   {
    "duration": 4,
    "start_time": "2023-06-09T10:34:45.120Z"
   },
   {
    "duration": 4,
    "start_time": "2023-06-09T10:36:39.724Z"
   },
   {
    "duration": 15,
    "start_time": "2023-06-09T10:37:03.256Z"
   },
   {
    "duration": 19,
    "start_time": "2023-06-09T10:37:18.341Z"
   },
   {
    "duration": 34,
    "start_time": "2023-06-09T10:37:21.044Z"
   },
   {
    "duration": 12,
    "start_time": "2023-06-09T10:37:28.644Z"
   },
   {
    "duration": 36,
    "start_time": "2023-06-09T10:38:37.145Z"
   },
   {
    "duration": 12,
    "start_time": "2023-06-09T10:38:38.115Z"
   },
   {
    "duration": 18,
    "start_time": "2023-06-09T10:38:45.492Z"
   },
   {
    "duration": 9,
    "start_time": "2023-06-09T10:39:07.176Z"
   },
   {
    "duration": 130,
    "start_time": "2023-06-09T10:57:02.241Z"
   },
   {
    "duration": 5,
    "start_time": "2023-06-09T11:07:22.485Z"
   },
   {
    "duration": 5,
    "start_time": "2023-06-09T11:07:24.297Z"
   },
   {
    "duration": 227,
    "start_time": "2023-06-09T11:33:42.721Z"
   },
   {
    "duration": 1469,
    "start_time": "2023-06-09T15:42:43.233Z"
   },
   {
    "duration": 110,
    "start_time": "2023-06-09T15:42:44.704Z"
   },
   {
    "duration": 13,
    "start_time": "2023-06-09T15:42:44.816Z"
   },
   {
    "duration": 35,
    "start_time": "2023-06-09T15:42:44.831Z"
   },
   {
    "duration": 12,
    "start_time": "2023-06-09T15:42:44.869Z"
   },
   {
    "duration": 410,
    "start_time": "2023-06-09T15:42:44.883Z"
   },
   {
    "duration": 14,
    "start_time": "2023-06-09T15:42:45.295Z"
   },
   {
    "duration": 23,
    "start_time": "2023-06-09T15:42:45.311Z"
   },
   {
    "duration": 24,
    "start_time": "2023-06-09T15:42:45.336Z"
   },
   {
    "duration": 70,
    "start_time": "2023-06-09T15:42:45.363Z"
   },
   {
    "duration": 10,
    "start_time": "2023-06-09T15:42:45.435Z"
   },
   {
    "duration": 23,
    "start_time": "2023-06-09T15:42:45.447Z"
   },
   {
    "duration": 22,
    "start_time": "2023-06-09T15:42:45.472Z"
   },
   {
    "duration": 5,
    "start_time": "2023-06-09T15:42:45.496Z"
   },
   {
    "duration": 15,
    "start_time": "2023-06-09T15:42:45.502Z"
   },
   {
    "duration": 32,
    "start_time": "2023-06-09T15:42:45.519Z"
   },
   {
    "duration": 13,
    "start_time": "2023-06-09T15:42:45.553Z"
   },
   {
    "duration": 8,
    "start_time": "2023-06-09T15:42:45.568Z"
   },
   {
    "duration": 19,
    "start_time": "2023-06-09T15:42:45.578Z"
   },
   {
    "duration": 20,
    "start_time": "2023-06-09T15:42:45.599Z"
   },
   {
    "duration": 189,
    "start_time": "2023-06-09T15:42:45.621Z"
   },
   {
    "duration": 16,
    "start_time": "2023-06-09T15:42:45.812Z"
   },
   {
    "duration": 401,
    "start_time": "2023-06-09T15:42:45.830Z"
   },
   {
    "duration": 141,
    "start_time": "2023-06-09T15:42:46.233Z"
   },
   {
    "duration": 370,
    "start_time": "2023-06-09T15:42:46.376Z"
   },
   {
    "duration": 356,
    "start_time": "2023-06-09T15:42:46.749Z"
   },
   {
    "duration": 271,
    "start_time": "2023-06-09T15:42:47.107Z"
   },
   {
    "duration": 29,
    "start_time": "2023-06-09T15:42:47.381Z"
   },
   {
    "duration": 46,
    "start_time": "2023-06-09T15:42:47.413Z"
   },
   {
    "duration": 10,
    "start_time": "2023-06-09T15:42:47.461Z"
   },
   {
    "duration": 9,
    "start_time": "2023-06-09T15:42:47.473Z"
   },
   {
    "duration": 12,
    "start_time": "2023-06-09T15:42:47.484Z"
   },
   {
    "duration": 1590,
    "start_time": "2023-06-09T15:42:47.498Z"
   },
   {
    "duration": 42,
    "start_time": "2023-06-09T15:42:49.090Z"
   },
   {
    "duration": 29,
    "start_time": "2023-06-09T15:42:49.135Z"
   },
   {
    "duration": 57,
    "start_time": "2023-06-09T15:42:49.165Z"
   },
   {
    "duration": 13,
    "start_time": "2023-06-09T15:42:49.225Z"
   },
   {
    "duration": 29,
    "start_time": "2023-06-09T15:42:49.240Z"
   },
   {
    "duration": 15,
    "start_time": "2023-06-09T15:42:49.271Z"
   },
   {
    "duration": 24,
    "start_time": "2023-06-09T15:42:49.291Z"
   },
   {
    "duration": 8,
    "start_time": "2023-06-09T15:42:49.317Z"
   },
   {
    "duration": 42,
    "start_time": "2023-06-09T15:42:49.327Z"
   },
   {
    "duration": 26,
    "start_time": "2023-06-09T15:42:49.371Z"
   },
   {
    "duration": 14,
    "start_time": "2023-06-09T15:42:49.399Z"
   }
  ],
  "kernelspec": {
   "display_name": "Python 3 (ipykernel)",
   "language": "python",
   "name": "python3"
  },
  "language_info": {
   "codemirror_mode": {
    "name": "ipython",
    "version": 3
   },
   "file_extension": ".py",
   "mimetype": "text/x-python",
   "name": "python",
   "nbconvert_exporter": "python",
   "pygments_lexer": "ipython3",
   "version": "3.9.5"
  },
  "toc": {
   "base_numbering": 1,
   "nav_menu": {},
   "number_sections": true,
   "sideBar": true,
   "skip_h1_title": true,
   "title_cell": "Table of Contents",
   "title_sidebar": "Contents",
   "toc_cell": false,
   "toc_position": {},
   "toc_section_display": true,
   "toc_window_display": false
  }
 },
 "nbformat": 4,
 "nbformat_minor": 5
}
