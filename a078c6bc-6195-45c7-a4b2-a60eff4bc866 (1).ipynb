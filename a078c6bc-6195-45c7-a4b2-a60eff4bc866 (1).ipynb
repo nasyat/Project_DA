{
 "cells": [
  {
   "cell_type": "markdown",
   "id": "386f2ae7",
   "metadata": {
    "deletable": false,
    "editable": false,
    "id": "386f2ae7"
   },
   "source": [
    "# Исследование надежности заемщиков\n"
   ]
  },
  {
   "cell_type": "markdown",
   "id": "ffe86f65",
   "metadata": {
    "deletable": false,
    "editable": false,
    "id": "ffe86f65"
   },
   "source": [
    "Во второй части проекта вы выполните шаги 3 и 4. Их вручную проверит ревьюер.\n",
    "Чтобы вам не пришлось писать код заново для шагов 1 и 2, мы добавили авторские решения в ячейки с кодом. \n",
    "\n"
   ]
  },
  {
   "cell_type": "markdown",
   "id": "26613308",
   "metadata": {
    "deletable": false,
    "editable": false,
    "id": "26613308"
   },
   "source": [
    "## Откройте таблицу и изучите общую информацию о данных"
   ]
  },
  {
   "cell_type": "markdown",
   "id": "3c9f838e",
   "metadata": {
    "deletable": false,
    "editable": false,
    "id": "3c9f838e"
   },
   "source": [
    "**Задание 1. Импортируйте библиотеку pandas. Считайте данные из csv-файла в датафрейм и сохраните в переменную `data`. Путь к файлу:**\n",
    "\n",
    "`/datasets/data.csv`"
   ]
  },
  {
   "cell_type": "code",
   "execution_count": 1,
   "id": "77a68a90",
   "metadata": {
    "deletable": false,
    "id": "77a68a90"
   },
   "outputs": [],
   "source": [
    "import pandas as pd\n",
    "\n",
    "try:\n",
    "    data = pd.read_csv('/datasets/data.csv')\n",
    "except:\n",
    "    data = pd.read_csv('https://code.s3.yandex.net/datasets/data.csv')"
   ]
  },
  {
   "cell_type": "markdown",
   "id": "45365635",
   "metadata": {
    "deletable": false,
    "editable": false,
    "id": "45365635"
   },
   "source": [
    "**Задание 2. Выведите первые 20 строчек датафрейма `data` на экран.**"
   ]
  },
  {
   "cell_type": "code",
   "execution_count": 2,
   "id": "b0451a9a",
   "metadata": {
    "deletable": false,
    "id": "b0451a9a",
    "outputId": "1a8f3ef2-d323-4ec2-ddf7-89670b5944c4"
   },
   "outputs": [
    {
     "data": {
      "text/html": [
       "<div>\n",
       "<style scoped>\n",
       "    .dataframe tbody tr th:only-of-type {\n",
       "        vertical-align: middle;\n",
       "    }\n",
       "\n",
       "    .dataframe tbody tr th {\n",
       "        vertical-align: top;\n",
       "    }\n",
       "\n",
       "    .dataframe thead th {\n",
       "        text-align: right;\n",
       "    }\n",
       "</style>\n",
       "<table border=\"1\" class=\"dataframe\">\n",
       "  <thead>\n",
       "    <tr style=\"text-align: right;\">\n",
       "      <th></th>\n",
       "      <th>children</th>\n",
       "      <th>days_employed</th>\n",
       "      <th>dob_years</th>\n",
       "      <th>education</th>\n",
       "      <th>education_id</th>\n",
       "      <th>family_status</th>\n",
       "      <th>family_status_id</th>\n",
       "      <th>gender</th>\n",
       "      <th>income_type</th>\n",
       "      <th>debt</th>\n",
       "      <th>total_income</th>\n",
       "      <th>purpose</th>\n",
       "    </tr>\n",
       "  </thead>\n",
       "  <tbody>\n",
       "    <tr>\n",
       "      <th>0</th>\n",
       "      <td>1</td>\n",
       "      <td>-8437.673028</td>\n",
       "      <td>42</td>\n",
       "      <td>высшее</td>\n",
       "      <td>0</td>\n",
       "      <td>женат / замужем</td>\n",
       "      <td>0</td>\n",
       "      <td>F</td>\n",
       "      <td>сотрудник</td>\n",
       "      <td>0</td>\n",
       "      <td>253875.639453</td>\n",
       "      <td>покупка жилья</td>\n",
       "    </tr>\n",
       "    <tr>\n",
       "      <th>1</th>\n",
       "      <td>1</td>\n",
       "      <td>-4024.803754</td>\n",
       "      <td>36</td>\n",
       "      <td>среднее</td>\n",
       "      <td>1</td>\n",
       "      <td>женат / замужем</td>\n",
       "      <td>0</td>\n",
       "      <td>F</td>\n",
       "      <td>сотрудник</td>\n",
       "      <td>0</td>\n",
       "      <td>112080.014102</td>\n",
       "      <td>приобретение автомобиля</td>\n",
       "    </tr>\n",
       "    <tr>\n",
       "      <th>2</th>\n",
       "      <td>0</td>\n",
       "      <td>-5623.422610</td>\n",
       "      <td>33</td>\n",
       "      <td>Среднее</td>\n",
       "      <td>1</td>\n",
       "      <td>женат / замужем</td>\n",
       "      <td>0</td>\n",
       "      <td>M</td>\n",
       "      <td>сотрудник</td>\n",
       "      <td>0</td>\n",
       "      <td>145885.952297</td>\n",
       "      <td>покупка жилья</td>\n",
       "    </tr>\n",
       "    <tr>\n",
       "      <th>3</th>\n",
       "      <td>3</td>\n",
       "      <td>-4124.747207</td>\n",
       "      <td>32</td>\n",
       "      <td>среднее</td>\n",
       "      <td>1</td>\n",
       "      <td>женат / замужем</td>\n",
       "      <td>0</td>\n",
       "      <td>M</td>\n",
       "      <td>сотрудник</td>\n",
       "      <td>0</td>\n",
       "      <td>267628.550329</td>\n",
       "      <td>дополнительное образование</td>\n",
       "    </tr>\n",
       "    <tr>\n",
       "      <th>4</th>\n",
       "      <td>0</td>\n",
       "      <td>340266.072047</td>\n",
       "      <td>53</td>\n",
       "      <td>среднее</td>\n",
       "      <td>1</td>\n",
       "      <td>гражданский брак</td>\n",
       "      <td>1</td>\n",
       "      <td>F</td>\n",
       "      <td>пенсионер</td>\n",
       "      <td>0</td>\n",
       "      <td>158616.077870</td>\n",
       "      <td>сыграть свадьбу</td>\n",
       "    </tr>\n",
       "    <tr>\n",
       "      <th>5</th>\n",
       "      <td>0</td>\n",
       "      <td>-926.185831</td>\n",
       "      <td>27</td>\n",
       "      <td>высшее</td>\n",
       "      <td>0</td>\n",
       "      <td>гражданский брак</td>\n",
       "      <td>1</td>\n",
       "      <td>M</td>\n",
       "      <td>компаньон</td>\n",
       "      <td>0</td>\n",
       "      <td>255763.565419</td>\n",
       "      <td>покупка жилья</td>\n",
       "    </tr>\n",
       "    <tr>\n",
       "      <th>6</th>\n",
       "      <td>0</td>\n",
       "      <td>-2879.202052</td>\n",
       "      <td>43</td>\n",
       "      <td>высшее</td>\n",
       "      <td>0</td>\n",
       "      <td>женат / замужем</td>\n",
       "      <td>0</td>\n",
       "      <td>F</td>\n",
       "      <td>компаньон</td>\n",
       "      <td>0</td>\n",
       "      <td>240525.971920</td>\n",
       "      <td>операции с жильем</td>\n",
       "    </tr>\n",
       "    <tr>\n",
       "      <th>7</th>\n",
       "      <td>0</td>\n",
       "      <td>-152.779569</td>\n",
       "      <td>50</td>\n",
       "      <td>СРЕДНЕЕ</td>\n",
       "      <td>1</td>\n",
       "      <td>женат / замужем</td>\n",
       "      <td>0</td>\n",
       "      <td>M</td>\n",
       "      <td>сотрудник</td>\n",
       "      <td>0</td>\n",
       "      <td>135823.934197</td>\n",
       "      <td>образование</td>\n",
       "    </tr>\n",
       "    <tr>\n",
       "      <th>8</th>\n",
       "      <td>2</td>\n",
       "      <td>-6929.865299</td>\n",
       "      <td>35</td>\n",
       "      <td>ВЫСШЕЕ</td>\n",
       "      <td>0</td>\n",
       "      <td>гражданский брак</td>\n",
       "      <td>1</td>\n",
       "      <td>F</td>\n",
       "      <td>сотрудник</td>\n",
       "      <td>0</td>\n",
       "      <td>95856.832424</td>\n",
       "      <td>на проведение свадьбы</td>\n",
       "    </tr>\n",
       "    <tr>\n",
       "      <th>9</th>\n",
       "      <td>0</td>\n",
       "      <td>-2188.756445</td>\n",
       "      <td>41</td>\n",
       "      <td>среднее</td>\n",
       "      <td>1</td>\n",
       "      <td>женат / замужем</td>\n",
       "      <td>0</td>\n",
       "      <td>M</td>\n",
       "      <td>сотрудник</td>\n",
       "      <td>0</td>\n",
       "      <td>144425.938277</td>\n",
       "      <td>покупка жилья для семьи</td>\n",
       "    </tr>\n",
       "    <tr>\n",
       "      <th>10</th>\n",
       "      <td>2</td>\n",
       "      <td>-4171.483647</td>\n",
       "      <td>36</td>\n",
       "      <td>высшее</td>\n",
       "      <td>0</td>\n",
       "      <td>женат / замужем</td>\n",
       "      <td>0</td>\n",
       "      <td>M</td>\n",
       "      <td>компаньон</td>\n",
       "      <td>0</td>\n",
       "      <td>113943.491460</td>\n",
       "      <td>покупка недвижимости</td>\n",
       "    </tr>\n",
       "    <tr>\n",
       "      <th>11</th>\n",
       "      <td>0</td>\n",
       "      <td>-792.701887</td>\n",
       "      <td>40</td>\n",
       "      <td>среднее</td>\n",
       "      <td>1</td>\n",
       "      <td>женат / замужем</td>\n",
       "      <td>0</td>\n",
       "      <td>F</td>\n",
       "      <td>сотрудник</td>\n",
       "      <td>0</td>\n",
       "      <td>77069.234271</td>\n",
       "      <td>покупка коммерческой недвижимости</td>\n",
       "    </tr>\n",
       "    <tr>\n",
       "      <th>12</th>\n",
       "      <td>0</td>\n",
       "      <td>NaN</td>\n",
       "      <td>65</td>\n",
       "      <td>среднее</td>\n",
       "      <td>1</td>\n",
       "      <td>гражданский брак</td>\n",
       "      <td>1</td>\n",
       "      <td>M</td>\n",
       "      <td>пенсионер</td>\n",
       "      <td>0</td>\n",
       "      <td>NaN</td>\n",
       "      <td>сыграть свадьбу</td>\n",
       "    </tr>\n",
       "    <tr>\n",
       "      <th>13</th>\n",
       "      <td>0</td>\n",
       "      <td>-1846.641941</td>\n",
       "      <td>54</td>\n",
       "      <td>неоконченное высшее</td>\n",
       "      <td>2</td>\n",
       "      <td>женат / замужем</td>\n",
       "      <td>0</td>\n",
       "      <td>F</td>\n",
       "      <td>сотрудник</td>\n",
       "      <td>0</td>\n",
       "      <td>130458.228857</td>\n",
       "      <td>приобретение автомобиля</td>\n",
       "    </tr>\n",
       "    <tr>\n",
       "      <th>14</th>\n",
       "      <td>0</td>\n",
       "      <td>-1844.956182</td>\n",
       "      <td>56</td>\n",
       "      <td>высшее</td>\n",
       "      <td>0</td>\n",
       "      <td>гражданский брак</td>\n",
       "      <td>1</td>\n",
       "      <td>F</td>\n",
       "      <td>компаньон</td>\n",
       "      <td>1</td>\n",
       "      <td>165127.911772</td>\n",
       "      <td>покупка жилой недвижимости</td>\n",
       "    </tr>\n",
       "    <tr>\n",
       "      <th>15</th>\n",
       "      <td>1</td>\n",
       "      <td>-972.364419</td>\n",
       "      <td>26</td>\n",
       "      <td>среднее</td>\n",
       "      <td>1</td>\n",
       "      <td>женат / замужем</td>\n",
       "      <td>0</td>\n",
       "      <td>F</td>\n",
       "      <td>сотрудник</td>\n",
       "      <td>0</td>\n",
       "      <td>116820.904450</td>\n",
       "      <td>строительство собственной недвижимости</td>\n",
       "    </tr>\n",
       "    <tr>\n",
       "      <th>16</th>\n",
       "      <td>0</td>\n",
       "      <td>-1719.934226</td>\n",
       "      <td>35</td>\n",
       "      <td>среднее</td>\n",
       "      <td>1</td>\n",
       "      <td>женат / замужем</td>\n",
       "      <td>0</td>\n",
       "      <td>F</td>\n",
       "      <td>сотрудник</td>\n",
       "      <td>0</td>\n",
       "      <td>289202.704229</td>\n",
       "      <td>недвижимость</td>\n",
       "    </tr>\n",
       "    <tr>\n",
       "      <th>17</th>\n",
       "      <td>0</td>\n",
       "      <td>-2369.999720</td>\n",
       "      <td>33</td>\n",
       "      <td>высшее</td>\n",
       "      <td>0</td>\n",
       "      <td>гражданский брак</td>\n",
       "      <td>1</td>\n",
       "      <td>M</td>\n",
       "      <td>сотрудник</td>\n",
       "      <td>0</td>\n",
       "      <td>90410.586745</td>\n",
       "      <td>строительство недвижимости</td>\n",
       "    </tr>\n",
       "    <tr>\n",
       "      <th>18</th>\n",
       "      <td>0</td>\n",
       "      <td>400281.136913</td>\n",
       "      <td>53</td>\n",
       "      <td>среднее</td>\n",
       "      <td>1</td>\n",
       "      <td>вдовец / вдова</td>\n",
       "      <td>2</td>\n",
       "      <td>F</td>\n",
       "      <td>пенсионер</td>\n",
       "      <td>0</td>\n",
       "      <td>56823.777243</td>\n",
       "      <td>на покупку подержанного автомобиля</td>\n",
       "    </tr>\n",
       "    <tr>\n",
       "      <th>19</th>\n",
       "      <td>0</td>\n",
       "      <td>-10038.818549</td>\n",
       "      <td>48</td>\n",
       "      <td>СРЕДНЕЕ</td>\n",
       "      <td>1</td>\n",
       "      <td>в разводе</td>\n",
       "      <td>3</td>\n",
       "      <td>F</td>\n",
       "      <td>сотрудник</td>\n",
       "      <td>0</td>\n",
       "      <td>242831.107982</td>\n",
       "      <td>на покупку своего автомобиля</td>\n",
       "    </tr>\n",
       "  </tbody>\n",
       "</table>\n",
       "</div>"
      ],
      "text/plain": [
       "    children  days_employed  dob_years            education  education_id  \\\n",
       "0          1   -8437.673028         42               высшее             0   \n",
       "1          1   -4024.803754         36              среднее             1   \n",
       "2          0   -5623.422610         33              Среднее             1   \n",
       "3          3   -4124.747207         32              среднее             1   \n",
       "4          0  340266.072047         53              среднее             1   \n",
       "5          0    -926.185831         27               высшее             0   \n",
       "6          0   -2879.202052         43               высшее             0   \n",
       "7          0    -152.779569         50              СРЕДНЕЕ             1   \n",
       "8          2   -6929.865299         35               ВЫСШЕЕ             0   \n",
       "9          0   -2188.756445         41              среднее             1   \n",
       "10         2   -4171.483647         36               высшее             0   \n",
       "11         0    -792.701887         40              среднее             1   \n",
       "12         0            NaN         65              среднее             1   \n",
       "13         0   -1846.641941         54  неоконченное высшее             2   \n",
       "14         0   -1844.956182         56               высшее             0   \n",
       "15         1    -972.364419         26              среднее             1   \n",
       "16         0   -1719.934226         35              среднее             1   \n",
       "17         0   -2369.999720         33               высшее             0   \n",
       "18         0  400281.136913         53              среднее             1   \n",
       "19         0  -10038.818549         48              СРЕДНЕЕ             1   \n",
       "\n",
       "       family_status  family_status_id gender income_type  debt  \\\n",
       "0    женат / замужем                 0      F   сотрудник     0   \n",
       "1    женат / замужем                 0      F   сотрудник     0   \n",
       "2    женат / замужем                 0      M   сотрудник     0   \n",
       "3    женат / замужем                 0      M   сотрудник     0   \n",
       "4   гражданский брак                 1      F   пенсионер     0   \n",
       "5   гражданский брак                 1      M   компаньон     0   \n",
       "6    женат / замужем                 0      F   компаньон     0   \n",
       "7    женат / замужем                 0      M   сотрудник     0   \n",
       "8   гражданский брак                 1      F   сотрудник     0   \n",
       "9    женат / замужем                 0      M   сотрудник     0   \n",
       "10   женат / замужем                 0      M   компаньон     0   \n",
       "11   женат / замужем                 0      F   сотрудник     0   \n",
       "12  гражданский брак                 1      M   пенсионер     0   \n",
       "13   женат / замужем                 0      F   сотрудник     0   \n",
       "14  гражданский брак                 1      F   компаньон     1   \n",
       "15   женат / замужем                 0      F   сотрудник     0   \n",
       "16   женат / замужем                 0      F   сотрудник     0   \n",
       "17  гражданский брак                 1      M   сотрудник     0   \n",
       "18    вдовец / вдова                 2      F   пенсионер     0   \n",
       "19         в разводе                 3      F   сотрудник     0   \n",
       "\n",
       "     total_income                                 purpose  \n",
       "0   253875.639453                           покупка жилья  \n",
       "1   112080.014102                 приобретение автомобиля  \n",
       "2   145885.952297                           покупка жилья  \n",
       "3   267628.550329              дополнительное образование  \n",
       "4   158616.077870                         сыграть свадьбу  \n",
       "5   255763.565419                           покупка жилья  \n",
       "6   240525.971920                       операции с жильем  \n",
       "7   135823.934197                             образование  \n",
       "8    95856.832424                   на проведение свадьбы  \n",
       "9   144425.938277                 покупка жилья для семьи  \n",
       "10  113943.491460                    покупка недвижимости  \n",
       "11   77069.234271       покупка коммерческой недвижимости  \n",
       "12            NaN                         сыграть свадьбу  \n",
       "13  130458.228857                 приобретение автомобиля  \n",
       "14  165127.911772              покупка жилой недвижимости  \n",
       "15  116820.904450  строительство собственной недвижимости  \n",
       "16  289202.704229                            недвижимость  \n",
       "17   90410.586745              строительство недвижимости  \n",
       "18   56823.777243      на покупку подержанного автомобиля  \n",
       "19  242831.107982            на покупку своего автомобиля  "
      ]
     },
     "execution_count": 2,
     "metadata": {},
     "output_type": "execute_result"
    }
   ],
   "source": [
    "data.head(20)"
   ]
  },
  {
   "cell_type": "markdown",
   "id": "0ed8f27f",
   "metadata": {
    "deletable": false,
    "editable": false,
    "id": "0ed8f27f"
   },
   "source": [
    "**Задание 3. Выведите основную информацию о датафрейме с помощью метода `info()`.**"
   ]
  },
  {
   "cell_type": "code",
   "execution_count": 3,
   "id": "ab3f863b",
   "metadata": {
    "deletable": false,
    "id": "ab3f863b",
    "outputId": "15376089-8dad-46c9-b520-c05248d43158"
   },
   "outputs": [
    {
     "name": "stdout",
     "output_type": "stream",
     "text": [
      "<class 'pandas.core.frame.DataFrame'>\n",
      "RangeIndex: 21525 entries, 0 to 21524\n",
      "Data columns (total 12 columns):\n",
      " #   Column            Non-Null Count  Dtype  \n",
      "---  ------            --------------  -----  \n",
      " 0   children          21525 non-null  int64  \n",
      " 1   days_employed     19351 non-null  float64\n",
      " 2   dob_years         21525 non-null  int64  \n",
      " 3   education         21525 non-null  object \n",
      " 4   education_id      21525 non-null  int64  \n",
      " 5   family_status     21525 non-null  object \n",
      " 6   family_status_id  21525 non-null  int64  \n",
      " 7   gender            21525 non-null  object \n",
      " 8   income_type       21525 non-null  object \n",
      " 9   debt              21525 non-null  int64  \n",
      " 10  total_income      19351 non-null  float64\n",
      " 11  purpose           21525 non-null  object \n",
      "dtypes: float64(2), int64(5), object(5)\n",
      "memory usage: 2.0+ MB\n"
     ]
    }
   ],
   "source": [
    "data.info()"
   ]
  },
  {
   "cell_type": "markdown",
   "id": "60e3e22d",
   "metadata": {
    "deletable": false,
    "editable": false,
    "id": "60e3e22d"
   },
   "source": [
    "## Предобработка данных"
   ]
  },
  {
   "cell_type": "markdown",
   "id": "03dc170c",
   "metadata": {
    "deletable": false,
    "editable": false,
    "id": "03dc170c"
   },
   "source": [
    "### Удаление пропусков"
   ]
  },
  {
   "cell_type": "markdown",
   "id": "a4f54eef",
   "metadata": {
    "deletable": false,
    "editable": false,
    "id": "a4f54eef"
   },
   "source": [
    "**Задание 4. Выведите количество пропущенных значений для каждого столбца. Используйте комбинацию двух методов.**"
   ]
  },
  {
   "cell_type": "code",
   "execution_count": 4,
   "id": "2dc372b2",
   "metadata": {
    "deletable": false,
    "id": "2dc372b2",
    "outputId": "81f4d817-781c-465c-ed15-91ce4446810d"
   },
   "outputs": [
    {
     "data": {
      "text/plain": [
       "children               0\n",
       "days_employed       2174\n",
       "dob_years              0\n",
       "education              0\n",
       "education_id           0\n",
       "family_status          0\n",
       "family_status_id       0\n",
       "gender                 0\n",
       "income_type            0\n",
       "debt                   0\n",
       "total_income        2174\n",
       "purpose                0\n",
       "dtype: int64"
      ]
     },
     "execution_count": 4,
     "metadata": {},
     "output_type": "execute_result"
    }
   ],
   "source": [
    "data.isna().sum()"
   ]
  },
  {
   "cell_type": "markdown",
   "id": "14f011b1",
   "metadata": {
    "deletable": false,
    "editable": false,
    "id": "14f011b1"
   },
   "source": [
    "**Задание 5. В двух столбцах есть пропущенные значения. Один из них — `days_employed`. Пропуски в этом столбце вы обработаете на следующем этапе. Другой столбец с пропущенными значениями — `total_income` — хранит данные о доходах. На сумму дохода сильнее всего влияет тип занятости, поэтому заполнить пропуски в этом столбце нужно медианным значением по каждому типу из столбца `income_type`. Например, у человека с типом занятости `сотрудник` пропуск в столбце `total_income` должен быть заполнен медианным доходом среди всех записей с тем же типом.**"
   ]
  },
  {
   "cell_type": "code",
   "execution_count": 5,
   "id": "bdabfb6e",
   "metadata": {
    "deletable": false,
    "id": "bdabfb6e"
   },
   "outputs": [],
   "source": [
    "for t in data['income_type'].unique():\n",
    "    data.loc[(data['income_type'] == t) & (data['total_income'].isna()), 'total_income'] = \\\n",
    "    data.loc[(data['income_type'] == t), 'total_income'].median()"
   ]
  },
  {
   "cell_type": "markdown",
   "id": "5be34059",
   "metadata": {
    "deletable": false,
    "editable": false,
    "id": "5be34059"
   },
   "source": [
    "### Обработка аномальных значений"
   ]
  },
  {
   "cell_type": "markdown",
   "id": "a87606cb",
   "metadata": {
    "deletable": false,
    "editable": false,
    "id": "a87606cb"
   },
   "source": [
    "**Задание 6. В данных могут встречаться артефакты (аномалии) — значения, которые не отражают действительность и появились по какой-то ошибке. таким артефактом будет отрицательное количество дней трудового стажа в столбце `days_employed`. Для реальных данных это нормально. Обработайте значения в этом столбце: замените все отрицательные значения положительными с помощью метода `abs()`.**"
   ]
  },
  {
   "cell_type": "code",
   "execution_count": 6,
   "id": "020c46cc",
   "metadata": {
    "deletable": false,
    "id": "020c46cc"
   },
   "outputs": [],
   "source": [
    "data['days_employed'] = data['days_employed'].abs()"
   ]
  },
  {
   "cell_type": "markdown",
   "id": "45538a3a",
   "metadata": {
    "deletable": false,
    "editable": false,
    "id": "45538a3a"
   },
   "source": [
    "**Задание 7. Для каждого типа занятости выведите медианное значение трудового стажа `days_employed` в днях.**"
   ]
  },
  {
   "cell_type": "code",
   "execution_count": 7,
   "id": "cd3e6328",
   "metadata": {
    "deletable": false,
    "id": "cd3e6328",
    "outputId": "801ef80e-522b-4668-f34e-565af7432bcf"
   },
   "outputs": [
    {
     "data": {
      "text/plain": [
       "income_type\n",
       "безработный        366413.652744\n",
       "в декрете            3296.759962\n",
       "госслужащий          2689.368353\n",
       "компаньон            1547.382223\n",
       "пенсионер          365213.306266\n",
       "предприниматель       520.848083\n",
       "сотрудник            1574.202821\n",
       "студент               578.751554\n",
       "Name: days_employed, dtype: float64"
      ]
     },
     "execution_count": 7,
     "metadata": {},
     "output_type": "execute_result"
    }
   ],
   "source": [
    "data.groupby('income_type')['days_employed'].agg('median')"
   ]
  },
  {
   "cell_type": "markdown",
   "id": "90c5f058",
   "metadata": {
    "deletable": false,
    "editable": false,
    "id": "90c5f058"
   },
   "source": [
    "У двух типов (безработные и пенсионеры) получатся аномально большие значения. Исправить такие значения сложно, поэтому оставьте их как есть."
   ]
  },
  {
   "cell_type": "markdown",
   "id": "9652e50d",
   "metadata": {
    "deletable": false,
    "editable": false,
    "id": "9652e50d"
   },
   "source": [
    "**Задание 8. Выведите перечень уникальных значений столбца `children`.**"
   ]
  },
  {
   "cell_type": "code",
   "execution_count": 8,
   "id": "dbb37b8e",
   "metadata": {
    "deletable": false,
    "id": "dbb37b8e",
    "outputId": "6975b15c-7f95-4697-d16d-a0c79b657b03"
   },
   "outputs": [
    {
     "data": {
      "text/plain": [
       "array([ 1,  0,  3,  2, -1,  4, 20,  5])"
      ]
     },
     "execution_count": 8,
     "metadata": {},
     "output_type": "execute_result"
    }
   ],
   "source": [
    "data['children'].unique()"
   ]
  },
  {
   "cell_type": "markdown",
   "id": "2b8b0715",
   "metadata": {
    "deletable": false,
    "editable": false,
    "id": "2b8b0715"
   },
   "source": [
    "**Задание 9. В столбце `children` есть два аномальных значения. Удалите строки, в которых встречаются такие аномальные значения из датафрейма `data`.**"
   ]
  },
  {
   "cell_type": "code",
   "execution_count": 9,
   "id": "20009df8",
   "metadata": {
    "deletable": false,
    "id": "20009df8"
   },
   "outputs": [],
   "source": [
    "data = data[(data['children'] != -1) & (data['children'] != 20)]"
   ]
  },
  {
   "cell_type": "markdown",
   "id": "8c6ac9f1",
   "metadata": {
    "deletable": false,
    "editable": false,
    "id": "8c6ac9f1"
   },
   "source": [
    "**Задание 10. Ещё раз выведите перечень уникальных значений столбца `children`, чтобы убедиться, что артефакты удалены.**"
   ]
  },
  {
   "cell_type": "code",
   "execution_count": 10,
   "id": "07337b81",
   "metadata": {
    "deletable": false,
    "id": "07337b81",
    "outputId": "b2097101-d49d-44d9-901b-32a65c9463d1"
   },
   "outputs": [
    {
     "data": {
      "text/plain": [
       "array([1, 0, 3, 2, 4, 5])"
      ]
     },
     "execution_count": 10,
     "metadata": {},
     "output_type": "execute_result"
    }
   ],
   "source": [
    "data['children'].unique()"
   ]
  },
  {
   "cell_type": "markdown",
   "id": "ee3f52d4",
   "metadata": {
    "deletable": false,
    "editable": false,
    "id": "ee3f52d4"
   },
   "source": [
    "### Удаление пропусков (продолжение)"
   ]
  },
  {
   "cell_type": "markdown",
   "id": "a700b0e4",
   "metadata": {
    "deletable": false,
    "editable": false,
    "id": "a700b0e4"
   },
   "source": [
    "**Задание 11. Заполните пропуски в столбце `days_employed` медианными значениями по каждого типа занятости `income_type`.**"
   ]
  },
  {
   "cell_type": "code",
   "execution_count": 11,
   "id": "61946b83",
   "metadata": {
    "deletable": false,
    "id": "61946b83"
   },
   "outputs": [],
   "source": [
    "for t in data['income_type'].unique():\n",
    "    data.loc[(data['income_type'] == t) & (data['days_employed'].isna()), 'days_employed'] = \\\n",
    "    data.loc[(data['income_type'] == t), 'days_employed'].median()"
   ]
  },
  {
   "cell_type": "markdown",
   "id": "550dcd9b",
   "metadata": {
    "deletable": false,
    "editable": false,
    "id": "550dcd9b"
   },
   "source": [
    "**Задание 12. Убедитесь, что все пропуски заполнены. Проверьте себя и ещё раз выведите количество пропущенных значений для каждого столбца с помощью двух методов.**"
   ]
  },
  {
   "cell_type": "code",
   "execution_count": 12,
   "id": "937c7014",
   "metadata": {
    "deletable": false,
    "id": "937c7014",
    "outputId": "8da1e4e1-358e-4e87-98c9-f261bce0a7b2"
   },
   "outputs": [
    {
     "data": {
      "text/plain": [
       "children            0\n",
       "days_employed       0\n",
       "dob_years           0\n",
       "education           0\n",
       "education_id        0\n",
       "family_status       0\n",
       "family_status_id    0\n",
       "gender              0\n",
       "income_type         0\n",
       "debt                0\n",
       "total_income        0\n",
       "purpose             0\n",
       "dtype: int64"
      ]
     },
     "execution_count": 12,
     "metadata": {},
     "output_type": "execute_result"
    }
   ],
   "source": [
    "data.isna().sum()"
   ]
  },
  {
   "cell_type": "markdown",
   "id": "d522e295",
   "metadata": {
    "deletable": false,
    "editable": false,
    "id": "d522e295"
   },
   "source": [
    "### Изменение типов данных"
   ]
  },
  {
   "cell_type": "markdown",
   "id": "c229c581",
   "metadata": {
    "deletable": false,
    "editable": false,
    "id": "c229c581"
   },
   "source": [
    "**Задание 13. Замените вещественный тип данных в столбце `total_income` на целочисленный с помощью метода `astype()`.**"
   ]
  },
  {
   "cell_type": "code",
   "execution_count": 13,
   "id": "31036462",
   "metadata": {
    "deletable": false,
    "id": "31036462"
   },
   "outputs": [],
   "source": [
    "data['total_income'] = data['total_income'].astype(int)"
   ]
  },
  {
   "cell_type": "markdown",
   "id": "b8e3d1d9",
   "metadata": {
    "deletable": false,
    "editable": false,
    "id": "b8e3d1d9"
   },
   "source": [
    "### Обработка дубликатов"
   ]
  },
  {
   "cell_type": "markdown",
   "id": "9be53c49",
   "metadata": {
    "deletable": false,
    "editable": false,
    "id": "9be53c49"
   },
   "source": [
    "**Задание 14. Обработайте неявные дубликаты в столбце `education`. В этом столбце есть одни и те же значения, но записанные по-разному: с использованием заглавных и строчных букв. Приведите их к нижнему регистру.**"
   ]
  },
  {
   "cell_type": "code",
   "execution_count": 14,
   "id": "d89e73e1",
   "metadata": {
    "deletable": false,
    "id": "d89e73e1"
   },
   "outputs": [],
   "source": [
    "data['education'] = data['education'].str.lower()"
   ]
  },
  {
   "cell_type": "markdown",
   "id": "01d4500e",
   "metadata": {
    "deletable": false,
    "editable": false,
    "id": "01d4500e"
   },
   "source": [
    "**Задание 15. Выведите на экран количество строк-дубликатов в данных. Если такие строки присутствуют, удалите их.**"
   ]
  },
  {
   "cell_type": "code",
   "execution_count": 15,
   "id": "e10efb23",
   "metadata": {
    "deletable": false,
    "id": "e10efb23",
    "outputId": "9684deba-1934-42d1-99e1-cda61740f822"
   },
   "outputs": [
    {
     "data": {
      "text/plain": [
       "71"
      ]
     },
     "execution_count": 15,
     "metadata": {},
     "output_type": "execute_result"
    }
   ],
   "source": [
    "data.duplicated().sum()"
   ]
  },
  {
   "cell_type": "code",
   "execution_count": 16,
   "id": "df853f20",
   "metadata": {
    "deletable": false,
    "id": "df853f20"
   },
   "outputs": [],
   "source": [
    "data = data.drop_duplicates()"
   ]
  },
  {
   "cell_type": "markdown",
   "id": "627be38f",
   "metadata": {
    "deletable": false,
    "editable": false,
    "id": "627be38f"
   },
   "source": [
    "### Категоризация данных"
   ]
  },
  {
   "cell_type": "markdown",
   "id": "4684c3e0",
   "metadata": {
    "deletable": false,
    "editable": false,
    "id": "4684c3e0"
   },
   "source": [
    "**Задание 16. На основании диапазонов, указанных ниже, создайте в датафрейме `data` столбец `total_income_category` с категориями:**\n",
    "\n",
    "- 0–30000 — `'E'`;\n",
    "- 30001–50000 — `'D'`;\n",
    "- 50001–200000 — `'C'`;\n",
    "- 200001–1000000 — `'B'`;\n",
    "- 1000001 и выше — `'A'`.\n",
    "\n",
    "\n",
    "**Например, кредитополучателю с доходом 25000 нужно назначить категорию `'E'`, а клиенту, получающему 235000, — `'B'`. Используйте собственную функцию с именем `categorize_income()` и метод `apply()`.**"
   ]
  },
  {
   "cell_type": "code",
   "execution_count": 17,
   "id": "78965238",
   "metadata": {
    "deletable": false,
    "id": "78965238"
   },
   "outputs": [],
   "source": [
    "def categorize_income(income):\n",
    "    try:\n",
    "        if 0 <= income <= 30000:\n",
    "            return 'E'\n",
    "        elif 30001 <= income <= 50000:\n",
    "            return 'D'\n",
    "        elif 50001 <= income <= 200000:\n",
    "            return 'C'\n",
    "        elif 200001 <= income <= 1000000:\n",
    "            return 'B'\n",
    "        elif income >= 1000001:\n",
    "            return 'A'\n",
    "    except:\n",
    "        pass"
   ]
  },
  {
   "cell_type": "code",
   "execution_count": 18,
   "id": "0980ada1",
   "metadata": {
    "deletable": false,
    "id": "0980ada1"
   },
   "outputs": [],
   "source": [
    "data['total_income_category'] = data['total_income'].apply(categorize_income)"
   ]
  },
  {
   "cell_type": "markdown",
   "id": "9917bba0",
   "metadata": {
    "deletable": false,
    "editable": false,
    "id": "9917bba0"
   },
   "source": [
    "**Задание 17. Выведите на экран перечень уникальных целей взятия кредита из столбца `purpose`.**"
   ]
  },
  {
   "cell_type": "code",
   "execution_count": 19,
   "id": "ee07b65e",
   "metadata": {
    "deletable": false,
    "id": "ee07b65e",
    "outputId": "673c12d9-7d7e-4ae0-9812-c622c89dd244"
   },
   "outputs": [
    {
     "data": {
      "text/plain": [
       "array(['покупка жилья', 'приобретение автомобиля',\n",
       "       'дополнительное образование', 'сыграть свадьбу',\n",
       "       'операции с жильем', 'образование', 'на проведение свадьбы',\n",
       "       'покупка жилья для семьи', 'покупка недвижимости',\n",
       "       'покупка коммерческой недвижимости', 'покупка жилой недвижимости',\n",
       "       'строительство собственной недвижимости', 'недвижимость',\n",
       "       'строительство недвижимости', 'на покупку подержанного автомобиля',\n",
       "       'на покупку своего автомобиля',\n",
       "       'операции с коммерческой недвижимостью',\n",
       "       'строительство жилой недвижимости', 'жилье',\n",
       "       'операции со своей недвижимостью', 'автомобили',\n",
       "       'заняться образованием', 'сделка с подержанным автомобилем',\n",
       "       'получение образования', 'автомобиль', 'свадьба',\n",
       "       'получение дополнительного образования', 'покупка своего жилья',\n",
       "       'операции с недвижимостью', 'получение высшего образования',\n",
       "       'свой автомобиль', 'сделка с автомобилем',\n",
       "       'профильное образование', 'высшее образование',\n",
       "       'покупка жилья для сдачи', 'на покупку автомобиля', 'ремонт жилью',\n",
       "       'заняться высшим образованием'], dtype=object)"
      ]
     },
     "execution_count": 19,
     "metadata": {},
     "output_type": "execute_result"
    }
   ],
   "source": [
    "data['purpose'].unique()"
   ]
  },
  {
   "cell_type": "markdown",
   "id": "52b79d56",
   "metadata": {
    "deletable": false,
    "editable": false,
    "id": "52b79d56"
   },
   "source": [
    "**Задание 18. Создайте функцию, которая на основании данных из столбца `purpose` сформирует новый столбец `purpose_category`, в который войдут следующие категории:**\n",
    "\n",
    "- `'операции с автомобилем'`,\n",
    "- `'операции с недвижимостью'`,\n",
    "- `'проведение свадьбы'`,\n",
    "- `'получение образования'`.\n",
    "\n",
    "**Например, если в столбце `purpose` находится подстрока `'на покупку автомобиля'`, то в столбце `purpose_category` должна появиться строка `'операции с автомобилем'`.**\n",
    "\n",
    "**Используйте собственную функцию с именем `categorize_purpose()` и метод `apply()`. Изучите данные в столбце `purpose` и определите, какие подстроки помогут вам правильно определить категорию.**"
   ]
  },
  {
   "cell_type": "code",
   "execution_count": 20,
   "id": "be41da5d",
   "metadata": {
    "deletable": false,
    "id": "be41da5d"
   },
   "outputs": [],
   "source": [
    "def categorize_purpose(row):\n",
    "    try:\n",
    "        if 'автом' in row:\n",
    "            return 'операции с автомобилем'\n",
    "        elif 'жил' in row or 'недвиж' in row:\n",
    "            return 'операции с недвижимостью'\n",
    "        elif 'свад' in row:\n",
    "            return 'проведение свадьбы'\n",
    "        elif 'образов' in row:\n",
    "            return 'получение образования'\n",
    "    except:\n",
    "        return 'нет категории'"
   ]
  },
  {
   "cell_type": "code",
   "execution_count": 21,
   "id": "94c4a19a",
   "metadata": {
    "deletable": false,
    "id": "94c4a19a"
   },
   "outputs": [],
   "source": [
    "data['purpose_category'] = data['purpose'].apply(categorize_purpose)"
   ]
  },
  {
   "cell_type": "markdown",
   "id": "3d596c34",
   "metadata": {
    "deletable": false,
    "editable": false,
    "id": "3d596c34"
   },
   "source": [
    "### Шаг 3. Исследуйте данные и ответьте на вопросы"
   ]
  },
  {
   "cell_type": "markdown",
   "id": "648db036",
   "metadata": {
    "deletable": false,
    "editable": false,
    "id": "648db036"
   },
   "source": [
    "#### 3.1 Есть ли зависимость между количеством детей и возвратом кредита в срок?"
   ]
  },
  {
   "cell_type": "code",
   "execution_count": 22,
   "id": "7fcff25e",
   "metadata": {
    "deletable": false,
    "id": "7fcff25e"
   },
   "outputs": [
    {
     "data": {
      "text/html": [
       "<div>\n",
       "<style scoped>\n",
       "    .dataframe tbody tr th:only-of-type {\n",
       "        vertical-align: middle;\n",
       "    }\n",
       "\n",
       "    .dataframe tbody tr th {\n",
       "        vertical-align: top;\n",
       "    }\n",
       "\n",
       "    .dataframe thead tr th {\n",
       "        text-align: left;\n",
       "    }\n",
       "\n",
       "    .dataframe thead tr:last-of-type th {\n",
       "        text-align: right;\n",
       "    }\n",
       "</style>\n",
       "<table border=\"1\" class=\"dataframe\">\n",
       "  <thead>\n",
       "    <tr>\n",
       "      <th></th>\n",
       "      <th>total_credit</th>\n",
       "      <th>total_debt</th>\n",
       "      <th>result_percent</th>\n",
       "    </tr>\n",
       "    <tr>\n",
       "      <th></th>\n",
       "      <th>debt</th>\n",
       "      <th>debt</th>\n",
       "      <th>debt</th>\n",
       "    </tr>\n",
       "    <tr>\n",
       "      <th>children</th>\n",
       "      <th></th>\n",
       "      <th></th>\n",
       "      <th></th>\n",
       "    </tr>\n",
       "  </thead>\n",
       "  <tbody>\n",
       "    <tr>\n",
       "      <th>0</th>\n",
       "      <td>14091</td>\n",
       "      <td>1063</td>\n",
       "      <td>7.543822</td>\n",
       "    </tr>\n",
       "    <tr>\n",
       "      <th>1</th>\n",
       "      <td>4808</td>\n",
       "      <td>444</td>\n",
       "      <td>9.234609</td>\n",
       "    </tr>\n",
       "    <tr>\n",
       "      <th>2</th>\n",
       "      <td>2052</td>\n",
       "      <td>194</td>\n",
       "      <td>9.454191</td>\n",
       "    </tr>\n",
       "    <tr>\n",
       "      <th>3</th>\n",
       "      <td>330</td>\n",
       "      <td>27</td>\n",
       "      <td>8.181818</td>\n",
       "    </tr>\n",
       "    <tr>\n",
       "      <th>4</th>\n",
       "      <td>41</td>\n",
       "      <td>4</td>\n",
       "      <td>9.756098</td>\n",
       "    </tr>\n",
       "    <tr>\n",
       "      <th>5</th>\n",
       "      <td>9</td>\n",
       "      <td>0</td>\n",
       "      <td>0.000000</td>\n",
       "    </tr>\n",
       "  </tbody>\n",
       "</table>\n",
       "</div>"
      ],
      "text/plain": [
       "         total_credit total_debt result_percent\n",
       "                 debt       debt           debt\n",
       "children                                       \n",
       "0               14091       1063       7.543822\n",
       "1                4808        444       9.234609\n",
       "2                2052        194       9.454191\n",
       "3                 330         27       8.181818\n",
       "4                  41          4       9.756098\n",
       "5                   9          0       0.000000"
      ]
     },
     "execution_count": 22,
     "metadata": {},
     "output_type": "execute_result"
    }
   ],
   "source": [
    "data_pivot_children = data.pivot_table(index=['children'], values='debt', aggfunc=['count', 'sum', 'mean'])\n",
    "data_pivot_children = data_pivot_children.rename(columns={'count': 'total_credit', 'sum': 'total_debt', 'mean': 'result_percent'})\n",
    "data_pivot_children['result_percent'] = data_pivot_children['result_percent']*100\n",
    "data_pivot_children\n",
    "\n",
    "\n"
   ]
  },
  {
   "cell_type": "markdown",
   "id": "2eb9088e",
   "metadata": {
    "deletable": false,
    "id": "2eb9088e"
   },
   "source": [
    "**Вывод:** На основе предоставленных данных, исключая из выборки категории с тремя, четырмя и пятью детьми, в связи с недостаточностью данных, соответственно низкой релевантностью. \n",
    "По остальным категориям граждан, данные по которым имеются, можно сделать следующие выводы:\n",
    "1. Наличие детей негативно сказывается на прогнозе возврата кредитных средств;\n",
    "2. Зависимость изменения уровня благонадежности от количества детей между гражданами имеющими одно или двух детей наблюдается незначительная."
   ]
  },
  {
   "cell_type": "markdown",
   "id": "74c9b3a7",
   "metadata": {
    "deletable": false,
    "editable": false,
    "id": "74c9b3a7"
   },
   "source": [
    "## 3.2 Есть ли зависимость между семейным положением и возвратом кредита в срок?"
   ]
  },
  {
   "cell_type": "code",
   "execution_count": 23,
   "id": "8098ab3b",
   "metadata": {
    "deletable": false,
    "id": "8098ab3b"
   },
   "outputs": [
    {
     "data": {
      "text/html": [
       "<div>\n",
       "<style scoped>\n",
       "    .dataframe tbody tr th:only-of-type {\n",
       "        vertical-align: middle;\n",
       "    }\n",
       "\n",
       "    .dataframe tbody tr th {\n",
       "        vertical-align: top;\n",
       "    }\n",
       "\n",
       "    .dataframe thead th {\n",
       "        text-align: right;\n",
       "    }\n",
       "</style>\n",
       "<table border=\"1\" class=\"dataframe\">\n",
       "  <thead>\n",
       "    <tr style=\"text-align: right;\">\n",
       "      <th></th>\n",
       "      <th>total_credit</th>\n",
       "      <th>total_debt</th>\n",
       "      <th>result_percent</th>\n",
       "    </tr>\n",
       "    <tr>\n",
       "      <th>family_status</th>\n",
       "      <th></th>\n",
       "      <th></th>\n",
       "      <th></th>\n",
       "    </tr>\n",
       "  </thead>\n",
       "  <tbody>\n",
       "    <tr>\n",
       "      <th>Не женат / не замужем</th>\n",
       "      <td>2796</td>\n",
       "      <td>273</td>\n",
       "      <td>9.763948</td>\n",
       "    </tr>\n",
       "    <tr>\n",
       "      <th>в разводе</th>\n",
       "      <td>1189</td>\n",
       "      <td>84</td>\n",
       "      <td>7.064760</td>\n",
       "    </tr>\n",
       "    <tr>\n",
       "      <th>вдовец / вдова</th>\n",
       "      <td>951</td>\n",
       "      <td>63</td>\n",
       "      <td>6.624606</td>\n",
       "    </tr>\n",
       "    <tr>\n",
       "      <th>гражданский брак</th>\n",
       "      <td>4134</td>\n",
       "      <td>385</td>\n",
       "      <td>9.313014</td>\n",
       "    </tr>\n",
       "    <tr>\n",
       "      <th>женат / замужем</th>\n",
       "      <td>12261</td>\n",
       "      <td>927</td>\n",
       "      <td>7.560558</td>\n",
       "    </tr>\n",
       "  </tbody>\n",
       "</table>\n",
       "</div>"
      ],
      "text/plain": [
       "                       total_credit  total_debt  result_percent\n",
       "family_status                                                  \n",
       "Не женат / не замужем          2796         273        9.763948\n",
       "в разводе                      1189          84        7.064760\n",
       "вдовец / вдова                  951          63        6.624606\n",
       "гражданский брак               4134         385        9.313014\n",
       "женат / замужем               12261         927        7.560558"
      ]
     },
     "execution_count": 23,
     "metadata": {},
     "output_type": "execute_result"
    }
   ],
   "source": [
    "data_family_status = data.groupby('family_status')['debt'].agg(['count', 'sum', 'mean'])\n",
    "data_family_status = data_family_status.rename(columns={'count': 'total_credit', 'sum': 'total_debt', 'mean': 'result_percent'})\n",
    "data_family_status['result_percent']=data_family_status['result_percent']*100\n",
    "data_family_status"
   ]
  },
  {
   "cell_type": "markdown",
   "id": "c389ca63",
   "metadata": {
    "deletable": false,
    "id": "c389ca63"
   },
   "source": [
    "**Вывод:** В исходных данных пять категорий семейного положения, данные в каждой категории представленны очень неравномерно, учитывая, что такого понятия, как \"гражданскиц брак\" юридически не существует, с целью корректности выводов, я бы объединила данные с категорией \"не женат/не замужем\", тогда у нас получается только две категории достаточно сбалансированы для сравнения: \"не женат/не замужем\" и  \"женат / замужем\". На основе предоставленных данных, можно сделать вывод, что граждане, которые не состоят в официальном браке имеют более высокий риск невозврата кредитных средств, соответственно граждане состоящие в браке имеют более высокую степень благонадежности."
   ]
  },
  {
   "cell_type": "markdown",
   "id": "5fa91701",
   "metadata": {},
   "source": [
    "Комментарий студента: Спасибо большое за обратную связь и комметарий, конструкция с использованием методов groupby() и agg() тут даже более удобная и красивая."
   ]
  },
  {
   "cell_type": "markdown",
   "id": "9529de68",
   "metadata": {
    "deletable": false,
    "editable": false,
    "id": "9529de68"
   },
   "source": [
    "#### 3.3 Есть ли зависимость между уровнем дохода и возвратом кредита в срок?"
   ]
  },
  {
   "cell_type": "code",
   "execution_count": null,
   "id": "8787f44a",
   "metadata": {
    "deletable": false,
    "id": "8787f44a"
   },
   "outputs": [],
   "source": [
    "data_total_income = data.groupby('total_income_category')['debt'].agg(['count', 'sum', 'mean'])\n",
    "data_total_income = data_total_income.rename(columns={'count': 'total_credit', 'sum': 'total_debt', 'mean': 'result_percent'})\n",
    "data_total_income['result_percent']=data_total_income['result_percent']*100\n",
    "data_total_income"
   ]
  },
  {
   "cell_type": "markdown",
   "id": "6dd14b57",
   "metadata": {
    "deletable": false,
    "id": "6dd14b57"
   },
   "source": [
    "**Вывод:** На основе предоставленных дннных были выделены пять категорий граждан, в зависимости от уровня дохода, в связи с низкой степенью релевантности не берем в расчет данные по категориям A, D, E. По итогам рассмотрения информации по категориям B и С, с ростом дохода, вероятность возврата кредита в срок увеличивается тоже."
   ]
  },
  {
   "cell_type": "markdown",
   "id": "1dcc9b12",
   "metadata": {
    "deletable": false,
    "editable": false,
    "id": "1dcc9b12"
   },
   "source": [
    "#### 3.4 Как разные цели кредита влияют на его возврат в срок?"
   ]
  },
  {
   "cell_type": "code",
   "execution_count": null,
   "id": "c602bc8b",
   "metadata": {
    "deletable": false,
    "id": "c602bc8b"
   },
   "outputs": [],
   "source": [
    "data_purpose = data.groupby('purpose_category')['debt'].agg(['count', 'sum', 'mean'])\n",
    "data_purpose = data_purpose.rename(columns={'count': 'total_credit', 'sum': 'total_debt', 'mean': 'result_percent'})\n",
    "data_purpose['result_percent']=data_purpose['result_percent']*100\n",
    "data_purpose"
   ]
  },
  {
   "cell_type": "markdown",
   "id": "cf05ed63",
   "metadata": {
    "deletable": false,
    "id": "cf05ed63"
   },
   "source": [
    "**Вывод:** На основе предоставленных данных можно сделать следующие выводы:\n",
    "1. Самый высокий уровень риска невозврата в категориях: операции с автомобилем и получение образования\n",
    "2. Самый позитивный сценарий прогноза возвратности кредитных средств у операций с недвижимостью"
   ]
  },
  {
   "cell_type": "markdown",
   "id": "46c1f10b",
   "metadata": {
    "deletable": false,
    "editable": false,
    "id": "46c1f10b"
   },
   "source": [
    "#### 3.5 Приведите возможные причины появления пропусков в исходных данных."
   ]
  },
  {
   "cell_type": "markdown",
   "id": "3697d2a9",
   "metadata": {
    "deletable": false,
    "id": "3697d2a9"
   },
   "source": [
    "*Ответ:* Возможно сам человек не указал данные в анкете, либо данные отсутствуют, ну и как всегда может быть человеческий фактор - ошибки ввода данных, а также могут быть технические проблемы в выгрузке данных."
   ]
  },
  {
   "cell_type": "markdown",
   "id": "3137d257",
   "metadata": {
    "deletable": false,
    "editable": false,
    "id": "3137d257"
   },
   "source": [
    "#### 3.6 Объясните, почему заполнить пропуски медианным значением — лучшее решение для количественных переменных."
   ]
  },
  {
   "cell_type": "markdown",
   "id": "cf40012a",
   "metadata": {
    "deletable": false,
    "id": "cf40012a"
   },
   "source": [
    "*Ответ:* Когда распределение данных ассиметрично, есть явные выпадающие значения (очень большие или наоборот очень маленькие), на медиану не влияют выбивающиеся из общей массы числа, она в данном случае будет ближе всего к истинно среднему, поэтому правильнее использовать медиану."
   ]
  },
  {
   "cell_type": "markdown",
   "id": "57bc304e",
   "metadata": {
    "deletable": false,
    "editable": false,
    "id": "57bc304e"
   },
   "source": [
    "### Шаг 4: общий вывод."
   ]
  },
  {
   "cell_type": "markdown",
   "id": "1ab75d1c",
   "metadata": {
    "deletable": false,
    "id": "1ab75d1c"
   },
   "source": [
    "На основе анализа предоставленных данных, можно сделать вывод, что степень благонадежности заемщика повышается, а соответственно и вероятность возврата кредита в срок при следующих факторах:\n",
    "1. У состоящих в официальном браке;\n",
    "2. Наличие детей негативно сказывается на прогнозе возвратности кредитных средств;\n",
    "3. Кредиты, предоставленные на образование или операции с недвижимостью, имеют более высокую вероятность возврата в срок.\n"
   ]
  }
 ],
 "metadata": {
  "ExecuteTimeLog": [
   {
    "duration": 50,
    "start_time": "2023-02-24T18:08:37.477Z"
   },
   {
    "duration": 6,
    "start_time": "2023-02-24T18:09:03.499Z"
   },
   {
    "duration": 569,
    "start_time": "2023-02-24T18:09:09.919Z"
   },
   {
    "duration": 24,
    "start_time": "2023-02-24T18:09:13.409Z"
   },
   {
    "duration": 16,
    "start_time": "2023-02-24T18:09:18.610Z"
   },
   {
    "duration": 10,
    "start_time": "2023-02-24T18:09:22.061Z"
   },
   {
    "duration": 44,
    "start_time": "2023-02-24T18:09:26.408Z"
   },
   {
    "duration": 4,
    "start_time": "2023-02-24T18:09:30.019Z"
   },
   {
    "duration": 8,
    "start_time": "2023-02-24T18:09:32.092Z"
   },
   {
    "duration": 5,
    "start_time": "2023-02-24T18:09:35.525Z"
   },
   {
    "duration": 8,
    "start_time": "2023-02-24T18:09:37.687Z"
   },
   {
    "duration": 5,
    "start_time": "2023-02-24T18:09:41.795Z"
   },
   {
    "duration": 33,
    "start_time": "2023-02-24T18:09:45.353Z"
   },
   {
    "duration": 11,
    "start_time": "2023-02-24T18:09:48.184Z"
   },
   {
    "duration": 4,
    "start_time": "2023-02-24T18:09:51.527Z"
   },
   {
    "duration": 14,
    "start_time": "2023-02-24T18:09:55.212Z"
   },
   {
    "duration": 28,
    "start_time": "2023-02-24T18:09:57.827Z"
   },
   {
    "duration": 19,
    "start_time": "2023-02-24T18:10:00.561Z"
   },
   {
    "duration": 4,
    "start_time": "2023-02-24T18:10:04.671Z"
   },
   {
    "duration": 11,
    "start_time": "2023-02-24T18:10:51.164Z"
   },
   {
    "duration": 8,
    "start_time": "2023-02-24T18:10:54.186Z"
   },
   {
    "duration": 4,
    "start_time": "2023-02-24T18:10:59.027Z"
   },
   {
    "duration": 24,
    "start_time": "2023-02-24T18:11:03.432Z"
   },
   {
    "duration": 43,
    "start_time": "2023-02-24T18:11:06.810Z"
   },
   {
    "duration": 16,
    "start_time": "2023-02-24T18:11:09.612Z"
   },
   {
    "duration": 712,
    "start_time": "2023-02-24T18:13:32.094Z"
   },
   {
    "duration": 12,
    "start_time": "2023-02-24T18:14:12.673Z"
   },
   {
    "duration": 25,
    "start_time": "2023-02-24T18:20:09.734Z"
   },
   {
    "duration": 12,
    "start_time": "2023-02-24T18:21:23.026Z"
   },
   {
    "duration": 726,
    "start_time": "2023-02-24T18:21:41.431Z"
   },
   {
    "duration": 8,
    "start_time": "2023-02-24T18:22:06.772Z"
   },
   {
    "duration": 58,
    "start_time": "2023-02-24T18:23:32.141Z"
   },
   {
    "duration": 14,
    "start_time": "2023-02-24T18:25:16.329Z"
   },
   {
    "duration": 47,
    "start_time": "2023-02-25T15:38:54.362Z"
   },
   {
    "duration": 709,
    "start_time": "2023-02-25T15:39:07.499Z"
   },
   {
    "duration": 16,
    "start_time": "2023-02-25T15:39:30.788Z"
   },
   {
    "duration": 22,
    "start_time": "2023-02-25T15:39:37.379Z"
   },
   {
    "duration": 69,
    "start_time": "2023-02-25T15:39:41.763Z"
   },
   {
    "duration": 12,
    "start_time": "2023-02-25T15:39:47.462Z"
   },
   {
    "duration": 38,
    "start_time": "2023-02-25T15:39:51.392Z"
   },
   {
    "duration": 3,
    "start_time": "2023-02-25T15:39:54.593Z"
   },
   {
    "duration": 7,
    "start_time": "2023-02-25T15:39:56.505Z"
   },
   {
    "duration": 7,
    "start_time": "2023-02-25T15:39:59.965Z"
   },
   {
    "duration": 7,
    "start_time": "2023-02-25T15:40:03.156Z"
   },
   {
    "duration": 4,
    "start_time": "2023-02-25T15:40:05.060Z"
   },
   {
    "duration": 34,
    "start_time": "2023-02-25T15:40:08.356Z"
   },
   {
    "duration": 16,
    "start_time": "2023-02-25T15:40:10.497Z"
   },
   {
    "duration": 3,
    "start_time": "2023-02-25T15:40:13.683Z"
   },
   {
    "duration": 14,
    "start_time": "2023-02-25T15:40:16.732Z"
   },
   {
    "duration": 20,
    "start_time": "2023-02-25T15:40:18.828Z"
   },
   {
    "duration": 18,
    "start_time": "2023-02-25T15:40:20.774Z"
   },
   {
    "duration": 3,
    "start_time": "2023-02-25T15:40:25.760Z"
   },
   {
    "duration": 10,
    "start_time": "2023-02-25T15:40:28.724Z"
   },
   {
    "duration": 6,
    "start_time": "2023-02-25T15:40:31.213Z"
   },
   {
    "duration": 3,
    "start_time": "2023-02-25T15:40:35.624Z"
   },
   {
    "duration": 9,
    "start_time": "2023-02-25T15:40:38.367Z"
   },
   {
    "duration": 19,
    "start_time": "2023-02-25T15:40:41.863Z"
   },
   {
    "duration": 852,
    "start_time": "2023-02-25T15:43:12.824Z"
   },
   {
    "duration": 1011,
    "start_time": "2023-02-25T15:46:19.360Z"
   },
   {
    "duration": 896,
    "start_time": "2023-02-25T15:46:29.356Z"
   },
   {
    "duration": 17,
    "start_time": "2023-02-25T15:49:17.869Z"
   },
   {
    "duration": 870,
    "start_time": "2023-02-25T15:49:50.884Z"
   },
   {
    "duration": 18,
    "start_time": "2023-02-25T15:50:46.209Z"
   },
   {
    "duration": 853,
    "start_time": "2023-02-25T15:51:45.853Z"
   },
   {
    "duration": 17,
    "start_time": "2023-02-25T15:52:54.358Z"
   },
   {
    "duration": 15,
    "start_time": "2023-02-25T16:21:16.203Z"
   },
   {
    "duration": 17,
    "start_time": "2023-02-25T16:21:33.844Z"
   },
   {
    "duration": 17,
    "start_time": "2023-02-25T16:29:23.958Z"
   },
   {
    "duration": 18,
    "start_time": "2023-02-25T16:35:04.307Z"
   },
   {
    "duration": 18,
    "start_time": "2023-02-25T16:44:56.038Z"
   },
   {
    "duration": 19,
    "start_time": "2023-02-25T16:46:02.043Z"
   },
   {
    "duration": 20,
    "start_time": "2023-02-25T16:48:00.206Z"
   },
   {
    "duration": 21,
    "start_time": "2023-02-25T16:48:49.781Z"
   },
   {
    "duration": 19,
    "start_time": "2023-02-25T16:49:57.985Z"
   },
   {
    "duration": 19,
    "start_time": "2023-02-25T16:51:10.339Z"
   },
   {
    "duration": 17,
    "start_time": "2023-02-25T16:53:29.611Z"
   },
   {
    "duration": 18,
    "start_time": "2023-02-25T16:54:05.633Z"
   },
   {
    "duration": 21,
    "start_time": "2023-02-25T16:54:51.598Z"
   },
   {
    "duration": 19,
    "start_time": "2023-02-25T16:56:23.491Z"
   },
   {
    "duration": 12,
    "start_time": "2023-02-25T17:39:38.948Z"
   },
   {
    "duration": 32,
    "start_time": "2023-02-25T17:39:47.515Z"
   },
   {
    "duration": 4,
    "start_time": "2023-02-25T17:39:51.447Z"
   },
   {
    "duration": 9,
    "start_time": "2023-02-25T17:39:54.423Z"
   },
   {
    "duration": 4,
    "start_time": "2023-02-25T17:39:59.343Z"
   },
   {
    "duration": 6,
    "start_time": "2023-02-25T17:40:02.061Z"
   },
   {
    "duration": 4,
    "start_time": "2023-02-25T17:40:05.821Z"
   },
   {
    "duration": 11,
    "start_time": "2023-02-25T17:40:12.111Z"
   },
   {
    "duration": 4,
    "start_time": "2023-02-25T17:40:19.228Z"
   },
   {
    "duration": 12,
    "start_time": "2023-02-25T17:40:22.459Z"
   },
   {
    "duration": 21,
    "start_time": "2023-02-25T17:40:25.918Z"
   },
   {
    "duration": 21,
    "start_time": "2023-02-25T17:40:27.839Z"
   },
   {
    "duration": 22,
    "start_time": "2023-02-25T17:40:37.969Z"
   },
   {
    "duration": 445,
    "start_time": "2023-02-26T06:58:21.603Z"
   },
   {
    "duration": 24,
    "start_time": "2023-02-26T06:58:22.050Z"
   },
   {
    "duration": 18,
    "start_time": "2023-02-26T06:58:22.075Z"
   },
   {
    "duration": 8,
    "start_time": "2023-02-26T06:58:22.095Z"
   },
   {
    "duration": 57,
    "start_time": "2023-02-26T06:58:22.105Z"
   },
   {
    "duration": 3,
    "start_time": "2023-02-26T06:58:22.164Z"
   },
   {
    "duration": 37,
    "start_time": "2023-02-26T06:58:22.169Z"
   },
   {
    "duration": 11,
    "start_time": "2023-02-26T06:58:22.207Z"
   },
   {
    "duration": 19,
    "start_time": "2023-02-26T06:58:22.220Z"
   },
   {
    "duration": 15,
    "start_time": "2023-02-26T06:58:22.240Z"
   },
   {
    "duration": 41,
    "start_time": "2023-02-26T06:58:22.256Z"
   },
   {
    "duration": 10,
    "start_time": "2023-02-26T06:58:22.299Z"
   },
   {
    "duration": 10,
    "start_time": "2023-02-26T06:58:22.310Z"
   },
   {
    "duration": 11,
    "start_time": "2023-02-26T06:58:22.323Z"
   },
   {
    "duration": 38,
    "start_time": "2023-02-26T06:58:22.336Z"
   },
   {
    "duration": 20,
    "start_time": "2023-02-26T06:58:22.375Z"
   },
   {
    "duration": 4,
    "start_time": "2023-02-26T06:58:22.397Z"
   },
   {
    "duration": 28,
    "start_time": "2023-02-26T06:58:22.403Z"
   },
   {
    "duration": 15,
    "start_time": "2023-02-26T06:58:22.433Z"
   },
   {
    "duration": 9,
    "start_time": "2023-02-26T06:58:22.450Z"
   },
   {
    "duration": 23,
    "start_time": "2023-02-26T06:58:22.461Z"
   },
   {
    "duration": 27,
    "start_time": "2023-02-26T06:58:22.485Z"
   },
   {
    "duration": 19,
    "start_time": "2023-02-26T06:58:22.513Z"
   },
   {
    "duration": 17,
    "start_time": "2023-02-26T06:58:22.534Z"
   },
   {
    "duration": 40,
    "start_time": "2023-02-26T06:58:22.552Z"
   },
   {
    "duration": 503,
    "start_time": "2023-02-26T07:08:30.758Z"
   },
   {
    "duration": 20,
    "start_time": "2023-02-26T07:08:31.263Z"
   },
   {
    "duration": 38,
    "start_time": "2023-02-26T07:08:31.285Z"
   },
   {
    "duration": 29,
    "start_time": "2023-02-26T07:08:31.325Z"
   },
   {
    "duration": 42,
    "start_time": "2023-02-26T07:08:31.357Z"
   },
   {
    "duration": 4,
    "start_time": "2023-02-26T07:08:31.400Z"
   },
   {
    "duration": 25,
    "start_time": "2023-02-26T07:08:31.405Z"
   },
   {
    "duration": 19,
    "start_time": "2023-02-26T07:08:31.432Z"
   },
   {
    "duration": 13,
    "start_time": "2023-02-26T07:08:31.453Z"
   },
   {
    "duration": 24,
    "start_time": "2023-02-26T07:08:31.468Z"
   },
   {
    "duration": 48,
    "start_time": "2023-02-26T07:08:31.494Z"
   },
   {
    "duration": 8,
    "start_time": "2023-02-26T07:08:31.544Z"
   },
   {
    "duration": 19,
    "start_time": "2023-02-26T07:08:31.554Z"
   },
   {
    "duration": 40,
    "start_time": "2023-02-26T07:08:31.576Z"
   },
   {
    "duration": 49,
    "start_time": "2023-02-26T07:08:31.617Z"
   },
   {
    "duration": 43,
    "start_time": "2023-02-26T07:08:31.668Z"
   },
   {
    "duration": 11,
    "start_time": "2023-02-26T07:08:31.713Z"
   },
   {
    "duration": 63,
    "start_time": "2023-02-26T07:08:31.726Z"
   },
   {
    "duration": 118,
    "start_time": "2023-02-26T07:08:31.791Z"
   },
   {
    "duration": 20,
    "start_time": "2023-02-26T07:08:31.911Z"
   },
   {
    "duration": 30,
    "start_time": "2023-02-26T07:08:31.935Z"
   },
   {
    "duration": 36,
    "start_time": "2023-02-26T07:08:31.966Z"
   },
   {
    "duration": 46,
    "start_time": "2023-02-26T07:08:32.004Z"
   },
   {
    "duration": 21,
    "start_time": "2023-02-26T07:08:32.052Z"
   },
   {
    "duration": 40,
    "start_time": "2023-02-26T07:08:32.075Z"
   },
   {
    "duration": 30,
    "start_time": "2023-02-26T07:08:32.117Z"
   },
   {
    "duration": 48,
    "start_time": "2023-02-26T15:11:43.867Z"
   },
   {
    "duration": 514,
    "start_time": "2023-02-26T15:12:20.717Z"
   },
   {
    "duration": 22,
    "start_time": "2023-02-26T15:12:23.808Z"
   },
   {
    "duration": 14,
    "start_time": "2023-02-26T15:12:28.424Z"
   },
   {
    "duration": 12,
    "start_time": "2023-02-26T15:12:31.972Z"
   },
   {
    "duration": 33,
    "start_time": "2023-02-26T15:12:35.609Z"
   },
   {
    "duration": 3,
    "start_time": "2023-02-26T15:12:39.504Z"
   },
   {
    "duration": 8,
    "start_time": "2023-02-26T15:12:41.586Z"
   },
   {
    "duration": 5,
    "start_time": "2023-02-26T15:12:46.721Z"
   },
   {
    "duration": 7,
    "start_time": "2023-02-26T15:12:49.754Z"
   },
   {
    "duration": 5,
    "start_time": "2023-02-26T15:12:52.113Z"
   },
   {
    "duration": 32,
    "start_time": "2023-02-26T15:12:55.332Z"
   },
   {
    "duration": 9,
    "start_time": "2023-02-26T15:12:58.519Z"
   },
   {
    "duration": 4,
    "start_time": "2023-02-26T15:13:02.022Z"
   },
   {
    "duration": 12,
    "start_time": "2023-02-26T15:13:05.185Z"
   },
   {
    "duration": 22,
    "start_time": "2023-02-26T15:13:07.306Z"
   },
   {
    "duration": 17,
    "start_time": "2023-02-26T15:13:09.690Z"
   },
   {
    "duration": 3,
    "start_time": "2023-02-26T15:13:14.060Z"
   },
   {
    "duration": 9,
    "start_time": "2023-02-26T15:13:18.355Z"
   },
   {
    "duration": 5,
    "start_time": "2023-02-26T15:13:20.454Z"
   },
   {
    "duration": 4,
    "start_time": "2023-02-26T15:13:24.779Z"
   },
   {
    "duration": 10,
    "start_time": "2023-02-26T15:13:27.542Z"
   },
   {
    "duration": 76,
    "start_time": "2023-02-26T15:13:31.107Z"
   },
   {
    "duration": 38,
    "start_time": "2023-02-26T15:16:08.115Z"
   },
   {
    "duration": 27,
    "start_time": "2023-02-26T15:16:42.978Z"
   },
   {
    "duration": 29,
    "start_time": "2023-02-26T15:23:22.199Z"
   },
   {
    "duration": 27,
    "start_time": "2023-02-26T15:23:57.518Z"
   },
   {
    "duration": 45,
    "start_time": "2023-02-27T05:23:44.189Z"
   },
   {
    "duration": 529,
    "start_time": "2023-02-27T05:23:52.289Z"
   },
   {
    "duration": 22,
    "start_time": "2023-02-27T05:23:55.415Z"
   },
   {
    "duration": 15,
    "start_time": "2023-02-27T05:24:00.345Z"
   },
   {
    "duration": 10,
    "start_time": "2023-02-27T05:24:03.131Z"
   },
   {
    "duration": 33,
    "start_time": "2023-02-27T05:24:06.543Z"
   },
   {
    "duration": 3,
    "start_time": "2023-02-27T05:24:09.109Z"
   },
   {
    "duration": 8,
    "start_time": "2023-02-27T05:24:10.950Z"
   },
   {
    "duration": 5,
    "start_time": "2023-02-27T05:24:14.786Z"
   },
   {
    "duration": 6,
    "start_time": "2023-02-27T05:24:17.080Z"
   },
   {
    "duration": 5,
    "start_time": "2023-02-27T05:24:19.082Z"
   },
   {
    "duration": 34,
    "start_time": "2023-02-27T05:24:25.884Z"
   },
   {
    "duration": 10,
    "start_time": "2023-02-27T05:24:28.400Z"
   },
   {
    "duration": 4,
    "start_time": "2023-02-27T05:24:36.750Z"
   },
   {
    "duration": 11,
    "start_time": "2023-02-27T05:24:40.305Z"
   },
   {
    "duration": 19,
    "start_time": "2023-02-27T05:24:42.510Z"
   },
   {
    "duration": 18,
    "start_time": "2023-02-27T05:24:45.119Z"
   },
   {
    "duration": 4,
    "start_time": "2023-02-27T05:24:48.558Z"
   },
   {
    "duration": 16,
    "start_time": "2023-02-27T05:24:51.160Z"
   },
   {
    "duration": 6,
    "start_time": "2023-02-27T05:24:53.453Z"
   },
   {
    "duration": 4,
    "start_time": "2023-02-27T05:24:57.594Z"
   },
   {
    "duration": 35,
    "start_time": "2023-02-27T05:25:08.364Z"
   },
   {
    "duration": 12,
    "start_time": "2023-02-27T05:25:15.618Z"
   },
   {
    "duration": 34,
    "start_time": "2023-02-27T05:30:24.751Z"
   },
   {
    "duration": 14,
    "start_time": "2023-02-27T05:30:52.038Z"
   },
   {
    "duration": 14,
    "start_time": "2023-02-27T05:44:16.983Z"
   },
   {
    "duration": 13,
    "start_time": "2023-02-27T05:44:33.824Z"
   },
   {
    "duration": 18,
    "start_time": "2023-02-27T05:44:56.433Z"
   },
   {
    "duration": 13,
    "start_time": "2023-02-27T05:45:41.623Z"
   },
   {
    "duration": 13,
    "start_time": "2023-02-27T05:46:26.816Z"
   },
   {
    "duration": 59,
    "start_time": "2023-02-27T05:49:01.586Z"
   },
   {
    "duration": 13,
    "start_time": "2023-02-27T05:49:12.138Z"
   },
   {
    "duration": 4,
    "start_time": "2023-02-27T05:49:48.689Z"
   },
   {
    "duration": 8,
    "start_time": "2023-02-27T05:49:51.714Z"
   },
   {
    "duration": 13,
    "start_time": "2023-02-27T05:50:12.367Z"
   },
   {
    "duration": 29,
    "start_time": "2023-02-27T05:52:56.878Z"
   },
   {
    "duration": 30,
    "start_time": "2023-02-27T06:06:10.419Z"
   },
   {
    "duration": 558,
    "start_time": "2023-02-27T15:33:48.640Z"
   },
   {
    "duration": 45,
    "start_time": "2023-02-27T15:33:49.200Z"
   },
   {
    "duration": 14,
    "start_time": "2023-02-27T15:33:49.252Z"
   },
   {
    "duration": 8,
    "start_time": "2023-02-27T15:33:49.268Z"
   },
   {
    "duration": 52,
    "start_time": "2023-02-27T15:33:49.278Z"
   },
   {
    "duration": 4,
    "start_time": "2023-02-27T15:33:49.344Z"
   },
   {
    "duration": 12,
    "start_time": "2023-02-27T15:33:49.350Z"
   },
   {
    "duration": 5,
    "start_time": "2023-02-27T15:33:49.364Z"
   },
   {
    "duration": 11,
    "start_time": "2023-02-27T15:33:49.370Z"
   },
   {
    "duration": 4,
    "start_time": "2023-02-27T15:33:49.382Z"
   },
   {
    "duration": 40,
    "start_time": "2023-02-27T15:33:49.388Z"
   },
   {
    "duration": 13,
    "start_time": "2023-02-27T15:33:49.429Z"
   },
   {
    "duration": 13,
    "start_time": "2023-02-27T15:33:49.443Z"
   },
   {
    "duration": 17,
    "start_time": "2023-02-27T15:33:49.459Z"
   },
   {
    "duration": 23,
    "start_time": "2023-02-27T15:33:49.477Z"
   },
   {
    "duration": 37,
    "start_time": "2023-02-27T15:33:49.502Z"
   },
   {
    "duration": 20,
    "start_time": "2023-02-27T15:33:49.541Z"
   },
   {
    "duration": 18,
    "start_time": "2023-02-27T15:33:49.565Z"
   },
   {
    "duration": 7,
    "start_time": "2023-02-27T15:33:49.584Z"
   },
   {
    "duration": 4,
    "start_time": "2023-02-27T15:33:49.592Z"
   },
   {
    "duration": 11,
    "start_time": "2023-02-27T15:33:49.597Z"
   },
   {
    "duration": 61,
    "start_time": "2023-02-27T15:33:49.620Z"
   },
   {
    "duration": 12,
    "start_time": "2023-02-27T15:33:49.682Z"
   },
   {
    "duration": 111,
    "start_time": "2023-02-27T15:33:49.695Z"
   },
   {
    "duration": 0,
    "start_time": "2023-02-27T15:33:49.807Z"
   },
   {
    "duration": 0,
    "start_time": "2023-02-27T15:33:49.809Z"
   }
  ],
  "colab": {
   "provenance": []
  },
  "kernelspec": {
   "display_name": "Python 3 (ipykernel)",
   "language": "python",
   "name": "python3"
  },
  "language_info": {
   "codemirror_mode": {
    "name": "ipython",
    "version": 3
   },
   "file_extension": ".py",
   "mimetype": "text/x-python",
   "name": "python",
   "nbconvert_exporter": "python",
   "pygments_lexer": "ipython3",
   "version": "3.9.5"
  },
  "toc": {
   "base_numbering": 1,
   "nav_menu": {},
   "number_sections": true,
   "sideBar": true,
   "skip_h1_title": true,
   "title_cell": "Table of Contents",
   "title_sidebar": "Contents",
   "toc_cell": false,
   "toc_position": {},
   "toc_section_display": true,
   "toc_window_display": true
  }
 },
 "nbformat": 4,
 "nbformat_minor": 5
}
